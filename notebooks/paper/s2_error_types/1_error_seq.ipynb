{
 "cells": [
  {
   "cell_type": "code",
   "execution_count": 31,
   "metadata": {},
   "outputs": [],
   "source": [
    "import os\n",
    "\n",
    "from denovo_utils.data import Run\n",
    "from denovo_utils.parsers import DenovoEngineConverter\n",
    "\n",
    "import seaborn as sns\n",
    "from matplotlib import pyplot as plt\n",
    "%matplotlib inline\n",
    "\n",
    "from denovo_utils.analysis.metrics import load_seq_score_dicts\n",
    "from denovo_utils.analysis.metrics import get_match_score_table, get_prc_curve\n",
    "\n",
    "from psm_utils import Peptidoform\n",
    "from tqdm import tqdm\n",
    "from peak_pack.utils import calculate_ppm\n",
    "\n",
    "from denovo_utils.io.read import load_psmlist\n",
    "\n",
    "from Levenshtein import editops # To track actions for transpositions\n",
    "from nltk import edit_distance # For Damerau–Levenshtein distance"
   ]
  },
  {
   "cell_type": "markdown",
   "metadata": {},
   "source": [
    "# Goal of the notebook\n",
    "\n",
    "Error locations:\n",
    "- N-terminal or C-terminal? \n",
    "- In parts where there is no ion evidence ?\n",
    "\n",
    "Error types:\n",
    "\n",
    "- Is there a pattern on what the errors actually are? \n",
    "- Are specific amino acids always confused ? \n",
    "- Are some amino acids always swapped ? \n",
    "- What about the modifications ?"
   ]
  },
  {
   "cell_type": "code",
   "execution_count": 127,
   "metadata": {},
   "outputs": [],
   "source": [
    "mapper = {\n",
    "    \"[+25.980265]-\": \"b\",\n",
    "    \"[UNIMOD:1]-\": \"a\",\n",
    "    \"[UNIMOD:5]-\": \"d\",\n",
    "    \"[UNIMOD:385]-\": \"e\",\n",
    "    \"Q[UNIMOD:7]\": \"q\",\n",
    "    \"N[UNIMOD:7]\": \"n\",\n",
    "    \"C[UNIMOD:4]\": \"c\",\n",
    "    \"M[UNIMOD:35]\": 'm',\n",
    "    \"S[UNIMOD:21]\": 's',\n",
    "    \"T[UNIMOD:21]\": 't',\n",
    "    \"Y[UNIMOD:21]\": 'y',\n",
    "    \"L\": \"I\"\n",
    "}\n",
    "\n",
    "def peptidoform_to_lstring(peptidoform, mapper):\n",
    "    new_peptidoform = peptidoform.proforma\n",
    "    for p, l in mapper.items():\n",
    "        new_peptidoform = new_peptidoform.replace(p, l)\n",
    "    return new_peptidoform.split('/')[0]"
   ]
  },
  {
   "cell_type": "markdown",
   "metadata": {},
   "source": [
    "# 1. Load the data"
   ]
  },
  {
   "cell_type": "code",
   "execution_count": 128,
   "metadata": {},
   "outputs": [
    {
     "name": "stdout",
     "output_type": "stream",
     "text": [
      "Run: LFQ_Orbitrap_DDA_Ecoli_01\n"
     ]
    },
    {
     "name": "stderr",
     "output_type": "stream",
     "text": [
      "100%|██████████| 24285/24285 [00:02<00:00, 10478.13it/s]\n",
      "100%|██████████| 24285/24285 [00:00<00:00, 59552.20it/s]\n"
     ]
    },
    {
     "name": "stdout",
     "output_type": "stream",
     "text": [
      "loading casanovo\n"
     ]
    },
    {
     "name": "stderr",
     "output_type": "stream",
     "text": [
      "100%|██████████| 61876/61876 [00:06<00:00, 9249.55it/s]\n",
      "100%|██████████| 61876/61876 [00:00<00:00, 130677.93it/s]\n"
     ]
    },
    {
     "name": "stdout",
     "output_type": "stream",
     "text": [
      "loading instanovo\n"
     ]
    },
    {
     "name": "stderr",
     "output_type": "stream",
     "text": [
      "100%|██████████| 61562/61562 [00:04<00:00, 13235.15it/s]\n",
      "100%|██████████| 61562/61562 [00:00<00:00, 141285.21it/s]\n"
     ]
    },
    {
     "name": "stdout",
     "output_type": "stream",
     "text": [
      "loading contranovo\n"
     ]
    },
    {
     "name": "stderr",
     "output_type": "stream",
     "text": [
      "100%|██████████| 30999/30999 [00:03<00:00, 9972.32it/s] \n",
      "100%|██████████| 30999/30999 [00:00<00:00, 128274.06it/s]\n"
     ]
    },
    {
     "name": "stdout",
     "output_type": "stream",
     "text": [
      "loading novob\n"
     ]
    },
    {
     "name": "stderr",
     "output_type": "stream",
     "text": [
      "100%|██████████| 61479/61479 [00:04<00:00, 12506.01it/s]\n",
      "100%|██████████| 61479/61479 [00:00<00:00, 140352.10it/s]\n"
     ]
    },
    {
     "name": "stdout",
     "output_type": "stream",
     "text": [
      "loading pepnet\n"
     ]
    },
    {
     "name": "stderr",
     "output_type": "stream",
     "text": [
      "100%|██████████| 62560/62560 [00:06<00:00, 10317.47it/s]\n",
      "100%|██████████| 62560/62560 [00:00<00:00, 149011.31it/s]\n"
     ]
    },
    {
     "name": "stdout",
     "output_type": "stream",
     "text": [
      "Run: LFQ_Orbitrap_DDA_Human_01\n"
     ]
    },
    {
     "name": "stderr",
     "output_type": "stream",
     "text": [
      "100%|██████████| 90817/90817 [00:08<00:00, 10502.54it/s]\n",
      "100%|██████████| 90817/90817 [00:01<00:00, 50911.09it/s]\n"
     ]
    },
    {
     "name": "stdout",
     "output_type": "stream",
     "text": [
      "loading casanovo\n"
     ]
    },
    {
     "name": "stderr",
     "output_type": "stream",
     "text": [
      "100%|██████████| 115362/115362 [00:12<00:00, 9353.16it/s]\n",
      "100%|██████████| 115362/115362 [00:01<00:00, 59811.24it/s]\n"
     ]
    },
    {
     "name": "stdout",
     "output_type": "stream",
     "text": [
      "loading instanovo\n"
     ]
    },
    {
     "name": "stderr",
     "output_type": "stream",
     "text": [
      "100%|██████████| 114725/114725 [00:08<00:00, 13254.21it/s]\n",
      "100%|██████████| 114725/114725 [00:15<00:00, 7254.57it/s] \n"
     ]
    },
    {
     "name": "stdout",
     "output_type": "stream",
     "text": [
      "loading contranovo\n"
     ]
    },
    {
     "name": "stderr",
     "output_type": "stream",
     "text": [
      "100%|██████████| 57640/57640 [00:05<00:00, 10010.22it/s]\n",
      "100%|██████████| 57640/57640 [00:01<00:00, 57257.19it/s]\n"
     ]
    },
    {
     "name": "stdout",
     "output_type": "stream",
     "text": [
      "loading novob\n"
     ]
    },
    {
     "name": "stderr",
     "output_type": "stream",
     "text": [
      "100%|██████████| 114064/114064 [00:09<00:00, 12570.81it/s]\n",
      "100%|██████████| 114064/114064 [00:01<00:00, 63582.28it/s]\n"
     ]
    },
    {
     "name": "stdout",
     "output_type": "stream",
     "text": [
      "loading pepnet\n"
     ]
    },
    {
     "name": "stderr",
     "output_type": "stream",
     "text": [
      "100%|██████████| 118245/118245 [00:11<00:00, 10282.82it/s]\n",
      "100%|██████████| 118245/118245 [00:01<00:00, 65935.60it/s]\n"
     ]
    },
    {
     "name": "stdout",
     "output_type": "stream",
     "text": [
      "Run: LFQ_Orbitrap_DDA_QC_01\n"
     ]
    },
    {
     "name": "stderr",
     "output_type": "stream",
     "text": [
      "100%|██████████| 83941/83941 [00:07<00:00, 10580.87it/s]\n",
      "100%|██████████| 83941/83941 [00:01<00:00, 52655.04it/s]\n"
     ]
    },
    {
     "name": "stdout",
     "output_type": "stream",
     "text": [
      "loading casanovo\n"
     ]
    },
    {
     "name": "stderr",
     "output_type": "stream",
     "text": [
      "100%|██████████| 107203/107203 [00:11<00:00, 9435.22it/s]\n",
      "100%|██████████| 107203/107203 [00:01<00:00, 63258.52it/s]\n"
     ]
    },
    {
     "name": "stdout",
     "output_type": "stream",
     "text": [
      "loading instanovo\n"
     ]
    },
    {
     "name": "stderr",
     "output_type": "stream",
     "text": [
      "100%|██████████| 106604/106604 [00:07<00:00, 13460.83it/s]\n",
      "100%|██████████| 106604/106604 [00:01<00:00, 69081.36it/s]\n"
     ]
    },
    {
     "name": "stdout",
     "output_type": "stream",
     "text": [
      "loading contranovo\n"
     ]
    },
    {
     "name": "stderr",
     "output_type": "stream",
     "text": [
      "100%|██████████| 53533/53533 [00:05<00:00, 10146.14it/s]\n",
      "100%|██████████| 53533/53533 [00:00<00:00, 60212.92it/s]\n"
     ]
    },
    {
     "name": "stdout",
     "output_type": "stream",
     "text": [
      "loading novob\n"
     ]
    },
    {
     "name": "stderr",
     "output_type": "stream",
     "text": [
      "100%|██████████| 106075/106075 [00:08<00:00, 12806.35it/s]\n",
      "100%|██████████| 106075/106075 [00:01<00:00, 72535.30it/s]\n"
     ]
    },
    {
     "name": "stdout",
     "output_type": "stream",
     "text": [
      "loading pepnet\n"
     ]
    },
    {
     "name": "stderr",
     "output_type": "stream",
     "text": [
      "100%|██████████| 109340/109340 [00:10<00:00, 10446.37it/s]\n",
      "100%|██████████| 109340/109340 [00:01<00:00, 70183.62it/s]\n"
     ]
    },
    {
     "name": "stdout",
     "output_type": "stream",
     "text": [
      "Run: LFQ_Orbitrap_DDA_Yeast_01\n"
     ]
    },
    {
     "name": "stderr",
     "output_type": "stream",
     "text": [
      "100%|██████████| 67111/67111 [00:06<00:00, 10698.32it/s]\n",
      "100%|██████████| 67111/67111 [00:01<00:00, 61157.34it/s]\n"
     ]
    },
    {
     "name": "stdout",
     "output_type": "stream",
     "text": [
      "loading casanovo\n"
     ]
    },
    {
     "name": "stderr",
     "output_type": "stream",
     "text": [
      "100%|██████████| 102518/102518 [00:10<00:00, 9536.08it/s]\n",
      "100%|██████████| 102518/102518 [00:01<00:00, 91772.47it/s]\n"
     ]
    },
    {
     "name": "stdout",
     "output_type": "stream",
     "text": [
      "loading instanovo\n"
     ]
    },
    {
     "name": "stderr",
     "output_type": "stream",
     "text": [
      "100%|██████████| 101883/101883 [00:07<00:00, 13452.20it/s]\n",
      "100%|██████████| 101883/101883 [00:01<00:00, 90147.86it/s]\n"
     ]
    },
    {
     "name": "stdout",
     "output_type": "stream",
     "text": [
      "loading contranovo\n"
     ]
    },
    {
     "name": "stderr",
     "output_type": "stream",
     "text": [
      "100%|██████████| 51215/51215 [00:04<00:00, 10308.41it/s]\n",
      "100%|██████████| 51215/51215 [00:00<00:00, 84864.08it/s] \n"
     ]
    },
    {
     "name": "stdout",
     "output_type": "stream",
     "text": [
      "loading novob\n"
     ]
    },
    {
     "name": "stderr",
     "output_type": "stream",
     "text": [
      "100%|██████████| 101183/101183 [00:07<00:00, 12880.09it/s]\n",
      "100%|██████████| 101183/101183 [00:01<00:00, 96485.15it/s]\n"
     ]
    },
    {
     "name": "stdout",
     "output_type": "stream",
     "text": [
      "loading pepnet\n"
     ]
    },
    {
     "name": "stderr",
     "output_type": "stream",
     "text": [
      "100%|██████████| 103785/103785 [00:09<00:00, 10518.46it/s]\n",
      "100%|██████████| 103785/103785 [00:01<00:00, 98189.10it/s]\n"
     ]
    }
   ],
   "source": [
    "root_results_dn = '/public/compomics3/Sam/PXD028735/QExactive/rescoring'\n",
    "root_mgf = '/public/compomics3/Sam/PXD028735/QExactive/mgf_reformatted'\n",
    "root_results_db = '/public/compomics3/Sam/PXD028735/QExactive/search_results/identification'\n",
    "run_names = [\n",
    "    'LFQ_Orbitrap_DDA_Ecoli_01',\n",
    "    'LFQ_Orbitrap_DDA_Human_01',\n",
    "    'LFQ_Orbitrap_DDA_QC_01',\n",
    "    'LFQ_Orbitrap_DDA_Yeast_01'\n",
    "]\n",
    "\n",
    "engine_names = [\n",
    "    # 'adanovo',\n",
    "    # 'pihelixnovo',\n",
    "    # 'piprimenovo',\n",
    "    'casanovo',\n",
    "    'instanovo',\n",
    "    'contranovo',\n",
    "    'novob',\n",
    "    'pepnet',\n",
    "]\n",
    "\n",
    "runs = {}\n",
    "for run_name in run_names:\n",
    "    print(f\"Run: {run_name}\")\n",
    "    run = Run(run_name)\n",
    "\n",
    "    mgf_path = os.path.join(root_mgf, run_name + '.mgf')\n",
    "\n",
    "    # Load a ground-truth\n",
    "    psmlist_gt = load_psmlist(os.path.join(\n",
    "        root_results_dn, run_name, 'psmlist', 'ground_truth.parquet'\n",
    "    ))\n",
    "    # parser = DenovoEngineConverter.select('sage')\n",
    "    # psmlist_gt = parser.parse(\n",
    "    #     result_path=os.path.join(root_results_db, run_name + '.sage.tsv'),\n",
    "    #     mgf_path=mgf_path\n",
    "    # )\n",
    "    run.load_data(\n",
    "        psmlist=psmlist_gt.get_rank1_psms(),\n",
    "        score_names=[],\n",
    "        is_ground_truth=True\n",
    "    )\n",
    "\n",
    "    # Load the de novo results\n",
    "    for engine_name in engine_names:\n",
    "        print(f'loading {engine_name}')\n",
    "        dn_path = os.path.join(root_results_dn, run_name, 'psmlist', engine_name + '.parquet')\n",
    "        \n",
    "        psmlist_denovo = load_psmlist(psm_path=dn_path)\n",
    "        \n",
    "        # parser = DenovoEngineConverter.select(engine_name)\n",
    "        # psmlist_denovo = parser.parse(\n",
    "        #     result_path=os.path.join(root_results_dn, engine_name, run_name + f'.{engine_name}.some_extension'),\n",
    "        #     mgf_path=mgf_path\n",
    "        # )\n",
    "        run.load_data(\n",
    "            psmlist=psmlist_denovo,\n",
    "            score_names=[],\n",
    "            is_ground_truth=False\n",
    "        )\n",
    "    \n",
    "    runs[run_name] = run"
   ]
  },
  {
   "cell_type": "markdown",
   "metadata": {},
   "source": [
    "Evaluate"
   ]
  },
  {
   "cell_type": "code",
   "execution_count": 129,
   "metadata": {},
   "outputs": [
    {
     "name": "stderr",
     "output_type": "stream",
     "text": [
      "100%|██████████| 15982/15982 [00:07<00:00, 2186.74it/s]\n",
      "100%|██████████| 65856/65856 [00:27<00:00, 2360.37it/s]\n",
      "100%|██████████| 61132/61132 [00:26<00:00, 2330.74it/s]\n",
      "100%|██████████| 43131/43131 [00:17<00:00, 2468.20it/s]\n"
     ]
    }
   ],
   "source": [
    "for run in runs.values():\n",
    "    for spectrum in tqdm(run.spectra.values()):\n",
    "        spectrum.compare_gt(\n",
    "            'score_ms2rescore',\n",
    "            ignore_score=True\n",
    "        )"
   ]
  },
  {
   "cell_type": "code",
   "execution_count": 38,
   "metadata": {},
   "outputs": [
    {
     "data": {
      "text/plain": [
       "Spectrum ID: controllerType=0 controllerNumber=1 scan=66857\n",
       "Ground-truth: IPILLR/2 ({'peptide': {'sage': 0.9793421626091003}, 'aa': {}})\n",
       "Candidates:\n",
       "\tLPLLLR/2 ({'peptide': {'casanovo': 0.9864637851715088}, 'aa': {'casanovo': (0.98492, 0.98833, 0.98905, 0.98919, 0.98906, 0.97648)}})\n",
       "\tLPLLLR/2 ({'peptide': {'instanovo': -0.02716885879635811}, 'aa': {}})\n",
       "\tLPLLLR/2 ({'peptide': {'novob': 0.9971590042114258}, 'aa': {}})\n",
       "\tLPLLLR/2 ({'peptide': {'pepnet': 0.9452999830245972}, 'aa': {'pepnet': [0.9999571, 0.9924597, 0.9558322, 0.99767417, 0.99956423, 0.99945015]}})"
      ]
     },
     "execution_count": 38,
     "metadata": {},
     "output_type": "execute_result"
    }
   ],
   "source": [
    "spectrum"
   ]
  },
  {
   "cell_type": "markdown",
   "metadata": {},
   "source": [
    "# 3. Calculate (Damerau)-levenshtein distance"
   ]
  },
  {
   "cell_type": "code",
   "execution_count": 130,
   "metadata": {},
   "outputs": [
    {
     "name": "stderr",
     "output_type": "stream",
     "text": [
      "100%|██████████| 15982/15982 [00:09<00:00, 1654.04it/s]\n",
      "100%|██████████| 65856/65856 [00:36<00:00, 1800.85it/s]\n",
      "100%|██████████| 61132/61132 [00:51<00:00, 1188.91it/s]\n",
      "100%|██████████| 43131/43131 [00:36<00:00, 1191.10it/s]\n"
     ]
    }
   ],
   "source": [
    "for run_name, run in runs.items():\n",
    "    for spectrum in tqdm(run.spectra.values()):\n",
    "        peptidoform_gt = peptidoform_to_lstring(spectrum.psm_gt.peptidoform, mapper=mapper)\n",
    "        for psm_candidate in spectrum.psm_candidates:\n",
    "            peptidoform_candidate = peptidoform_to_lstring(psm_candidate.peptidoform, mapper=mapper)\n",
    "\n",
    "            changes = editops(\n",
    "                peptidoform_gt,\n",
    "                peptidoform_candidate\n",
    "            )\n",
    "            damerau_L = edit_distance(\n",
    "                s1=peptidoform_gt,\n",
    "                s2=peptidoform_candidate,\n",
    "                transpositions=True\n",
    "            )\n",
    "            \n",
    "            psm_candidate.scores.add_score(\n",
    "                score=len(changes),\n",
    "                metadata='levenshtein',\n",
    "                score_type='peptide'\n",
    "            )\n",
    "            psm_candidate.scores.add_score(\n",
    "                score=damerau_L,\n",
    "                metadata='damerau-levenshtein',\n",
    "                score_type='peptide'\n",
    "            )\n",
    "            psm_candidate.swaps = changes"
   ]
  },
  {
   "cell_type": "markdown",
   "metadata": {},
   "source": [
    "# 4. Extract set of errors under closer investigation (<3 errors)\n",
    "\n",
    "Make distinction between two amino acid errors and an error due to switching around two amino acid.\n",
    "\n",
    "This can be defined with the Damerau variant."
   ]
  },
  {
   "cell_type": "code",
   "execution_count": 131,
   "metadata": {},
   "outputs": [],
   "source": [
    "import pandas as pd\n",
    "\n",
    "levenshtein_df = []\n",
    "\n",
    "for run in runs.values():\n",
    "    for spectrum in run.spectra.values():\n",
    "        for psm in spectrum.psm_candidates:\n",
    "            entry = {\n",
    "                'tool': psm.engine_name,\n",
    "                'levenshtein': psm.scores.get_score('levenshtein'),\n",
    "                'damerau-levenshtein': psm.scores.get_score('damerau-levenshtein'),\n",
    "                'swaps': psm.swaps,\n",
    "                'peptide_evidence': psm.peptide_evidence,\n",
    "                'peptide_gt': spectrum.psm_gt.peptidoform\n",
    "            }\n",
    "            levenshtein_df.append(entry)\n",
    "\n",
    "levenshtein_df = pd.DataFrame(levenshtein_df)"
   ]
  },
  {
   "cell_type": "code",
   "execution_count": 132,
   "metadata": {},
   "outputs": [
    {
     "data": {
      "text/plain": [
       "<Axes: xlabel='damerau-levenshtein', ylabel='percentage'>"
      ]
     },
     "execution_count": 132,
     "metadata": {},
     "output_type": "execute_result"
    },
    {
     "data": {
      "image/png": "[encoded data removed]",
      "text/plain": [
       "<Figure size 2500x1200 with 2 Axes>"
      ]
     },
     "metadata": {},
     "output_type": "display_data"
    }
   ],
   "source": [
    "fig, ax = plt.subplots(2, 1, figsize=(25,12))\n",
    "\n",
    "denovo_order = [\n",
    "    # 'pepnet',\n",
    "    # 'pi-HelixNovo',\n",
    "    # 'AdaNovo',\n",
    "    'instanovo',\n",
    "    'novob',\n",
    "    'casanovo',\n",
    "    'contranovo',\n",
    "    'pi-PrimeNovo'\n",
    "]\n",
    "\n",
    "normalized_df = (\n",
    "    levenshtein_df[levenshtein_df['levenshtein'] > 0]\n",
    "    .groupby(['tool', 'levenshtein'])\n",
    "    .size()\n",
    "    .groupby(level=0)\n",
    "    .apply(lambda x: x / x.sum() * 100)\n",
    "    .reset_index(name='percentage')\n",
    ")\n",
    "\n",
    "sns.barplot(\n",
    "    normalized_df,\n",
    "    x='levenshtein',\n",
    "    y='percentage',\n",
    "    hue='tool',\n",
    "    hue_order=denovo_order,\n",
    "    ax=ax[0]\n",
    ")\n",
    "\n",
    "normalized_df = (\n",
    "    levenshtein_df[levenshtein_df['damerau-levenshtein'] > 0]\n",
    "    .groupby(['tool', 'damerau-levenshtein'])\n",
    "    .size()\n",
    "    .groupby(level=0)\n",
    "    .apply(lambda x: x / x.sum() * 100)\n",
    "    .reset_index(name='percentage')\n",
    ")\n",
    "\n",
    "sns.barplot(\n",
    "    normalized_df,\n",
    "    y='percentage',\n",
    "    x='damerau-levenshtein',\n",
    "    hue='tool',\n",
    "    hue_order=denovo_order,\n",
    "    ax=ax[1]\n",
    ")"
   ]
  },
  {
   "cell_type": "code",
   "execution_count": 29,
   "metadata": {},
   "outputs": [
    {
     "data": {
      "text/plain": [
       "<Axes: xlabel='damerau-levenshtein', ylabel='percentage'>"
      ]
     },
     "execution_count": 29,
     "metadata": {},
     "output_type": "execute_result"
    },
    {
     "data": {
      "image/png": "[encoded data removed]",
      "text/plain": [
       "<Figure size 2500x1200 with 2 Axes>"
      ]
     },
     "metadata": {},
     "output_type": "display_data"
    }
   ],
   "source": [
    "fig, ax = plt.subplots(2, 1, figsize=(25,12))\n",
    "\n",
    "denovo_order = [\n",
    "    # 'pepnet',\n",
    "    # 'pi-HelixNovo',\n",
    "    # 'AdaNovo',\n",
    "    'instanovo',\n",
    "    'novob',\n",
    "    'casanovo',\n",
    "    'contranovo',\n",
    "    'pi-PrimeNovo'\n",
    "]\n",
    "\n",
    "normalized_df = (\n",
    "    levenshtein_df[levenshtein_df['levenshtein'] > 0]\n",
    "    .groupby(['tool', 'levenshtein'])\n",
    "    .size()\n",
    "    .groupby(level=0)\n",
    "    .apply(lambda x: x / x.sum() * 100)\n",
    "    .reset_index(name='percentage')\n",
    ")\n",
    "\n",
    "sns.barplot(\n",
    "    normalized_df,\n",
    "    x='levenshtein',\n",
    "    y='percentage',\n",
    "    hue='tool',\n",
    "    hue_order=denovo_order,\n",
    "    ax=ax[0]\n",
    ")\n",
    "\n",
    "normalized_df = (\n",
    "    levenshtein_df[levenshtein_df['damerau-levenshtein'] > 0]\n",
    "    .groupby(['tool', 'damerau-levenshtein'])\n",
    "    .size()\n",
    "    .groupby(level=0)\n",
    "    .apply(lambda x: x / x.sum() * 100)\n",
    "    .reset_index(name='percentage')\n",
    ")\n",
    "\n",
    "sns.barplot(\n",
    "    normalized_df,\n",
    "    y='percentage',\n",
    "    x='damerau-levenshtein',\n",
    "    hue='tool',\n",
    "    hue_order=denovo_order,\n",
    "    ax=ax[1]\n",
    ")"
   ]
  },
  {
   "cell_type": "code",
   "execution_count": 139,
   "metadata": {},
   "outputs": [],
   "source": [
    "# N-term site (length from n-terminus)\n",
    "# C-term site (length from c-terminus)\n",
    "# In MF site\n",
    "\n",
    "def insert(string, location, element):\n",
    "    return string[:location] + element + string[location:]\n",
    "def delete(string, location):\n",
    "    return string[:location] + string[location+1:]\n",
    "def replace(string, location, element):\n",
    "    return string[:location] + element + string[location+1:]\n",
    "\n",
    "def get_error_location(swaps, peptide_evidence, peptide_gt, log=False):\n",
    "    pep_dn = peptidoform_to_lstring(peptide_evidence.peptidoform, mapper=mapper)\n",
    "    pep_gt = peptidoform_to_lstring(peptide_gt, mapper=mapper)\n",
    "    print(pep_gt)\n",
    "    print(pep_dn)\n",
    "\n",
    "    prev_index = 0\n",
    "    replacements = []\n",
    "    replacement_gt = ''\n",
    "    replacement_dn = ''\n",
    "    history = []\n",
    "    \n",
    "    for (action, index_gt, index_dn) in swaps:\n",
    "        print(action, index_gt, index_dn)\n",
    "        if (index_gt - prev_index != 1) and (prev_index != 0):\n",
    "            replacements.append({\n",
    "                'gt': replacement_gt,\n",
    "                'dn': replacement_dn\n",
    "            })\n",
    "            replacement_gt = ''\n",
    "            replacement_dn = ''\n",
    "\n",
    "        if action == 'replace':    \n",
    "            replacement_gt += pep_gt[index_gt]\n",
    "            replacement_dn += pep_dn[index_dn]\n",
    "            pep_dn = replace(pep_dn, index_dn, pep_gt[index_gt])\n",
    "\n",
    "        elif action == 'delete':\n",
    "            replacement_dn += pep_dn[index_dn]\n",
    "            replacement_gt += pep_gt[index_gt]\n",
    "            pep_dn = delete(pep_gt, index_gt)\n",
    "\n",
    "        elif action == 'insert':\n",
    "            replacement_gt += pep_gt[index_gt]\n",
    "            replacement_dn += pep_dn[index_dn]\n",
    "            pep_dn = insert(pep_dn, index_dn, pep_gt[index_gt])\n",
    "            \n",
    "        if log:\n",
    "            print(pep_gt)\n",
    "            print(pep_dn)\n",
    "            print()\n",
    "        \n",
    "        prev_index = index_gt\n",
    "    \n",
    "    replacements.append({\n",
    "        'gt': replacement_gt,\n",
    "        'dn': replacement_dn\n",
    "    })\n",
    "    return replacements\n"
   ]
  },
  {
   "cell_type": "code",
   "execution_count": 123,
   "metadata": {},
   "outputs": [
    {
     "data": {
      "text/plain": [
       "tool                                                              pepnet\n",
       "levenshtein                                                           18\n",
       "damerau-levenshtein                                                   18\n",
       "swaps                  [(replace, 2, 2), (replace, 3, 3), (delete, 4,...\n",
       "peptide_evidence                      <TL><PSELLEPEAYVTLL><SQQAAAAQA>A/3\n",
       "peptide_gt             ((T, None), (I, None), (I, None), (M, [UNIMOD:...\n",
       "Name: 175, dtype: object"
      ]
     },
     "execution_count": 123,
     "metadata": {},
     "output_type": "execute_result"
    }
   ],
   "source": [
    "levenshtein_df.loc[175]"
   ]
  },
  {
   "cell_type": "code",
   "execution_count": 108,
   "metadata": {},
   "outputs": [
    {
     "name": "stderr",
     "output_type": "stream",
     "text": [
      "  0%|          | 175/835955 [00:00<17:39, 788.66it/s]\n"
     ]
    },
    {
     "ename": "IndexError",
     "evalue": "string index out of range",
     "output_type": "error",
     "traceback": [
      "\u001b[0;31m---------------------------------------------------------------------------\u001b[0m",
      "\u001b[0;31mIndexError\u001b[0m                                Traceback (most recent call last)",
      "Cell \u001b[0;32mIn[108], line 1\u001b[0m\n\u001b[0;32m----> 1\u001b[0m levenshtein_df[\u001b[38;5;124m'\u001b[39m\u001b[38;5;124mreplacements\u001b[39m\u001b[38;5;124m'\u001b[39m] \u001b[38;5;241m=\u001b[39m \u001b[43mlevenshtein_df\u001b[49m\u001b[38;5;241;43m.\u001b[39;49m\u001b[43mprogress_apply\u001b[49m\u001b[43m(\u001b[49m\n\u001b[1;32m      2\u001b[0m \u001b[43m    \u001b[49m\u001b[38;5;28;43;01mlambda\u001b[39;49;00m\u001b[43m \u001b[49m\u001b[43mx\u001b[49m\u001b[43m:\u001b[49m\u001b[43m \u001b[49m\u001b[43mget_error_location\u001b[49m\u001b[43m(\u001b[49m\n\u001b[1;32m      3\u001b[0m \u001b[43m        \u001b[49m\u001b[43mswaps\u001b[49m\u001b[38;5;241;43m=\u001b[39;49m\u001b[43mx\u001b[49m\u001b[43m[\u001b[49m\u001b[38;5;124;43m'\u001b[39;49m\u001b[38;5;124;43mswaps\u001b[39;49m\u001b[38;5;124;43m'\u001b[39;49m\u001b[43m]\u001b[49m\u001b[43m,\u001b[49m\n\u001b[1;32m      4\u001b[0m \u001b[43m        \u001b[49m\u001b[43mpeptide_evidence\u001b[49m\u001b[38;5;241;43m=\u001b[39;49m\u001b[43mx\u001b[49m\u001b[43m[\u001b[49m\u001b[38;5;124;43m'\u001b[39;49m\u001b[38;5;124;43mpeptide_evidence\u001b[39;49m\u001b[38;5;124;43m'\u001b[39;49m\u001b[43m]\u001b[49m\u001b[43m,\u001b[49m\n\u001b[1;32m      5\u001b[0m \u001b[43m        \u001b[49m\u001b[43mpeptide_gt\u001b[49m\u001b[38;5;241;43m=\u001b[39;49m\u001b[43mx\u001b[49m\u001b[43m[\u001b[49m\u001b[38;5;124;43m'\u001b[39;49m\u001b[38;5;124;43mpeptide_gt\u001b[39;49m\u001b[38;5;124;43m'\u001b[39;49m\u001b[43m]\u001b[49m\n\u001b[1;32m      6\u001b[0m \u001b[43m    \u001b[49m\u001b[43m)\u001b[49m\u001b[43m,\u001b[49m\u001b[43m \u001b[49m\u001b[43maxis\u001b[49m\u001b[38;5;241;43m=\u001b[39;49m\u001b[38;5;241;43m1\u001b[39;49m\n\u001b[1;32m      7\u001b[0m \u001b[43m)\u001b[49m\n",
      "File \u001b[0;32m~/miniconda3/envs/denovo_analysis_env/lib/python3.11/site-packages/tqdm/std.py:917\u001b[0m, in \u001b[0;36mtqdm.pandas.<locals>.inner_generator.<locals>.inner\u001b[0;34m(df, func, *args, **kwargs)\u001b[0m\n\u001b[1;32m    914\u001b[0m \u001b[38;5;66;03m# Apply the provided function (in **kwargs)\u001b[39;00m\n\u001b[1;32m    915\u001b[0m \u001b[38;5;66;03m# on the df using our wrapper (which provides bar updating)\u001b[39;00m\n\u001b[1;32m    916\u001b[0m \u001b[38;5;28;01mtry\u001b[39;00m:\n\u001b[0;32m--> 917\u001b[0m     \u001b[38;5;28;01mreturn\u001b[39;00m \u001b[38;5;28;43mgetattr\u001b[39;49m\u001b[43m(\u001b[49m\u001b[43mdf\u001b[49m\u001b[43m,\u001b[49m\u001b[43m \u001b[49m\u001b[43mdf_function\u001b[49m\u001b[43m)\u001b[49m\u001b[43m(\u001b[49m\u001b[43mwrapper\u001b[49m\u001b[43m,\u001b[49m\u001b[43m \u001b[49m\u001b[38;5;241;43m*\u001b[39;49m\u001b[38;5;241;43m*\u001b[39;49m\u001b[43mkwargs\u001b[49m\u001b[43m)\u001b[49m\n\u001b[1;32m    918\u001b[0m \u001b[38;5;28;01mfinally\u001b[39;00m:\n\u001b[1;32m    919\u001b[0m     t\u001b[38;5;241m.\u001b[39mclose()\n",
      "File \u001b[0;32m~/miniconda3/envs/denovo_analysis_env/lib/python3.11/site-packages/pandas/core/frame.py:9568\u001b[0m, in \u001b[0;36mDataFrame.apply\u001b[0;34m(self, func, axis, raw, result_type, args, **kwargs)\u001b[0m\n\u001b[1;32m   9557\u001b[0m \u001b[38;5;28;01mfrom\u001b[39;00m \u001b[38;5;21;01mpandas\u001b[39;00m\u001b[38;5;21;01m.\u001b[39;00m\u001b[38;5;21;01mcore\u001b[39;00m\u001b[38;5;21;01m.\u001b[39;00m\u001b[38;5;21;01mapply\u001b[39;00m \u001b[38;5;28;01mimport\u001b[39;00m frame_apply\n\u001b[1;32m   9559\u001b[0m op \u001b[38;5;241m=\u001b[39m frame_apply(\n\u001b[1;32m   9560\u001b[0m     \u001b[38;5;28mself\u001b[39m,\n\u001b[1;32m   9561\u001b[0m     func\u001b[38;5;241m=\u001b[39mfunc,\n\u001b[0;32m   (...)\u001b[0m\n\u001b[1;32m   9566\u001b[0m     kwargs\u001b[38;5;241m=\u001b[39mkwargs,\n\u001b[1;32m   9567\u001b[0m )\n\u001b[0;32m-> 9568\u001b[0m \u001b[38;5;28;01mreturn\u001b[39;00m \u001b[43mop\u001b[49m\u001b[38;5;241;43m.\u001b[39;49m\u001b[43mapply\u001b[49m\u001b[43m(\u001b[49m\u001b[43m)\u001b[49m\u001b[38;5;241m.\u001b[39m__finalize__(\u001b[38;5;28mself\u001b[39m, method\u001b[38;5;241m=\u001b[39m\u001b[38;5;124m\"\u001b[39m\u001b[38;5;124mapply\u001b[39m\u001b[38;5;124m\"\u001b[39m)\n",
      "File \u001b[0;32m~/miniconda3/envs/denovo_analysis_env/lib/python3.11/site-packages/pandas/core/apply.py:764\u001b[0m, in \u001b[0;36mFrameApply.apply\u001b[0;34m(self)\u001b[0m\n\u001b[1;32m    761\u001b[0m \u001b[38;5;28;01melif\u001b[39;00m \u001b[38;5;28mself\u001b[39m\u001b[38;5;241m.\u001b[39mraw:\n\u001b[1;32m    762\u001b[0m     \u001b[38;5;28;01mreturn\u001b[39;00m \u001b[38;5;28mself\u001b[39m\u001b[38;5;241m.\u001b[39mapply_raw()\n\u001b[0;32m--> 764\u001b[0m \u001b[38;5;28;01mreturn\u001b[39;00m \u001b[38;5;28;43mself\u001b[39;49m\u001b[38;5;241;43m.\u001b[39;49m\u001b[43mapply_standard\u001b[49m\u001b[43m(\u001b[49m\u001b[43m)\u001b[49m\n",
      "File \u001b[0;32m~/miniconda3/envs/denovo_analysis_env/lib/python3.11/site-packages/pandas/core/apply.py:891\u001b[0m, in \u001b[0;36mFrameApply.apply_standard\u001b[0;34m(self)\u001b[0m\n\u001b[1;32m    890\u001b[0m \u001b[38;5;28;01mdef\u001b[39;00m \u001b[38;5;21mapply_standard\u001b[39m(\u001b[38;5;28mself\u001b[39m):\n\u001b[0;32m--> 891\u001b[0m     results, res_index \u001b[38;5;241m=\u001b[39m \u001b[38;5;28;43mself\u001b[39;49m\u001b[38;5;241;43m.\u001b[39;49m\u001b[43mapply_series_generator\u001b[49m\u001b[43m(\u001b[49m\u001b[43m)\u001b[49m\n\u001b[1;32m    893\u001b[0m     \u001b[38;5;66;03m# wrap results\u001b[39;00m\n\u001b[1;32m    894\u001b[0m     \u001b[38;5;28;01mreturn\u001b[39;00m \u001b[38;5;28mself\u001b[39m\u001b[38;5;241m.\u001b[39mwrap_results(results, res_index)\n",
      "File \u001b[0;32m~/miniconda3/envs/denovo_analysis_env/lib/python3.11/site-packages/pandas/core/apply.py:907\u001b[0m, in \u001b[0;36mFrameApply.apply_series_generator\u001b[0;34m(self)\u001b[0m\n\u001b[1;32m    904\u001b[0m \u001b[38;5;28;01mwith\u001b[39;00m option_context(\u001b[38;5;124m\"\u001b[39m\u001b[38;5;124mmode.chained_assignment\u001b[39m\u001b[38;5;124m\"\u001b[39m, \u001b[38;5;28;01mNone\u001b[39;00m):\n\u001b[1;32m    905\u001b[0m     \u001b[38;5;28;01mfor\u001b[39;00m i, v \u001b[38;5;129;01min\u001b[39;00m \u001b[38;5;28menumerate\u001b[39m(series_gen):\n\u001b[1;32m    906\u001b[0m         \u001b[38;5;66;03m# ignore SettingWithCopy here in case the user mutates\u001b[39;00m\n\u001b[0;32m--> 907\u001b[0m         results[i] \u001b[38;5;241m=\u001b[39m \u001b[38;5;28;43mself\u001b[39;49m\u001b[38;5;241;43m.\u001b[39;49m\u001b[43mf\u001b[49m\u001b[43m(\u001b[49m\u001b[43mv\u001b[49m\u001b[43m)\u001b[49m\n\u001b[1;32m    908\u001b[0m         \u001b[38;5;28;01mif\u001b[39;00m \u001b[38;5;28misinstance\u001b[39m(results[i], ABCSeries):\n\u001b[1;32m    909\u001b[0m             \u001b[38;5;66;03m# If we have a view on v, we need to make a copy because\u001b[39;00m\n\u001b[1;32m    910\u001b[0m             \u001b[38;5;66;03m#  series_generator will swap out the underlying data\u001b[39;00m\n\u001b[1;32m    911\u001b[0m             results[i] \u001b[38;5;241m=\u001b[39m results[i]\u001b[38;5;241m.\u001b[39mcopy(deep\u001b[38;5;241m=\u001b[39m\u001b[38;5;28;01mFalse\u001b[39;00m)\n",
      "File \u001b[0;32m~/miniconda3/envs/denovo_analysis_env/lib/python3.11/site-packages/tqdm/std.py:912\u001b[0m, in \u001b[0;36mtqdm.pandas.<locals>.inner_generator.<locals>.inner.<locals>.wrapper\u001b[0;34m(*args, **kwargs)\u001b[0m\n\u001b[1;32m    906\u001b[0m \u001b[38;5;28;01mdef\u001b[39;00m \u001b[38;5;21mwrapper\u001b[39m(\u001b[38;5;241m*\u001b[39margs, \u001b[38;5;241m*\u001b[39m\u001b[38;5;241m*\u001b[39mkwargs):\n\u001b[1;32m    907\u001b[0m     \u001b[38;5;66;03m# update tbar correctly\u001b[39;00m\n\u001b[1;32m    908\u001b[0m     \u001b[38;5;66;03m# it seems `pandas apply` calls `func` twice\u001b[39;00m\n\u001b[1;32m    909\u001b[0m     \u001b[38;5;66;03m# on the first column/row to decide whether it can\u001b[39;00m\n\u001b[1;32m    910\u001b[0m     \u001b[38;5;66;03m# take a fast or slow code path; so stop when t.total==t.n\u001b[39;00m\n\u001b[1;32m    911\u001b[0m     t\u001b[38;5;241m.\u001b[39mupdate(n\u001b[38;5;241m=\u001b[39m\u001b[38;5;241m1\u001b[39m \u001b[38;5;28;01mif\u001b[39;00m \u001b[38;5;129;01mnot\u001b[39;00m t\u001b[38;5;241m.\u001b[39mtotal \u001b[38;5;129;01mor\u001b[39;00m t\u001b[38;5;241m.\u001b[39mn \u001b[38;5;241m<\u001b[39m t\u001b[38;5;241m.\u001b[39mtotal \u001b[38;5;28;01melse\u001b[39;00m \u001b[38;5;241m0\u001b[39m)\n\u001b[0;32m--> 912\u001b[0m     \u001b[38;5;28;01mreturn\u001b[39;00m \u001b[43mfunc\u001b[49m\u001b[43m(\u001b[49m\u001b[38;5;241;43m*\u001b[39;49m\u001b[43margs\u001b[49m\u001b[43m,\u001b[49m\u001b[43m \u001b[49m\u001b[38;5;241;43m*\u001b[39;49m\u001b[38;5;241;43m*\u001b[39;49m\u001b[43mkwargs\u001b[49m\u001b[43m)\u001b[49m\n",
      "Cell \u001b[0;32mIn[108], line 2\u001b[0m, in \u001b[0;36m<lambda>\u001b[0;34m(x)\u001b[0m\n\u001b[1;32m      1\u001b[0m levenshtein_df[\u001b[38;5;124m'\u001b[39m\u001b[38;5;124mreplacements\u001b[39m\u001b[38;5;124m'\u001b[39m] \u001b[38;5;241m=\u001b[39m levenshtein_df\u001b[38;5;241m.\u001b[39mprogress_apply(\n\u001b[0;32m----> 2\u001b[0m     \u001b[38;5;28;01mlambda\u001b[39;00m x: \u001b[43mget_error_location\u001b[49m\u001b[43m(\u001b[49m\n\u001b[1;32m      3\u001b[0m \u001b[43m        \u001b[49m\u001b[43mswaps\u001b[49m\u001b[38;5;241;43m=\u001b[39;49m\u001b[43mx\u001b[49m\u001b[43m[\u001b[49m\u001b[38;5;124;43m'\u001b[39;49m\u001b[38;5;124;43mswaps\u001b[39;49m\u001b[38;5;124;43m'\u001b[39;49m\u001b[43m]\u001b[49m\u001b[43m,\u001b[49m\n\u001b[1;32m      4\u001b[0m \u001b[43m        \u001b[49m\u001b[43mpeptide_evidence\u001b[49m\u001b[38;5;241;43m=\u001b[39;49m\u001b[43mx\u001b[49m\u001b[43m[\u001b[49m\u001b[38;5;124;43m'\u001b[39;49m\u001b[38;5;124;43mpeptide_evidence\u001b[39;49m\u001b[38;5;124;43m'\u001b[39;49m\u001b[43m]\u001b[49m\u001b[43m,\u001b[49m\n\u001b[1;32m      5\u001b[0m \u001b[43m        \u001b[49m\u001b[43mpeptide_gt\u001b[49m\u001b[38;5;241;43m=\u001b[39;49m\u001b[43mx\u001b[49m\u001b[43m[\u001b[49m\u001b[38;5;124;43m'\u001b[39;49m\u001b[38;5;124;43mpeptide_gt\u001b[39;49m\u001b[38;5;124;43m'\u001b[39;49m\u001b[43m]\u001b[49m\n\u001b[1;32m      6\u001b[0m \u001b[43m    \u001b[49m\u001b[43m)\u001b[49m, axis\u001b[38;5;241m=\u001b[39m\u001b[38;5;241m1\u001b[39m\n\u001b[1;32m      7\u001b[0m )\n",
      "Cell \u001b[0;32mIn[106], line 31\u001b[0m, in \u001b[0;36mget_error_location\u001b[0;34m(swaps, peptide_evidence, peptide_gt, log)\u001b[0m\n\u001b[1;32m     29\u001b[0m \u001b[38;5;28;01mif\u001b[39;00m action \u001b[38;5;241m==\u001b[39m \u001b[38;5;124m'\u001b[39m\u001b[38;5;124mreplace\u001b[39m\u001b[38;5;124m'\u001b[39m:    \n\u001b[1;32m     30\u001b[0m     replacement_gt \u001b[38;5;241m+\u001b[39m\u001b[38;5;241m=\u001b[39m pep_gt[index_gt]\n\u001b[0;32m---> 31\u001b[0m     replacement_dn \u001b[38;5;241m+\u001b[39m\u001b[38;5;241m=\u001b[39m \u001b[43mpep_dn\u001b[49m\u001b[43m[\u001b[49m\u001b[43mindex_dn\u001b[49m\u001b[43m]\u001b[49m\n\u001b[1;32m     33\u001b[0m \u001b[38;5;28;01melif\u001b[39;00m action \u001b[38;5;241m==\u001b[39m \u001b[38;5;124m'\u001b[39m\u001b[38;5;124mdelete\u001b[39m\u001b[38;5;124m'\u001b[39m:\n\u001b[1;32m     34\u001b[0m     replacement_dn \u001b[38;5;241m+\u001b[39m\u001b[38;5;241m=\u001b[39m pep_dn[index_dn]\n",
      "\u001b[0;31mIndexError\u001b[0m: string index out of range"
     ]
    }
   ],
   "source": [
    "levenshtein_df['replacements'] = levenshtein_df.progress_apply(\n",
    "    lambda x: get_error_location(\n",
    "        swaps=x['swaps'],\n",
    "        peptide_evidence=x['peptide_evidence'],\n",
    "        peptide_gt=x['peptide_gt']\n",
    "    ), axis=1\n",
    ")"
   ]
  },
  {
   "cell_type": "code",
   "execution_count": 118,
   "metadata": {},
   "outputs": [
    {
     "data": {
      "text/plain": [
       "[('replace', 0, 0),\n",
       " ('replace', 1, 1),\n",
       " ('delete', 2, 2),\n",
       " ('delete', 3, 2),\n",
       " ('delete', 4, 2),\n",
       " ('delete', 5, 2),\n",
       " ('delete', 6, 2),\n",
       " ('delete', 7, 2),\n",
       " ('delete', 8, 2),\n",
       " ('delete', 9, 2),\n",
       " ('delete', 10, 2),\n",
       " ('delete', 12, 3),\n",
       " ('replace', 14, 4),\n",
       " ('replace', 15, 5),\n",
       " ('replace', 16, 6),\n",
       " ('replace', 17, 7),\n",
       " ('replace', 19, 9),\n",
       " ('replace', 20, 10),\n",
       " ('replace', 21, 11),\n",
       " ('replace', 22, 12),\n",
       " ('replace', 23, 13),\n",
       " ('delete', 24, 14),\n",
       " ('delete', 25, 14)]"
      ]
     },
     "execution_count": 118,
     "metadata": {},
     "output_type": "execute_result"
    }
   ],
   "source": [
    "editops(\n",
    "    'TYPSELLEPEAYVTLLSQQAAAAQAA',\n",
    "    'IIYTGPIDQYFDYR',\n",
    "    \n",
    ")"
   ]
  },
  {
   "cell_type": "code",
   "execution_count": 120,
   "metadata": {},
   "outputs": [
    {
     "data": {
      "text/plain": [
       "[('replace', 2, 2),\n",
       " ('replace', 3, 3),\n",
       " ('delete', 4, 4),\n",
       " ('replace', 6, 5),\n",
       " ('replace', 7, 6),\n",
       " ('replace', 8, 7),\n",
       " ('replace', 9, 8),\n",
       " ('replace', 10, 9),\n",
       " ('insert', 12, 11),\n",
       " ('replace', 12, 12),\n",
       " ('replace', 14, 14),\n",
       " ('delete', 15, 15),\n",
       " ('delete', 16, 15),\n",
       " ('insert', 20, 18),\n",
       " ('replace', 22, 21),\n",
       " ('insert', 24, 23),\n",
       " ('delete', 26, 26),\n",
       " ('delete', 27, 26)]"
      ]
     },
     "execution_count": 120,
     "metadata": {},
     "output_type": "execute_result"
    }
   ],
   "source": [
    "swaps"
   ]
  },
  {
   "cell_type": "code",
   "execution_count": 140,
   "metadata": {},
   "outputs": [
    {
     "name": "stdout",
     "output_type": "stream",
     "text": [
      "TIImDEQDHGYAITGDAISQAAIAAANR\n",
      "TIPSEIIEPEAYVTIISQQAAAAQAA\n",
      "replace 2 2\n",
      "TIImDEQDHGYAITGDAISQAAIAAANR\n",
      "TIISEIIEPEAYVTIISQQAAAAQAA\n",
      "\n",
      "replace 3 3\n",
      "TIImDEQDHGYAITGDAISQAAIAAANR\n",
      "TIImEIIEPEAYVTIISQQAAAAQAA\n",
      "\n",
      "delete 4 4\n",
      "TIImDEQDHGYAITGDAISQAAIAAANR\n",
      "TIImEQDHGYAITGDAISQAAIAAANR\n",
      "\n",
      "replace 6 5\n",
      "TIImDEQDHGYAITGDAISQAAIAAANR\n",
      "TIImEQDHGYAITGDAISQAAIAAANR\n",
      "\n",
      "replace 7 6\n",
      "TIImDEQDHGYAITGDAISQAAIAAANR\n",
      "TIImEQDHGYAITGDAISQAAIAAANR\n",
      "\n",
      "replace 8 7\n",
      "TIImDEQDHGYAITGDAISQAAIAAANR\n",
      "TIImEQDHGYAITGDAISQAAIAAANR\n",
      "\n",
      "replace 9 8\n",
      "TIImDEQDHGYAITGDAISQAAIAAANR\n",
      "TIImEQDHGYAITGDAISQAAIAAANR\n",
      "\n",
      "replace 10 9\n",
      "TIImDEQDHGYAITGDAISQAAIAAANR\n",
      "TIImEQDHGYAITGDAISQAAIAAANR\n",
      "\n",
      "insert 12 11\n",
      "TIImDEQDHGYAITGDAISQAAIAAANR\n",
      "TIImEQDHGYAIITGDAISQAAIAAANR\n",
      "\n",
      "replace 12 12\n",
      "TIImDEQDHGYAITGDAISQAAIAAANR\n",
      "TIImEQDHGYAIITGDAISQAAIAAANR\n",
      "\n",
      "replace 14 14\n",
      "TIImDEQDHGYAITGDAISQAAIAAANR\n",
      "TIImEQDHGYAIITGDAISQAAIAAANR\n",
      "\n",
      "delete 15 15\n",
      "TIImDEQDHGYAITGDAISQAAIAAANR\n",
      "TIImDEQDHGYAITGAISQAAIAAANR\n",
      "\n",
      "delete 16 15\n",
      "TIImDEQDHGYAITGDAISQAAIAAANR\n",
      "TIImDEQDHGYAITGDISQAAIAAANR\n",
      "\n",
      "insert 20 18\n",
      "TIImDEQDHGYAITGDAISQAAIAAANR\n",
      "TIImDEQDHGYAITGDISAQAAIAAANR\n",
      "\n",
      "replace 22 21\n",
      "TIImDEQDHGYAITGDAISQAAIAAANR\n",
      "TIImDEQDHGYAITGDISAQAIIAAANR\n",
      "\n",
      "insert 24 23\n",
      "TIImDEQDHGYAITGDAISQAAIAAANR\n",
      "TIImDEQDHGYAITGDISAQAIIAAAANR\n",
      "\n",
      "delete 26 26\n",
      "TIImDEQDHGYAITGDAISQAAIAAANR\n",
      "TIImDEQDHGYAITGDAISQAAIAAAR\n",
      "\n",
      "delete 27 26\n",
      "TIImDEQDHGYAITGDAISQAAIAAANR\n",
      "TIImDEQDHGYAITGDAISQAAIAAAN\n",
      "\n"
     ]
    },
    {
     "data": {
      "text/plain": [
       "[{'gt': 'ImD', 'dn': 'PSE'},\n",
       " {'gt': 'QDHGY', 'dn': 'QDHGY'},\n",
       " {'gt': 'I', 'dn': 'I'},\n",
       " {'gt': 'I', 'dn': 'I'},\n",
       " {'gt': 'GDA', 'dn': 'GDA'},\n",
       " {'gt': 'A', 'dn': 'Q'},\n",
       " {'gt': 'I', 'dn': 'A'},\n",
       " {'gt': 'A', 'dn': 'A'},\n",
       " {'gt': 'NR', 'dn': 'AR'}]"
      ]
     },
     "execution_count": 140,
     "metadata": {},
     "output_type": "execute_result"
    }
   ],
   "source": [
    "(\n",
    "    _,\n",
    "    _,\n",
    "    _,\n",
    "    swaps,\n",
    "    pe,\n",
    "    gt\n",
    ") = levenshtein_df.iloc[175].tolist()\n",
    "get_error_location(\n",
    "    swaps=swaps,\n",
    "    peptide_evidence=pe,\n",
    "    peptide_gt=gt,\n",
    "    log=True\n",
    ")"
   ]
  },
  {
   "cell_type": "code",
   "execution_count": null,
   "metadata": {},
   "outputs": [],
   "source": []
  },
  {
   "cell_type": "code",
   "execution_count": 95,
   "metadata": {},
   "outputs": [
    {
     "name": "stdout",
     "output_type": "stream",
     "text": [
      "Y\n"
     ]
    },
    {
     "data": {
      "text/plain": [
       "[{'gt': 'YR', 'dn': 'RY'}]"
      ]
     },
     "execution_count": 95,
     "metadata": {},
     "output_type": "execute_result"
    }
   ],
   "source": [
    "get_error_location(\n",
    "    swaps=swaps,\n",
    "    peptide_evidence=pe,\n",
    "    peptide_gt=pep_gt\n",
    ")"
   ]
  },
  {
   "cell_type": "code",
   "execution_count": 59,
   "metadata": {},
   "outputs": [
    {
     "data": {
      "text/plain": [
       "('R', None)"
      ]
     },
     "execution_count": 59,
     "metadata": {},
     "output_type": "execute_result"
    }
   ],
   "source": [
    "Peptidoform('LLYTGPLDQYFDRY')[12]"
   ]
  },
  {
   "cell_type": "code",
   "execution_count": 63,
   "metadata": {},
   "outputs": [
    {
     "data": {
      "text/plain": [
       "'IIYTGPIDQYFDRY'"
      ]
     },
     "execution_count": 63,
     "metadata": {},
     "output_type": "execute_result"
    }
   ],
   "source": [
    "def insert(string, location, element):\n",
    "    return string[:location] + element + string[location:]\n",
    "def delete(string, location):\n",
    "    return string[:location] + string[location+1:]\n",
    "\n",
    "result = insert('IIYTGPIDQYFDYR', 12, \"R\")\n",
    "delete(result, 14)"
   ]
  },
  {
   "cell_type": "code",
   "execution_count": 64,
   "metadata": {},
   "outputs": [
    {
     "data": {
      "text/plain": [
       "'R'"
      ]
     },
     "execution_count": 64,
     "metadata": {},
     "output_type": "execute_result"
    }
   ],
   "source": [
    "result[14]"
   ]
  },
  {
   "cell_type": "code",
   "execution_count": 57,
   "metadata": {},
   "outputs": [
    {
     "ename": "IndexError",
     "evalue": "list index out of range",
     "output_type": "error",
     "traceback": [
      "\u001b[0;31m---------------------------------------------------------------------------\u001b[0m",
      "\u001b[0;31mIndexError\u001b[0m                                Traceback (most recent call last)",
      "Cell \u001b[0;32mIn[57], line 1\u001b[0m\n\u001b[0;32m----> 1\u001b[0m \u001b[43mPeptidoform\u001b[49m\u001b[43m(\u001b[49m\u001b[38;5;124;43m'\u001b[39;49m\u001b[38;5;124;43mIIYTGPIDQYFDYR/2\u001b[39;49m\u001b[38;5;124;43m'\u001b[39;49m\u001b[43m)\u001b[49m\u001b[43m[\u001b[49m\u001b[38;5;241;43m14\u001b[39;49m\u001b[43m]\u001b[49m\n",
      "File \u001b[0;32m~/miniconda3/envs/denovo_analysis_env/lib/python3.11/site-packages/psm_utils/peptidoform.py:84\u001b[0m, in \u001b[0;36mPeptidoform.__getitem__\u001b[0;34m(self, key)\u001b[0m\n\u001b[1;32m     83\u001b[0m \u001b[38;5;28;01mdef\u001b[39;00m \u001b[38;5;21m__getitem__\u001b[39m(\u001b[38;5;28mself\u001b[39m, key: \u001b[38;5;28mint\u001b[39m) \u001b[38;5;241m-\u001b[39m\u001b[38;5;241m>\u001b[39m Tuple[\u001b[38;5;28mstr\u001b[39m, Union[\u001b[38;5;28;01mNone\u001b[39;00m, List[proforma\u001b[38;5;241m.\u001b[39mTagBase]]]:\n\u001b[0;32m---> 84\u001b[0m     \u001b[38;5;28;01mreturn\u001b[39;00m \u001b[38;5;28;43mself\u001b[39;49m\u001b[38;5;241;43m.\u001b[39;49m\u001b[43mparsed_sequence\u001b[49m\u001b[38;5;241;43m.\u001b[39;49m\u001b[38;5;21;43m__getitem__\u001b[39;49m\u001b[43m(\u001b[49m\u001b[43mkey\u001b[49m\u001b[43m)\u001b[49m\n",
      "\u001b[0;31mIndexError\u001b[0m: list index out of range"
     ]
    }
   ],
   "source": [
    "Peptidoform('IIYTGPIDQYFDYR/2')[14]"
   ]
  },
  {
   "cell_type": "code",
   "execution_count": 45,
   "metadata": {},
   "outputs": [
    {
     "data": {
      "text/html": [
       "<div>\n",
       "<style scoped>\n",
       "    .dataframe tbody tr th:only-of-type {\n",
       "        vertical-align: middle;\n",
       "    }\n",
       "\n",
       "    .dataframe tbody tr th {\n",
       "        vertical-align: top;\n",
       "    }\n",
       "\n",
       "    .dataframe thead th {\n",
       "        text-align: right;\n",
       "    }\n",
       "</style>\n",
       "<table border=\"1\" class=\"dataframe\">\n",
       "  <thead>\n",
       "    <tr style=\"text-align: right;\">\n",
       "      <th></th>\n",
       "      <th>tool</th>\n",
       "      <th>levenshtein</th>\n",
       "      <th>damerau-levenshtein</th>\n",
       "      <th>swaps</th>\n",
       "      <th>peptide_evidence</th>\n",
       "      <th>peptide_gt</th>\n",
       "    </tr>\n",
       "  </thead>\n",
       "  <tbody>\n",
       "    <tr>\n",
       "      <th>11</th>\n",
       "      <td>novob</td>\n",
       "      <td>2</td>\n",
       "      <td>2</td>\n",
       "      <td>[(replace, 2, 2), (delete, 3, 3)]</td>\n",
       "      <td>FC[UNIMOD:4]QEGLNNVLTLS&lt;TF&gt;R/2</td>\n",
       "      <td>((F, None), (C, [UNIMOD:4]), (G, None), (A, No...</td>\n",
       "    </tr>\n",
       "    <tr>\n",
       "      <th>35</th>\n",
       "      <td>pepnet</td>\n",
       "      <td>2</td>\n",
       "      <td>1</td>\n",
       "      <td>[(insert, 12, 12), (delete, 13, 14)]</td>\n",
       "      <td>&lt;LL&gt;YTGPLDQYFD&lt;RY&gt;/2</td>\n",
       "      <td>((I, None), (I, None), (Y, None), (T, None), (...</td>\n",
       "    </tr>\n",
       "    <tr>\n",
       "      <th>36</th>\n",
       "      <td>casanovo</td>\n",
       "      <td>2</td>\n",
       "      <td>1</td>\n",
       "      <td>[(insert, 10, 10), (delete, 11, 12)]</td>\n",
       "      <td>&lt;GS&gt;L&lt;PL&gt;ALDEV&lt;TL&gt;DGHK/3</td>\n",
       "      <td>((G, None), (S, None), (I, None), (P, None), (...</td>\n",
       "    </tr>\n",
       "    <tr>\n",
       "      <th>37</th>\n",
       "      <td>instanovo</td>\n",
       "      <td>2</td>\n",
       "      <td>1</td>\n",
       "      <td>[(insert, 10, 10), (delete, 11, 12)]</td>\n",
       "      <td>&lt;GS&gt;L&lt;PL&gt;ALDEV&lt;TL&gt;DGHK/3</td>\n",
       "      <td>((G, None), (S, None), (I, None), (P, None), (...</td>\n",
       "    </tr>\n",
       "    <tr>\n",
       "      <th>41</th>\n",
       "      <td>casanovo</td>\n",
       "      <td>2</td>\n",
       "      <td>1</td>\n",
       "      <td>[(insert, 12, 12), (delete, 13, 14)]</td>\n",
       "      <td>LVPFEDLPDEEV&lt;SGR&gt;/2</td>\n",
       "      <td>((I, None), (V, None), (P, None), (F, None), (...</td>\n",
       "    </tr>\n",
       "    <tr>\n",
       "      <th>...</th>\n",
       "      <td>...</td>\n",
       "      <td>...</td>\n",
       "      <td>...</td>\n",
       "      <td>...</td>\n",
       "      <td>...</td>\n",
       "      <td>...</td>\n",
       "    </tr>\n",
       "    <tr>\n",
       "      <th>835830</th>\n",
       "      <td>casanovo</td>\n",
       "      <td>2</td>\n",
       "      <td>1</td>\n",
       "      <td>[(insert, 3, 3), (delete, 4, 5)]</td>\n",
       "      <td>&lt;GV&gt;EQLLK/2</td>\n",
       "      <td>((G, None), (V, None), (E, None), (I, None), (...</td>\n",
       "    </tr>\n",
       "    <tr>\n",
       "      <th>835831</th>\n",
       "      <td>instanovo</td>\n",
       "      <td>2</td>\n",
       "      <td>1</td>\n",
       "      <td>[(insert, 3, 3), (delete, 4, 5)]</td>\n",
       "      <td>&lt;GV&gt;EQLLK/2</td>\n",
       "      <td>((G, None), (V, None), (E, None), (I, None), (...</td>\n",
       "    </tr>\n",
       "    <tr>\n",
       "      <th>835833</th>\n",
       "      <td>novob</td>\n",
       "      <td>2</td>\n",
       "      <td>2</td>\n",
       "      <td>[(insert, 3, 3), (delete, 4, 5)]</td>\n",
       "      <td>GVEELLK/2</td>\n",
       "      <td>((G, None), (V, None), (E, None), (I, None), (...</td>\n",
       "    </tr>\n",
       "    <tr>\n",
       "      <th>835869</th>\n",
       "      <td>pepnet</td>\n",
       "      <td>2</td>\n",
       "      <td>2</td>\n",
       "      <td>[(replace, 3, 3), (insert, 7, 7)]</td>\n",
       "      <td>&lt;LREE&gt;&lt;LEEY&gt;YK/2</td>\n",
       "      <td>((I, None), (R, None), (E, None), (Y, None), (...</td>\n",
       "    </tr>\n",
       "    <tr>\n",
       "      <th>835919</th>\n",
       "      <td>instanovo</td>\n",
       "      <td>2</td>\n",
       "      <td>2</td>\n",
       "      <td>[(insert, 2, 2), (delete, 4, 5)]</td>\n",
       "      <td>LHLFGK/2</td>\n",
       "      <td>((I, None), (H, None), (F, None), (G, None), (...</td>\n",
       "    </tr>\n",
       "  </tbody>\n",
       "</table>\n",
       "<p>74008 rows × 6 columns</p>\n",
       "</div>"
      ],
      "text/plain": [
       "             tool  levenshtein  damerau-levenshtein  \\\n",
       "11          novob            2                    2   \n",
       "35         pepnet            2                    1   \n",
       "36       casanovo            2                    1   \n",
       "37      instanovo            2                    1   \n",
       "41       casanovo            2                    1   \n",
       "...           ...          ...                  ...   \n",
       "835830   casanovo            2                    1   \n",
       "835831  instanovo            2                    1   \n",
       "835833      novob            2                    2   \n",
       "835869     pepnet            2                    2   \n",
       "835919  instanovo            2                    2   \n",
       "\n",
       "                                       swaps                peptide_evidence  \\\n",
       "11         [(replace, 2, 2), (delete, 3, 3)]  FC[UNIMOD:4]QEGLNNVLTLS<TF>R/2   \n",
       "35      [(insert, 12, 12), (delete, 13, 14)]            <LL>YTGPLDQYFD<RY>/2   \n",
       "36      [(insert, 10, 10), (delete, 11, 12)]        <GS>L<PL>ALDEV<TL>DGHK/3   \n",
       "37      [(insert, 10, 10), (delete, 11, 12)]        <GS>L<PL>ALDEV<TL>DGHK/3   \n",
       "41      [(insert, 12, 12), (delete, 13, 14)]             LVPFEDLPDEEV<SGR>/2   \n",
       "...                                      ...                             ...   \n",
       "835830      [(insert, 3, 3), (delete, 4, 5)]                     <GV>EQLLK/2   \n",
       "835831      [(insert, 3, 3), (delete, 4, 5)]                     <GV>EQLLK/2   \n",
       "835833      [(insert, 3, 3), (delete, 4, 5)]                       GVEELLK/2   \n",
       "835869     [(replace, 3, 3), (insert, 7, 7)]                <LREE><LEEY>YK/2   \n",
       "835919      [(insert, 2, 2), (delete, 4, 5)]                        LHLFGK/2   \n",
       "\n",
       "                                               peptide_gt  \n",
       "11      ((F, None), (C, [UNIMOD:4]), (G, None), (A, No...  \n",
       "35      ((I, None), (I, None), (Y, None), (T, None), (...  \n",
       "36      ((G, None), (S, None), (I, None), (P, None), (...  \n",
       "37      ((G, None), (S, None), (I, None), (P, None), (...  \n",
       "41      ((I, None), (V, None), (P, None), (F, None), (...  \n",
       "...                                                   ...  \n",
       "835830  ((G, None), (V, None), (E, None), (I, None), (...  \n",
       "835831  ((G, None), (V, None), (E, None), (I, None), (...  \n",
       "835833  ((G, None), (V, None), (E, None), (I, None), (...  \n",
       "835869  ((I, None), (R, None), (E, None), (Y, None), (...  \n",
       "835919  ((I, None), (H, None), (F, None), (G, None), (...  \n",
       "\n",
       "[74008 rows x 6 columns]"
      ]
     },
     "execution_count": 45,
     "metadata": {},
     "output_type": "execute_result"
    }
   ],
   "source": [
    "levenshtein_df[levenshtein_df.levenshtein==2]"
   ]
  },
  {
   "cell_type": "markdown",
   "metadata": {},
   "source": [
    "# 5. Find the locations"
   ]
  },
  {
   "cell_type": "code",
   "execution_count": null,
   "metadata": {},
   "outputs": [],
   "source": []
  },
  {
   "cell_type": "markdown",
   "metadata": {},
   "source": [
    "# 6. Find the exact amino acid error"
   ]
  },
  {
   "cell_type": "code",
   "execution_count": null,
   "metadata": {},
   "outputs": [],
   "source": []
  }
 ],
 "metadata": {
  "kernelspec": {
   "display_name": "denovo_analysis_env",
   "language": "python",
   "name": "python3"
  },
  "language_info": {
   "codemirror_mode": {
    "name": "ipython",
    "version": 3
   },
   "file_extension": ".py",
   "mimetype": "text/x-python",
   "name": "python",
   "nbconvert_exporter": "python",
   "pygments_lexer": "ipython3",
   "version": "3.11.9"
  }
 },
 "nbformat": 4,
 "nbformat_minor": 2
}
