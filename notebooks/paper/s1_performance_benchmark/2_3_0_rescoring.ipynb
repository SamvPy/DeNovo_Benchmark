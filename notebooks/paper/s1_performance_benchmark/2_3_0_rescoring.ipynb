{
 "cells": [
  {
   "cell_type": "code",
   "execution_count": 1,
   "id": "1c494d10",
   "metadata": {},
   "outputs": [
    {
     "name": "stderr",
     "output_type": "stream",
     "text": [
      "2025-04-18 12:59:57.068128: E external/local_xla/xla/stream_executor/cuda/cuda_fft.cc:485] Unable to register cuFFT factory: Attempting to register factory for plugin cuFFT when one has already been registered\n",
      "2025-04-18 12:59:57.088982: E external/local_xla/xla/stream_executor/cuda/cuda_dnn.cc:8454] Unable to register cuDNN factory: Attempting to register factory for plugin cuDNN when one has already been registered\n",
      "2025-04-18 12:59:57.095260: E external/local_xla/xla/stream_executor/cuda/cuda_blas.cc:1452] Unable to register cuBLAS factory: Attempting to register factory for plugin cuBLAS when one has already been registered\n"
     ]
    },
    {
     "name": "stdout",
     "output_type": "stream",
     "text": [
      "Modification already exists in ModificationsDB. Skipping.\n"
     ]
    }
   ],
   "source": [
    "from denovo_utils.data import Run\n",
    "from denovo_utils.parsers import DenovoEngineConverter\n",
    "from denovo_utils.parsers.converters.spectralis import load_spectralis_rescoring\n",
    "from denovo_utils.io.read import load_psmlist\n",
    "\n",
    "from psm_utils import PSMList\n",
    "from tqdm import tqdm\n",
    "from glob import glob\n",
    "from itertools import chain\n",
    "\n",
    "import pandas as pd\n",
    "import os\n",
    "\n",
    "from denovo_utils.data.run import read_runs"
   ]
  },
  {
   "cell_type": "code",
   "execution_count": 2,
   "id": "d2de0515",
   "metadata": {},
   "outputs": [],
   "source": [
    "filenames = ['LFQ_Orbitrap_DDA_QC_01']\n",
    "\n",
    "root_mgf = f'/public/compomics3/Sam/PXD028735/QExactive/mgf_reformatted'\n",
    "root_psmlist = f'/public/compomics3/Sam/PXD028735/QExactive/rescoring_beams'\n",
    "root_postprocessing = f'/public/compomics3/Sam/PXD028735/QExactive/postprocessing_beams'\n",
    "\n",
    "format_ground_truth = 'parquet'\n",
    "\n",
    "rescored_db = True\n",
    "rescored_denovo = True\n",
    "rescored_refinement = False"
   ]
  },
  {
   "cell_type": "code",
   "execution_count": 3,
   "id": "9784a213",
   "metadata": {},
   "outputs": [
    {
     "name": "stderr",
     "output_type": "stream",
     "text": [
      "Loading results from ground_truth.parquet: 100%|██████████| 83941/83941 [00:12<00:00, 6508.31it/s]\n",
      "Loading PSMs in Run object (LFQ_Orbitrap_DDA_QC_01): 100%|██████████| 83941/83941 [00:05<00:00, 16035.83it/s]\n",
      "Loading results from casanovo.parquet: 100%|██████████| 352220/352220 [01:05<00:00, 5413.35it/s]\n",
      "Loading PSMs in Run object (LFQ_Orbitrap_DDA_QC_01): 100%|██████████| 352220/352220 [00:28<00:00, 12201.89it/s]\n",
      "Loading Spectralis results: 100%|██████████| 10/10 [00:22<00:00,  2.21s/it]\n",
      "100%|██████████| 352220/352220 [00:09<00:00, 36375.72it/s]\n",
      "Parsing Instanovo+ results to PSMList: 100%|██████████| 352183/352183 [00:14<00:00, 23829.13it/s]\n"
     ]
    }
   ],
   "source": [
    "runs = read_runs(\n",
    "    root_denovo_output=root_psmlist,\n",
    "    root_ground_truth=root_psmlist,\n",
    "    root_refinement=root_postprocessing,\n",
    "    root_mgf=root_mgf,\n",
    "    filenames=filenames,\n",
    "    engine_names=[\n",
    "        'casanovo'\n",
    "    ],\n",
    "    refinement_names=[\n",
    "        'spectralis',\n",
    "        'instanovoplus'\n",
    "    ],\n",
    "    format_ground_truth=format_ground_truth,\n",
    "    rescored_db=rescored_db,\n",
    "    rescored_denovo=rescored_denovo,\n",
    "    rescored_refinement=rescored_refinement\n",
    ")"
   ]
  },
  {
   "cell_type": "markdown",
   "id": "7761f741",
   "metadata": {},
   "source": [
    "Ranking candidates is done by a single score. These scores can be defined in multiple ways.\n",
    "\n",
    "Inside de novo search engines, this is the search engine score. In database search engines, this is done first by the hyperscore as a pre-filtering step.\n",
    "\n",
    "In this notebook, we will generate multiple scoring schemes and evaluate which is best in correctly ranking the 'correct' identification the highest.\n",
    "\n",
    "The scores under evaluation here are the following:\n",
    "- Casanovo score\n",
    "- MS2Rescore: Can be calculated using differing feature sets\n",
    "    - Base MS2Rescore\n",
    "    - MS2Rescore + Casanovo score\n",
    "    - MS2Rescore + Spectralis score\n",
    "    - MS2Rescore + Spectralis score + Casanovo score\n",
    "- Spectralis score\n",
    "- InstaNovo+ score"
   ]
  },
  {
   "cell_type": "markdown",
   "id": "0b6a7ce3",
   "metadata": {},
   "source": [
    "First, we need to fit the mokapot models using the defined feature sets. As a check, I will draw an upsetplot how this effects the database search results. Ideally, these would not change.\n",
    "\n",
    "Importantly, if database search results change, this is not due to the same process as will be investigated here, namely, reranking PSMs on Run level. Indeed, only one candidate was provided here for each spectrum."
   ]
  },
  {
   "cell_type": "markdown",
   "id": "d34bf8ae",
   "metadata": {},
   "source": [
    "# Infer new PSM-scores using mokapot"
   ]
  },
  {
   "cell_type": "markdown",
   "id": "340c5368",
   "metadata": {},
   "source": [
    "To infer new PSM-scores, I will use the MS2Rescore pipeline. First, the casanovo and spectralis scores need to be appended to the feature lists."
   ]
  },
  {
   "cell_type": "markdown",
   "id": "5c7de119",
   "metadata": {},
   "source": [
    "### 1. Load features and append the casanovo and spectralis scores"
   ]
  },
  {
   "cell_type": "code",
   "execution_count": 2,
   "id": "4b7d289d",
   "metadata": {},
   "outputs": [],
   "source": [
    "from denovo_utils.io.read import load_features, load_psmlist\n",
    "from denovo_utils.parsers.converters.spectralis import load_spectralis_rescoring"
   ]
  },
  {
   "cell_type": "markdown",
   "id": "c41eccd7",
   "metadata": {},
   "source": [
    "Load the features"
   ]
  },
  {
   "cell_type": "code",
   "execution_count": 25,
   "id": "7da612a3",
   "metadata": {},
   "outputs": [],
   "source": [
    "root_features = '/public/compomics3/Sam/PXD028735/QExactive/rescoring_beams/LFQ_Orbitrap_DDA_QC_01/features'\n",
    "casanovo_features = pd.read_parquet(os.path.join(root_features, 'casanovo.parquet'))\n",
    "gt_features = pd.read_parquet(os.path.join(root_features, 'ground_truth.parquet'))"
   ]
  },
  {
   "cell_type": "markdown",
   "id": "50c839dc",
   "metadata": {},
   "source": [
    "Features are in the following dictionary format:\n",
    "\n",
    "- key: spectrum_id\n",
    "    - value: dict\n",
    "        - key: rank\n",
    "        - value: dict\n",
    "            - key: feature_name\n",
    "            - value: feature value"
   ]
  },
  {
   "cell_type": "markdown",
   "id": "03c8306b",
   "metadata": {},
   "source": [
    "Add casanovo scores"
   ]
  },
  {
   "cell_type": "code",
   "execution_count": 30,
   "id": "73ca8ad3",
   "metadata": {},
   "outputs": [],
   "source": [
    "def add_score_to_rescoring_features(rescoring_dict, score, score_name):\n",
    "    rescoring_dict[score_name] = score"
   ]
  },
  {
   "cell_type": "code",
   "execution_count": null,
   "id": "99c93052",
   "metadata": {},
   "outputs": [
    {
     "name": "stderr",
     "output_type": "stream",
     "text": [
      "Loading results from casanovo.parquet: 100%|██████████| 352220/352220 [00:56<00:00, 6224.05it/s]\n",
      "Loading results from LFQ_Orbitrap_DDA_QC_01_casanovo.parquet: 100%|██████████| 83941/83941 [00:38<00:00, 2203.56it/s]\n"
     ]
    }
   ],
   "source": [
    "# Load the data where the scores are stored.\n",
    "\n",
    "# The casanovo scores for the casanovo candidates are stored in their PSMList\n",
    "casanovo_psmlist = load_psmlist(\n",
    "    psm_path='/public/compomics3/Sam/PXD028735/QExactive/rescoring_beams/LFQ_Orbitrap_DDA_QC_01/psmlist/casanovo.parquet'\n",
    ")\n",
    "\n",
    "# The casanovo scores for the Ground truth are stored in a separate result file bcz seperate casanovo inference was necessary\n",
    "gt_psmlist = load_psmlist(\n",
    "    psm_path='/public/compomics3/Sam/PXD028735/QExactive/postprocessing/casanovo/casanovo/LFQ_Orbitrap_DDA_QC_01_casanovo.parquet'\n",
    ")"
   ]
  },
  {
   "cell_type": "code",
   "execution_count": null,
   "id": "4da8ed77",
   "metadata": {},
   "outputs": [],
   "source": [
    "# Extract the scores\n",
    "score_df_casanovo_candidates = pd.DataFrame({\n",
    "    'Casanovo_score': casanovo_psmlist['score'], \n",
    "    'spectrum_id': casanovo_psmlist['spectrum_id'],\n",
    "    'rank': casanovo_psmlist['rank']\n",
    "})\n",
    "\n",
    "score_df_casanovo_gt = pd.DataFrame({\n",
    "    'Casanovo_score': [rescoring_features['Casanovo_score'] for rescoring_features in gt_psmlist['rescoring_features']],\n",
    "    'spectrum_id': gt_psmlist['spectrum_id'],\n",
    "    'rank': gt_psmlist['rank']\n",
    "})"
   ]
  },
  {
   "cell_type": "code",
   "execution_count": null,
   "id": "10f0e064",
   "metadata": {},
   "outputs": [
    {
     "data": {
      "text/html": [
       "<div>\n",
       "<style scoped>\n",
       "    .dataframe tbody tr th:only-of-type {\n",
       "        vertical-align: middle;\n",
       "    }\n",
       "\n",
       "    .dataframe tbody tr th {\n",
       "        vertical-align: top;\n",
       "    }\n",
       "\n",
       "    .dataframe thead th {\n",
       "        text-align: right;\n",
       "    }\n",
       "</style>\n",
       "<table border=\"1\" class=\"dataframe\">\n",
       "  <thead>\n",
       "    <tr style=\"text-align: right;\">\n",
       "      <th></th>\n",
       "      <th>spectrum_id</th>\n",
       "      <th>rank</th>\n",
       "      <th>run</th>\n",
       "      <th>source</th>\n",
       "      <th>rescoring_features</th>\n",
       "      <th>Casanovo_score</th>\n",
       "    </tr>\n",
       "  </thead>\n",
       "  <tbody>\n",
       "    <tr>\n",
       "      <th>0</th>\n",
       "      <td>controllerType=0 controllerNumber=1 scan=60355</td>\n",
       "      <td>1</td>\n",
       "      <td>LFQ_Orbitrap_DDA_QC_01.casanovo.mztab</td>\n",
       "      <td>Casanovo4.2.0</td>\n",
       "      <td>{'abs_diff_Q1': 0.00012205832172185183, 'abs_d...</td>\n",
       "      <td>0.946581</td>\n",
       "    </tr>\n",
       "    <tr>\n",
       "      <th>1</th>\n",
       "      <td>controllerType=0 controllerNumber=1 scan=60355</td>\n",
       "      <td>2</td>\n",
       "      <td>LFQ_Orbitrap_DDA_QC_01.casanovo.mztab</td>\n",
       "      <td>Casanovo4.2.0</td>\n",
       "      <td>{'abs_diff_Q1': 0.00014677498256787658, 'abs_d...</td>\n",
       "      <td>0.931852</td>\n",
       "    </tr>\n",
       "    <tr>\n",
       "      <th>2</th>\n",
       "      <td>controllerType=0 controllerNumber=1 scan=60355</td>\n",
       "      <td>3</td>\n",
       "      <td>LFQ_Orbitrap_DDA_QC_01.casanovo.mztab</td>\n",
       "      <td>Casanovo4.2.0</td>\n",
       "      <td>{'abs_diff_Q1': 0.00010206006118096411, 'abs_d...</td>\n",
       "      <td>0.910791</td>\n",
       "    </tr>\n",
       "    <tr>\n",
       "      <th>3</th>\n",
       "      <td>controllerType=0 controllerNumber=1 scan=60355</td>\n",
       "      <td>4</td>\n",
       "      <td>LFQ_Orbitrap_DDA_QC_01.casanovo.mztab</td>\n",
       "      <td>Casanovo4.2.0</td>\n",
       "      <td>{'abs_diff_Q1': 0.00010005271178670228, 'abs_d...</td>\n",
       "      <td>0.894044</td>\n",
       "    </tr>\n",
       "    <tr>\n",
       "      <th>4</th>\n",
       "      <td>controllerType=0 controllerNumber=1 scan=60355</td>\n",
       "      <td>5</td>\n",
       "      <td>LFQ_Orbitrap_DDA_QC_01.casanovo.mztab</td>\n",
       "      <td>Casanovo4.2.0</td>\n",
       "      <td>{'abs_diff_Q1': 9.21785831451416e-05, 'abs_dif...</td>\n",
       "      <td>0.891319</td>\n",
       "    </tr>\n",
       "    <tr>\n",
       "      <th>...</th>\n",
       "      <td>...</td>\n",
       "      <td>...</td>\n",
       "      <td>...</td>\n",
       "      <td>...</td>\n",
       "      <td>...</td>\n",
       "      <td>...</td>\n",
       "    </tr>\n",
       "    <tr>\n",
       "      <th>352215</th>\n",
       "      <td>controllerType=0 controllerNumber=1 scan=69011</td>\n",
       "      <td>6</td>\n",
       "      <td>LFQ_Orbitrap_DDA_QC_01.casanovo.mztab</td>\n",
       "      <td>Casanovo4.2.0</td>\n",
       "      <td>{'abs_diff_Q1': 0.00018163214554078877, 'abs_d...</td>\n",
       "      <td>0.874042</td>\n",
       "    </tr>\n",
       "    <tr>\n",
       "      <th>352216</th>\n",
       "      <td>controllerType=0 controllerNumber=1 scan=69011</td>\n",
       "      <td>7</td>\n",
       "      <td>LFQ_Orbitrap_DDA_QC_01.casanovo.mztab</td>\n",
       "      <td>Casanovo4.2.0</td>\n",
       "      <td>{'abs_diff_Q1': 6.678988575004041e-05, 'abs_di...</td>\n",
       "      <td>0.854001</td>\n",
       "    </tr>\n",
       "    <tr>\n",
       "      <th>352217</th>\n",
       "      <td>controllerType=0 controllerNumber=1 scan=69011</td>\n",
       "      <td>8</td>\n",
       "      <td>LFQ_Orbitrap_DDA_QC_01.casanovo.mztab</td>\n",
       "      <td>Casanovo4.2.0</td>\n",
       "      <td>{'abs_diff_Q1': 6.678988575004041e-05, 'abs_di...</td>\n",
       "      <td>0.853452</td>\n",
       "    </tr>\n",
       "    <tr>\n",
       "      <th>352218</th>\n",
       "      <td>controllerType=0 controllerNumber=1 scan=69011</td>\n",
       "      <td>9</td>\n",
       "      <td>LFQ_Orbitrap_DDA_QC_01.casanovo.mztab</td>\n",
       "      <td>Casanovo4.2.0</td>\n",
       "      <td>{'abs_diff_Q1': 6.678988575004041e-05, 'abs_di...</td>\n",
       "      <td>0.847426</td>\n",
       "    </tr>\n",
       "    <tr>\n",
       "      <th>352219</th>\n",
       "      <td>controllerType=0 controllerNumber=1 scan=69011</td>\n",
       "      <td>10</td>\n",
       "      <td>LFQ_Orbitrap_DDA_QC_01.casanovo.mztab</td>\n",
       "      <td>Casanovo4.2.0</td>\n",
       "      <td>{'abs_diff_Q1': 8.685997454449534e-05, 'abs_di...</td>\n",
       "      <td>-0.094098</td>\n",
       "    </tr>\n",
       "  </tbody>\n",
       "</table>\n",
       "<p>352220 rows × 6 columns</p>\n",
       "</div>"
      ],
      "text/plain": [
       "                                           spectrum_id  rank  \\\n",
       "0       controllerType=0 controllerNumber=1 scan=60355     1   \n",
       "1       controllerType=0 controllerNumber=1 scan=60355     2   \n",
       "2       controllerType=0 controllerNumber=1 scan=60355     3   \n",
       "3       controllerType=0 controllerNumber=1 scan=60355     4   \n",
       "4       controllerType=0 controllerNumber=1 scan=60355     5   \n",
       "...                                                ...   ...   \n",
       "352215  controllerType=0 controllerNumber=1 scan=69011     6   \n",
       "352216  controllerType=0 controllerNumber=1 scan=69011     7   \n",
       "352217  controllerType=0 controllerNumber=1 scan=69011     8   \n",
       "352218  controllerType=0 controllerNumber=1 scan=69011     9   \n",
       "352219  controllerType=0 controllerNumber=1 scan=69011    10   \n",
       "\n",
       "                                          run         source  \\\n",
       "0       LFQ_Orbitrap_DDA_QC_01.casanovo.mztab  Casanovo4.2.0   \n",
       "1       LFQ_Orbitrap_DDA_QC_01.casanovo.mztab  Casanovo4.2.0   \n",
       "2       LFQ_Orbitrap_DDA_QC_01.casanovo.mztab  Casanovo4.2.0   \n",
       "3       LFQ_Orbitrap_DDA_QC_01.casanovo.mztab  Casanovo4.2.0   \n",
       "4       LFQ_Orbitrap_DDA_QC_01.casanovo.mztab  Casanovo4.2.0   \n",
       "...                                       ...            ...   \n",
       "352215  LFQ_Orbitrap_DDA_QC_01.casanovo.mztab  Casanovo4.2.0   \n",
       "352216  LFQ_Orbitrap_DDA_QC_01.casanovo.mztab  Casanovo4.2.0   \n",
       "352217  LFQ_Orbitrap_DDA_QC_01.casanovo.mztab  Casanovo4.2.0   \n",
       "352218  LFQ_Orbitrap_DDA_QC_01.casanovo.mztab  Casanovo4.2.0   \n",
       "352219  LFQ_Orbitrap_DDA_QC_01.casanovo.mztab  Casanovo4.2.0   \n",
       "\n",
       "                                       rescoring_features  Casanovo_score  \n",
       "0       {'abs_diff_Q1': 0.00012205832172185183, 'abs_d...        0.946581  \n",
       "1       {'abs_diff_Q1': 0.00014677498256787658, 'abs_d...        0.931852  \n",
       "2       {'abs_diff_Q1': 0.00010206006118096411, 'abs_d...        0.910791  \n",
       "3       {'abs_diff_Q1': 0.00010005271178670228, 'abs_d...        0.894044  \n",
       "4       {'abs_diff_Q1': 9.21785831451416e-05, 'abs_dif...        0.891319  \n",
       "...                                                   ...             ...  \n",
       "352215  {'abs_diff_Q1': 0.00018163214554078877, 'abs_d...        0.874042  \n",
       "352216  {'abs_diff_Q1': 6.678988575004041e-05, 'abs_di...        0.854001  \n",
       "352217  {'abs_diff_Q1': 6.678988575004041e-05, 'abs_di...        0.853452  \n",
       "352218  {'abs_diff_Q1': 6.678988575004041e-05, 'abs_di...        0.847426  \n",
       "352219  {'abs_diff_Q1': 8.685997454449534e-05, 'abs_di...       -0.094098  \n",
       "\n",
       "[352220 rows x 6 columns]"
      ]
     },
     "execution_count": 28,
     "metadata": {},
     "output_type": "execute_result"
    }
   ],
   "source": [
    "# Add the scores to the feature_dict\n",
    "\n",
    "casanovo_features_merged = casanovo_features.merge(score_df_casanovo_candidates)\n",
    "_ = casanovo_features_merged.apply(\n",
    "    lambda x: add_score_to_rescoring_features(\n",
    "        rescoring_dict=x['rescoring_features'],\n",
    "        score=x['Casanovo_score'],\n",
    "        score_name='Casanovo_score'\n",
    "    ),\n",
    "axis=1)"
   ]
  },
  {
   "cell_type": "code",
   "execution_count": 27,
   "id": "6d24cfe8",
   "metadata": {},
   "outputs": [
    {
     "data": {
      "text/html": [
       "<div>\n",
       "<style scoped>\n",
       "    .dataframe tbody tr th:only-of-type {\n",
       "        vertical-align: middle;\n",
       "    }\n",
       "\n",
       "    .dataframe tbody tr th {\n",
       "        vertical-align: top;\n",
       "    }\n",
       "\n",
       "    .dataframe thead th {\n",
       "        text-align: right;\n",
       "    }\n",
       "</style>\n",
       "<table border=\"1\" class=\"dataframe\">\n",
       "  <thead>\n",
       "    <tr style=\"text-align: right;\">\n",
       "      <th></th>\n",
       "      <th>Casanovo_score</th>\n",
       "      <th>spectrum_id</th>\n",
       "      <th>rank</th>\n",
       "    </tr>\n",
       "  </thead>\n",
       "  <tbody>\n",
       "    <tr>\n",
       "      <th>0</th>\n",
       "      <td>0.946581</td>\n",
       "      <td>controllerType=0 controllerNumber=1 scan=60355</td>\n",
       "      <td>1</td>\n",
       "    </tr>\n",
       "    <tr>\n",
       "      <th>1</th>\n",
       "      <td>0.931852</td>\n",
       "      <td>controllerType=0 controllerNumber=1 scan=60355</td>\n",
       "      <td>2</td>\n",
       "    </tr>\n",
       "    <tr>\n",
       "      <th>2</th>\n",
       "      <td>0.910791</td>\n",
       "      <td>controllerType=0 controllerNumber=1 scan=60355</td>\n",
       "      <td>3</td>\n",
       "    </tr>\n",
       "    <tr>\n",
       "      <th>3</th>\n",
       "      <td>0.894044</td>\n",
       "      <td>controllerType=0 controllerNumber=1 scan=60355</td>\n",
       "      <td>4</td>\n",
       "    </tr>\n",
       "    <tr>\n",
       "      <th>4</th>\n",
       "      <td>0.891319</td>\n",
       "      <td>controllerType=0 controllerNumber=1 scan=60355</td>\n",
       "      <td>5</td>\n",
       "    </tr>\n",
       "  </tbody>\n",
       "</table>\n",
       "</div>"
      ],
      "text/plain": [
       "   Casanovo_score                                     spectrum_id  rank\n",
       "0        0.946581  controllerType=0 controllerNumber=1 scan=60355     1\n",
       "1        0.931852  controllerType=0 controllerNumber=1 scan=60355     2\n",
       "2        0.910791  controllerType=0 controllerNumber=1 scan=60355     3\n",
       "3        0.894044  controllerType=0 controllerNumber=1 scan=60355     4\n",
       "4        0.891319  controllerType=0 controllerNumber=1 scan=60355     5"
      ]
     },
     "execution_count": 27,
     "metadata": {},
     "output_type": "execute_result"
    }
   ],
   "source": [
    "score_df_casanovo_candidates.head()"
   ]
  },
  {
   "cell_type": "markdown",
   "id": "1a917921",
   "metadata": {},
   "source": [
    "Add Spectralis scores"
   ]
  },
  {
   "cell_type": "code",
   "execution_count": 35,
   "id": "6705adac",
   "metadata": {},
   "outputs": [
    {
     "name": "stderr",
     "output_type": "stream",
     "text": [
      "Loading Spectralis results: 100%|██████████| 10/10 [00:03<00:00,  3.03it/s]\n",
      "Loading Spectralis results: 100%|██████████| 1/1 [00:00<00:00,  2.82it/s]\n"
     ]
    }
   ],
   "source": [
    "spectralis_scores_candidates = load_spectralis_rescoring(\n",
    "    root_path='/public/compomics3/Sam/PXD028735/QExactive/postprocessing_beams/spectralis/casanovo',\n",
    "    filename='LFQ_Orbitrap_DDA_QC_01'\n",
    ")\n",
    "\n",
    "spectralis_scores_gt = load_spectralis_rescoring(\n",
    "    root_path='/public/compomics3/Sam/PXD028735/QExactive/postprocessing_beams/spectralis/parquet',\n",
    "    filename='LFQ_Orbitrap_DDA_QC_01'\n",
    ")\n",
    "\n",
    "spectralis_scores_candidates = spectralis_scores_candidates.rename(columns={'title': 'spectrum_id'})[['Spectralis_score', 'spectrum_id', 'rank']]\n",
    "spectralis_scores_gt = spectralis_scores_gt.rename(columns={'title': 'spectrum_id'})[['Spectralis_score', 'spectrum_id', 'rank']]"
   ]
  },
  {
   "cell_type": "code",
   "execution_count": 39,
   "id": "97da3f84",
   "metadata": {},
   "outputs": [],
   "source": [
    "casanovo_merged = casanovo_features.merge(score_df_casanovo_candidates).merge(spectralis_scores_candidates)\n",
    "gt_merged = gt_features.merge(score_df_casanovo_gt).merge(spectralis_scores_gt)"
   ]
  },
  {
   "cell_type": "code",
   "execution_count": 41,
   "id": "928b933c",
   "metadata": {},
   "outputs": [],
   "source": [
    "# Add to the casanovo psmlist features\n",
    "### Add Casanovo score\n",
    "_ = casanovo_merged.apply(\n",
    "    lambda x: add_score_to_rescoring_features(\n",
    "        rescoring_dict=x['rescoring_features'],\n",
    "        score=x['Casanovo_score'],\n",
    "        score_name='Casanovo_score'\n",
    "    ),\n",
    "    axis=1\n",
    ")\n",
    "### Add Spectralis score\n",
    "_ = casanovo_merged.apply(\n",
    "    lambda x: add_score_to_rescoring_features(\n",
    "        rescoring_dict=x['rescoring_features'],\n",
    "        score=x['Spectralis_score'],\n",
    "        score_name='Spectralis_score'\n",
    "    ),\n",
    "    axis=1\n",
    ")\n",
    "\n",
    "# Add to the ground-truth psmlist features\n",
    "### Add Casanovo score\n",
    "_ = gt_merged.apply(\n",
    "    lambda x: add_score_to_rescoring_features(\n",
    "        rescoring_dict=x['rescoring_features'],\n",
    "        score=x['Casanovo_score'],\n",
    "        score_name='Casanovo_score'\n",
    "    ),\n",
    "    axis=1\n",
    ")\n",
    "### Add Spectralis score\n",
    "_ = gt_merged.apply(\n",
    "    lambda x: add_score_to_rescoring_features(\n",
    "        rescoring_dict=x['rescoring_features'],\n",
    "        score=x['Spectralis_score'],\n",
    "        score_name='Spectralis_score'\n",
    "    ),\n",
    "    axis=1\n",
    ")"
   ]
  },
  {
   "cell_type": "markdown",
   "id": "7c425135",
   "metadata": {},
   "source": [
    "### Store the new feature sets\n",
    "\n",
    "Due to Python's variable reference system, the dictionary in the original dataframes now already hold the scores"
   ]
  },
  {
   "cell_type": "code",
   "execution_count": 51,
   "id": "494b68d7",
   "metadata": {},
   "outputs": [],
   "source": [
    "gt_features.to_parquet('/public/compomics3/Sam/PXD028735/QExactive/rescoring_beams/LFQ_Orbitrap_DDA_QC_01/features/ground_truth.parquet')\n",
    "casanovo_features.to_parquet('/public/compomics3/Sam/PXD028735/QExactive/rescoring_beams/LFQ_Orbitrap_DDA_QC_01/features/casanovo.parquet')"
   ]
  },
  {
   "cell_type": "markdown",
   "id": "aa4d516d",
   "metadata": {},
   "source": [
    "## 2. Fit the mokapot models on the ground-truth using different feature sets"
   ]
  },
  {
   "cell_type": "code",
   "execution_count": 3,
   "id": "bdee884a",
   "metadata": {},
   "outputs": [],
   "source": [
    "from denovo_utils.io.read import load_psmlist_and_features\n",
    "from denovo_utils.rescoring import DeNovoRescorer"
   ]
  },
  {
   "cell_type": "code",
   "execution_count": 4,
   "id": "b3c384ef",
   "metadata": {},
   "outputs": [
    {
     "name": "stderr",
     "output_type": "stream",
     "text": [
      "Loading results from casanovo.parquet: 100%|██████████| 603540/603540 [01:34<00:00, 6384.28it/s]\n"
     ]
    }
   ],
   "source": [
    "root_psmlist = '/public/compomics3/Sam/PXD028735/QExactive/rescoring_beams/LFQ_Orbitrap_DDA_QC_01/psmlist'\n",
    "root_features = '/public/compomics3/Sam/PXD028735/QExactive/rescoring_beams/LFQ_Orbitrap_DDA_QC_01/features'\n",
    "\n",
    "# gt_psmlist = load_psmlist_and_features(\n",
    "#     psm_path=os.path.join(root_psmlist, 'ground_truth.parquet'),\n",
    "#     feature_path=os.path.join(root_features, 'ground_truth.parquet')\n",
    "# )\n",
    "\n",
    "casanovo_candidates_psmlist = load_psmlist_and_features(\n",
    "    psm_path=os.path.join(root_psmlist, 'casanovo.parquet'),\n",
    "    feature_path=os.path.join(root_features, 'casanovo.parquet')\n",
    ")"
   ]
  },
  {
   "cell_type": "code",
   "execution_count": 5,
   "id": "431e9f18",
   "metadata": {},
   "outputs": [],
   "source": [
    "from ms2rescore.feature_generators import MS2PIPFeatureGenerator, DeepLCFeatureGenerator\n",
    "\n",
    "basic_features = ['charge_n', 'abs_ms1_error_ppm', 'hyperscore', 'missing_frag_count', 'missing_frag_pct']\n",
    "ms2pip_features = MS2PIPFeatureGenerator(processes=1).feature_names\n",
    "deeplc_features = DeepLCFeatureGenerator().feature_names\n",
    "casanovo_feature = ['Casanovo_score']\n",
    "spectralis_feature = ['Spectralis_score']\n",
    "\n",
    "feature_names = {\n",
    "    'Basic': basic_features,\n",
    "    'MS2PIP': ms2pip_features,\n",
    "    'DeepLC': deeplc_features,\n",
    "    'Casanovo': casanovo_feature,\n",
    "    'Spectralis': spectralis_feature\n",
    "}"
   ]
  },
  {
   "cell_type": "code",
   "execution_count": 6,
   "id": "26bbab4c",
   "metadata": {},
   "outputs": [],
   "source": [
    "# Create feature configurations\n",
    "import json\n",
    "from itertools import chain\n",
    "import copy\n",
    "with open('/home/sam/Work_directory/DeNovo_Benchmark/configs/ms2rescore/config_default.json', 'r') as f:\n",
    "    config = json.load(f)\n",
    "\n",
    "config_1 = copy.deepcopy(config) # MS2Rescore base\n",
    "config_1['ms2rescore']['rescoring_features'] = feature_names['Basic'] + feature_names['MS2PIP'] + feature_names['DeepLC']\n",
    "\n",
    "config_2 = copy.deepcopy(config) # MS2Rescore + Casanovo score\n",
    "config_2['ms2rescore']['rescoring_features'] = feature_names['Basic'] + feature_names['MS2PIP'] + feature_names['DeepLC'] + feature_names['Casanovo']\n",
    "\n",
    "config_3 = copy.deepcopy(config) # MS2Rescore + Spectralis score\n",
    "config_3['ms2rescore']['rescoring_features'] = feature_names['Basic'] + feature_names['MS2PIP'] + feature_names['DeepLC'] + feature_names['Spectralis']\n",
    "\n",
    "config_4 = copy.deepcopy(config) # MS2Rescore + Casanovo score + Spectralis score\n",
    "config_4['ms2rescore']['rescoring_features'] = feature_names['Basic'] + feature_names['MS2PIP'] + feature_names['DeepLC'] + feature_names['Casanovo'] + feature_names['Spectralis']\n"
   ]
  },
  {
   "cell_type": "code",
   "execution_count": 7,
   "id": "023a24b3",
   "metadata": {},
   "outputs": [],
   "source": [
    "drs_1 = DeNovoRescorer(\n",
    "    configuration=config_1\n",
    ")\n",
    "\n",
    "drs_2 = DeNovoRescorer(\n",
    "    configuration=config_2\n",
    ")\n",
    "\n",
    "drs_3 = DeNovoRescorer(\n",
    "    configuration=config_3\n",
    ")\n",
    "\n",
    "drs_4 = DeNovoRescorer(\n",
    "    configuration=config_4\n",
    ")"
   ]
  },
  {
   "cell_type": "code",
   "execution_count": null,
   "id": "bc49abcb",
   "metadata": {},
   "outputs": [],
   "source": [
    "# Uncomment for training new mokapot models\n",
    "# drs_1.train_mokapot_models(\n",
    "#     psm_list=gt_psmlist,\n",
    "#     save_folder='/public/compomics3/Sam/PXD028735/QExactive/rescoring_beams/LFQ_Orbitrap_DDA_QC_01/mokapot_diff_features/set_1'\n",
    "# )\n",
    "# drs_2.train_mokapot_models(\n",
    "#     psm_list=gt_psmlist,\n",
    "#     save_folder='/public/compomics3/Sam/PXD028735/QExactive/rescoring_beams/LFQ_Orbitrap_DDA_QC_01/mokapot_diff_features/set_2'\n",
    "# )\n",
    "# drs_3.train_mokapot_models(\n",
    "#     psm_list=gt_psmlist,\n",
    "#     save_folder='/public/compomics3/Sam/PXD028735/QExactive/rescoring_beams/LFQ_Orbitrap_DDA_QC_01/mokapot_diff_features/set_3'\n",
    "# )\n",
    "# drs_4.train_mokapot_models(\n",
    "#     psm_list=gt_psmlist,\n",
    "#     save_folder='/public/compomics3/Sam/PXD028735/QExactive/rescoring_beams/LFQ_Orbitrap_DDA_QC_01/mokapot_diff_features/set_4'\n",
    "# )"
   ]
  },
  {
   "cell_type": "code",
   "execution_count": 8,
   "id": "9a68859f",
   "metadata": {},
   "outputs": [],
   "source": [
    "drs_1.load(\n",
    "    calibration_folder='/public/compomics3/Sam/PXD028735/QExactive/rescoring_beams/LFQ_Orbitrap_DDA_QC_01/calibration',\n",
    "    mokapot_folder='/public/compomics3/Sam/PXD028735/QExactive/rescoring_beams/LFQ_Orbitrap_DDA_QC_01/mokapot_diff_features/set_1'\n",
    ")\n",
    "drs_2.load(\n",
    "    calibration_folder='/public/compomics3/Sam/PXD028735/QExactive/rescoring_beams/LFQ_Orbitrap_DDA_QC_01/calibration',\n",
    "    mokapot_folder='/public/compomics3/Sam/PXD028735/QExactive/rescoring_beams/LFQ_Orbitrap_DDA_QC_01/mokapot_diff_features/set_2'\n",
    ")\n",
    "drs_3.load(\n",
    "    calibration_folder='/public/compomics3/Sam/PXD028735/QExactive/rescoring_beams/LFQ_Orbitrap_DDA_QC_01/calibration',\n",
    "    mokapot_folder='/public/compomics3/Sam/PXD028735/QExactive/rescoring_beams/LFQ_Orbitrap_DDA_QC_01/mokapot_diff_features/set_3'\n",
    ")\n",
    "drs_4.load(\n",
    "    calibration_folder='/public/compomics3/Sam/PXD028735/QExactive/rescoring_beams/LFQ_Orbitrap_DDA_QC_01/calibration',\n",
    "    mokapot_folder='/public/compomics3/Sam/PXD028735/QExactive/rescoring_beams/LFQ_Orbitrap_DDA_QC_01/mokapot_diff_features/set_4'\n",
    ")"
   ]
  },
  {
   "cell_type": "markdown",
   "id": "073d58d5",
   "metadata": {},
   "source": [
    "## 3. Infer new PSM-scores"
   ]
  },
  {
   "cell_type": "markdown",
   "id": "9212bf1f",
   "metadata": {},
   "source": [
    "### 1. Default MS2Rescore"
   ]
  },
  {
   "cell_type": "markdown",
   "id": "2c70f1e1",
   "metadata": {},
   "source": [
    "GT"
   ]
  },
  {
   "cell_type": "code",
   "execution_count": null,
   "id": "73a4d0e6",
   "metadata": {},
   "outputs": [],
   "source": [
    "drs_1.rescore(\n",
    "    psm_list=gt_psmlist,\n",
    "    denovo=False\n",
    ")\n",
    "gt_scores = {\n",
    "    'spectrum_id': gt_psmlist['spectrum_id'],\n",
    "    'score_default_ms2rescore': gt_psmlist['score'],\n",
    "    'qvalue_default_ms2rescore': gt_psmlist['qvalue'],\n",
    "}"
   ]
  },
  {
   "cell_type": "markdown",
   "id": "9af903f8",
   "metadata": {},
   "source": [
    "DN"
   ]
  },
  {
   "cell_type": "code",
   "execution_count": 11,
   "id": "67be23a2",
   "metadata": {},
   "outputs": [],
   "source": [
    "drs_1.rescore(\n",
    "    psm_list=casanovo_candidates_psmlist,\n",
    "    denovo=True\n",
    ")\n",
    "casanovo_candidate_scores = {\n",
    "    'spectrum_id': casanovo_candidates_psmlist['spectrum_id'],\n",
    "    'rank': casanovo_candidates_psmlist['rank'],\n",
    "    'score_default_ms2rescore': [psm['score_ms2rescore'] for psm in casanovo_candidates_psmlist['provenance_data']]\n",
    "}"
   ]
  },
  {
   "cell_type": "markdown",
   "id": "66771ac3",
   "metadata": {},
   "source": [
    "### 2. Default MS2Rescore + casanovo"
   ]
  },
  {
   "cell_type": "code",
   "execution_count": null,
   "id": "2efad1c9",
   "metadata": {},
   "outputs": [],
   "source": [
    "drs_2.rescore(\n",
    "    psm_list=gt_psmlist,\n",
    "    denovo=False\n",
    ")\n",
    "gt_scores['score_ms2rescore_casanovo'] = gt_psmlist['score']\n",
    "gt_scores['qvalue_ms2rescore_casanovo'] = gt_psmlist['qvalue']"
   ]
  },
  {
   "cell_type": "code",
   "execution_count": 12,
   "id": "ddca06d7",
   "metadata": {},
   "outputs": [],
   "source": [
    "drs_2.rescore(\n",
    "    psm_list=casanovo_candidates_psmlist,\n",
    "    denovo=True\n",
    ")\n",
    "casanovo_candidate_scores['score_ms2rescore_casanovo'] = [psm['score_ms2rescore'] for psm in casanovo_candidates_psmlist['provenance_data']]"
   ]
  },
  {
   "cell_type": "markdown",
   "id": "70d417cc",
   "metadata": {},
   "source": [
    "### 3. Default MS2Rescore + spectralis"
   ]
  },
  {
   "cell_type": "code",
   "execution_count": null,
   "id": "d501cab1",
   "metadata": {},
   "outputs": [],
   "source": [
    "drs_3.rescore(\n",
    "    psm_list=gt_psmlist,\n",
    "    denovo=False\n",
    ")\n",
    "gt_scores['score_ms2rescore_spectralis'] = gt_psmlist['score']\n",
    "gt_scores['qvalue_ms2rescore_spectralis'] = gt_psmlist['qvalue']"
   ]
  },
  {
   "cell_type": "code",
   "execution_count": 13,
   "id": "66736759",
   "metadata": {},
   "outputs": [],
   "source": [
    "drs_3.rescore(\n",
    "    psm_list=casanovo_candidates_psmlist,\n",
    "    denovo=True\n",
    ")\n",
    "casanovo_candidate_scores['score_ms2rescore_spectralis'] = [psm['score_ms2rescore'] for psm in casanovo_candidates_psmlist['provenance_data']]"
   ]
  },
  {
   "cell_type": "markdown",
   "id": "ed5d9493",
   "metadata": {},
   "source": [
    "### 4. Default MS2Rescore + casanovo + spectralis"
   ]
  },
  {
   "cell_type": "code",
   "execution_count": null,
   "id": "5a6d995d",
   "metadata": {},
   "outputs": [],
   "source": [
    "drs_4.rescore(\n",
    "    psm_list=gt_psmlist,\n",
    "    denovo=False\n",
    ")\n",
    "gt_scores['score_ms2rescore_casanovo_spectralis'] = gt_psmlist['score']\n",
    "gt_scores['qvalue_ms2rescore_casanovo_spectralis'] = gt_psmlist['qvalue']"
   ]
  },
  {
   "cell_type": "code",
   "execution_count": 14,
   "id": "3718d616",
   "metadata": {},
   "outputs": [],
   "source": [
    "drs_4.rescore(\n",
    "    psm_list=casanovo_candidates_psmlist,\n",
    "    denovo=True\n",
    ")\n",
    "casanovo_candidate_scores['score_ms2rescore_casanovo_spectralis'] = [psm['score_ms2rescore'] for psm in casanovo_candidates_psmlist['provenance_data']]"
   ]
  },
  {
   "cell_type": "markdown",
   "id": "9983d681",
   "metadata": {},
   "source": [
    "## 4. Store the new scores"
   ]
  },
  {
   "cell_type": "markdown",
   "id": "575d5504",
   "metadata": {},
   "source": [
    "GT"
   ]
  },
  {
   "cell_type": "code",
   "execution_count": null,
   "id": "54c473ec",
   "metadata": {},
   "outputs": [],
   "source": [
    "gt_scores_df = pd.DataFrame(gt_scores)\n",
    "gt_scores_df.head()"
   ]
  },
  {
   "cell_type": "code",
   "execution_count": null,
   "id": "a60601a2",
   "metadata": {},
   "outputs": [],
   "source": [
    "gt_scores_df.to_csv('/public/compomics3/Sam/PXD028735/QExactive/rescoring_beams/LFQ_Orbitrap_DDA_QC_01/mokapot_diff_features/gt_scores.csv')"
   ]
  },
  {
   "cell_type": "markdown",
   "id": "e792f833",
   "metadata": {},
   "source": [
    "DN"
   ]
  },
  {
   "cell_type": "code",
   "execution_count": 16,
   "id": "2ebc3baf",
   "metadata": {},
   "outputs": [
    {
     "data": {
      "text/html": [
       "<div>\n",
       "<style scoped>\n",
       "    .dataframe tbody tr th:only-of-type {\n",
       "        vertical-align: middle;\n",
       "    }\n",
       "\n",
       "    .dataframe tbody tr th {\n",
       "        vertical-align: top;\n",
       "    }\n",
       "\n",
       "    .dataframe thead th {\n",
       "        text-align: right;\n",
       "    }\n",
       "</style>\n",
       "<table border=\"1\" class=\"dataframe\">\n",
       "  <thead>\n",
       "    <tr style=\"text-align: right;\">\n",
       "      <th></th>\n",
       "      <th>spectrum_id</th>\n",
       "      <th>rank</th>\n",
       "      <th>score_default_ms2rescore</th>\n",
       "      <th>score_ms2rescore_casanovo</th>\n",
       "      <th>score_ms2rescore_spectralis</th>\n",
       "      <th>score_ms2rescore_casanovo_spectralis</th>\n",
       "    </tr>\n",
       "  </thead>\n",
       "  <tbody>\n",
       "    <tr>\n",
       "      <th>0</th>\n",
       "      <td>controllerType=0 controllerNumber=1 scan=85772</td>\n",
       "      <td>9</td>\n",
       "      <td>-5.747831354480842</td>\n",
       "      <td>-6.687954731151834</td>\n",
       "      <td>-4.566314359383816</td>\n",
       "      <td>-5.844445427075684</td>\n",
       "    </tr>\n",
       "    <tr>\n",
       "      <th>1</th>\n",
       "      <td>controllerType=0 controllerNumber=1 scan=85772</td>\n",
       "      <td>10</td>\n",
       "      <td>-3.5988727313392403</td>\n",
       "      <td>-4.9049399783889935</td>\n",
       "      <td>-1.8678534365287085</td>\n",
       "      <td>-3.856544573096335</td>\n",
       "    </tr>\n",
       "    <tr>\n",
       "      <th>2</th>\n",
       "      <td>controllerType=0 controllerNumber=1 scan=85777</td>\n",
       "      <td>1</td>\n",
       "      <td>0.531288204684553</td>\n",
       "      <td>1.115642393250696</td>\n",
       "      <td>-0.14437404238008633</td>\n",
       "      <td>0.7836772717817256</td>\n",
       "    </tr>\n",
       "    <tr>\n",
       "      <th>3</th>\n",
       "      <td>controllerType=0 controllerNumber=1 scan=85777</td>\n",
       "      <td>2</td>\n",
       "      <td>-3.9298953587831242</td>\n",
       "      <td>-1.2169392941209356</td>\n",
       "      <td>-3.755555045806032</td>\n",
       "      <td>-1.4434435959617284</td>\n",
       "    </tr>\n",
       "    <tr>\n",
       "      <th>4</th>\n",
       "      <td>controllerType=0 controllerNumber=1 scan=85777</td>\n",
       "      <td>3</td>\n",
       "      <td>-4.859790207677895</td>\n",
       "      <td>-1.922022282406129</td>\n",
       "      <td>-4.481325221727156</td>\n",
       "      <td>-2.185056073914155</td>\n",
       "    </tr>\n",
       "  </tbody>\n",
       "</table>\n",
       "</div>"
      ],
      "text/plain": [
       "                                      spectrum_id  rank  \\\n",
       "0  controllerType=0 controllerNumber=1 scan=85772     9   \n",
       "1  controllerType=0 controllerNumber=1 scan=85772    10   \n",
       "2  controllerType=0 controllerNumber=1 scan=85777     1   \n",
       "3  controllerType=0 controllerNumber=1 scan=85777     2   \n",
       "4  controllerType=0 controllerNumber=1 scan=85777     3   \n",
       "\n",
       "  score_default_ms2rescore score_ms2rescore_casanovo  \\\n",
       "0       -5.747831354480842        -6.687954731151834   \n",
       "1      -3.5988727313392403       -4.9049399783889935   \n",
       "2        0.531288204684553         1.115642393250696   \n",
       "3      -3.9298953587831242       -1.2169392941209356   \n",
       "4       -4.859790207677895        -1.922022282406129   \n",
       "\n",
       "  score_ms2rescore_spectralis score_ms2rescore_casanovo_spectralis  \n",
       "0          -4.566314359383816                   -5.844445427075684  \n",
       "1         -1.8678534365287085                   -3.856544573096335  \n",
       "2        -0.14437404238008633                   0.7836772717817256  \n",
       "3          -3.755555045806032                  -1.4434435959617284  \n",
       "4          -4.481325221727156                   -2.185056073914155  "
      ]
     },
     "execution_count": 16,
     "metadata": {},
     "output_type": "execute_result"
    }
   ],
   "source": [
    "casanovo_candidate_scores_df = pd.DataFrame(casanovo_candidate_scores)\n",
    "casanovo_candidate_scores_df.head()"
   ]
  },
  {
   "cell_type": "code",
   "execution_count": 21,
   "id": "311c2fc0",
   "metadata": {},
   "outputs": [
    {
     "data": {
      "text/plain": [
       "(603540, 6)"
      ]
     },
     "execution_count": 21,
     "metadata": {},
     "output_type": "execute_result"
    }
   ],
   "source": [
    "casanovo_candidate_scores_df.shape"
   ]
  },
  {
   "cell_type": "code",
   "execution_count": 22,
   "id": "6725f1e2",
   "metadata": {},
   "outputs": [],
   "source": [
    "casanovo_candidate_scores_df.to_csv(\n",
    "    '/public/compomics3/Sam/PXD028735/QExactive/rescoring_beams/LFQ_Orbitrap_DDA_QC_01/mokapot_diff_features/casanovo_candidate_scores.csv',\n",
    "    index=False\n",
    ")"
   ]
  },
  {
   "cell_type": "markdown",
   "id": "258ac061",
   "metadata": {},
   "source": [
    "# 5. Check the influence on database results"
   ]
  },
  {
   "cell_type": "code",
   "execution_count": 172,
   "id": "e587e17e",
   "metadata": {},
   "outputs": [],
   "source": [
    "gt_scores['is_decoy'] = gt_psmlist['is_decoy']"
   ]
  },
  {
   "cell_type": "code",
   "execution_count": 173,
   "id": "c3a5555c",
   "metadata": {},
   "outputs": [],
   "source": [
    "gt_scores_df = pd.DataFrame(gt_scores)"
   ]
  },
  {
   "cell_type": "code",
   "execution_count": 174,
   "id": "57fad4d4",
   "metadata": {},
   "outputs": [
    {
     "data": {
      "text/plain": [
       "Index(['spectrum_id', 'score_default_ms2rescore', 'qvalue_default_ms2rescore',\n",
       "       'score_ms2rescore_casanovo', 'qvalue_ms2rescore_casanovo',\n",
       "       'score_ms2rescore_spectralis', 'qvalue_ms2rescore_spectralis',\n",
       "       'score_ms2rescore_casanovo_spectralis',\n",
       "       'qvalue_ms2rescore_casanovo_spectralis', 'is_decoy'],\n",
       "      dtype='object')"
      ]
     },
     "execution_count": 174,
     "metadata": {},
     "output_type": "execute_result"
    }
   ],
   "source": [
    "gt_scores_df.columns"
   ]
  },
  {
   "cell_type": "code",
   "execution_count": 175,
   "id": "08f13150",
   "metadata": {},
   "outputs": [],
   "source": [
    "def get_psm_type(row, qvalue_column):\n",
    "    if row['is_decoy']:\n",
    "        return 'decoy'\n",
    "    if row[qvalue_column]<.01:\n",
    "        return 'accepted'\n",
    "    return 'rejected'\n",
    "\n",
    "psm_type_1 = gt_scores_df.apply(lambda x: get_psm_type(x, 'qvalue_default_ms2rescore'), axis=1).value_counts()\n",
    "psm_type_2 = gt_scores_df.apply(lambda x: get_psm_type(x, 'qvalue_ms2rescore_casanovo'), axis=1).value_counts()\n",
    "psm_type_3 = gt_scores_df.apply(lambda x: get_psm_type(x, 'qvalue_ms2rescore_spectralis'), axis=1).value_counts()\n",
    "psm_type_4 = gt_scores_df.apply(lambda x: get_psm_type(x, 'qvalue_ms2rescore_casanovo_spectralis'), axis=1).value_counts()"
   ]
  },
  {
   "cell_type": "code",
   "execution_count": 176,
   "id": "56ebaf84",
   "metadata": {},
   "outputs": [
    {
     "data": {
      "text/plain": [
       "accepted    62311\n",
       "rejected    11228\n",
       "decoy       10402\n",
       "dtype: int64"
      ]
     },
     "execution_count": 176,
     "metadata": {},
     "output_type": "execute_result"
    }
   ],
   "source": [
    "psm_type_1"
   ]
  },
  {
   "cell_type": "code",
   "execution_count": 177,
   "id": "b52eab4e",
   "metadata": {},
   "outputs": [
    {
     "data": {
      "text/plain": [
       "accepted    63322\n",
       "decoy       10402\n",
       "rejected    10217\n",
       "dtype: int64"
      ]
     },
     "execution_count": 177,
     "metadata": {},
     "output_type": "execute_result"
    }
   ],
   "source": [
    "psm_type_2"
   ]
  },
  {
   "cell_type": "code",
   "execution_count": 178,
   "id": "c875473a",
   "metadata": {},
   "outputs": [
    {
     "data": {
      "text/plain": [
       "accepted    63091\n",
       "rejected    10448\n",
       "decoy       10402\n",
       "dtype: int64"
      ]
     },
     "execution_count": 178,
     "metadata": {},
     "output_type": "execute_result"
    }
   ],
   "source": [
    "psm_type_3"
   ]
  },
  {
   "cell_type": "code",
   "execution_count": 179,
   "id": "0e6a2eb3",
   "metadata": {},
   "outputs": [
    {
     "data": {
      "text/plain": [
       "accepted    63409\n",
       "decoy       10402\n",
       "rejected    10130\n",
       "dtype: int64"
      ]
     },
     "execution_count": 179,
     "metadata": {},
     "output_type": "execute_result"
    }
   ],
   "source": [
    "psm_type_4"
   ]
  },
  {
   "cell_type": "code",
   "execution_count": 180,
   "id": "292ac41e",
   "metadata": {},
   "outputs": [],
   "source": [
    "from denovo_utils.io.read import load_mokapot, load_pickle\n",
    "\n",
    "feature_names_path = '/public/compomics3/Sam/PXD028735/QExactive/rescoring_beams/LFQ_Orbitrap_DDA_QC_01/mokapot_diff_features/set_3/feature_names.pkl'\n",
    "mokapot_model_path = '/public/compomics3/Sam/PXD028735/QExactive/rescoring_beams/LFQ_Orbitrap_DDA_QC_01/mokapot_diff_features/set_3'\n",
    "\n",
    "feature_names = load_pickle(\n",
    "    feature_names_path\n",
    ")\n",
    "feature_names = [feature_name.split(':')[1] for feature_name in feature_names]\n",
    "mokapot_models = load_mokapot(\n",
    "    mokapot_folder=mokapot_model_path\n",
    ")"
   ]
  },
  {
   "cell_type": "code",
   "execution_count": 181,
   "id": "75847bdb",
   "metadata": {},
   "outputs": [],
   "source": [
    "coefs = {}\n",
    "for i, model in enumerate(mokapot_models):\n",
    "    coefs[f'model_{i}'] = model.estimator.coef_[0]\n",
    "\n",
    "coefs['feature_names'] = feature_names"
   ]
  },
  {
   "cell_type": "code",
   "execution_count": 182,
   "id": "0af98d64",
   "metadata": {},
   "outputs": [],
   "source": [
    "import numpy as np\n",
    "coefs_df = pd.DataFrame(coefs)\n",
    "coefs_df['mean'] = coefs_df.apply(lambda x: np.mean(\n",
    "    [x['model_0'], x['model_1'], x['model_2']]\n",
    "),\n",
    "axis=1)"
   ]
  },
  {
   "cell_type": "code",
   "execution_count": 183,
   "id": "1abbcf62",
   "metadata": {},
   "outputs": [
    {
     "data": {
      "text/plain": [
       "<Axes: xlabel='mean', ylabel='feature_names'>"
      ]
     },
     "execution_count": 183,
     "metadata": {},
     "output_type": "execute_result"
    },
    {
     "data": {
      "image/png": "[encoded data removed]",
      "text/plain": [
       "<Figure size 1000x1500 with 1 Axes>"
      ]
     },
     "metadata": {},
     "output_type": "display_data"
    }
   ],
   "source": [
    "import seaborn as sns\n",
    "import matplotlib.pyplot as plt\n",
    "\n",
    "plt.figure(figsize=(10,15))\n",
    "\n",
    "sns.barplot(\n",
    "    coefs_df,\n",
    "    x='mean',\n",
    "    y='feature_names'\n",
    ")"
   ]
  },
  {
   "cell_type": "markdown",
   "id": "e5f330b2",
   "metadata": {},
   "source": [
    "---"
   ]
  },
  {
   "cell_type": "markdown",
   "id": "8c2f6461",
   "metadata": {},
   "source": [
    "# Check the sage score"
   ]
  },
  {
   "cell_type": "code",
   "execution_count": 195,
   "id": "b9b7cff8",
   "metadata": {},
   "outputs": [],
   "source": [
    "test_psm = gt_psmlist[np.isin(\n",
    "    gt_psmlist['spectrum_id'], np.array([\n",
    "        'controllerType=0 controllerNumber=1 scan=51256',\n",
    "        'controllerType=0 controllerNumber=1 scan=38491'\n",
    "    ]))\n",
    "]\n"
   ]
  },
  {
   "cell_type": "code",
   "execution_count": 212,
   "id": "bfdf9c6b",
   "metadata": {},
   "outputs": [],
   "source": [
    "from psm_utils import Peptidoform\n",
    "test_psm[1].is_decoy = True\n",
    "test_psm[0].peptidoform = Peptidoform('NSPNNLSGLSNPPGTPR/2')"
   ]
  },
  {
   "cell_type": "code",
   "execution_count": 191,
   "id": "76e47f66",
   "metadata": {},
   "outputs": [
    {
     "data": {
      "text/plain": [
       "['feature:hyperscore',\n",
       " 'feature:missing_frag_sites',\n",
       " 'feature:missing_frag_pct',\n",
       " 'feature:ppm_precursor',\n",
       " 'feature:ppm_mean_y',\n",
       " 'feature:ppm_mean_b',\n",
       " 'feature:explained_y_pct',\n",
       " 'feature:explained_b_pct',\n",
       " 'feature:explained_all_pct',\n",
       " 'feature:charge_n',\n",
       " 'feature:spec_mse_norm',\n",
       " 'feature:cos',\n",
       " 'feature:observed_retention_time',\n",
       " 'feature:rt_diff']"
      ]
     },
     "execution_count": 191,
     "metadata": {},
     "output_type": "execute_result"
    }
   ],
   "source": [
    "load_pickle('/public/compomics3/Sam/PXD028735/QExactive/rescoring_beams/LFQ_Orbitrap_DDA_QC_01/mokapot/feature_names.pkl')"
   ]
  },
  {
   "cell_type": "code",
   "execution_count": 202,
   "id": "4c902ad6",
   "metadata": {},
   "outputs": [],
   "source": [
    "new_drs = DeNovoRescorer(config)\n",
    "new_drs.load(\n",
    "    calibration_folder='/public/compomics3/Sam/PXD028735/QExactive/rescoring_beams/LFQ_Orbitrap_DDA_QC_01/calibration',\n",
    "    mokapot_folder='/public/compomics3/Sam/PXD028735/QExactive/rescoring_beams/LFQ_Orbitrap_DDA_QC_01/mokapot'\n",
    ")"
   ]
  },
  {
   "cell_type": "code",
   "execution_count": 208,
   "id": "ee29586b",
   "metadata": {},
   "outputs": [],
   "source": [
    "new_drs.rescore(\n",
    "    psm_list=test_psm,\n",
    "    denovo=True\n",
    ")"
   ]
  },
  {
   "cell_type": "code",
   "execution_count": 213,
   "id": "fc1cfa8b",
   "metadata": {},
   "outputs": [
    {
     "data": {
      "text/plain": [
       "array([4.48138272, 0.05357657])"
      ]
     },
     "execution_count": 213,
     "metadata": {},
     "output_type": "execute_result"
    }
   ],
   "source": [
    "test_psm['score']"
   ]
  },
  {
   "cell_type": "code",
   "execution_count": 215,
   "id": "c3458c77",
   "metadata": {},
   "outputs": [],
   "source": [
    "test_pmlist_2 = casanovo_candidates_psmlist[\n",
    "    casanovo_candidates_psmlist['spectrum_id']=='controllerType=0 controllerNumber=1 scan=51256'\n",
    "]"
   ]
  },
  {
   "cell_type": "code",
   "execution_count": null,
   "id": "fcb44981",
   "metadata": {},
   "outputs": [],
   "source": [
    "test_psms = test_psm + test_pmlist_2"
   ]
  },
  {
   "cell_type": "code",
   "execution_count": 218,
   "id": "8b68ff64",
   "metadata": {},
   "outputs": [],
   "source": [
    "new_drs.rescore(\n",
    "    psm_list=test_psms,\n",
    "    denovo=True\n",
    ")"
   ]
  },
  {
   "cell_type": "code",
   "execution_count": 223,
   "id": "9bb63cf3",
   "metadata": {},
   "outputs": [
    {
     "data": {
      "text/html": [
       "<div>\n",
       "<style scoped>\n",
       "    .dataframe tbody tr th:only-of-type {\n",
       "        vertical-align: middle;\n",
       "    }\n",
       "\n",
       "    .dataframe tbody tr th {\n",
       "        vertical-align: top;\n",
       "    }\n",
       "\n",
       "    .dataframe thead th {\n",
       "        text-align: right;\n",
       "    }\n",
       "</style>\n",
       "<table border=\"1\" class=\"dataframe\">\n",
       "  <thead>\n",
       "    <tr style=\"text-align: right;\">\n",
       "      <th></th>\n",
       "      <th>spectrum_id</th>\n",
       "      <th>score_new</th>\n",
       "      <th>rank</th>\n",
       "      <th>pep</th>\n",
       "    </tr>\n",
       "  </thead>\n",
       "  <tbody>\n",
       "    <tr>\n",
       "      <th>0</th>\n",
       "      <td>controllerType=0 controllerNumber=1 scan=51256</td>\n",
       "      <td>4.4784115683515</td>\n",
       "      <td>1</td>\n",
       "      <td>NSPNNISGISNPPGTPR/2</td>\n",
       "    </tr>\n",
       "    <tr>\n",
       "      <th>1</th>\n",
       "      <td>controllerType=0 controllerNumber=1 scan=38491</td>\n",
       "      <td>1.5732388983220436</td>\n",
       "      <td>1</td>\n",
       "      <td>TAVC[UNIMOD:4]DIPPR/2</td>\n",
       "    </tr>\n",
       "    <tr>\n",
       "      <th>2</th>\n",
       "      <td>controllerType=0 controllerNumber=1 scan=51256</td>\n",
       "      <td>4.181022310643964</td>\n",
       "      <td>1</td>\n",
       "      <td>NSPNNLSGLSNPPGTPR/2</td>\n",
       "    </tr>\n",
       "    <tr>\n",
       "      <th>3</th>\n",
       "      <td>controllerType=0 controllerNumber=1 scan=51256</td>\n",
       "      <td>3.720152901999354</td>\n",
       "      <td>2</td>\n",
       "      <td>NSPNNLSGLSNPPG&lt;PT&gt;R/2</td>\n",
       "    </tr>\n",
       "    <tr>\n",
       "      <th>4</th>\n",
       "      <td>controllerType=0 controllerNumber=1 scan=51256</td>\n",
       "      <td>3.48173502536617</td>\n",
       "      <td>3</td>\n",
       "      <td>NSPNNLSGLSNPPP&lt;AS&gt;R/2</td>\n",
       "    </tr>\n",
       "    <tr>\n",
       "      <th>5</th>\n",
       "      <td>controllerType=0 controllerNumber=1 scan=51256</td>\n",
       "      <td>4.234132627622045</td>\n",
       "      <td>4</td>\n",
       "      <td>G&lt;GS&gt;PNNLSGLSNPPGTPR/2</td>\n",
       "    </tr>\n",
       "    <tr>\n",
       "      <th>6</th>\n",
       "      <td>controllerType=0 controllerNumber=1 scan=51256</td>\n",
       "      <td>4.098818191353888</td>\n",
       "      <td>5</td>\n",
       "      <td>NSP&lt;GG&gt;NLSGLSNPPGTPR/2</td>\n",
       "    </tr>\n",
       "    <tr>\n",
       "      <th>7</th>\n",
       "      <td>controllerType=0 controllerNumber=1 scan=51256</td>\n",
       "      <td>3.9800047529123326</td>\n",
       "      <td>6</td>\n",
       "      <td>SNPNNLSGLSNPPGTPR/2</td>\n",
       "    </tr>\n",
       "    <tr>\n",
       "      <th>8</th>\n",
       "      <td>controllerType=0 controllerNumber=1 scan=51256</td>\n",
       "      <td>4.106649808700925</td>\n",
       "      <td>7</td>\n",
       "      <td>ASPNNLSGLSNPPGTPR/2</td>\n",
       "    </tr>\n",
       "    <tr>\n",
       "      <th>9</th>\n",
       "      <td>controllerType=0 controllerNumber=1 scan=51256</td>\n",
       "      <td>3.6373124412337465</td>\n",
       "      <td>8</td>\n",
       "      <td>NSPNNLSGLSNPP&lt;SA&gt;PR/2</td>\n",
       "    </tr>\n",
       "    <tr>\n",
       "      <th>10</th>\n",
       "      <td>controllerType=0 controllerNumber=1 scan=51256</td>\n",
       "      <td>3.971634472676168</td>\n",
       "      <td>9</td>\n",
       "      <td>NSPNNLSGLSNPP&lt;AS&gt;PR/2</td>\n",
       "    </tr>\n",
       "    <tr>\n",
       "      <th>11</th>\n",
       "      <td>controllerType=0 controllerNumber=1 scan=51256</td>\n",
       "      <td>3.7401358296979823</td>\n",
       "      <td>10</td>\n",
       "      <td>NSP&lt;GG&gt;NLSGLSNPPG&lt;PT&gt;R/2</td>\n",
       "    </tr>\n",
       "  </tbody>\n",
       "</table>\n",
       "</div>"
      ],
      "text/plain": [
       "                                       spectrum_id           score_new  rank  \\\n",
       "0   controllerType=0 controllerNumber=1 scan=51256     4.4784115683515     1   \n",
       "1   controllerType=0 controllerNumber=1 scan=38491  1.5732388983220436     1   \n",
       "2   controllerType=0 controllerNumber=1 scan=51256   4.181022310643964     1   \n",
       "3   controllerType=0 controllerNumber=1 scan=51256   3.720152901999354     2   \n",
       "4   controllerType=0 controllerNumber=1 scan=51256    3.48173502536617     3   \n",
       "5   controllerType=0 controllerNumber=1 scan=51256   4.234132627622045     4   \n",
       "6   controllerType=0 controllerNumber=1 scan=51256   4.098818191353888     5   \n",
       "7   controllerType=0 controllerNumber=1 scan=51256  3.9800047529123326     6   \n",
       "8   controllerType=0 controllerNumber=1 scan=51256   4.106649808700925     7   \n",
       "9   controllerType=0 controllerNumber=1 scan=51256  3.6373124412337465     8   \n",
       "10  controllerType=0 controllerNumber=1 scan=51256   3.971634472676168     9   \n",
       "11  controllerType=0 controllerNumber=1 scan=51256  3.7401358296979823    10   \n",
       "\n",
       "                         pep  \n",
       "0        NSPNNISGISNPPGTPR/2  \n",
       "1      TAVC[UNIMOD:4]DIPPR/2  \n",
       "2        NSPNNLSGLSNPPGTPR/2  \n",
       "3      NSPNNLSGLSNPPG<PT>R/2  \n",
       "4      NSPNNLSGLSNPPP<AS>R/2  \n",
       "5     G<GS>PNNLSGLSNPPGTPR/2  \n",
       "6     NSP<GG>NLSGLSNPPGTPR/2  \n",
       "7        SNPNNLSGLSNPPGTPR/2  \n",
       "8        ASPNNLSGLSNPPGTPR/2  \n",
       "9      NSPNNLSGLSNPP<SA>PR/2  \n",
       "10     NSPNNLSGLSNPP<AS>PR/2  \n",
       "11  NSP<GG>NLSGLSNPPG<PT>R/2  "
      ]
     },
     "execution_count": 223,
     "metadata": {},
     "output_type": "execute_result"
    }
   ],
   "source": [
    "test_df = test_psms.to_dataframe()\n",
    "test_df['score_new'] = test_df.apply(lambda x: x['provenance_data']['score_ms2rescore'], axis=1)\n",
    "test_df['pep'] = test_df.apply(lambda x: x['metadata']['peptide_evidence'], axis=1)\n",
    "test_df[['spectrum_id', 'score_new', 'rank', 'pep']]"
   ]
  },
  {
   "cell_type": "code",
   "execution_count": null,
   "id": "b4de55f0",
   "metadata": {},
   "outputs": [
    {
     "data": {
      "text/html": [
       "<div>\n",
       "<style scoped>\n",
       "    .dataframe tbody tr th:only-of-type {\n",
       "        vertical-align: middle;\n",
       "    }\n",
       "\n",
       "    .dataframe tbody tr th {\n",
       "        vertical-align: top;\n",
       "    }\n",
       "\n",
       "    .dataframe thead th {\n",
       "        text-align: right;\n",
       "    }\n",
       "</style>\n",
       "<table border=\"1\" class=\"dataframe\">\n",
       "  <thead>\n",
       "    <tr style=\"text-align: right;\">\n",
       "      <th></th>\n",
       "      <th>spectrum_id</th>\n",
       "      <th>rank</th>\n",
       "      <th>run</th>\n",
       "      <th>source</th>\n",
       "      <th>rescoring_features</th>\n",
       "    </tr>\n",
       "  </thead>\n",
       "  <tbody>\n",
       "    <tr>\n",
       "      <th>8490</th>\n",
       "      <td>controllerType=0 controllerNumber=1 scan=51256</td>\n",
       "      <td>1</td>\n",
       "      <td>LFQ_Orbitrap_DDA_QC_01.casanovo.mztab</td>\n",
       "      <td>Casanovo4.2.0</td>\n",
       "      <td>{'abs_diff_Q1': 0.0004236798267811537, 'abs_di...</td>\n",
       "    </tr>\n",
       "  </tbody>\n",
       "</table>\n",
       "</div>"
      ],
      "text/plain": [
       "                                         spectrum_id  rank  \\\n",
       "8490  controllerType=0 controllerNumber=1 scan=51256     1   \n",
       "\n",
       "                                        run         source  \\\n",
       "8490  LFQ_Orbitrap_DDA_QC_01.casanovo.mztab  Casanovo4.2.0   \n",
       "\n",
       "                                     rescoring_features  \n",
       "8490  {'abs_diff_Q1': 0.0004236798267811537, 'abs_di...  "
      ]
     },
     "execution_count": 233,
     "metadata": {},
     "output_type": "execute_result"
    }
   ],
   "source": [
    "specid = 'controllerType=0 controllerNumber=1 scan=51256'\n"
   ]
  },
  {
   "cell_type": "markdown",
   "id": "beeb9d7c",
   "metadata": {},
   "source": [
    "- NSPNNISGISNPPGTPR: 4.4784\n",
    "- NSPNNLSGLSNPPGTPR: 4.181\n",
    "\n",
    "Only difference is I and L, check what features are different and generate again."
   ]
  },
  {
   "cell_type": "code",
   "execution_count": 241,
   "id": "3911c818",
   "metadata": {},
   "outputs": [],
   "source": [
    "gt_f = pd.DataFrame(\n",
    "    gt_features[gt_features['spectrum_id']==specid]['rescoring_features'].tolist()\n",
    ").T\n",
    "gt_f = gt_f.rename(columns={0: 'gt'})\n",
    "\n",
    "cas_f = pd.DataFrame(casanovo_features[\n",
    "    (casanovo_features['spectrum_id']==specid) &\n",
    "    (casanovo_features['rank']==1)\n",
    "]['rescoring_features'].tolist()).T\n",
    "cas_f = cas_f.rename(columns={0: 'dn'})\n",
    "\n",
    "fs = pd.concat([gt_f, cas_f], axis=1)"
   ]
  },
  {
   "cell_type": "code",
   "execution_count": 248,
   "id": "71e58ef0",
   "metadata": {},
   "outputs": [],
   "source": [
    "fs['diff'] = fs.apply(lambda x: np.round(float(x['gt']-x['dn']),3), axis=1)"
   ]
  },
  {
   "cell_type": "code",
   "execution_count": 252,
   "id": "5e5c8820",
   "metadata": {},
   "outputs": [
    {
     "data": {
      "text/html": [
       "<div>\n",
       "<style scoped>\n",
       "    .dataframe tbody tr th:only-of-type {\n",
       "        vertical-align: middle;\n",
       "    }\n",
       "\n",
       "    .dataframe tbody tr th {\n",
       "        vertical-align: top;\n",
       "    }\n",
       "\n",
       "    .dataframe thead th {\n",
       "        text-align: right;\n",
       "    }\n",
       "</style>\n",
       "<table border=\"1\" class=\"dataframe\">\n",
       "  <thead>\n",
       "    <tr style=\"text-align: right;\">\n",
       "      <th></th>\n",
       "      <th>gt</th>\n",
       "      <th>dn</th>\n",
       "      <th>diff</th>\n",
       "    </tr>\n",
       "  </thead>\n",
       "  <tbody>\n",
       "    <tr>\n",
       "      <th>predicted_retention_time</th>\n",
       "      <td>69.447217</td>\n",
       "      <td>71.112772</td>\n",
       "      <td>-1.666</td>\n",
       "    </tr>\n",
       "    <tr>\n",
       "      <th>predicted_retention_time_best</th>\n",
       "      <td>69.447217</td>\n",
       "      <td>71.112772</td>\n",
       "      <td>-1.666</td>\n",
       "    </tr>\n",
       "    <tr>\n",
       "      <th>rt_diff</th>\n",
       "      <td>1.960407</td>\n",
       "      <td>3.625963</td>\n",
       "      <td>-1.666</td>\n",
       "    </tr>\n",
       "    <tr>\n",
       "      <th>rt_diff_best</th>\n",
       "      <td>1.960407</td>\n",
       "      <td>3.625963</td>\n",
       "      <td>-1.666</td>\n",
       "    </tr>\n",
       "    <tr>\n",
       "      <th>search_engine_score</th>\n",
       "      <td>1.384035</td>\n",
       "      <td>0.979508</td>\n",
       "      <td>0.405</td>\n",
       "    </tr>\n",
       "  </tbody>\n",
       "</table>\n",
       "</div>"
      ],
      "text/plain": [
       "                                      gt         dn   diff\n",
       "predicted_retention_time       69.447217  71.112772 -1.666\n",
       "predicted_retention_time_best  69.447217  71.112772 -1.666\n",
       "rt_diff                         1.960407   3.625963 -1.666\n",
       "rt_diff_best                    1.960407   3.625963 -1.666\n",
       "search_engine_score             1.384035   0.979508  0.405"
      ]
     },
     "execution_count": 252,
     "metadata": {},
     "output_type": "execute_result"
    }
   ],
   "source": [
    "fs[fs['diff']!=0].dropna()"
   ]
  },
  {
   "cell_type": "code",
   "execution_count": 254,
   "id": "ed9194e8",
   "metadata": {},
   "outputs": [],
   "source": [
    "from denovo_utils.io.read import load_deeplc\n",
    "\n",
    "dlc = load_deeplc(\n",
    "    model_path_folder='/public/compomics3/Sam/PXD028735/QExactive/rescoring_beams/LFQ_Orbitrap_DDA_QC_01/calibration',\n",
    "    calibration_path='/public/compomics3/Sam/PXD028735/QExactive/rescoring_beams/LFQ_Orbitrap_DDA_QC_01/calibration/deeplc_calibration.pkl'\n",
    ")"
   ]
  },
  {
   "cell_type": "code",
   "execution_count": 260,
   "id": "f3023326",
   "metadata": {},
   "outputs": [],
   "source": [
    "my_psm = test_psms[0]"
   ]
  },
  {
   "cell_type": "code",
   "execution_count": 261,
   "id": "ae2c1632",
   "metadata": {},
   "outputs": [],
   "source": [
    "my_psm_I = my_psm.copy()\n",
    "my_psm_L = my_psm.copy()\n",
    "\n",
    "my_psm_I['rescoring_features'] = {}\n",
    "my_psm_L['rescoring_features'] = {}\n",
    "\n",
    "my_psm_I['peptidoform'] = Peptidoform('NSPNNISGISNPPGTPR/2')\n",
    "my_psm_L['peptidoform'] = Peptidoform('NSPNNLSGLSNPPGTPR/2')"
   ]
  },
  {
   "cell_type": "code",
   "execution_count": 264,
   "id": "9219f5c9",
   "metadata": {},
   "outputs": [],
   "source": [
    "dlc_psmlist = PSMList(psm_list=[my_psm_I, my_psm_L])"
   ]
  },
  {
   "cell_type": "code",
   "execution_count": 265,
   "id": "5f6433f0",
   "metadata": {},
   "outputs": [],
   "source": [
    "dlc.add_features(\n",
    "    dlc_psmlist\n",
    ")"
   ]
  },
  {
   "cell_type": "code",
   "execution_count": 266,
   "id": "99981fc9",
   "metadata": {},
   "outputs": [
    {
     "data": {
      "text/plain": [
       "array([{'observed_retention_time': 67.48680877685547, 'predicted_retention_time': 69.44720940950538, 'rt_diff': 1.9604006326499075, 'observed_retention_time_best': 67.48680877685547, 'predicted_retention_time_best': 69.44720940950538, 'rt_diff_best': 1.9604006326499075},\n",
       "       {'observed_retention_time': 67.48680877685547, 'predicted_retention_time': 71.11277174060862, 'rt_diff': 3.625962963753153, 'observed_retention_time_best': 67.48680877685547, 'predicted_retention_time_best': 71.11277174060862, 'rt_diff_best': 3.625962963753153}],\n",
       "      dtype=object)"
      ]
     },
     "execution_count": 266,
     "metadata": {},
     "output_type": "execute_result"
    }
   ],
   "source": [
    "dlc_psmlist['rescoring_features']"
   ]
  },
  {
   "cell_type": "markdown",
   "id": "77361c60",
   "metadata": {},
   "source": [
    "---"
   ]
  },
  {
   "cell_type": "markdown",
   "id": "95ef12f3",
   "metadata": {},
   "source": [
    "Merge correct and false casanovo candidates"
   ]
  },
  {
   "cell_type": "code",
   "execution_count": 267,
   "id": "c9eaa564",
   "metadata": {},
   "outputs": [],
   "source": [
    "from denovo_utils.io.read import read_partitions_features, read_partitions_psmlist"
   ]
  },
  {
   "cell_type": "code",
   "execution_count": null,
   "id": "85494632",
   "metadata": {},
   "outputs": [
    {
     "name": "stderr",
     "output_type": "stream",
     "text": [
      "Loading results from casanovo_true.parquet: 100%|██████████| 352220/352220 [00:53<00:00, 6622.97it/s]\n"
     ]
    }
   ],
   "source": [
    "true_casanovo_psmlist = load_psmlist(\n",
    "    psm_path='/public/compomics3/Sam/PXD028735/QExactive/rescoring_beams/LFQ_Orbitrap_DDA_QC_01/psmlist/casanovo_true.parquet'\n",
    ")\n",
    "true_casanovo_features = pd.read_parquet(\n",
    "    '/public/compomics3/Sam/PXD028735/QExactive/rescoring_beams/LFQ_Orbitrap_DDA_QC_01/features/casanovo_true.parquet'\n",
    ")"
   ]
  },
  {
   "cell_type": "code",
   "execution_count": 313,
   "id": "427292b2",
   "metadata": {},
   "outputs": [
    {
     "name": "stderr",
     "output_type": "stream",
     "text": [
      "Loading results from parquet_15.parquet: 100%|██████████| 10000/10000 [00:01<00:00, 7388.61it/s]\n",
      "Loading results from parquet_14.parquet: 100%|██████████| 10000/10000 [00:01<00:00, 7545.88it/s]\n",
      "Loading results from parquet_4.parquet: 100%|██████████| 10000/10000 [00:01<00:00, 8153.09it/s]\n",
      "Loading results from parquet_7.parquet: 100%|██████████| 10000/10000 [00:01<00:00, 7966.97it/s]\n",
      "Loading results from parquet_6.parquet: 100%|██████████| 10000/10000 [00:01<00:00, 8137.98it/s]\n",
      "Loading results from parquet_11.parquet: 100%|██████████| 10000/10000 [00:01<00:00, 7856.59it/s]\n",
      "Loading results from parquet_20.parquet: 100%|██████████| 10000/10000 [00:01<00:00, 7061.30it/s]\n",
      "Loading results from parquet_2.parquet: 100%|██████████| 10000/10000 [00:01<00:00, 8410.28it/s]\n",
      "Loading results from parquet_10.parquet: 100%|██████████| 10000/10000 [00:01<00:00, 7813.29it/s]\n",
      "Loading results from parquet_13.parquet: 100%|██████████| 10000/10000 [00:01<00:00, 7730.72it/s]\n",
      "Loading results from parquet_19.parquet: 100%|██████████| 10000/10000 [00:01<00:00, 7129.33it/s]\n",
      "Loading results from parquet_25.parquet: 100%|██████████| 1320/1320 [00:00<00:00, 6542.91it/s]\n",
      "Loading results from parquet_21.parquet: 100%|██████████| 10000/10000 [00:01<00:00, 6917.21it/s]\n",
      "Loading results from parquet_22.parquet: 100%|██████████| 10000/10000 [00:01<00:00, 6886.65it/s]\n",
      "Loading results from parquet_9.parquet: 100%|██████████| 10000/10000 [00:01<00:00, 7933.51it/s]\n",
      "Loading results from parquet_18.parquet: 100%|██████████| 10000/10000 [00:01<00:00, 7301.17it/s]\n",
      "Loading results from parquet_23.parquet: 100%|██████████| 10000/10000 [00:01<00:00, 6864.04it/s]\n",
      "Loading results from parquet_1.parquet: 100%|██████████| 10000/10000 [00:01<00:00, 8249.93it/s]\n",
      "Loading results from parquet_8.parquet: 100%|██████████| 10000/10000 [00:01<00:00, 8083.97it/s]\n",
      "Loading results from parquet_16.parquet: 100%|██████████| 10000/10000 [00:01<00:00, 7393.25it/s]\n",
      "Loading results from parquet_24.parquet: 100%|██████████| 10000/10000 [00:01<00:00, 6670.52it/s]\n",
      "Loading results from parquet_3.parquet: 100%|██████████| 10000/10000 [00:01<00:00, 7921.13it/s]\n",
      "Loading results from parquet_0.parquet: 100%|██████████| 10000/10000 [00:01<00:00, 8339.11it/s]\n",
      "Loading results from parquet_12.parquet: 100%|██████████| 10000/10000 [00:01<00:00, 7643.26it/s]\n",
      "Loading results from parquet_5.parquet: 100%|██████████| 10000/10000 [00:01<00:00, 8337.39it/s]\n",
      "Loading results from parquet_17.parquet: 100%|██████████| 10000/10000 [00:01<00:00, 7452.83it/s]\n",
      "100%|██████████| 26/26 [01:36<00:00,  3.72s/it]\n"
     ]
    }
   ],
   "source": [
    "def read_partitions_psmlist(path, prefix_filename):\n",
    "    psm_list_list = []\n",
    "    for p in tqdm(glob(os.path.join(path, f'{prefix_filename}*'))):\n",
    "        psm_list_list.append(load_psmlist(p))\n",
    "    \n",
    "    return PSMList(psm_list=list(chain(*[psmlist.psm_list for psmlist in psm_list_list])))\n",
    "\n",
    "false_casanovo_psmlist = read_partitions_psmlist(\n",
    "    path='/public/compomics3/Sam/PXD028735/QExactive/rescoring_beams/LFQ_Orbitrap_DDA_QC_01/psmlist',\n",
    "    prefix_filename='parquet'\n",
    ")"
   ]
  },
  {
   "cell_type": "code",
   "execution_count": null,
   "id": "0e642a22",
   "metadata": {},
   "outputs": [
    {
     "name": "stderr",
     "output_type": "stream",
     "text": [
      "100%|██████████| 26/26 [00:28<00:00,  1.10s/it]\n",
      "100%|██████████| 26/26 [00:14<00:00,  1.79it/s]\n"
     ]
    }
   ],
   "source": [
    "false_casanovo_features = read_partitions_features(\n",
    "    path='/public/compomics3/Sam/PXD028735/QExactive/rescoring_beams/LFQ_Orbitrap_DDA_QC_01/features',\n",
    "    prefix_filename='parquet'\n",
    ")"
   ]
  },
  {
   "cell_type": "code",
   "execution_count": 314,
   "id": "50c14791",
   "metadata": {},
   "outputs": [],
   "source": [
    "casanovo_psmlist_all = true_casanovo_psmlist + false_casanovo_psmlist"
   ]
  },
  {
   "cell_type": "code",
   "execution_count": 292,
   "id": "e3b58137",
   "metadata": {},
   "outputs": [
    {
     "name": "stderr",
     "output_type": "stream",
     "text": [
      "Loading Spectralis results: 100%|██████████| 10/10 [00:01<00:00,  9.67it/s]\n"
     ]
    }
   ],
   "source": [
    "# Also add the Casanovo score and spectralis score to the false candidates\n",
    "\n",
    "score_df_casanovo_candidates = pd.DataFrame({\n",
    "    'Casanovo_score': false_casanovo_psmlist['score'], \n",
    "    'spectrum_id': false_casanovo_psmlist['spectrum_id'],\n",
    "    'rank': false_casanovo_psmlist['rank']\n",
    "})\n",
    "\n",
    "spectralis_scores_candidates = load_spectralis_rescoring(\n",
    "    root_path='/public/compomics3/Sam/PXD028735/QExactive/postprocessing_beams_false/spectralis/casanovo',\n",
    "    filename='LFQ_Orbitrap_DDA_QC_01'\n",
    ")\n",
    "spectralis_scores_candidates = spectralis_scores_candidates.rename(columns={'title': 'spectrum_id'})[['Spectralis_score', 'spectrum_id', 'rank']]\n",
    "\n",
    "casanovo_merged = false_casanovo_features.merge(score_df_casanovo_candidates).merge(spectralis_scores_candidates)\n",
    "\n",
    "# Add to the casanovo psmlist features\n",
    "### Add Casanovo score\n",
    "_ = casanovo_merged.apply(\n",
    "    lambda x: add_score_to_rescoring_features(\n",
    "        rescoring_dict=x['rescoring_features'],\n",
    "        score=x['Casanovo_score'],\n",
    "        score_name='Casanovo_score'\n",
    "    ),\n",
    "    axis=1\n",
    ")\n",
    "### Add Spectralis score\n",
    "_ = casanovo_merged.apply(\n",
    "    lambda x: add_score_to_rescoring_features(\n",
    "        rescoring_dict=x['rescoring_features'],\n",
    "        score=x['Spectralis_score'],\n",
    "        score_name='Spectralis_score'\n",
    "    ),\n",
    "    axis=1\n",
    ")"
   ]
  },
  {
   "cell_type": "code",
   "execution_count": 300,
   "id": "9e3ec348",
   "metadata": {},
   "outputs": [],
   "source": [
    "all_casanovo_features_concatted = pd.concat([casanovo_features, false_casanovo_features]).reset_index(drop=True)"
   ]
  },
  {
   "cell_type": "code",
   "execution_count": 301,
   "id": "87c35bfa",
   "metadata": {},
   "outputs": [],
   "source": [
    "all_casanovo_features_concatted.to_parquet('/public/compomics3/Sam/PXD028735/QExactive/rescoring_beams/LFQ_Orbitrap_DDA_QC_01/features/casanovo.parquet')"
   ]
  },
  {
   "cell_type": "code",
   "execution_count": 303,
   "id": "34aa5d9e",
   "metadata": {},
   "outputs": [
    {
     "data": {
      "text/plain": [
       "60387"
      ]
     },
     "execution_count": 303,
     "metadata": {},
     "output_type": "execute_result"
    }
   ],
   "source": [
    "all_casanovo_features_concatted.spectrum_id.nunique()"
   ]
  },
  {
   "cell_type": "code",
   "execution_count": 317,
   "id": "368e7d73",
   "metadata": {},
   "outputs": [],
   "source": [
    "from denovo_utils.io.save import save_psmlist\n",
    "save_psmlist(\n",
    "    casanovo_psmlist_all,\n",
    "    save_path='/public/compomics3/Sam/PXD028735/QExactive/rescoring_beams/LFQ_Orbitrap_DDA_QC_01/psmlist/casanovo.parquet'\n",
    ")"
   ]
  }
 ],
 "metadata": {
  "kernelspec": {
   "display_name": "denovo_analysis_env",
   "language": "python",
   "name": "python3"
  },
  "language_info": {
   "codemirror_mode": {
    "name": "ipython",
    "version": 3
   },
   "file_extension": ".py",
   "mimetype": "text/x-python",
   "name": "python",
   "nbconvert_exporter": "python",
   "pygments_lexer": "ipython3",
   "version": "3.11.9"
  }
 },
 "nbformat": 4,
 "nbformat_minor": 5
}
