{
 "cells": [
  {
   "cell_type": "code",
   "execution_count": 1,
   "id": "1c494d10",
   "metadata": {},
   "outputs": [
    {
     "name": "stderr",
     "output_type": "stream",
     "text": [
      "2025-04-16 10:48:58.324553: E external/local_xla/xla/stream_executor/cuda/cuda_fft.cc:485] Unable to register cuFFT factory: Attempting to register factory for plugin cuFFT when one has already been registered\n",
      "2025-04-16 10:48:58.353903: E external/local_xla/xla/stream_executor/cuda/cuda_dnn.cc:8454] Unable to register cuDNN factory: Attempting to register factory for plugin cuDNN when one has already been registered\n",
      "2025-04-16 10:48:58.362925: E external/local_xla/xla/stream_executor/cuda/cuda_blas.cc:1452] Unable to register cuBLAS factory: Attempting to register factory for plugin cuBLAS when one has already been registered\n"
     ]
    },
    {
     "name": "stdout",
     "output_type": "stream",
     "text": [
      "Modification already exists in ModificationsDB. Skipping.\n"
     ]
    }
   ],
   "source": [
    "from denovo_utils.data import Run\n",
    "from denovo_utils.parsers import DenovoEngineConverter\n",
    "from denovo_utils.parsers.converters.spectralis import load_spectralis_rescoring\n",
    "from denovo_utils.io.read import load_psmlist\n",
    "\n",
    "from psm_utils import PSMList\n",
    "from tqdm import tqdm\n",
    "from glob import glob\n",
    "from itertools import chain\n",
    "\n",
    "import pandas as pd\n",
    "import os\n",
    "\n",
    "from denovo_utils.data.run import read_runs"
   ]
  },
  {
   "cell_type": "code",
   "execution_count": 2,
   "id": "d2de0515",
   "metadata": {},
   "outputs": [],
   "source": [
    "filenames = ['LFQ_Orbitrap_DDA_QC_01']\n",
    "\n",
    "root_mgf = f'/public/compomics3/Sam/PXD028735/QExactive/mgf_reformatted'\n",
    "root_psmlist = f'/public/compomics3/Sam/PXD028735/QExactive/rescoring_beams'\n",
    "root_postprocessing = f'/public/compomics3/Sam/PXD028735/QExactive/postprocessing_beams'\n",
    "\n",
    "format_ground_truth = 'parquet'\n",
    "\n",
    "rescored_db = True\n",
    "rescored_denovo = True\n",
    "rescored_refinement = False"
   ]
  },
  {
   "cell_type": "code",
   "execution_count": 3,
   "id": "9784a213",
   "metadata": {},
   "outputs": [
    {
     "name": "stderr",
     "output_type": "stream",
     "text": [
      "Loading results from ground_truth.parquet: 100%|██████████| 83941/83941 [00:12<00:00, 6508.31it/s]\n",
      "Loading PSMs in Run object (LFQ_Orbitrap_DDA_QC_01): 100%|██████████| 83941/83941 [00:05<00:00, 16035.83it/s]\n",
      "Loading results from casanovo.parquet: 100%|██████████| 352220/352220 [01:05<00:00, 5413.35it/s]\n",
      "Loading PSMs in Run object (LFQ_Orbitrap_DDA_QC_01): 100%|██████████| 352220/352220 [00:28<00:00, 12201.89it/s]\n",
      "Loading Spectralis results: 100%|██████████| 10/10 [00:22<00:00,  2.21s/it]\n",
      "100%|██████████| 352220/352220 [00:09<00:00, 36375.72it/s]\n",
      "Parsing Instanovo+ results to PSMList: 100%|██████████| 352183/352183 [00:14<00:00, 23829.13it/s]\n"
     ]
    }
   ],
   "source": [
    "runs = read_runs(\n",
    "    root_denovo_output=root_psmlist,\n",
    "    root_ground_truth=root_psmlist,\n",
    "    root_refinement=root_postprocessing,\n",
    "    root_mgf=root_mgf,\n",
    "    filenames=filenames,\n",
    "    engine_names=[\n",
    "        'casanovo'\n",
    "    ],\n",
    "    refinement_names=[\n",
    "        'spectralis',\n",
    "        'instanovoplus'\n",
    "    ],\n",
    "    format_ground_truth=format_ground_truth,\n",
    "    rescored_db=rescored_db,\n",
    "    rescored_denovo=rescored_denovo,\n",
    "    rescored_refinement=rescored_refinement\n",
    ")"
   ]
  },
  {
   "cell_type": "markdown",
   "id": "7761f741",
   "metadata": {},
   "source": [
    "Ranking candidates is done by a single score. These scores can be defined in multiple ways.\n",
    "\n",
    "Inside de novo search engines, this is the search engine score. In database search engines, this is done first by the hyperscore as a pre-filtering step.\n",
    "\n",
    "In this notebook, we will generate multiple scoring schemes and evaluate which is best in correctly ranking the 'correct' identification the highest.\n",
    "\n",
    "The scores under evaluation here are the following:\n",
    "- Casanovo score\n",
    "- MS2Rescore: Can be calculated using differing feature sets\n",
    "    - Base MS2Rescore\n",
    "    - MS2Rescore + Casanovo score\n",
    "    - MS2Rescore + Spectralis score\n",
    "    - MS2Rescore + Spectralis score + Casanovo score\n",
    "- Spectralis score\n",
    "- InstaNovo+ score"
   ]
  },
  {
   "cell_type": "markdown",
   "id": "0b6a7ce3",
   "metadata": {},
   "source": [
    "First, we need to fit the mokapot models using the defined feature sets. As a check, I will draw an upsetplot how this effects the database search results. Ideally, these would not change.\n",
    "\n",
    "Importantly, if database search results change, this is not due to the same process as will be investigated here, namely, reranking PSMs on Run level. Indeed, only one candidate was provided here for each spectrum."
   ]
  },
  {
   "cell_type": "markdown",
   "id": "d34bf8ae",
   "metadata": {},
   "source": [
    "# Infer new PSM-scores using mokapot"
   ]
  },
  {
   "cell_type": "markdown",
   "id": "340c5368",
   "metadata": {},
   "source": [
    "To infer new PSM-scores, I will use the MS2Rescore pipeline. First, the casanovo and spectralis scores need to be appended to the feature lists."
   ]
  },
  {
   "cell_type": "markdown",
   "id": "5c7de119",
   "metadata": {},
   "source": [
    "### 1. Load features and append the casanovo and spectralis scores"
   ]
  },
  {
   "cell_type": "code",
   "execution_count": null,
   "id": "4b7d289d",
   "metadata": {},
   "outputs": [],
   "source": [
    "from denovo_utils.io.read import load_features, load_psmlist\n",
    "from denovo_utils.parsers.converters.spectralis import load_spectralis_rescoring"
   ]
  },
  {
   "cell_type": "markdown",
   "id": "c41eccd7",
   "metadata": {},
   "source": [
    "Load the features"
   ]
  },
  {
   "cell_type": "code",
   "execution_count": 25,
   "id": "7da612a3",
   "metadata": {},
   "outputs": [],
   "source": [
    "root_features = '/public/compomics3/Sam/PXD028735/QExactive/rescoring_beams/LFQ_Orbitrap_DDA_QC_01/features'\n",
    "casanovo_features = pd.read_parquet(os.path.join(root_features, 'casanovo.parquet'))\n",
    "gt_features = pd.read_parquet(os.path.join(root_features, 'ground_truth.parquet'))"
   ]
  },
  {
   "cell_type": "markdown",
   "id": "50c839dc",
   "metadata": {},
   "source": [
    "Features are in the following dictionary format:\n",
    "\n",
    "- key: spectrum_id\n",
    "    - value: dict\n",
    "        - key: rank\n",
    "        - value: dict\n",
    "            - key: feature_name\n",
    "            - value: feature value"
   ]
  },
  {
   "cell_type": "markdown",
   "id": "03c8306b",
   "metadata": {},
   "source": [
    "Add casanovo scores"
   ]
  },
  {
   "cell_type": "code",
   "execution_count": 30,
   "id": "73ca8ad3",
   "metadata": {},
   "outputs": [],
   "source": [
    "def add_score_to_rescoring_features(rescoring_dict, score, score_name):\n",
    "    rescoring_dict[score_name] = score"
   ]
  },
  {
   "cell_type": "code",
   "execution_count": null,
   "id": "99c93052",
   "metadata": {},
   "outputs": [
    {
     "name": "stderr",
     "output_type": "stream",
     "text": [
      "Loading results from casanovo.parquet: 100%|██████████| 352220/352220 [00:56<00:00, 6224.05it/s]\n",
      "Loading results from LFQ_Orbitrap_DDA_QC_01_casanovo.parquet: 100%|██████████| 83941/83941 [00:38<00:00, 2203.56it/s]\n"
     ]
    }
   ],
   "source": [
    "# Load the data where the scores are stored.\n",
    "\n",
    "# The casanovo scores for the casanovo candidates are stored in their PSMList\n",
    "casanovo_psmlist = load_psmlist(\n",
    "    psm_path='/public/compomics3/Sam/PXD028735/QExactive/rescoring_beams/LFQ_Orbitrap_DDA_QC_01/psmlist/casanovo.parquet'\n",
    ")\n",
    "\n",
    "# The casanovo scores for the Ground truth are stored in a separate result file bcz seperate casanovo inference was necessary\n",
    "gt_psmlist = load_psmlist(\n",
    "    psm_path='/public/compomics3/Sam/PXD028735/QExactive/postprocessing/casanovo/casanovo/LFQ_Orbitrap_DDA_QC_01_casanovo.parquet'\n",
    ")"
   ]
  },
  {
   "cell_type": "code",
   "execution_count": null,
   "id": "4da8ed77",
   "metadata": {},
   "outputs": [],
   "source": [
    "# Extract the scores\n",
    "score_df_casanovo_candidates = pd.DataFrame({\n",
    "    'Casanovo_score': casanovo_psmlist['score'], \n",
    "    'spectrum_id': casanovo_psmlist['spectrum_id'],\n",
    "    'rank': casanovo_psmlist['rank']\n",
    "})\n",
    "\n",
    "score_df_casanovo_gt = pd.DataFrame({\n",
    "    'Casanovo_score': [rescoring_features['Casanovo_score'] for rescoring_features in gt_psmlist['rescoring_features']],\n",
    "    'spectrum_id': gt_psmlist['spectrum_id'],\n",
    "    'rank': gt_psmlist['rank']\n",
    "})"
   ]
  },
  {
   "cell_type": "code",
   "execution_count": null,
   "id": "10f0e064",
   "metadata": {},
   "outputs": [
    {
     "data": {
      "text/html": [
       "<div>\n",
       "<style scoped>\n",
       "    .dataframe tbody tr th:only-of-type {\n",
       "        vertical-align: middle;\n",
       "    }\n",
       "\n",
       "    .dataframe tbody tr th {\n",
       "        vertical-align: top;\n",
       "    }\n",
       "\n",
       "    .dataframe thead th {\n",
       "        text-align: right;\n",
       "    }\n",
       "</style>\n",
       "<table border=\"1\" class=\"dataframe\">\n",
       "  <thead>\n",
       "    <tr style=\"text-align: right;\">\n",
       "      <th></th>\n",
       "      <th>spectrum_id</th>\n",
       "      <th>rank</th>\n",
       "      <th>run</th>\n",
       "      <th>source</th>\n",
       "      <th>rescoring_features</th>\n",
       "      <th>Casanovo_score</th>\n",
       "    </tr>\n",
       "  </thead>\n",
       "  <tbody>\n",
       "    <tr>\n",
       "      <th>0</th>\n",
       "      <td>controllerType=0 controllerNumber=1 scan=60355</td>\n",
       "      <td>1</td>\n",
       "      <td>LFQ_Orbitrap_DDA_QC_01.casanovo.mztab</td>\n",
       "      <td>Casanovo4.2.0</td>\n",
       "      <td>{'abs_diff_Q1': 0.00012205832172185183, 'abs_d...</td>\n",
       "      <td>0.946581</td>\n",
       "    </tr>\n",
       "    <tr>\n",
       "      <th>1</th>\n",
       "      <td>controllerType=0 controllerNumber=1 scan=60355</td>\n",
       "      <td>2</td>\n",
       "      <td>LFQ_Orbitrap_DDA_QC_01.casanovo.mztab</td>\n",
       "      <td>Casanovo4.2.0</td>\n",
       "      <td>{'abs_diff_Q1': 0.00014677498256787658, 'abs_d...</td>\n",
       "      <td>0.931852</td>\n",
       "    </tr>\n",
       "    <tr>\n",
       "      <th>2</th>\n",
       "      <td>controllerType=0 controllerNumber=1 scan=60355</td>\n",
       "      <td>3</td>\n",
       "      <td>LFQ_Orbitrap_DDA_QC_01.casanovo.mztab</td>\n",
       "      <td>Casanovo4.2.0</td>\n",
       "      <td>{'abs_diff_Q1': 0.00010206006118096411, 'abs_d...</td>\n",
       "      <td>0.910791</td>\n",
       "    </tr>\n",
       "    <tr>\n",
       "      <th>3</th>\n",
       "      <td>controllerType=0 controllerNumber=1 scan=60355</td>\n",
       "      <td>4</td>\n",
       "      <td>LFQ_Orbitrap_DDA_QC_01.casanovo.mztab</td>\n",
       "      <td>Casanovo4.2.0</td>\n",
       "      <td>{'abs_diff_Q1': 0.00010005271178670228, 'abs_d...</td>\n",
       "      <td>0.894044</td>\n",
       "    </tr>\n",
       "    <tr>\n",
       "      <th>4</th>\n",
       "      <td>controllerType=0 controllerNumber=1 scan=60355</td>\n",
       "      <td>5</td>\n",
       "      <td>LFQ_Orbitrap_DDA_QC_01.casanovo.mztab</td>\n",
       "      <td>Casanovo4.2.0</td>\n",
       "      <td>{'abs_diff_Q1': 9.21785831451416e-05, 'abs_dif...</td>\n",
       "      <td>0.891319</td>\n",
       "    </tr>\n",
       "    <tr>\n",
       "      <th>...</th>\n",
       "      <td>...</td>\n",
       "      <td>...</td>\n",
       "      <td>...</td>\n",
       "      <td>...</td>\n",
       "      <td>...</td>\n",
       "      <td>...</td>\n",
       "    </tr>\n",
       "    <tr>\n",
       "      <th>352215</th>\n",
       "      <td>controllerType=0 controllerNumber=1 scan=69011</td>\n",
       "      <td>6</td>\n",
       "      <td>LFQ_Orbitrap_DDA_QC_01.casanovo.mztab</td>\n",
       "      <td>Casanovo4.2.0</td>\n",
       "      <td>{'abs_diff_Q1': 0.00018163214554078877, 'abs_d...</td>\n",
       "      <td>0.874042</td>\n",
       "    </tr>\n",
       "    <tr>\n",
       "      <th>352216</th>\n",
       "      <td>controllerType=0 controllerNumber=1 scan=69011</td>\n",
       "      <td>7</td>\n",
       "      <td>LFQ_Orbitrap_DDA_QC_01.casanovo.mztab</td>\n",
       "      <td>Casanovo4.2.0</td>\n",
       "      <td>{'abs_diff_Q1': 6.678988575004041e-05, 'abs_di...</td>\n",
       "      <td>0.854001</td>\n",
       "    </tr>\n",
       "    <tr>\n",
       "      <th>352217</th>\n",
       "      <td>controllerType=0 controllerNumber=1 scan=69011</td>\n",
       "      <td>8</td>\n",
       "      <td>LFQ_Orbitrap_DDA_QC_01.casanovo.mztab</td>\n",
       "      <td>Casanovo4.2.0</td>\n",
       "      <td>{'abs_diff_Q1': 6.678988575004041e-05, 'abs_di...</td>\n",
       "      <td>0.853452</td>\n",
       "    </tr>\n",
       "    <tr>\n",
       "      <th>352218</th>\n",
       "      <td>controllerType=0 controllerNumber=1 scan=69011</td>\n",
       "      <td>9</td>\n",
       "      <td>LFQ_Orbitrap_DDA_QC_01.casanovo.mztab</td>\n",
       "      <td>Casanovo4.2.0</td>\n",
       "      <td>{'abs_diff_Q1': 6.678988575004041e-05, 'abs_di...</td>\n",
       "      <td>0.847426</td>\n",
       "    </tr>\n",
       "    <tr>\n",
       "      <th>352219</th>\n",
       "      <td>controllerType=0 controllerNumber=1 scan=69011</td>\n",
       "      <td>10</td>\n",
       "      <td>LFQ_Orbitrap_DDA_QC_01.casanovo.mztab</td>\n",
       "      <td>Casanovo4.2.0</td>\n",
       "      <td>{'abs_diff_Q1': 8.685997454449534e-05, 'abs_di...</td>\n",
       "      <td>-0.094098</td>\n",
       "    </tr>\n",
       "  </tbody>\n",
       "</table>\n",
       "<p>352220 rows × 6 columns</p>\n",
       "</div>"
      ],
      "text/plain": [
       "                                           spectrum_id  rank  \\\n",
       "0       controllerType=0 controllerNumber=1 scan=60355     1   \n",
       "1       controllerType=0 controllerNumber=1 scan=60355     2   \n",
       "2       controllerType=0 controllerNumber=1 scan=60355     3   \n",
       "3       controllerType=0 controllerNumber=1 scan=60355     4   \n",
       "4       controllerType=0 controllerNumber=1 scan=60355     5   \n",
       "...                                                ...   ...   \n",
       "352215  controllerType=0 controllerNumber=1 scan=69011     6   \n",
       "352216  controllerType=0 controllerNumber=1 scan=69011     7   \n",
       "352217  controllerType=0 controllerNumber=1 scan=69011     8   \n",
       "352218  controllerType=0 controllerNumber=1 scan=69011     9   \n",
       "352219  controllerType=0 controllerNumber=1 scan=69011    10   \n",
       "\n",
       "                                          run         source  \\\n",
       "0       LFQ_Orbitrap_DDA_QC_01.casanovo.mztab  Casanovo4.2.0   \n",
       "1       LFQ_Orbitrap_DDA_QC_01.casanovo.mztab  Casanovo4.2.0   \n",
       "2       LFQ_Orbitrap_DDA_QC_01.casanovo.mztab  Casanovo4.2.0   \n",
       "3       LFQ_Orbitrap_DDA_QC_01.casanovo.mztab  Casanovo4.2.0   \n",
       "4       LFQ_Orbitrap_DDA_QC_01.casanovo.mztab  Casanovo4.2.0   \n",
       "...                                       ...            ...   \n",
       "352215  LFQ_Orbitrap_DDA_QC_01.casanovo.mztab  Casanovo4.2.0   \n",
       "352216  LFQ_Orbitrap_DDA_QC_01.casanovo.mztab  Casanovo4.2.0   \n",
       "352217  LFQ_Orbitrap_DDA_QC_01.casanovo.mztab  Casanovo4.2.0   \n",
       "352218  LFQ_Orbitrap_DDA_QC_01.casanovo.mztab  Casanovo4.2.0   \n",
       "352219  LFQ_Orbitrap_DDA_QC_01.casanovo.mztab  Casanovo4.2.0   \n",
       "\n",
       "                                       rescoring_features  Casanovo_score  \n",
       "0       {'abs_diff_Q1': 0.00012205832172185183, 'abs_d...        0.946581  \n",
       "1       {'abs_diff_Q1': 0.00014677498256787658, 'abs_d...        0.931852  \n",
       "2       {'abs_diff_Q1': 0.00010206006118096411, 'abs_d...        0.910791  \n",
       "3       {'abs_diff_Q1': 0.00010005271178670228, 'abs_d...        0.894044  \n",
       "4       {'abs_diff_Q1': 9.21785831451416e-05, 'abs_dif...        0.891319  \n",
       "...                                                   ...             ...  \n",
       "352215  {'abs_diff_Q1': 0.00018163214554078877, 'abs_d...        0.874042  \n",
       "352216  {'abs_diff_Q1': 6.678988575004041e-05, 'abs_di...        0.854001  \n",
       "352217  {'abs_diff_Q1': 6.678988575004041e-05, 'abs_di...        0.853452  \n",
       "352218  {'abs_diff_Q1': 6.678988575004041e-05, 'abs_di...        0.847426  \n",
       "352219  {'abs_diff_Q1': 8.685997454449534e-05, 'abs_di...       -0.094098  \n",
       "\n",
       "[352220 rows x 6 columns]"
      ]
     },
     "execution_count": 28,
     "metadata": {},
     "output_type": "execute_result"
    }
   ],
   "source": [
    "# Add the scores to the feature_dict\n",
    "\n",
    "casanovo_features_merged = casanovo_features.merge(score_df_casanovo_candidates)\n",
    "_ = casanovo_features_merged.apply(\n",
    "    lambda x: add_score_to_rescoring_features(\n",
    "        rescoring_dict=x['rescoring_features'],\n",
    "        score=x['Casanovo_score'],\n",
    "        score_name='Casanovo_score'\n",
    "    ),\n",
    "axis=1)"
   ]
  },
  {
   "cell_type": "code",
   "execution_count": 27,
   "id": "6d24cfe8",
   "metadata": {},
   "outputs": [
    {
     "data": {
      "text/html": [
       "<div>\n",
       "<style scoped>\n",
       "    .dataframe tbody tr th:only-of-type {\n",
       "        vertical-align: middle;\n",
       "    }\n",
       "\n",
       "    .dataframe tbody tr th {\n",
       "        vertical-align: top;\n",
       "    }\n",
       "\n",
       "    .dataframe thead th {\n",
       "        text-align: right;\n",
       "    }\n",
       "</style>\n",
       "<table border=\"1\" class=\"dataframe\">\n",
       "  <thead>\n",
       "    <tr style=\"text-align: right;\">\n",
       "      <th></th>\n",
       "      <th>Casanovo_score</th>\n",
       "      <th>spectrum_id</th>\n",
       "      <th>rank</th>\n",
       "    </tr>\n",
       "  </thead>\n",
       "  <tbody>\n",
       "    <tr>\n",
       "      <th>0</th>\n",
       "      <td>0.946581</td>\n",
       "      <td>controllerType=0 controllerNumber=1 scan=60355</td>\n",
       "      <td>1</td>\n",
       "    </tr>\n",
       "    <tr>\n",
       "      <th>1</th>\n",
       "      <td>0.931852</td>\n",
       "      <td>controllerType=0 controllerNumber=1 scan=60355</td>\n",
       "      <td>2</td>\n",
       "    </tr>\n",
       "    <tr>\n",
       "      <th>2</th>\n",
       "      <td>0.910791</td>\n",
       "      <td>controllerType=0 controllerNumber=1 scan=60355</td>\n",
       "      <td>3</td>\n",
       "    </tr>\n",
       "    <tr>\n",
       "      <th>3</th>\n",
       "      <td>0.894044</td>\n",
       "      <td>controllerType=0 controllerNumber=1 scan=60355</td>\n",
       "      <td>4</td>\n",
       "    </tr>\n",
       "    <tr>\n",
       "      <th>4</th>\n",
       "      <td>0.891319</td>\n",
       "      <td>controllerType=0 controllerNumber=1 scan=60355</td>\n",
       "      <td>5</td>\n",
       "    </tr>\n",
       "  </tbody>\n",
       "</table>\n",
       "</div>"
      ],
      "text/plain": [
       "   Casanovo_score                                     spectrum_id  rank\n",
       "0        0.946581  controllerType=0 controllerNumber=1 scan=60355     1\n",
       "1        0.931852  controllerType=0 controllerNumber=1 scan=60355     2\n",
       "2        0.910791  controllerType=0 controllerNumber=1 scan=60355     3\n",
       "3        0.894044  controllerType=0 controllerNumber=1 scan=60355     4\n",
       "4        0.891319  controllerType=0 controllerNumber=1 scan=60355     5"
      ]
     },
     "execution_count": 27,
     "metadata": {},
     "output_type": "execute_result"
    }
   ],
   "source": [
    "score_df_casanovo_candidates.head()"
   ]
  },
  {
   "cell_type": "markdown",
   "id": "1a917921",
   "metadata": {},
   "source": [
    "Add Spectralis scores"
   ]
  },
  {
   "cell_type": "code",
   "execution_count": 35,
   "id": "6705adac",
   "metadata": {},
   "outputs": [
    {
     "name": "stderr",
     "output_type": "stream",
     "text": [
      "Loading Spectralis results: 100%|██████████| 10/10 [00:03<00:00,  3.03it/s]\n",
      "Loading Spectralis results: 100%|██████████| 1/1 [00:00<00:00,  2.82it/s]\n"
     ]
    }
   ],
   "source": [
    "spectralis_scores_candidates = load_spectralis_rescoring(\n",
    "    root_path='/public/compomics3/Sam/PXD028735/QExactive/postprocessing_beams/spectralis/casanovo',\n",
    "    filename='LFQ_Orbitrap_DDA_QC_01'\n",
    ")\n",
    "\n",
    "spectralis_scores_gt = load_spectralis_rescoring(\n",
    "    root_path='/public/compomics3/Sam/PXD028735/QExactive/postprocessing_beams/spectralis/parquet',\n",
    "    filename='LFQ_Orbitrap_DDA_QC_01'\n",
    ")\n",
    "\n",
    "spectralis_scores_candidates = spectralis_scores_candidates.rename(columns={'title': 'spectrum_id'})[['Spectralis_score', 'spectrum_id', 'rank']]\n",
    "spectralis_scores_gt = spectralis_scores_gt.rename(columns={'title': 'spectrum_id'})[['Spectralis_score', 'spectrum_id', 'rank']]"
   ]
  },
  {
   "cell_type": "code",
   "execution_count": 39,
   "id": "97da3f84",
   "metadata": {},
   "outputs": [],
   "source": [
    "casanovo_merged = casanovo_features.merge(score_df_casanovo_candidates).merge(spectralis_scores_candidates)\n",
    "gt_merged = gt_features.merge(score_df_casanovo_gt).merge(spectralis_scores_gt)"
   ]
  },
  {
   "cell_type": "code",
   "execution_count": 41,
   "id": "928b933c",
   "metadata": {},
   "outputs": [],
   "source": [
    "# Add to the casanovo psmlist features\n",
    "### Add Casanovo score\n",
    "_ = casanovo_merged.apply(\n",
    "    lambda x: add_score_to_rescoring_features(\n",
    "        rescoring_dict=x['rescoring_features'],\n",
    "        score=x['Casanovo_score'],\n",
    "        score_name='Casanovo_score'\n",
    "    ),\n",
    "    axis=1\n",
    ")\n",
    "### Add Spectralis score\n",
    "_ = casanovo_merged.apply(\n",
    "    lambda x: add_score_to_rescoring_features(\n",
    "        rescoring_dict=x['rescoring_features'],\n",
    "        score=x['Spectralis_score'],\n",
    "        score_name='Spectralis_score'\n",
    "    ),\n",
    "    axis=1\n",
    ")\n",
    "\n",
    "# Add to the ground-truth psmlist features\n",
    "### Add Casanovo score\n",
    "_ = gt_merged.apply(\n",
    "    lambda x: add_score_to_rescoring_features(\n",
    "        rescoring_dict=x['rescoring_features'],\n",
    "        score=x['Casanovo_score'],\n",
    "        score_name='Casanovo_score'\n",
    "    ),\n",
    "    axis=1\n",
    ")\n",
    "### Add Spectralis score\n",
    "_ = gt_merged.apply(\n",
    "    lambda x: add_score_to_rescoring_features(\n",
    "        rescoring_dict=x['rescoring_features'],\n",
    "        score=x['Spectralis_score'],\n",
    "        score_name='Spectralis_score'\n",
    "    ),\n",
    "    axis=1\n",
    ")"
   ]
  },
  {
   "cell_type": "markdown",
   "id": "7c425135",
   "metadata": {},
   "source": [
    "### Store the new feature sets\n",
    "\n",
    "Due to Python's variable reference system, the dictionary in the original dataframes now already hold the scores"
   ]
  },
  {
   "cell_type": "code",
   "execution_count": 51,
   "id": "494b68d7",
   "metadata": {},
   "outputs": [],
   "source": [
    "gt_features.to_parquet('/public/compomics3/Sam/PXD028735/QExactive/rescoring_beams/LFQ_Orbitrap_DDA_QC_01/features/ground_truth.parquet')\n",
    "casanovo_features.to_parquet('/public/compomics3/Sam/PXD028735/QExactive/rescoring_beams/LFQ_Orbitrap_DDA_QC_01/features/casanovo.parquet')"
   ]
  },
  {
   "cell_type": "markdown",
   "id": "aa4d516d",
   "metadata": {},
   "source": [
    "## 2. Fit the mokapot models on the ground-truth using different feature sets"
   ]
  },
  {
   "cell_type": "code",
   "execution_count": 52,
   "id": "bdee884a",
   "metadata": {},
   "outputs": [],
   "source": [
    "from denovo_utils.io.read import load_psmlist_and_features\n",
    "from denovo_utils.rescoring import DeNovoRescorer"
   ]
  },
  {
   "cell_type": "code",
   "execution_count": 53,
   "id": "b3c384ef",
   "metadata": {},
   "outputs": [
    {
     "name": "stderr",
     "output_type": "stream",
     "text": [
      "Loading results from ground_truth.parquet: 100%|██████████| 83941/83941 [00:10<00:00, 8265.46it/s]\n",
      "Loading results from casanovo.parquet: 100%|██████████| 352220/352220 [00:53<00:00, 6635.40it/s]\n"
     ]
    }
   ],
   "source": [
    "root_psmlist = '/public/compomics3/Sam/PXD028735/QExactive/rescoring_beams/LFQ_Orbitrap_DDA_QC_01/psmlist'\n",
    "root_features = '/public/compomics3/Sam/PXD028735/QExactive/rescoring_beams/LFQ_Orbitrap_DDA_QC_01/features'\n",
    "\n",
    "gt_psmlist = load_psmlist_and_features(\n",
    "    psm_path=os.path.join(root_psmlist, 'ground_truth.parquet'),\n",
    "    feature_path=os.path.join(root_features, 'ground_truth.parquet')\n",
    ")\n",
    "\n",
    "casanovo_candidates_psmlist = load_psmlist_and_features(\n",
    "    psm_path=os.path.join(root_psmlist, 'casanovo.parquet'),\n",
    "    feature_path=os.path.join(root_features, 'casanovo.parquet')\n",
    ")"
   ]
  },
  {
   "cell_type": "code",
   "execution_count": 153,
   "id": "431e9f18",
   "metadata": {},
   "outputs": [],
   "source": [
    "from ms2rescore.feature_generators import MS2PIPFeatureGenerator, DeepLCFeatureGenerator\n",
    "\n",
    "basic_features = ['charge_n', 'abs_ms1_error_ppm', 'hyperscore', 'missing_frag_count', 'missing_frag_pct']\n",
    "ms2pip_features = MS2PIPFeatureGenerator(processes=1).feature_names\n",
    "deeplc_features = DeepLCFeatureGenerator().feature_names\n",
    "casanovo_feature = ['Casanovo_score']\n",
    "spectralis_feature = ['Spectralis_score']\n",
    "\n",
    "feature_names = {\n",
    "    'Basic': basic_features,\n",
    "    'MS2PIP': ms2pip_features,\n",
    "    'DeepLC': deeplc_features,\n",
    "    'Casanovo': casanovo_feature,\n",
    "    'Spectralis': spectralis_feature\n",
    "}"
   ]
  },
  {
   "cell_type": "code",
   "execution_count": 157,
   "id": "26bbab4c",
   "metadata": {},
   "outputs": [],
   "source": [
    "# Create feature configurations\n",
    "import json\n",
    "from itertools import chain\n",
    "import copy\n",
    "with open('/home/sam/Work_directory/DeNovo_Benchmark/configs/ms2rescore/config_default.json', 'r') as f:\n",
    "    config = json.load(f)\n",
    "\n",
    "config_1 = copy.deepcopy(config) # MS2Rescore base\n",
    "config_1['ms2rescore']['rescoring_features'] = feature_names['Basic'] + feature_names['MS2PIP'] + feature_names['DeepLC']\n",
    "\n",
    "config_2 = copy.deepcopy(config) # MS2Rescore + Casanovo score\n",
    "config_2['ms2rescore']['rescoring_features'] = feature_names['Basic'] + feature_names['MS2PIP'] + feature_names['DeepLC'] + feature_names['Casanovo']\n",
    "\n",
    "config_3 = copy.deepcopy(config) # MS2Rescore + Spectralis score\n",
    "config_3['ms2rescore']['rescoring_features'] = feature_names['Basic'] + feature_names['MS2PIP'] + feature_names['DeepLC'] + feature_names['Spectralis']\n",
    "\n",
    "config_4 = copy.deepcopy(config) # MS2Rescore + Casanovo score + Spectralis score\n",
    "config_4['ms2rescore']['rescoring_features'] = feature_names['Basic'] + feature_names['MS2PIP'] + feature_names['DeepLC'] + feature_names['Casanovo'] + feature_names['Spectralis']\n"
   ]
  },
  {
   "cell_type": "code",
   "execution_count": 158,
   "id": "023a24b3",
   "metadata": {},
   "outputs": [],
   "source": [
    "drs_1 = DeNovoRescorer(\n",
    "    configuration=config_1\n",
    ")\n",
    "\n",
    "drs_2 = DeNovoRescorer(\n",
    "    configuration=config_2\n",
    ")\n",
    "\n",
    "drs_3 = DeNovoRescorer(\n",
    "    configuration=config_3\n",
    ")\n",
    "\n",
    "drs_4 = DeNovoRescorer(\n",
    "    configuration=config_4\n",
    ")"
   ]
  },
  {
   "cell_type": "code",
   "execution_count": 159,
   "id": "bc49abcb",
   "metadata": {},
   "outputs": [],
   "source": [
    "drs_1.train_mokapot_models(\n",
    "    psm_list=gt_psmlist,\n",
    "    save_folder='/public/compomics3/Sam/PXD028735/QExactive/rescoring_beams/LFQ_Orbitrap_DDA_QC_01/mokapot_diff_features/set_1'\n",
    ")\n",
    "drs_2.train_mokapot_models(\n",
    "    psm_list=gt_psmlist,\n",
    "    save_folder='/public/compomics3/Sam/PXD028735/QExactive/rescoring_beams/LFQ_Orbitrap_DDA_QC_01/mokapot_diff_features/set_2'\n",
    ")\n",
    "drs_3.train_mokapot_models(\n",
    "    psm_list=gt_psmlist,\n",
    "    save_folder='/public/compomics3/Sam/PXD028735/QExactive/rescoring_beams/LFQ_Orbitrap_DDA_QC_01/mokapot_diff_features/set_3'\n",
    ")\n",
    "drs_4.train_mokapot_models(\n",
    "    psm_list=gt_psmlist,\n",
    "    save_folder='/public/compomics3/Sam/PXD028735/QExactive/rescoring_beams/LFQ_Orbitrap_DDA_QC_01/mokapot_diff_features/set_4'\n",
    ")"
   ]
  },
  {
   "cell_type": "markdown",
   "id": "073d58d5",
   "metadata": {},
   "source": [
    "## 3. Infer new PSM-scores"
   ]
  },
  {
   "cell_type": "markdown",
   "id": "9212bf1f",
   "metadata": {},
   "source": [
    "### 1. Default MS2Rescore"
   ]
  },
  {
   "cell_type": "code",
   "execution_count": 160,
   "id": "73a4d0e6",
   "metadata": {},
   "outputs": [],
   "source": [
    "drs_1.rescore(\n",
    "    psm_list=gt_psmlist,\n",
    "    denovo=False\n",
    ")"
   ]
  },
  {
   "cell_type": "code",
   "execution_count": 161,
   "id": "67be23a2",
   "metadata": {},
   "outputs": [],
   "source": [
    "drs_1.rescore(\n",
    "    psm_list=casanovo_candidates_psmlist,\n",
    "    denovo=True\n",
    ")"
   ]
  },
  {
   "cell_type": "code",
   "execution_count": 162,
   "id": "b512cbb7",
   "metadata": {},
   "outputs": [],
   "source": [
    "gt_scores = {\n",
    "    'spectrum_id': gt_psmlist['spectrum_id'],\n",
    "    'score_default_ms2rescore': gt_psmlist['score'],\n",
    "    'qvalue_default_ms2rescore': gt_psmlist['qvalue'],\n",
    "}"
   ]
  },
  {
   "cell_type": "code",
   "execution_count": 163,
   "id": "f3cb4b1f",
   "metadata": {},
   "outputs": [],
   "source": [
    "casanovo_candidate_scores = {\n",
    "    'spectrum_id': casanovo_candidates_psmlist['spectrum_id'],\n",
    "    'rank': casanovo_candidates_psmlist['rank'],\n",
    "    'score_default_ms2rescore': [psm['score_ms2rescore'] for psm in casanovo_candidates_psmlist['provenance_data']]\n",
    "}"
   ]
  },
  {
   "cell_type": "markdown",
   "id": "66771ac3",
   "metadata": {},
   "source": [
    "### 2. Default MS2Rescore + casanovo"
   ]
  },
  {
   "cell_type": "code",
   "execution_count": 164,
   "id": "2efad1c9",
   "metadata": {},
   "outputs": [],
   "source": [
    "drs_2.rescore(\n",
    "    psm_list=gt_psmlist,\n",
    "    denovo=False\n",
    ")\n",
    "drs_2.rescore(\n",
    "    psm_list=casanovo_candidates_psmlist,\n",
    "    denovo=True\n",
    ")"
   ]
  },
  {
   "cell_type": "code",
   "execution_count": 165,
   "id": "ddca06d7",
   "metadata": {},
   "outputs": [],
   "source": [
    "gt_scores['score_ms2rescore_casanovo'] = gt_psmlist['score']\n",
    "gt_scores['qvalue_ms2rescore_casanovo'] = gt_psmlist['qvalue']\n",
    "casanovo_candidate_scores['score_ms2rescore_casanovo'] = [psm['score_ms2rescore'] for psm in casanovo_candidates_psmlist['provenance_data']]"
   ]
  },
  {
   "cell_type": "markdown",
   "id": "70d417cc",
   "metadata": {},
   "source": [
    "### 3. Default MS2Rescore + spectralis"
   ]
  },
  {
   "cell_type": "code",
   "execution_count": 166,
   "id": "d501cab1",
   "metadata": {},
   "outputs": [],
   "source": [
    "drs_3.rescore(\n",
    "    psm_list=gt_psmlist,\n",
    "    denovo=False\n",
    ")\n",
    "drs_3.rescore(\n",
    "    psm_list=casanovo_candidates_psmlist,\n",
    "    denovo=True\n",
    ")"
   ]
  },
  {
   "cell_type": "code",
   "execution_count": 167,
   "id": "66736759",
   "metadata": {},
   "outputs": [],
   "source": [
    "gt_scores['score_ms2rescore_spectralis'] = gt_psmlist['score']\n",
    "gt_scores['qvalue_ms2rescore_spectralis'] = gt_psmlist['qvalue']\n",
    "casanovo_candidate_scores['score_ms2rescore_spectralis'] = [psm['score_ms2rescore'] for psm in casanovo_candidates_psmlist['provenance_data']]"
   ]
  },
  {
   "cell_type": "markdown",
   "id": "ed5d9493",
   "metadata": {},
   "source": [
    "### 4. Default MS2Rescore + casanovo + spectralis"
   ]
  },
  {
   "cell_type": "code",
   "execution_count": null,
   "id": "5a6d995d",
   "metadata": {},
   "outputs": [],
   "source": [
    "drs_4.rescore(\n",
    "    psm_list=gt_psmlist,\n",
    "    denovo=False\n",
    ")\n",
    "drs_4.rescore(\n",
    "    psm_list=casanovo_candidates_psmlist,\n",
    "    denovo=True\n",
    ")"
   ]
  },
  {
   "cell_type": "code",
   "execution_count": null,
   "id": "3718d616",
   "metadata": {},
   "outputs": [],
   "source": [
    "gt_scores['score_ms2rescore_casanovo_spectralis'] = gt_psmlist['score']\n",
    "gt_scores['qvalue_ms2rescore_casanovo_spectralis'] = gt_psmlist['qvalue']\n",
    "casanovo_candidate_scores['score_ms2rescore_casanovo_spectralis'] = [psm['score_ms2rescore'] for psm in casanovo_candidates_psmlist['provenance_data']]"
   ]
  },
  {
   "cell_type": "markdown",
   "id": "9983d681",
   "metadata": {},
   "source": [
    "## 4. Store the new scores"
   ]
  },
  {
   "cell_type": "code",
   "execution_count": null,
   "id": "54c473ec",
   "metadata": {},
   "outputs": [],
   "source": [
    "pd.DataFrame(gt_scores).to_csv('/public/compomics3/Sam/PXD028735/QExactive/rescoring_beams/LFQ_Orbitrap_DDA_QC_01/mokapot_diff_features/gt_scores.csv')"
   ]
  },
  {
   "cell_type": "code",
   "execution_count": null,
   "id": "6725f1e2",
   "metadata": {},
   "outputs": [],
   "source": [
    "pd.DataFrame(casanovo_candidate_scores).to_csv('/public/compomics3/Sam/PXD028735/QExactive/rescoring_beams/LFQ_Orbitrap_DDA_QC_01/mokapot_diff_features/casanovo_candidate_scores.csv', index=False)"
   ]
  },
  {
   "cell_type": "markdown",
   "id": "258ac061",
   "metadata": {},
   "source": [
    "# 5. Check the influence on database results"
   ]
  },
  {
   "cell_type": "code",
   "execution_count": null,
   "id": "e587e17e",
   "metadata": {},
   "outputs": [],
   "source": [
    "gt_scores['is_decoy'] = gt_psmlist['is_decoy']"
   ]
  },
  {
   "cell_type": "code",
   "execution_count": null,
   "id": "c3a5555c",
   "metadata": {},
   "outputs": [],
   "source": [
    "gt_scores_df = pd.DataFrame(gt_scores)"
   ]
  },
  {
   "cell_type": "code",
   "execution_count": null,
   "id": "57fad4d4",
   "metadata": {},
   "outputs": [
    {
     "data": {
      "text/plain": [
       "Index(['spectrum_id', 'score_default_ms2rescore', 'qvalue_default_ms2rescore',\n",
       "       'score_ms2rescore_casanovo', 'qvalue_ms2rescore_casanovo',\n",
       "       'score_ms2rescore_spectralis', 'qvalue_ms2rescore_spectralis',\n",
       "       'score_ms2rescore_casanovo_spectralis',\n",
       "       'qvalue_ms2rescore_casanovo_spectralis', 'is_decoy'],\n",
       "      dtype='object')"
      ]
     },
     "execution_count": 114,
     "metadata": {},
     "output_type": "execute_result"
    }
   ],
   "source": [
    "gt_scores_df.columns"
   ]
  },
  {
   "cell_type": "code",
   "execution_count": null,
   "id": "08f13150",
   "metadata": {},
   "outputs": [],
   "source": [
    "def get_psm_type(row, qvalue_column):\n",
    "    if row['is_decoy']:\n",
    "        return 'decoy'\n",
    "    if row[qvalue_column]<.01:\n",
    "        return 'accepted'\n",
    "    return 'rejected'\n",
    "\n",
    "psm_type_1 = gt_scores_df.apply(lambda x: get_psm_type(x, 'qvalue_default_ms2rescore'), axis=1).value_counts()\n",
    "psm_type_2 = gt_scores_df.apply(lambda x: get_psm_type(x, 'qvalue_ms2rescore_casanovo'), axis=1).value_counts()\n",
    "psm_type_3 = gt_scores_df.apply(lambda x: get_psm_type(x, 'qvalue_ms2rescore_spectralis'), axis=1).value_counts()\n",
    "psm_type_4 = gt_scores_df.apply(lambda x: get_psm_type(x, 'qvalue_ms2rescore_casanovo_spectralis'), axis=1).value_counts()"
   ]
  },
  {
   "cell_type": "code",
   "execution_count": null,
   "id": "56ebaf84",
   "metadata": {},
   "outputs": [
    {
     "data": {
      "text/plain": [
       "accepted    62305\n",
       "rejected    11234\n",
       "decoy       10402\n",
       "dtype: int64"
      ]
     },
     "execution_count": 117,
     "metadata": {},
     "output_type": "execute_result"
    }
   ],
   "source": [
    "psm_type_1"
   ]
  },
  {
   "cell_type": "code",
   "execution_count": null,
   "id": "b52eab4e",
   "metadata": {},
   "outputs": [
    {
     "data": {
      "text/plain": [
       "accepted    63408\n",
       "decoy       10402\n",
       "rejected    10131\n",
       "dtype: int64"
      ]
     },
     "execution_count": 118,
     "metadata": {},
     "output_type": "execute_result"
    }
   ],
   "source": [
    "psm_type_2"
   ]
  },
  {
   "cell_type": "code",
   "execution_count": null,
   "id": "c875473a",
   "metadata": {},
   "outputs": [
    {
     "data": {
      "text/plain": [
       "accepted    61129\n",
       "rejected    12410\n",
       "decoy       10402\n",
       "dtype: int64"
      ]
     },
     "execution_count": 119,
     "metadata": {},
     "output_type": "execute_result"
    }
   ],
   "source": [
    "psm_type_3"
   ]
  },
  {
   "cell_type": "code",
   "execution_count": null,
   "id": "0e6a2eb3",
   "metadata": {},
   "outputs": [
    {
     "data": {
      "text/plain": [
       "accepted    61130\n",
       "rejected    12409\n",
       "decoy       10402\n",
       "dtype: int64"
      ]
     },
     "execution_count": 120,
     "metadata": {},
     "output_type": "execute_result"
    }
   ],
   "source": [
    "psm_type_4"
   ]
  },
  {
   "cell_type": "code",
   "execution_count": null,
   "id": "292ac41e",
   "metadata": {},
   "outputs": [],
   "source": [
    "from denovo_utils.io.read import load_mokapot, load_pickle\n",
    "\n",
    "feature_names_path = '/public/compomics3/Sam/PXD028735/QExactive/rescoring_beams/LFQ_Orbitrap_DDA_QC_01/mokapot_diff_features/set_3/feature_names.pkl'\n",
    "mokapot_model_path = '/public/compomics3/Sam/PXD028735/QExactive/rescoring_beams/LFQ_Orbitrap_DDA_QC_01/mokapot_diff_features/set_3'\n",
    "\n",
    "feature_names = load_pickle(\n",
    "    feature_names_path\n",
    ")\n",
    "feature_names = [feature_name.split(':')[1] for feature_name in feature_names]\n",
    "mokapot_models = load_mokapot(\n",
    "    mokapot_folder=mokapot_model_path\n",
    ")"
   ]
  },
  {
   "cell_type": "code",
   "execution_count": null,
   "id": "75847bdb",
   "metadata": {},
   "outputs": [],
   "source": [
    "coefs = {}\n",
    "for i, model in enumerate(mokapot_models):\n",
    "    coefs[f'model_{i}'] = model.estimator.coef_[0]\n",
    "\n",
    "coefs['feature_names'] = feature_names"
   ]
  },
  {
   "cell_type": "code",
   "execution_count": null,
   "id": "0af98d64",
   "metadata": {},
   "outputs": [],
   "source": [
    "import numpy as np\n",
    "coefs_df = pd.DataFrame(coefs)\n",
    "coefs_df['mean'] = coefs_df.apply(lambda x: np.mean(\n",
    "    [x['model_0'], x['model_1'], x['model_2']]\n",
    "),\n",
    "axis=1)"
   ]
  },
  {
   "cell_type": "code",
   "execution_count": null,
   "id": "1abbcf62",
   "metadata": {},
   "outputs": [
    {
     "data": {
      "text/plain": [
       "<Axes: xlabel='mean', ylabel='feature_names'>"
      ]
     },
     "execution_count": 150,
     "metadata": {},
     "output_type": "execute_result"
    },
    {
     "data": {
      "image/png": "[encoded data removed]",
      "text/plain": [
       "<Figure size 1000x1500 with 1 Axes>"
      ]
     },
     "metadata": {},
     "output_type": "display_data"
    }
   ],
   "source": [
    "import seaborn as sns\n",
    "import matplotlib.pyplot as plt\n",
    "\n",
    "plt.figure(figsize=(10,15))\n",
    "\n",
    "sns.barplot(\n",
    "    coefs_df,\n",
    "    x='mean',\n",
    "    y='feature_names'\n",
    ")"
   ]
  }
 ],
 "metadata": {
  "kernelspec": {
   "display_name": "denovo_analysis_env",
   "language": "python",
   "name": "python3"
  },
  "language_info": {
   "codemirror_mode": {
    "name": "ipython",
    "version": 3
   },
   "file_extension": ".py",
   "mimetype": "text/x-python",
   "name": "python",
   "nbconvert_exporter": "python",
   "pygments_lexer": "ipython3",
   "version": "3.11.9"
  }
 },
 "nbformat": 4,
 "nbformat_minor": 5
}
