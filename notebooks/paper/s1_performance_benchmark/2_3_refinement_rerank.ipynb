{
 "cells": [
  {
   "cell_type": "markdown",
   "metadata": {},
   "source": [
    "# Effect of rescoring on re-ranking PSMs"
   ]
  },
  {
   "cell_type": "code",
   "execution_count": 50,
   "metadata": {},
   "outputs": [],
   "source": [
    "from denovo_utils.data import Run\n",
    "from denovo_utils.parsers import DenovoEngineConverter\n",
    "from denovo_utils.parsers.converters.spectralis import load_spectralis_rescoring\n",
    "from denovo_utils.io.read import load_psmlist\n",
    "\n",
    "from psm_utils import PSMList\n",
    "from tqdm import tqdm\n",
    "from glob import glob\n",
    "from itertools import chain\n",
    "\n",
    "import pandas as pd\n",
    "import os"
   ]
  },
  {
   "cell_type": "markdown",
   "metadata": {},
   "source": [
    "# 1. Load the data in Run object"
   ]
  },
  {
   "cell_type": "markdown",
   "metadata": {},
   "source": [
    "We will only use the following run: LFQ_Orbitrap_DDA_QC_01\n",
    "\n",
    "The reason for this is simply processing time, as we include the top 10 hits."
   ]
  },
  {
   "cell_type": "code",
   "execution_count": 2,
   "metadata": {},
   "outputs": [],
   "source": [
    "from denovo_utils.data.run import read_runs"
   ]
  },
  {
   "cell_type": "code",
   "execution_count": 3,
   "metadata": {},
   "outputs": [],
   "source": [
    "filenames = ['LFQ_Orbitrap_DDA_QC_01']\n",
    "\n",
    "root_mgf = f'/public/compomics3/Sam/PXD028735/QExactive/mgf_reformatted'\n",
    "root_psmlist = f'/public/compomics3/Sam/PXD028735/QExactive/rescoring_beams'\n",
    "root_postprocessing = f'/public/compomics3/Sam/PXD028735/QExactive/postprocessing_beams'\n",
    "\n",
    "format_ground_truth = 'parquet'\n",
    "\n",
    "rescored_db = True\n",
    "rescored_denovo = True\n",
    "rescored_refinement = False"
   ]
  },
  {
   "cell_type": "code",
   "execution_count": 4,
   "metadata": {},
   "outputs": [
    {
     "name": "stderr",
     "output_type": "stream",
     "text": [
      "Loading results from ground_truth.parquet: 100%|██████████| 83941/83941 [00:10<00:00, 7955.94it/s]\n",
      "Loading PSMs in Run object (LFQ_Orbitrap_DDA_QC_01): 100%|██████████| 83941/83941 [00:04<00:00, 18456.02it/s]\n",
      "Loading results from casanovo.parquet: 100%|██████████| 352220/352220 [00:48<00:00, 7197.62it/s]\n",
      "Loading PSMs in Run object (LFQ_Orbitrap_DDA_QC_01): 100%|██████████| 352220/352220 [00:24<00:00, 14123.69it/s]\n",
      "Loading Spectralis results: 100%|██████████| 10/10 [00:01<00:00,  7.74it/s]\n",
      "100%|██████████| 352220/352220 [00:07<00:00, 44731.01it/s]\n",
      "Parsing Instanovo+ results to PSMList: 100%|██████████| 352183/352183 [00:12<00:00, 28569.72it/s]\n"
     ]
    }
   ],
   "source": [
    "runs = read_runs(\n",
    "    root_denovo_output=root_psmlist,\n",
    "    root_ground_truth=root_psmlist,\n",
    "    root_refinement=root_postprocessing,\n",
    "    root_mgf=root_mgf,\n",
    "    filenames=filenames,\n",
    "    engine_names=[\n",
    "        'casanovo'\n",
    "    ],\n",
    "    refinement_names=[\n",
    "        'spectralis',\n",
    "        'instanovoplus'\n",
    "    ],\n",
    "    format_ground_truth=format_ground_truth,\n",
    "    rescored_db=rescored_db,\n",
    "    rescored_denovo=rescored_denovo,\n",
    "    rescored_refinement=rescored_refinement\n",
    ")"
   ]
  },
  {
   "cell_type": "code",
   "execution_count": 5,
   "metadata": {},
   "outputs": [],
   "source": [
    "run = runs['LFQ_Orbitrap_DDA_QC_01']"
   ]
  },
  {
   "cell_type": "code",
   "execution_count": 6,
   "metadata": {},
   "outputs": [
    {
     "name": "stderr",
     "output_type": "stream",
     "text": [
      "Loading Spectralis results: 100%|██████████| 1/1 [00:00<00:00,  3.66it/s]\n",
      "Parsing Instanovo+ results to PSMList: 100%|██████████| 83938/83938 [00:02<00:00, 29164.41it/s]\n"
     ]
    }
   ],
   "source": [
    "gt_spectralis = load_spectralis_rescoring(\n",
    "    root_path='/public/compomics3/Sam/PXD028735/QExactive/postprocessing_beams/spectralis/parquet',\n",
    "    filename=filenames[0]\n",
    ")\n",
    "\n",
    "parser = DenovoEngineConverter.select('instanovoplus')\n",
    "gt_instanovoplus = parser.parse(\n",
    "    result_path='/public/compomics3/Sam/PXD028735/QExactive/postprocessing_beams/instanovoplus/parquet/LFQ_Orbitrap_DDA_QC_01.csv',\n",
    "    mgf_path=os.path.join(root_mgf, filenames[0]+'.mgf')\n",
    ")"
   ]
  },
  {
   "cell_type": "code",
   "execution_count": 15,
   "metadata": {},
   "outputs": [
    {
     "name": "stderr",
     "output_type": "stream",
     "text": [
      "83941it [00:02, 30640.73it/s]\n",
      "100%|██████████| 83938/83938 [00:00<00:00, 145338.70it/s]\n"
     ]
    }
   ],
   "source": [
    "# Add re-scored scores to the ground_truth.\n",
    "\n",
    "for i, row in tqdm(gt_spectralis.iterrows()):\n",
    "    spectrum = run.get_spectrum(row['title'])\n",
    "    if spectrum is None:\n",
    "        continue\n",
    "    spectrum.psm_gt.scores.add_score(\n",
    "        score=row['Spectralis_score'],\n",
    "        metadata='Spectralis',\n",
    "        score_type='peptide'\n",
    "    )\n",
    "\n",
    "scores_added = 0\n",
    "scores_ignored = 0\n",
    "for psm in tqdm(gt_instanovoplus):\n",
    "    spectrum = run.get_spectrum(psm['spectrum_id'])\n",
    "    if spectrum is None:\n",
    "        continue\n",
    "\n",
    "    if spectrum.psm_gt.peptidoform == psm['peptidoform']:\n",
    "        spectrum.psm_gt.scores.add_score(\n",
    "            score=psm['score'],\n",
    "            metadata='InstaNovo+',\n",
    "            score_type='peptide'\n",
    "        )\n",
    "        scores_added += 1\n",
    "    else:\n",
    "        scores_ignored += 1"
   ]
  },
  {
   "cell_type": "code",
   "execution_count": 25,
   "metadata": {},
   "outputs": [],
   "source": [
    "for spectra in run.spectra.values():\n",
    "    for psm in spectra.psm_candidates:\n",
    "        try:\n",
    "            _ = psm.scores.get_score('InstaNovo+')\n",
    "\n",
    "        except:\n",
    "            if len(psm.refinement)==0:\n",
    "                pass\n",
    "                \n",
    "            else:\n",
    "                psm.scores.add_score(\n",
    "                    psm.refinement['InstaNovo+'][0].scores.get_score('InstaNovo+'),\n",
    "                    metadata='InstaNovo+',\n",
    "                    score_type='peptide',\n",
    "                    overwrite=True\n",
    "                )"
   ]
  },
  {
   "cell_type": "markdown",
   "metadata": {},
   "source": [
    "Add the ms2rescore scores fitted with different feature sets"
   ]
  },
  {
   "cell_type": "code",
   "execution_count": 53,
   "metadata": {},
   "outputs": [],
   "source": [
    "gt_scores_mokapot = pd.read_csv(\n",
    "    '/public/compomics3/Sam/PXD028735/QExactive/rescoring_beams/LFQ_Orbitrap_DDA_QC_01/mokapot_diff_features/gt_scores.csv'\n",
    ")\n",
    "casanovo_scores_mokapot = pd.read_csv(\n",
    "    '/public/compomics3/Sam/PXD028735/QExactive/rescoring_beams/LFQ_Orbitrap_DDA_QC_01/mokapot_diff_features/casanovo_candidate_scores.csv'\n",
    ")"
   ]
  },
  {
   "cell_type": "code",
   "execution_count": 58,
   "metadata": {},
   "outputs": [
    {
     "name": "stderr",
     "output_type": "stream",
     "text": [
      "83941it [00:03, 26142.50it/s]\n"
     ]
    }
   ],
   "source": [
    "for i, row in tqdm(gt_scores_mokapot.iterrows()):\n",
    "    spectrum = run.get_spectrum(row['spectrum_id'])\n",
    "    if spectrum is None:\n",
    "        continue\n",
    "    spectrum.psm_gt.scores.add_score(\n",
    "        score=row['score_default_ms2rescore'],\n",
    "        metadata='ms2rescore_default',\n",
    "        score_type='peptide'\n",
    "    )\n",
    "    spectrum.psm_gt.scores.add_score(\n",
    "        score=row['score_ms2rescore_casanovo'],\n",
    "        metadata='ms2rescore_casanovo',\n",
    "        score_type='peptide'\n",
    "    )\n",
    "    spectrum.psm_gt.scores.add_score(\n",
    "        score=row['score_ms2rescore_spectralis'],\n",
    "        metadata='ms2rescore_spectralis',\n",
    "        score_type='peptide'\n",
    "    )\n",
    "    spectrum.psm_gt.scores.add_score(\n",
    "        score=row['score_ms2rescore_casanovo_spectralis'],\n",
    "        metadata='ms2rescore_casanovo_spectralis',\n",
    "        score_type='peptide'\n",
    "    )"
   ]
  },
  {
   "cell_type": "code",
   "execution_count": 59,
   "metadata": {},
   "outputs": [
    {
     "name": "stderr",
     "output_type": "stream",
     "text": [
      "352220it [00:19, 17989.44it/s]\n"
     ]
    }
   ],
   "source": [
    "for i, row in tqdm(casanovo_scores_mokapot.iterrows()):\n",
    "    spectrum = run.get_spectrum(row['spectrum_id'])\n",
    "    if spectrum is None:\n",
    "        continue\n",
    "\n",
    "    for psm in spectrum.psm_candidates:\n",
    "        if psm.rank == row['rank']:\n",
    "            psm.scores.add_score(\n",
    "                score=row['score_default_ms2rescore'],\n",
    "                metadata='ms2rescore_default',\n",
    "                score_type='peptide'\n",
    "            )\n",
    "            psm.scores.add_score(\n",
    "                score=row['score_ms2rescore_casanovo'],\n",
    "                metadata='ms2rescore_casanovo',\n",
    "                score_type='peptide'\n",
    "            )\n",
    "            psm.scores.add_score(\n",
    "                score=row['score_ms2rescore_spectralis'],\n",
    "                metadata='ms2rescore_spectralis',\n",
    "                score_type='peptide'\n",
    "            )\n",
    "            psm.scores.add_score(\n",
    "                score=row['score_ms2rescore_casanovo_spectralis'],\n",
    "                metadata='ms2rescore_casanovo_spectralis',\n",
    "                score_type='peptide'\n",
    "            )"
   ]
  },
  {
   "cell_type": "code",
   "execution_count": 60,
   "metadata": {},
   "outputs": [],
   "source": [
    "# Get the ranks of correct casanovo predictions and their score\n",
    "for specid, spectra in run.spectra.items():\n",
    "    spectra.rerank(\n",
    "        score_name='casanovo',\n",
    "        engines='casanovo',\n",
    "        rank_metadata='casanovo'\n",
    "    )\n",
    "    spectra.rerank(\n",
    "        score_name='score_ms2rescore',\n",
    "        engines='casanovo',\n",
    "        rank_metadata='ms2rescore'\n",
    "    )\n",
    "    spectra.rerank(\n",
    "        score_name='Spectralis',\n",
    "        engines='casanovo',\n",
    "        rank_metadata='Spectralis'\n",
    "    )\n",
    "    spectra.rerank(\n",
    "        score_name='ms2rescore_default',\n",
    "        engines='casanovo',\n",
    "        rank_metadata='ms2rescore_default'\n",
    "    )\n",
    "    spectra.rerank(\n",
    "        score_name='ms2rescore_casanovo',\n",
    "        engines='casanovo',\n",
    "        rank_metadata='ms2rescore_casanovo'\n",
    "    )\n",
    "    spectra.rerank(\n",
    "        score_name='ms2rescore_spectralis',\n",
    "        engines='casanovo',\n",
    "        rank_metadata='ms2rescore_spectralis'\n",
    "    )\n",
    "    spectra.rerank(\n",
    "        score_name='ms2rescore_casanovo_spectralis',\n",
    "        engines='casanovo',\n",
    "        rank_metadata='ms2rescore_casanovo_spectralis'\n",
    "    )\n",
    "\n",
    "    # If InstaNovo+ changed the peptide sequence,\n",
    "    # just rank as it would.\n",
    "    # Create the table for rank and correctness separately\n",
    "    # spectra.rerank(\n",
    "    #     score_name='InstaNovo+',\n",
    "    #     engines='casanovo',\n",
    "    #     rank_metadata='InstaNovo+'\n",
    "    # )"
   ]
  },
  {
   "cell_type": "code",
   "execution_count": 61,
   "metadata": {},
   "outputs": [
    {
     "name": "stderr",
     "output_type": "stream",
     "text": [
      "100%|██████████| 61132/61132 [01:54<00:00, 536.16it/s] \n"
     ]
    }
   ],
   "source": [
    "for specid, spectra in tqdm(run.spectra.items()):\n",
    "    \n",
    "    spectra.compare_gt(\n",
    "        metadata_score='InstaNovo+',\n",
    "        refinements=['InstaNovo+'],\n",
    "        ignore_score=True\n",
    "    )\n",
    "    spectra.compare_gt(\n",
    "        metadata_score='score_ms2rescore',\n",
    "        ignore_score=True\n",
    "    )"
   ]
  },
  {
   "cell_type": "markdown",
   "metadata": {},
   "source": [
    "Get correct spectra for InstaNovo+ if they are there"
   ]
  },
  {
   "cell_type": "code",
   "execution_count": 62,
   "metadata": {},
   "outputs": [],
   "source": [
    "run_correct = run.get_correct_spectra(\n",
    "    engines='casanovo',\n",
    "    score_metadata='score_ms2rescore'\n",
    ")"
   ]
  },
  {
   "cell_type": "code",
   "execution_count": 63,
   "metadata": {},
   "outputs": [
    {
     "data": {
      "text/plain": [
       "35222 spectra loaded from 1 engines (['casanovo'])."
      ]
     },
     "execution_count": 63,
     "metadata": {},
     "output_type": "execute_result"
    }
   ],
   "source": [
    "run_correct"
   ]
  },
  {
   "cell_type": "code",
   "execution_count": 67,
   "metadata": {},
   "outputs": [
    {
     "name": "stderr",
     "output_type": "stream",
     "text": [
      "100%|██████████| 35222/35222 [00:00<00:00, 441426.53it/s]\n"
     ]
    }
   ],
   "source": [
    "reranking_data = []\n",
    "\n",
    "for specid, spectra in tqdm(run_correct.spectra.items()):\n",
    "    psm = spectra.psm_candidates[0]\n",
    "\n",
    "    datapoint = {}\n",
    "\n",
    "    datapoint['spectrum_id'] = specid\n",
    "    datapoint['Casanovo'] = psm.metadata['casanovo']\n",
    "    # datapoint['MS2Rescore'] = psm.metadata['ms2rescore']\n",
    "    # datapoint['InstaNovo+'] = psm.metadata['InstaNovo+']\n",
    "    datapoint['Spectralis'] = psm.metadata['Spectralis']\n",
    "    datapoint['ms2rescore_default'] = psm.metadata['ms2rescore_default']\n",
    "    datapoint['ms2rescore_casanovo'] = psm.metadata['ms2rescore_casanovo']\n",
    "    datapoint['ms2rescore_spectralis'] = psm.metadata['ms2rescore_spectralis']\n",
    "    datapoint['ms2rescore_casanovo_spectralis'] = psm.metadata['ms2rescore_casanovo_spectralis']\n",
    "    \n",
    "    # datapoint['IN+ validity'] = psm.refinement['InstaNovo+'][1]\n",
    "\n",
    "    reranking_data.append(datapoint)"
   ]
  },
  {
   "cell_type": "code",
   "execution_count": 69,
   "metadata": {},
   "outputs": [],
   "source": [
    "reranking_df = pd.DataFrame(reranking_data)\n",
    "reranking_df_melted = reranking_df.melt(\n",
    "    id_vars=['spectrum_id'],\n",
    "    value_vars=[\n",
    "        'Casanovo',\n",
    "        # 'MS2Rescore',\n",
    "        'Spectralis',\n",
    "        'ms2rescore_default',\n",
    "        'ms2rescore_casanovo',\n",
    "        'ms2rescore_spectralis',\n",
    "        'ms2rescore_casanovo_spectralis'\n",
    "    ]\n",
    ")\n",
    "reranking_df_melted = reranking_df_melted.value_counts(['variable', 'value']).reset_index()\n",
    "reranking_df_counts = reranking_df_melted.rename(columns={\n",
    "    'variable': 'Scoring method',\n",
    "    'value': 'PSM rank',\n",
    "    0: '# correct PSMs'\n",
    "})"
   ]
  },
  {
   "cell_type": "code",
   "execution_count": 70,
   "metadata": {},
   "outputs": [
    {
     "data": {
      "text/plain": [
       "<Axes: xlabel='PSM rank', ylabel='# correct PSMs'>"
      ]
     },
     "execution_count": 70,
     "metadata": {},
     "output_type": "execute_result"
    },
    {
     "data": {
      "image/png": "[encoded data removed]",
      "text/plain": [
       "<Figure size 640x480 with 1 Axes>"
      ]
     },
     "metadata": {},
     "output_type": "display_data"
    }
   ],
   "source": [
    "import seaborn as sns\n",
    "import matplotlib.pyplot as plt\n",
    "%matplotlib inline\n",
    "\n",
    "sns.barplot(\n",
    "    reranking_df_counts,\n",
    "    x='PSM rank',\n",
    "    y='# correct PSMs',\n",
    "    hue='Scoring method'\n",
    ")"
   ]
  },
  {
   "cell_type": "code",
   "execution_count": 38,
   "metadata": {},
   "outputs": [
    {
     "data": {
      "text/plain": [
       "<Axes: xlabel='PSM rank', ylabel='# correct PSMs'>"
      ]
     },
     "execution_count": 38,
     "metadata": {},
     "output_type": "execute_result"
    },
    {
     "data": {
      "image/png": "[encoded data removed]",
      "text/plain": [
       "<Figure size 640x480 with 1 Axes>"
      ]
     },
     "metadata": {},
     "output_type": "display_data"
    }
   ],
   "source": [
    "import seaborn as sns\n",
    "import matplotlib.pyplot as plt\n",
    "%matplotlib inline\n",
    "\n",
    "sns.barplot(\n",
    "    reranking_df_counts,\n",
    "    x='PSM rank',\n",
    "    y='# correct PSMs',\n",
    "    hue='Scoring method'\n",
    ")"
   ]
  },
  {
   "cell_type": "code",
   "execution_count": 42,
   "metadata": {},
   "outputs": [],
   "source": [
    "correct_spectra = list(run_correct.spectra.keys())"
   ]
  },
  {
   "cell_type": "code",
   "execution_count": 43,
   "metadata": {},
   "outputs": [],
   "source": [
    "run_false = Run(run_id='False identifications')\n",
    "for spectrum in run.spectra.keys():\n",
    "\n",
    "    if spectrum in correct_spectra:\n",
    "        continue\n",
    "    run_false.add_spectrum(\n",
    "        run.get_spectrum(spectrum)\n",
    "    )"
   ]
  },
  {
   "cell_type": "code",
   "execution_count": null,
   "metadata": {},
   "outputs": [
    {
     "ename": "NameError",
     "evalue": "name 'reranking_data' is not defined",
     "output_type": "error",
     "traceback": [
      "\u001b[0;31m---------------------------------------------------------------------------\u001b[0m",
      "\u001b[0;31mNameError\u001b[0m                                 Traceback (most recent call last)",
      "Cell \u001b[0;32mIn[34], line 1\u001b[0m\n\u001b[0;32m----> 1\u001b[0m reranking_df \u001b[38;5;241m=\u001b[39m pd\u001b[38;5;241m.\u001b[39mDataFrame(\u001b[43mreranking_data\u001b[49m)\n\u001b[1;32m      2\u001b[0m reranking_df_melted \u001b[38;5;241m=\u001b[39m reranking_df\u001b[38;5;241m.\u001b[39mmelt(\n\u001b[1;32m      3\u001b[0m     id_vars\u001b[38;5;241m=\u001b[39m[\u001b[38;5;124m'\u001b[39m\u001b[38;5;124mspectrum_id\u001b[39m\u001b[38;5;124m'\u001b[39m, \u001b[38;5;124m'\u001b[39m\u001b[38;5;124mIN+ validity\u001b[39m\u001b[38;5;124m'\u001b[39m],\n\u001b[1;32m      4\u001b[0m     value_vars\u001b[38;5;241m=\u001b[39m[\u001b[38;5;124m'\u001b[39m\u001b[38;5;124mCasanovo\u001b[39m\u001b[38;5;124m'\u001b[39m, \u001b[38;5;124m'\u001b[39m\u001b[38;5;124mMS2Rescore\u001b[39m\u001b[38;5;124m'\u001b[39m, \u001b[38;5;124m'\u001b[39m\u001b[38;5;124mSpectralis\u001b[39m\u001b[38;5;124m'\u001b[39m, \u001b[38;5;124m'\u001b[39m\u001b[38;5;124mInstaNovo+\u001b[39m\u001b[38;5;124m'\u001b[39m]\n\u001b[1;32m      5\u001b[0m )\n\u001b[1;32m      6\u001b[0m reranking_df_melted \u001b[38;5;241m=\u001b[39m reranking_df_melted[\n\u001b[1;32m      7\u001b[0m     reranking_df_melted[\u001b[38;5;124m'\u001b[39m\u001b[38;5;124mIN+ validity\u001b[39m\u001b[38;5;124m'\u001b[39m]\n\u001b[1;32m      8\u001b[0m ]\u001b[38;5;241m.\u001b[39mvalue_counts([\u001b[38;5;124m'\u001b[39m\u001b[38;5;124mvariable\u001b[39m\u001b[38;5;124m'\u001b[39m, \u001b[38;5;124m'\u001b[39m\u001b[38;5;124mvalue\u001b[39m\u001b[38;5;124m'\u001b[39m])\u001b[38;5;241m.\u001b[39mreset_index()\n",
      "\u001b[0;31mNameError\u001b[0m: name 'reranking_data' is not defined"
     ]
    }
   ],
   "source": [
    "# reranking_df = pd.DataFrame(reranking_data)\n",
    "# reranking_df_melted = reranking_df.melt(\n",
    "#     id_vars=['spectrum_id', 'IN+ validity'],\n",
    "#     value_vars=['Casanovo', 'MS2Rescore', 'Spectralis', 'InstaNovo+']\n",
    "# )\n",
    "# reranking_df_melted = reranking_df_melted[\n",
    "#     reranking_df_melted['IN+ validity']\n",
    "# ].value_counts(['variable', 'value']).reset_index()\n",
    "# reranking_df_counts = reranking_df_melted.rename(columns={\n",
    "#     'variable': 'Scoring method',\n",
    "#     'value': 'PSM rank',\n",
    "#     0: '# correct PSMs'\n",
    "# })"
   ]
  },
  {
   "cell_type": "code",
   "execution_count": null,
   "metadata": {},
   "outputs": [
    {
     "data": {
      "text/plain": [
       "<Axes: xlabel='PSM rank', ylabel='# correct PSMs'>"
      ]
     },
     "execution_count": 79,
     "metadata": {},
     "output_type": "execute_result"
    },
    {
     "data": {
      "image/png": "[encoded data removed]",
      "text/plain": [
       "<Figure size 640x480 with 1 Axes>"
      ]
     },
     "metadata": {},
     "output_type": "display_data"
    }
   ],
   "source": [
    "import seaborn as sns\n",
    "import matplotlib.pyplot as plt\n",
    "%matplotlib inline\n",
    "\n",
    "sns.barplot(\n",
    "    reranking_df_counts,\n",
    "    x='PSM rank',\n",
    "    y='# correct PSMs',\n",
    "    hue='Scoring method'\n",
    ")"
   ]
  },
  {
   "cell_type": "code",
   "execution_count": 83,
   "metadata": {},
   "outputs": [
    {
     "data": {
      "text/html": [
       "<div>\n",
       "<style scoped>\n",
       "    .dataframe tbody tr th:only-of-type {\n",
       "        vertical-align: middle;\n",
       "    }\n",
       "\n",
       "    .dataframe tbody tr th {\n",
       "        vertical-align: top;\n",
       "    }\n",
       "\n",
       "    .dataframe thead th {\n",
       "        text-align: right;\n",
       "    }\n",
       "</style>\n",
       "<table border=\"1\" class=\"dataframe\">\n",
       "  <thead>\n",
       "    <tr style=\"text-align: right;\">\n",
       "      <th></th>\n",
       "      <th>spectrum_id</th>\n",
       "      <th>Casanovo</th>\n",
       "      <th>MS2Rescore</th>\n",
       "      <th>InstaNovo+</th>\n",
       "      <th>Spectralis</th>\n",
       "      <th>IN+ validity</th>\n",
       "    </tr>\n",
       "  </thead>\n",
       "  <tbody>\n",
       "    <tr>\n",
       "      <th>756</th>\n",
       "      <td>controllerType=0 controllerNumber=1 scan=108081</td>\n",
       "      <td>0</td>\n",
       "      <td>9</td>\n",
       "      <td>0</td>\n",
       "      <td>4</td>\n",
       "      <td>True</td>\n",
       "    </tr>\n",
       "    <tr>\n",
       "      <th>1934</th>\n",
       "      <td>controllerType=0 controllerNumber=1 scan=70415</td>\n",
       "      <td>0</td>\n",
       "      <td>9</td>\n",
       "      <td>0</td>\n",
       "      <td>0</td>\n",
       "      <td>True</td>\n",
       "    </tr>\n",
       "    <tr>\n",
       "      <th>2489</th>\n",
       "      <td>controllerType=0 controllerNumber=1 scan=108111</td>\n",
       "      <td>7</td>\n",
       "      <td>9</td>\n",
       "      <td>7</td>\n",
       "      <td>0</td>\n",
       "      <td>False</td>\n",
       "    </tr>\n",
       "    <tr>\n",
       "      <th>3280</th>\n",
       "      <td>controllerType=0 controllerNumber=1 scan=80930</td>\n",
       "      <td>3</td>\n",
       "      <td>9</td>\n",
       "      <td>3</td>\n",
       "      <td>9</td>\n",
       "      <td>False</td>\n",
       "    </tr>\n",
       "    <tr>\n",
       "      <th>3285</th>\n",
       "      <td>controllerType=0 controllerNumber=1 scan=74363</td>\n",
       "      <td>1</td>\n",
       "      <td>9</td>\n",
       "      <td>1</td>\n",
       "      <td>2</td>\n",
       "      <td>True</td>\n",
       "    </tr>\n",
       "    <tr>\n",
       "      <th>...</th>\n",
       "      <td>...</td>\n",
       "      <td>...</td>\n",
       "      <td>...</td>\n",
       "      <td>...</td>\n",
       "      <td>...</td>\n",
       "      <td>...</td>\n",
       "    </tr>\n",
       "    <tr>\n",
       "      <th>33208</th>\n",
       "      <td>controllerType=0 controllerNumber=1 scan=31968</td>\n",
       "      <td>8</td>\n",
       "      <td>9</td>\n",
       "      <td>9</td>\n",
       "      <td>9</td>\n",
       "      <td>False</td>\n",
       "    </tr>\n",
       "    <tr>\n",
       "      <th>33717</th>\n",
       "      <td>controllerType=0 controllerNumber=1 scan=37054</td>\n",
       "      <td>4</td>\n",
       "      <td>9</td>\n",
       "      <td>4</td>\n",
       "      <td>9</td>\n",
       "      <td>False</td>\n",
       "    </tr>\n",
       "    <tr>\n",
       "      <th>34308</th>\n",
       "      <td>controllerType=0 controllerNumber=1 scan=66847</td>\n",
       "      <td>7</td>\n",
       "      <td>9</td>\n",
       "      <td>7</td>\n",
       "      <td>8</td>\n",
       "      <td>False</td>\n",
       "    </tr>\n",
       "    <tr>\n",
       "      <th>34553</th>\n",
       "      <td>controllerType=0 controllerNumber=1 scan=113164</td>\n",
       "      <td>5</td>\n",
       "      <td>9</td>\n",
       "      <td>5</td>\n",
       "      <td>9</td>\n",
       "      <td>False</td>\n",
       "    </tr>\n",
       "    <tr>\n",
       "      <th>34561</th>\n",
       "      <td>controllerType=0 controllerNumber=1 scan=71841</td>\n",
       "      <td>0</td>\n",
       "      <td>9</td>\n",
       "      <td>0</td>\n",
       "      <td>6</td>\n",
       "      <td>True</td>\n",
       "    </tr>\n",
       "  </tbody>\n",
       "</table>\n",
       "<p>89 rows × 6 columns</p>\n",
       "</div>"
      ],
      "text/plain": [
       "                                           spectrum_id  Casanovo  MS2Rescore  \\\n",
       "756    controllerType=0 controllerNumber=1 scan=108081         0           9   \n",
       "1934    controllerType=0 controllerNumber=1 scan=70415         0           9   \n",
       "2489   controllerType=0 controllerNumber=1 scan=108111         7           9   \n",
       "3280    controllerType=0 controllerNumber=1 scan=80930         3           9   \n",
       "3285    controllerType=0 controllerNumber=1 scan=74363         1           9   \n",
       "...                                                ...       ...         ...   \n",
       "33208   controllerType=0 controllerNumber=1 scan=31968         8           9   \n",
       "33717   controllerType=0 controllerNumber=1 scan=37054         4           9   \n",
       "34308   controllerType=0 controllerNumber=1 scan=66847         7           9   \n",
       "34553  controllerType=0 controllerNumber=1 scan=113164         5           9   \n",
       "34561   controllerType=0 controllerNumber=1 scan=71841         0           9   \n",
       "\n",
       "       InstaNovo+  Spectralis  IN+ validity  \n",
       "756             0           4          True  \n",
       "1934            0           0          True  \n",
       "2489            7           0         False  \n",
       "3280            3           9         False  \n",
       "3285            1           2          True  \n",
       "...           ...         ...           ...  \n",
       "33208           9           9         False  \n",
       "33717           4           9         False  \n",
       "34308           7           8         False  \n",
       "34553           5           9         False  \n",
       "34561           0           6          True  \n",
       "\n",
       "[89 rows x 6 columns]"
      ]
     },
     "execution_count": 83,
     "metadata": {},
     "output_type": "execute_result"
    }
   ],
   "source": [
    "reranking_df[reranking_df['MS2Rescore']==9]"
   ]
  },
  {
   "cell_type": "code",
   "execution_count": 28,
   "metadata": {},
   "outputs": [
    {
     "data": {
      "text/plain": [
       "429.29511937253"
      ]
     },
     "execution_count": 28,
     "metadata": {},
     "output_type": "execute_result"
    }
   ],
   "source": [
    "from pyteomics.mass import calculate_mass\n",
    "\n",
    "calculate_mass('LLGK')"
   ]
  },
  {
   "cell_type": "code",
   "execution_count": 78,
   "metadata": {},
   "outputs": [
    {
     "data": {
      "text/plain": [
       "0.0"
      ]
     },
     "execution_count": 78,
     "metadata": {},
     "output_type": "execute_result"
    }
   ],
   "source": [
    "calculate_mass('TV') - calculate_mass('SL')"
   ]
  },
  {
   "cell_type": "code",
   "execution_count": null,
   "metadata": {},
   "outputs": [],
   "source": [
    "LNS<SD>P<SL>LLGK/2\n",
    "LNS<SD>P<SL>I<GL>K/2"
   ]
  },
  {
   "cell_type": "code",
   "execution_count": null,
   "metadata": {},
   "outputs": [],
   "source": [
    "ms2rescore_2 = LNS<SD>P<SL>LAVK/2\n",
    "ms2rescore_1 = LNS<SD>P<TV>L<GL>K/2\n",
    "ground_truth = LNS<SD>P<SL>L<GL>K/2"
   ]
  },
  {
   "cell_type": "code",
   "execution_count": 84,
   "metadata": {},
   "outputs": [
    {
     "data": {
      "image/png": "[encoded data removed]",
      "text/plain": [
       "<Figure size 640x480 with 1 Axes>"
      ]
     },
     "metadata": {},
     "output_type": "display_data"
    }
   ],
   "source": [
    "peptide = ''\n",
    "spec = plot_spectrum(\n",
    "    peak_path='/public/compomics3/Sam/PXD028735/QExactive/mgf_reformatted/LFQ_Orbitrap_DDA_QC_01.mgf',\n",
    "    spectrum_id='controllerType=0 controllerNumber=1 scan=71841',\n",
    "    peptide='LNSSDPTVLAVK/2',\n",
    "    peak_format='mgf',\n",
    "    plot=False\n",
    ")\n",
    "spec_1 = spec.annotate_proforma(\n",
    "    proforma_str='LNSSDPTVLAVK/2',\n",
    "    fragment_tol_mass=20,\n",
    "    fragment_tol_mode='ppm',\n",
    "    ion_types='by',\n",
    "    max_ion_charge=2,\n",
    "    neutral_losses=True\n",
    ")\n",
    "\n",
    "spec = plot_spectrum(\n",
    "    peak_path='/public/compomics3/Sam/PXD028735/QExactive/mgf_reformatted/LFQ_Orbitrap_DDA_QC_01.mgf',\n",
    "    spectrum_id='controllerType=0 controllerNumber=1 scan=71841',\n",
    "    peptide='LNSSDPSLLGLK/2',\n",
    "    peak_format='mgf',\n",
    "    plot=False\n",
    ")\n",
    "spec_2 = spec.annotate_proforma(\n",
    "    proforma_str='LNSSDPSLLGLK/2',\n",
    "    fragment_tol_mass=20,\n",
    "    fragment_tol_mode='ppm',\n",
    "    ion_types='by',\n",
    "    max_ion_charge=2,\n",
    "    neutral_losses=True\n",
    ")\n",
    "\n",
    "sup.mirror(spec_1, spec_2)\n",
    "plt.show()"
   ]
  },
  {
   "cell_type": "code",
   "execution_count": 22,
   "metadata": {},
   "outputs": [
    {
     "data": {
      "text/plain": [
       "Spectrum ID: controllerType=0 controllerNumber=1 scan=71841\n",
       "Ground-truth: LNS<SD>P<SL>I<GL>K/2 ({'peptide': {'sage': 0.8949041366577148}, 'aa': {}})\n",
       "Candidates:\n",
       "\tLNS<SD>P<SL>L<GL>K/2 ({'peptide': {'casanovo': 0.9832282066345215, 'score_ms2rescore': 0.44608533944973616, 'InstaNovo+': -0.0041750222444534, 'Spectralis': -1.5360224894626695}, 'aa': {'casanovo': (0.98606, 0.98055, 0.98663, 0.98656, 0.97671, 0.98712, 0.98781, 0.96158, 0.98631, 0.9867, 0.98225, 0.98668)}})\n",
       "\tLNS<SN[UNIMOD:7]>P<SL>L<GL>K/2 ({'peptide': {'casanovo': 0.9136099219322205, 'score_ms2rescore': 0.45205894197322377, 'Spectralis': -1.5360224894626693}, 'aa': {'casanovo': (0.95126, 0.94574, 0.95182, 0.95175, 0.94191, 0.95231, 0.953, 0.46676, 0.95185, 0.95231, 0.95334, 0.95256)}})\n",
       "\tLNS<SD>P<TV>L<GL>K/2 ({'peptide': {'casanovo': 0.9114686846733093, 'score_ms2rescore': 2.2050692472339963, 'InstaNovo+': -0.2735790610313415, 'Spectralis': -1.361631441848829}, 'aa': {'casanovo': (0.95018, 0.94467, 0.95075, 0.95068, 0.46632, 0.95344, 0.95211, 0.93156, 0.95041, 0.95097, 0.94618, 0.95073)}})\n",
       "\tLNS<SD>P<LS>L<GL>K/2 ({'peptide': {'casanovo': 0.9097374677658081, 'score_ms2rescore': 1.3094701723556317, 'Spectralis': -1.627797299724917}, 'aa': {'casanovo': (0.94932, 0.94381, 0.94989, 0.94981, 0.4557, 0.94784, 0.95079, 0.9342, 0.94988, 0.94987, 0.94536, 0.94995)}})\n",
       "\tLNS<SD>PVTL<GL>K/2 ({'peptide': {'casanovo': 0.9092815518379211, 'score_ms2rescore': 1.9285263898324867, 'Spectralis': -1.6468679074991095}, 'aa': {'casanovo': (0.94909, 0.94358, 0.94966, 0.94958, 0.45609, 0.95109, 0.95075, 0.92637, 0.94954, 0.94983, 0.94541, 0.94973)}})\n",
       "\t<VQ>S<SD>P<SL>L<GL>K/2 ({'peptide': {'casanovo': 0.9078367948532104, 'score_ms2rescore': 1.1685622752657894, 'Spectralis': -1.4130265027014444}, 'aa': {'casanovo': (0.94837, 0.94286, 0.94894, 0.94886, 0.93902, 0.94942, 0.95011, 0.92388, 0.94862, 0.94901, 0.45408, 0.94913)}})\n",
       "\tLNS<SD>P<SL>LAVK/2 ({'peptide': {'casanovo': 0.9065037965774536, 'score_ms2rescore': 2.0303879391347976, 'InstaNovo+': -0.2755970060825348, 'Spectralis': -1.636390942963959}, 'aa': {'casanovo': (0.9477, 0.45802, 0.94489, 0.94821, 0.92661, 0.94907, 0.94942, 0.92371, 0.94791, 0.94836, 0.94381, 0.94827)}})\n",
       "\tLNS<SD>P<SL>LLGK/2 ({'peptide': {'casanovo': 0.9057615399360657, 'score_ms2rescore': 1.7828904727127426, 'Spectralis': -1.5326827650368304}, 'aa': {'casanovo': (0.94733, 0.45397, 0.94802, 0.94712, 0.92544, 0.94844, 0.94891, 0.92049, 0.94758, 0.94803, 0.94347, 0.94791)}})\n",
       "\tLNS<SD>P<SL>LVAK/2 ({'peptide': {'casanovo': 0.9044583439826965, 'score_ms2rescore': 1.3340109748105446, 'Spectralis': -1.510063781662404}, 'aa': {'casanovo': (0.94668, 0.45307, 0.94369, 0.94625, 0.91884, 0.94764, 0.94829, 0.92155, 0.94688, 0.94739, 0.94287, 0.94724)}})\n",
       "\tLNEC[UNIMOD:4]PSLL<GL>K/2 ({'peptide': {'casanovo': 0.8932961225509644, 'score_ms2rescore': 1.3221288559167335, 'InstaNovo+': -0.4147561490535736, 'Spectralis': -1.3507471710473555}, 'aa': {'casanovo': (0.9411, 0.93558, 0.94167, 0.94159, 0.93175, 0.94215, 0.94284, 0.46177, 0.86804, 0.92977, 0.94144)}})"
      ]
     },
     "execution_count": 22,
     "metadata": {},
     "output_type": "execute_result"
    }
   ],
   "source": [
    "run.get_spectrum('controllerType=0 controllerNumber=1 scan=71841')"
   ]
  },
  {
   "cell_type": "code",
   "execution_count": 17,
   "metadata": {},
   "outputs": [],
   "source": [
    "from denovo_utils.io.read import read_features, load_pickle\n",
    "features = read_features('/public/compomics3/Sam/PXD028735/QExactive/rescoring_beams/LFQ_Orbitrap_DDA_QC_01/features/casanovo.parquet')\n",
    "feature_names = load_pickle(\n",
    "    '/public/compomics3/Sam/PXD028735/QExactive/rescoring_beams/LFQ_Orbitrap_DDA_QC_01/mokapot/feature_names.pkl'\n",
    ")\n",
    "feature_names = [feature_name.split(':')[1] for feature_name in feature_names]"
   ]
  },
  {
   "cell_type": "code",
   "execution_count": 15,
   "metadata": {},
   "outputs": [],
   "source": [
    "def get_features_specid(df, specid, feature_names):\n",
    "\n",
    "    def parse_to_df(row, feature_names):\n",
    "        df = pd.DataFrame({k:[v] for k,v in row['rescoring_features'].items()})[feature_names].T\n",
    "        df = df.rename(columns={0: row['rank']})\n",
    "        return df\n",
    "\n",
    "    features_spectrum = df[df['spectrum_id']==specid]\n",
    "    feature_df = features_spectrum.apply(\n",
    "        lambda x: parse_to_df(x, feature_names),\n",
    "        axis=1\n",
    "    )\n",
    "    feature_df = pd.concat(feature_df.tolist(), axis=1).T.reset_index()\n",
    "    feature_df = feature_df.rename(columns={'index': 'rank'})\n",
    "    return pd.merge(features_spectrum, feature_df, on='rank')\n",
    "\n",
    "\n",
    "spectrum_id = 'controllerType=0 controllerNumber=1 scan=70415'"
   ]
  },
  {
   "cell_type": "code",
   "execution_count": 18,
   "metadata": {},
   "outputs": [
    {
     "data": {
      "text/html": [
       "<div>\n",
       "<style scoped>\n",
       "    .dataframe tbody tr th:only-of-type {\n",
       "        vertical-align: middle;\n",
       "    }\n",
       "\n",
       "    .dataframe tbody tr th {\n",
       "        vertical-align: top;\n",
       "    }\n",
       "\n",
       "    .dataframe thead th {\n",
       "        text-align: right;\n",
       "    }\n",
       "</style>\n",
       "<table border=\"1\" class=\"dataframe\">\n",
       "  <thead>\n",
       "    <tr style=\"text-align: right;\">\n",
       "      <th></th>\n",
       "      <th>spectrum_id</th>\n",
       "      <th>rank</th>\n",
       "      <th>run</th>\n",
       "      <th>source</th>\n",
       "      <th>rescoring_features</th>\n",
       "      <th>hyperscore</th>\n",
       "      <th>missing_frag_sites</th>\n",
       "      <th>missing_frag_pct</th>\n",
       "      <th>ppm_precursor</th>\n",
       "      <th>ppm_mean_y</th>\n",
       "      <th>ppm_mean_b</th>\n",
       "      <th>explained_y_pct</th>\n",
       "      <th>explained_b_pct</th>\n",
       "      <th>explained_all_pct</th>\n",
       "      <th>charge_n</th>\n",
       "      <th>spec_mse_norm</th>\n",
       "      <th>cos</th>\n",
       "      <th>observed_retention_time</th>\n",
       "      <th>rt_diff</th>\n",
       "    </tr>\n",
       "  </thead>\n",
       "  <tbody>\n",
       "    <tr>\n",
       "      <th>0</th>\n",
       "      <td>controllerType=0 controllerNumber=1 scan=108111</td>\n",
       "      <td>1</td>\n",
       "      <td>LFQ_Orbitrap_DDA_QC_01.casanovo.mztab</td>\n",
       "      <td>Casanovo4.2.0</td>\n",
       "      <td>{'abs_diff_Q1': 7.156922947615385e-07, 'abs_di...</td>\n",
       "      <td>47.124755</td>\n",
       "      <td>6.0</td>\n",
       "      <td>25.000000</td>\n",
       "      <td>2.638649</td>\n",
       "      <td>0.575558</td>\n",
       "      <td>3.457264</td>\n",
       "      <td>0.203092</td>\n",
       "      <td>0.010215</td>\n",
       "      <td>0.324367</td>\n",
       "      <td>3.0</td>\n",
       "      <td>0.440065</td>\n",
       "      <td>0.912320</td>\n",
       "      <td>112.148521</td>\n",
       "      <td>11.285517</td>\n",
       "    </tr>\n",
       "    <tr>\n",
       "      <th>1</th>\n",
       "      <td>controllerType=0 controllerNumber=1 scan=108111</td>\n",
       "      <td>2</td>\n",
       "      <td>LFQ_Orbitrap_DDA_QC_01.casanovo.mztab</td>\n",
       "      <td>Casanovo4.2.0</td>\n",
       "      <td>{'abs_diff_Q1': 4.19249408878386e-06, 'abs_dif...</td>\n",
       "      <td>47.124755</td>\n",
       "      <td>7.0</td>\n",
       "      <td>29.166667</td>\n",
       "      <td>1.402044</td>\n",
       "      <td>3.403283</td>\n",
       "      <td>3.457264</td>\n",
       "      <td>0.203092</td>\n",
       "      <td>0.010215</td>\n",
       "      <td>0.318355</td>\n",
       "      <td>3.0</td>\n",
       "      <td>2.549360</td>\n",
       "      <td>0.359264</td>\n",
       "      <td>112.148521</td>\n",
       "      <td>8.803870</td>\n",
       "    </tr>\n",
       "    <tr>\n",
       "      <th>2</th>\n",
       "      <td>controllerType=0 controllerNumber=1 scan=108111</td>\n",
       "      <td>3</td>\n",
       "      <td>LFQ_Orbitrap_DDA_QC_01.casanovo.mztab</td>\n",
       "      <td>Casanovo4.2.0</td>\n",
       "      <td>{'abs_diff_Q1': 1.9777799025177956e-06, 'abs_d...</td>\n",
       "      <td>47.124755</td>\n",
       "      <td>7.0</td>\n",
       "      <td>29.166667</td>\n",
       "      <td>1.402044</td>\n",
       "      <td>3.403283</td>\n",
       "      <td>3.457264</td>\n",
       "      <td>0.203092</td>\n",
       "      <td>0.010215</td>\n",
       "      <td>0.318355</td>\n",
       "      <td>3.0</td>\n",
       "      <td>2.468617</td>\n",
       "      <td>0.364859</td>\n",
       "      <td>112.148521</td>\n",
       "      <td>10.556121</td>\n",
       "    </tr>\n",
       "    <tr>\n",
       "      <th>3</th>\n",
       "      <td>controllerType=0 controllerNumber=1 scan=108111</td>\n",
       "      <td>4</td>\n",
       "      <td>LFQ_Orbitrap_DDA_QC_01.casanovo.mztab</td>\n",
       "      <td>Casanovo4.2.0</td>\n",
       "      <td>{'abs_diff_Q1': 2.2033345885574818e-06, 'abs_d...</td>\n",
       "      <td>47.124755</td>\n",
       "      <td>7.0</td>\n",
       "      <td>28.000000</td>\n",
       "      <td>1.402146</td>\n",
       "      <td>3.403283</td>\n",
       "      <td>3.457264</td>\n",
       "      <td>0.203092</td>\n",
       "      <td>0.010215</td>\n",
       "      <td>0.325969</td>\n",
       "      <td>3.0</td>\n",
       "      <td>0.468146</td>\n",
       "      <td>0.899273</td>\n",
       "      <td>112.148521</td>\n",
       "      <td>15.618727</td>\n",
       "    </tr>\n",
       "    <tr>\n",
       "      <th>4</th>\n",
       "      <td>controllerType=0 controllerNumber=1 scan=108111</td>\n",
       "      <td>5</td>\n",
       "      <td>LFQ_Orbitrap_DDA_QC_01.casanovo.mztab</td>\n",
       "      <td>Casanovo4.2.0</td>\n",
       "      <td>{'abs_diff_Q1': 0.0, 'abs_diff_Q1_norm': 0.0, ...</td>\n",
       "      <td>47.124755</td>\n",
       "      <td>6.0</td>\n",
       "      <td>25.000000</td>\n",
       "      <td>1.402007</td>\n",
       "      <td>3.403283</td>\n",
       "      <td>3.457264</td>\n",
       "      <td>0.203092</td>\n",
       "      <td>0.010215</td>\n",
       "      <td>0.338682</td>\n",
       "      <td>3.0</td>\n",
       "      <td>0.495607</td>\n",
       "      <td>0.891733</td>\n",
       "      <td>112.148521</td>\n",
       "      <td>14.838961</td>\n",
       "    </tr>\n",
       "    <tr>\n",
       "      <th>5</th>\n",
       "      <td>controllerType=0 controllerNumber=1 scan=108111</td>\n",
       "      <td>6</td>\n",
       "      <td>LFQ_Orbitrap_DDA_QC_01.casanovo.mztab</td>\n",
       "      <td>Casanovo4.2.0</td>\n",
       "      <td>{'abs_diff_Q1': 1.9777799025177956e-06, 'abs_d...</td>\n",
       "      <td>47.124755</td>\n",
       "      <td>6.0</td>\n",
       "      <td>25.000000</td>\n",
       "      <td>1.402044</td>\n",
       "      <td>3.403283</td>\n",
       "      <td>3.457264</td>\n",
       "      <td>0.203092</td>\n",
       "      <td>0.010215</td>\n",
       "      <td>0.338682</td>\n",
       "      <td>3.0</td>\n",
       "      <td>2.531066</td>\n",
       "      <td>0.352866</td>\n",
       "      <td>112.148521</td>\n",
       "      <td>8.789460</td>\n",
       "    </tr>\n",
       "    <tr>\n",
       "      <th>6</th>\n",
       "      <td>controllerType=0 controllerNumber=1 scan=108111</td>\n",
       "      <td>7</td>\n",
       "      <td>LFQ_Orbitrap_DDA_QC_01.casanovo.mztab</td>\n",
       "      <td>Casanovo4.2.0</td>\n",
       "      <td>{'abs_diff_Q1': 0.0, 'abs_diff_Q1_norm': 0.0, ...</td>\n",
       "      <td>47.124755</td>\n",
       "      <td>6.0</td>\n",
       "      <td>25.000000</td>\n",
       "      <td>1.402007</td>\n",
       "      <td>3.403283</td>\n",
       "      <td>3.457264</td>\n",
       "      <td>0.203092</td>\n",
       "      <td>0.010215</td>\n",
       "      <td>0.322186</td>\n",
       "      <td>3.0</td>\n",
       "      <td>0.544609</td>\n",
       "      <td>0.906666</td>\n",
       "      <td>112.148521</td>\n",
       "      <td>8.692059</td>\n",
       "    </tr>\n",
       "    <tr>\n",
       "      <th>7</th>\n",
       "      <td>controllerType=0 controllerNumber=1 scan=108111</td>\n",
       "      <td>8</td>\n",
       "      <td>LFQ_Orbitrap_DDA_QC_01.casanovo.mztab</td>\n",
       "      <td>Casanovo4.2.0</td>\n",
       "      <td>{'abs_diff_Q1': 0.0, 'abs_diff_Q1_norm': 0.0, ...</td>\n",
       "      <td>47.124755</td>\n",
       "      <td>6.0</td>\n",
       "      <td>25.000000</td>\n",
       "      <td>1.402044</td>\n",
       "      <td>3.403283</td>\n",
       "      <td>3.457264</td>\n",
       "      <td>0.203092</td>\n",
       "      <td>0.010215</td>\n",
       "      <td>0.338682</td>\n",
       "      <td>3.0</td>\n",
       "      <td>2.495095</td>\n",
       "      <td>0.364366</td>\n",
       "      <td>112.148521</td>\n",
       "      <td>13.875696</td>\n",
       "    </tr>\n",
       "    <tr>\n",
       "      <th>8</th>\n",
       "      <td>controllerType=0 controllerNumber=1 scan=108111</td>\n",
       "      <td>9</td>\n",
       "      <td>LFQ_Orbitrap_DDA_QC_01.casanovo.mztab</td>\n",
       "      <td>Casanovo4.2.0</td>\n",
       "      <td>{'abs_diff_Q1': 0.0, 'abs_diff_Q1_norm': 0.0, ...</td>\n",
       "      <td>47.124755</td>\n",
       "      <td>7.0</td>\n",
       "      <td>29.166667</td>\n",
       "      <td>1.402007</td>\n",
       "      <td>3.403283</td>\n",
       "      <td>3.457264</td>\n",
       "      <td>0.203092</td>\n",
       "      <td>0.010215</td>\n",
       "      <td>0.318355</td>\n",
       "      <td>3.0</td>\n",
       "      <td>0.502098</td>\n",
       "      <td>0.894634</td>\n",
       "      <td>112.148521</td>\n",
       "      <td>15.168656</td>\n",
       "    </tr>\n",
       "    <tr>\n",
       "      <th>9</th>\n",
       "      <td>controllerType=0 controllerNumber=1 scan=108111</td>\n",
       "      <td>10</td>\n",
       "      <td>LFQ_Orbitrap_DDA_QC_01.casanovo.mztab</td>\n",
       "      <td>Casanovo4.2.0</td>\n",
       "      <td>{'abs_diff_Q1': 4.29665669798851e-06, 'abs_dif...</td>\n",
       "      <td>47.124755</td>\n",
       "      <td>6.0</td>\n",
       "      <td>24.000000</td>\n",
       "      <td>1.402146</td>\n",
       "      <td>3.403283</td>\n",
       "      <td>3.457264</td>\n",
       "      <td>0.203092</td>\n",
       "      <td>0.010215</td>\n",
       "      <td>0.329801</td>\n",
       "      <td>3.0</td>\n",
       "      <td>0.463972</td>\n",
       "      <td>0.896388</td>\n",
       "      <td>112.148521</td>\n",
       "      <td>17.479179</td>\n",
       "    </tr>\n",
       "  </tbody>\n",
       "</table>\n",
       "</div>"
      ],
      "text/plain": [
       "                                       spectrum_id  rank  \\\n",
       "0  controllerType=0 controllerNumber=1 scan=108111     1   \n",
       "1  controllerType=0 controllerNumber=1 scan=108111     2   \n",
       "2  controllerType=0 controllerNumber=1 scan=108111     3   \n",
       "3  controllerType=0 controllerNumber=1 scan=108111     4   \n",
       "4  controllerType=0 controllerNumber=1 scan=108111     5   \n",
       "5  controllerType=0 controllerNumber=1 scan=108111     6   \n",
       "6  controllerType=0 controllerNumber=1 scan=108111     7   \n",
       "7  controllerType=0 controllerNumber=1 scan=108111     8   \n",
       "8  controllerType=0 controllerNumber=1 scan=108111     9   \n",
       "9  controllerType=0 controllerNumber=1 scan=108111    10   \n",
       "\n",
       "                                     run         source  \\\n",
       "0  LFQ_Orbitrap_DDA_QC_01.casanovo.mztab  Casanovo4.2.0   \n",
       "1  LFQ_Orbitrap_DDA_QC_01.casanovo.mztab  Casanovo4.2.0   \n",
       "2  LFQ_Orbitrap_DDA_QC_01.casanovo.mztab  Casanovo4.2.0   \n",
       "3  LFQ_Orbitrap_DDA_QC_01.casanovo.mztab  Casanovo4.2.0   \n",
       "4  LFQ_Orbitrap_DDA_QC_01.casanovo.mztab  Casanovo4.2.0   \n",
       "5  LFQ_Orbitrap_DDA_QC_01.casanovo.mztab  Casanovo4.2.0   \n",
       "6  LFQ_Orbitrap_DDA_QC_01.casanovo.mztab  Casanovo4.2.0   \n",
       "7  LFQ_Orbitrap_DDA_QC_01.casanovo.mztab  Casanovo4.2.0   \n",
       "8  LFQ_Orbitrap_DDA_QC_01.casanovo.mztab  Casanovo4.2.0   \n",
       "9  LFQ_Orbitrap_DDA_QC_01.casanovo.mztab  Casanovo4.2.0   \n",
       "\n",
       "                                  rescoring_features  hyperscore  \\\n",
       "0  {'abs_diff_Q1': 7.156922947615385e-07, 'abs_di...   47.124755   \n",
       "1  {'abs_diff_Q1': 4.19249408878386e-06, 'abs_dif...   47.124755   \n",
       "2  {'abs_diff_Q1': 1.9777799025177956e-06, 'abs_d...   47.124755   \n",
       "3  {'abs_diff_Q1': 2.2033345885574818e-06, 'abs_d...   47.124755   \n",
       "4  {'abs_diff_Q1': 0.0, 'abs_diff_Q1_norm': 0.0, ...   47.124755   \n",
       "5  {'abs_diff_Q1': 1.9777799025177956e-06, 'abs_d...   47.124755   \n",
       "6  {'abs_diff_Q1': 0.0, 'abs_diff_Q1_norm': 0.0, ...   47.124755   \n",
       "7  {'abs_diff_Q1': 0.0, 'abs_diff_Q1_norm': 0.0, ...   47.124755   \n",
       "8  {'abs_diff_Q1': 0.0, 'abs_diff_Q1_norm': 0.0, ...   47.124755   \n",
       "9  {'abs_diff_Q1': 4.29665669798851e-06, 'abs_dif...   47.124755   \n",
       "\n",
       "   missing_frag_sites  missing_frag_pct  ppm_precursor  ppm_mean_y  \\\n",
       "0                 6.0         25.000000       2.638649    0.575558   \n",
       "1                 7.0         29.166667       1.402044    3.403283   \n",
       "2                 7.0         29.166667       1.402044    3.403283   \n",
       "3                 7.0         28.000000       1.402146    3.403283   \n",
       "4                 6.0         25.000000       1.402007    3.403283   \n",
       "5                 6.0         25.000000       1.402044    3.403283   \n",
       "6                 6.0         25.000000       1.402007    3.403283   \n",
       "7                 6.0         25.000000       1.402044    3.403283   \n",
       "8                 7.0         29.166667       1.402007    3.403283   \n",
       "9                 6.0         24.000000       1.402146    3.403283   \n",
       "\n",
       "   ppm_mean_b  explained_y_pct  explained_b_pct  explained_all_pct  charge_n  \\\n",
       "0    3.457264         0.203092         0.010215           0.324367       3.0   \n",
       "1    3.457264         0.203092         0.010215           0.318355       3.0   \n",
       "2    3.457264         0.203092         0.010215           0.318355       3.0   \n",
       "3    3.457264         0.203092         0.010215           0.325969       3.0   \n",
       "4    3.457264         0.203092         0.010215           0.338682       3.0   \n",
       "5    3.457264         0.203092         0.010215           0.338682       3.0   \n",
       "6    3.457264         0.203092         0.010215           0.322186       3.0   \n",
       "7    3.457264         0.203092         0.010215           0.338682       3.0   \n",
       "8    3.457264         0.203092         0.010215           0.318355       3.0   \n",
       "9    3.457264         0.203092         0.010215           0.329801       3.0   \n",
       "\n",
       "   spec_mse_norm       cos  observed_retention_time    rt_diff  \n",
       "0       0.440065  0.912320               112.148521  11.285517  \n",
       "1       2.549360  0.359264               112.148521   8.803870  \n",
       "2       2.468617  0.364859               112.148521  10.556121  \n",
       "3       0.468146  0.899273               112.148521  15.618727  \n",
       "4       0.495607  0.891733               112.148521  14.838961  \n",
       "5       2.531066  0.352866               112.148521   8.789460  \n",
       "6       0.544609  0.906666               112.148521   8.692059  \n",
       "7       2.495095  0.364366               112.148521  13.875696  \n",
       "8       0.502098  0.894634               112.148521  15.168656  \n",
       "9       0.463972  0.896388               112.148521  17.479179  "
      ]
     },
     "execution_count": 18,
     "metadata": {},
     "output_type": "execute_result"
    }
   ],
   "source": [
    "spectrum_id = 'controllerType=0 controllerNumber=1 scan=108111'\n",
    "get_features_specid(\n",
    "    df=features,\n",
    "    specid=spectrum_id,\n",
    "    feature_names=feature_names\n",
    ")"
   ]
  }
 ],
 "metadata": {
  "kernelspec": {
   "display_name": "denovo_analysis_env",
   "language": "python",
   "name": "python3"
  },
  "language_info": {
   "codemirror_mode": {
    "name": "ipython",
    "version": 3
   },
   "file_extension": ".py",
   "mimetype": "text/x-python",
   "name": "python",
   "nbconvert_exporter": "python",
   "pygments_lexer": "ipython3",
   "version": "3.11.9"
  }
 },
 "nbformat": 4,
 "nbformat_minor": 2
}
