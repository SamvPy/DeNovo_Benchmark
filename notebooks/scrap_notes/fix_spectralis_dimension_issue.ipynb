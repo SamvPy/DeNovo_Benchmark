{
 "cells": [
  {
   "cell_type": "code",
   "execution_count": 1,
   "metadata": {},
   "outputs": [],
   "source": [
    "from spectralis.spectralis_master import Spectralis"
   ]
  },
  {
   "cell_type": "code",
   "execution_count": 2,
   "metadata": {},
   "outputs": [
    {
     "name": "stdout",
     "output_type": "stream",
     "text": [
      "[INFO] Loading config file: /home/samva/Doctorate/DeNovo_Benchmark/configs/spectralis/spectralis_config.yaml\n",
      "[INFO] Loaded bin reclassification model\n",
      "[INFO] Initiated bin reclassifier\n",
      "\n",
      "===\n"
     ]
    }
   ],
   "source": [
    "config = \"/home/samva/Doctorate/DeNovo_Benchmark/configs/spectralis/spectralis_config.yaml\"\n",
    "spectralis = Spectralis(config)"
   ]
  },
  {
   "cell_type": "code",
   "execution_count": 3,
   "metadata": {},
   "outputs": [
    {
     "name": "stdout",
     "output_type": "stream",
     "text": [
      "[INFO] Loaded bin reclassification model\n",
      "[INFO] Initiated bin reclassifier\n"
     ]
    }
   ],
   "source": [
    "config = spectralis.config\n",
    "\n",
    "verbose = spectralis.config['verbose']\n",
    "\n",
    "# Initialize bin reclass objects\n",
    "binreclass_model = spectralis.binreclass_model\n",
    "print(f'[INFO] Loaded bin reclassification model')\n",
    "peptide2profiler = spectralis.peptide2profiler\n",
    "profile2peptider = spectralis.profile2peptider\n",
    "bin_reclassifier = spectralis.bin_reclassifier\n",
    "print(f'[INFO] Initiated bin reclassifier')"
   ]
  },
  {
   "cell_type": "code",
   "execution_count": 4,
   "metadata": {},
   "outputs": [],
   "source": [
    "from pyteomics import mgf\n",
    "import tqdm\n",
    "import numpy as np\n",
    "from spectralis.denovo_utils import __utils__ as U\n",
    "from spectralis.denovo_utils import __constants__ as C\n",
    "\n",
    "def _process_mgf(mgf_path):\n",
    "\n",
    "    n_spectra = 0\n",
    "\n",
    "    charges, prec_mz, alpha_seqs  = [], [], []\n",
    "    exp_ints, exp_mzs, scans = [], [], []\n",
    "\n",
    "    ## Read MGF file\n",
    "    with mgf.MGF(mgf_path) as reader:\n",
    "        for spectrum in tqdm.tqdm(reader):\n",
    "            \n",
    "            charges.append(spectrum['params']['charge'][0])\n",
    "            prec_mz.append(spectrum['params']['pepmass'][0])\n",
    "            alpha_seqs.append(spectrum['params']['seq'])\n",
    "            scans.append(spectrum['params']['scans'])\n",
    "            \n",
    "            exp_mzs.append(spectrum['m/z array'])\n",
    "            exp_ints.append(spectrum['intensity array'])\n",
    "            n_spectra += 1\n",
    "    print(f'-- Finished reading {n_spectra} PSMs')\n",
    "\n",
    "    precursor_z = np.array(charges)      \n",
    "    precursor_m = np.array(prec_mz)\n",
    "    scans = np.array(scans)\n",
    "\n",
    "    ## Unimod encoding for peptide sequences\n",
    "    alpha_seqs = np.array([p.replace('L', 'I')\n",
    "                            .replace('OxM', \"M[UNIMOD:35]\")\n",
    "                            .replace('M(O)', \"M[UNIMOD:35]\")\n",
    "                            .replace('M(ox)', \"M[UNIMOD:35]\")\n",
    "                            .replace('Z', \"M[UNIMOD:35]\") for p in alpha_seqs]\n",
    "                        )\n",
    "    if config['interpret_c_as_fix']:\n",
    "        alpha_seqs = np.array([p.replace('C', 'C[UNIMOD:4]') for p in alpha_seqs])\n",
    "        \n",
    "    ## peptides padded to SEQ_LEN (Default 30)\n",
    "    sequences = [U.map_peptide_to_numbers(p) for p in alpha_seqs]\n",
    "    seq_lens = np.array([len(s) for s in sequences])\n",
    "    padded_seqs = np.array([np.pad(seq, (0,C.SEQ_LEN-len(seq)), \n",
    "                                    'constant', constant_values=(0,0)) for seq in sequences]).astype(int)\n",
    "\n",
    "    ## experimental spectra padded to max len of spectra\n",
    "    len_padded = max([len(el) for el in exp_mzs])\n",
    "    exp_mzs = np.array([np.pad(seq, (0,len_padded-len(seq)), 'constant', constant_values=(0,0)) for seq in exp_mzs])\n",
    "    exp_ints = np.array([np.pad(seq, (0,len_padded-len(seq)), 'constant', constant_values=(0,0)) for seq in exp_ints])\n",
    "\n",
    "    ## Filter invalid spectra: charge>max_charge or pep length>seq_len (Default 6 and 30)\n",
    "    idx_valid_charge = np.where(precursor_z<=C.MAX_CHARGE)[0]\n",
    "    idx_valid_peplen = np.where(seq_lens<=C.SEQ_LEN)[0]\n",
    "    idx_valid = np.intersect1d(idx_valid_charge, idx_valid_peplen)\n",
    "    idx_invalid = np.array([i for i in range(len(seq_lens)) if i not in idx_valid])\n",
    "\n",
    "    assert idx_valid.shape[0]>0\n",
    "\n",
    "    ## Filter data to valid spectra\n",
    "    scans_valid = scans[idx_valid]\n",
    "    scans_invalid = scans[idx_invalid] if idx_invalid.shape[0]>0 else np.array([])\n",
    "\n",
    "    alpha_seqs = alpha_seqs[idx_valid]\n",
    "    precursor_z = precursor_z[idx_valid]\n",
    "    exp_ints = exp_ints[idx_valid]\n",
    "    exp_mzs = exp_mzs[idx_valid]\n",
    "    precursor_m = precursor_m[idx_valid]\n",
    "\n",
    "    print(f'-- Input shapes\\n\\tseqs: {alpha_seqs.shape}, charges: {precursor_z.shape}, ints: {exp_ints.shape}, mzs: {exp_mzs.shape}, precursor mzs: {precursor_m.shape}')\n",
    "\n",
    "    return padded_seqs, precursor_z, precursor_m, scans_valid, exp_mzs, exp_ints, alpha_seqs, scans_invalid"
   ]
  },
  {
   "cell_type": "code",
   "execution_count": null,
   "metadata": {},
   "outputs": [],
   "source": [
    "# rescoring\n",
    "\n",
    "if self.scorer is None:\n",
    "    ## Init scorer\n",
    "    self.scorer = self._init_scorer()  \n",
    "    print(f'[INFO] Initiated lev scorer')\n",
    "\n",
    "## Compute prosit preds for peptides, prosit collision energy from config\n",
    "prosit_out = U.get_prosit_output(alpha_peps, charges, self.config['prosit_ce'])\n",
    "prosit_mzs, prosit_ints =  prosit_out['mz'],prosit_out['intensities']\n",
    "\n",
    "## Compute peptide masses and collect bin reclass predictions to compute features\n",
    "peptide_masses = np.array([U._compute_peptide_mass_from_seq(alpha_peps[j]) for j in range(len(alpha_peps)) ])\n",
    "binreclass_out = self.bin_reclassifier.get_binreclass_preds(prosit_mzs=prosit_mzs,\n",
    "                                                    prosit_ints=prosit_ints,\n",
    "                                                    pepmass=peptide_masses,\n",
    "                                                    exp_mzs=exp_mzs,\n",
    "                                                    exp_int=exp_ints,\n",
    "                                                    precursor_mz=precursor_mzs,\n",
    "                                                )\n",
    "y_probs, y_mz_probs, b_probs, b_mz_probs, y_changes, y_mz_inputs, b_mz_inputs = binreclass_out\n",
    "\n",
    "## Compute features and scores\n",
    "return self.scorer.get_scores(exp_mzs, exp_ints, prosit_ints, prosit_mzs, y_changes, \n",
    "                                return_features=return_features, original_scores=original_scores)"
   ]
  },
  {
   "cell_type": "code",
   "execution_count": 5,
   "metadata": {},
   "outputs": [
    {
     "name": "stderr",
     "output_type": "stream",
     "text": [
      "75228it [00:10, 7465.96it/s]\n"
     ]
    },
    {
     "name": "stdout",
     "output_type": "stream",
     "text": [
      "-- Finished reading 75228 PSMs\n",
      "-- Input shapes\n",
      "\tseqs: (75228,), charges: (75228,), ints: (75228, 799), mzs: (75228, 799), precursor mzs: (75228,)\n"
     ]
    }
   ],
   "source": [
    "## process mgf file\n",
    "mgf_path = \"/home/samva/Doctorate/nextflow_workdirs/nextflow_denovo_refinement/c4/c3ba675550c9a82594da1b6c8d89b5/S08_annotated.mgf\"\n",
    "\n",
    "_out = _process_mgf(mgf_path)"
   ]
  },
  {
   "cell_type": "code",
   "execution_count": 6,
   "metadata": {},
   "outputs": [],
   "source": [
    "_, precursor_z, precursor_m, scans_valid, exp_mzs, exp_ints, alpha_seqs, scans_invalid = _out"
   ]
  },
  {
   "cell_type": "code",
   "execution_count": 7,
   "metadata": {},
   "outputs": [
    {
     "name": "stdout",
     "output_type": "stream",
     "text": [
      "[INFO] Loaded scorer:\n",
      "\tRandomForestRegressor(criterion='mse', max_depth=420, max_features=88,\n",
      "                      min_samples_leaf=77, min_samples_split=114,\n",
      "                      n_estimators=182, n_jobs=-1, random_state=13, verbose=1)\n"
     ]
    }
   ],
   "source": [
    "scorer = spectralis._init_scorer()  "
   ]
  },
  {
   "cell_type": "code",
   "execution_count": 8,
   "metadata": {},
   "outputs": [
    {
     "name": "stderr",
     "output_type": "stream",
     "text": [
      "  0%|          | 0/76 [00:00<?, ?it/s]"
     ]
    },
    {
     "name": "stderr",
     "output_type": "stream",
     "text": [
      "100%|██████████| 76/76 [00:55<00:00,  1.38it/s]\n"
     ]
    }
   ],
   "source": [
    "prosit_out = U.get_prosit_output(alpha_seqs, precursor_z, config['prosit_ce'])\n",
    "prosit_mzs, prosit_ints =  prosit_out['mz'],prosit_out['intensities']\n",
    "peptide_masses = np.array([U._compute_peptide_mass_from_seq(alpha_seqs[j]) for j in range(len(alpha_seqs)) ])"
   ]
  },
  {
   "cell_type": "code",
   "execution_count": 9,
   "metadata": {},
   "outputs": [
    {
     "name": "stdout",
     "output_type": "stream",
     "text": [
      "MZs for channel <y+>: [[175.11896   0.        0.      ...   0.        0.        0.     ]\n",
      " [147.11281   0.        0.      ...   0.        0.        0.     ]\n",
      " [147.11281   0.        0.      ...   0.        0.        0.     ]\n",
      " ...\n",
      " [147.11281   0.        0.      ...   0.        0.        0.     ]\n",
      " [147.11281   0.        0.      ...   0.        0.        0.     ]\n",
      " [147.11281   0.        0.      ...   0.        0.        0.     ]]\n",
      "MZs for channel <b+>: [[ 0.  0.  0. ... -1.  0.  0.]\n",
      " [ 0.  0.  0. ... -1.  0.  0.]\n",
      " [ 0.  0.  0. ... -1.  0.  0.]\n",
      " ...\n",
      " [ 0.  0.  0. ... -1.  0.  0.]\n",
      " [ 0.  0.  0. ... -1.  0.  0.]\n",
      " [ 0.  0.  0. ... -1.  0.  0.]]\n"
     ]
    },
    {
     "name": "stderr",
     "output_type": "stream",
     "text": [
      "100%|██████████| 15046/15046 [08:22<00:00, 29.94it/s]\n"
     ]
    }
   ],
   "source": [
    "bin_reclass_out = bin_reclassifier.get_binreclass_preds(prosit_mzs=prosit_mzs,\n",
    "    prosit_ints=prosit_ints,\n",
    "    pepmass=peptide_masses,\n",
    "    exp_mzs=exp_mzs,\n",
    "    exp_int=exp_ints,\n",
    "    precursor_mz=precursor_m,\n",
    ")"
   ]
  },
  {
   "cell_type": "code",
   "execution_count": null,
   "metadata": {},
   "outputs": [],
   "source": []
  },
  {
   "cell_type": "code",
   "execution_count": null,
   "metadata": {},
   "outputs": [],
   "source": [
    "prosit_mzs, prosit_ints, pepmass, exp_mzs, exp_int, precursor_mz, return_mz_changes=False"
   ]
  },
  {
   "cell_type": "code",
   "execution_count": 13,
   "metadata": {},
   "outputs": [
    {
     "name": "stdout",
     "output_type": "stream",
     "text": [
      "MZs for channel <y+>: [[175.11896   0.        0.      ...   0.        0.        0.     ]\n",
      " [147.11281   0.        0.      ...   0.        0.        0.     ]\n",
      " [147.11281   0.        0.      ...   0.        0.        0.     ]\n",
      " ...\n",
      " [147.11281   0.        0.      ...   0.        0.        0.     ]\n",
      " [147.11281   0.        0.      ...   0.        0.        0.     ]\n",
      " [147.11281   0.        0.      ...   0.        0.        0.     ]]\n",
      "MZs for channel <b+>: [[ 0.  0.  0. ... -1.  0.  0.]\n",
      " [ 0.  0.  0. ... -1.  0.  0.]\n",
      " [ 0.  0.  0. ... -1.  0.  0.]\n",
      " ...\n",
      " [ 0.  0.  0. ... -1.  0.  0.]\n",
      " [ 0.  0.  0. ... -1.  0.  0.]\n",
      " [ 0.  0.  0. ... -1.  0.  0.]]\n"
     ]
    },
    {
     "name": "stderr",
     "output_type": "stream",
     "text": [
      "  0%|          | 1/15046 [00:01<5:26:29,  1.30s/it]/home/samva/miniconda3/envs/spectralis_env/lib/python3.7/site-packages/torch/nn/modules/module.py:1194: UserWarning: operator() profile_node %627 : bool = prim::profile_ivalue(%training)\n",
      " does not have profile information (Triggered internally at ../torch/csrc/jit/codegen/cuda/graph_fuser.cpp:105.)\n",
      "  return forward_call(*input, **kwargs)\n",
      "100%|█████████▉| 15045/15046 [08:26<00:00, 27.21it/s]/home/samva/miniconda3/envs/spectralis_env/lib/python3.7/multiprocessing/popen_fork.py:70: ResourceWarning: unclosed socket <zmq.Socket(zmq.PUSH) at 0x7f4a9bf4dbb0>\n",
      "  self.pid = os.fork()\n",
      "ResourceWarning: Enable tracemalloc to get the object allocation traceback\n",
      "/home/samva/miniconda3/envs/spectralis_env/lib/python3.7/multiprocessing/popen_fork.py:70: ResourceWarning: unclosed socket <zmq.Socket(zmq.PUSH) at 0x7f4a9bf4d520>\n",
      "  self.pid = os.fork()\n",
      "ResourceWarning: Enable tracemalloc to get the object allocation traceback\n",
      "/home/samva/miniconda3/envs/spectralis_env/lib/python3.7/multiprocessing/popen_fork.py:70: ResourceWarning: unclosed socket <zmq.Socket(zmq.PUSH) at 0x7f4a9bf4dbb0>\n",
      "  self.pid = os.fork()\n",
      "ResourceWarning: Enable tracemalloc to get the object allocation traceback\n",
      "/home/samva/miniconda3/envs/spectralis_env/lib/python3.7/multiprocessing/popen_fork.py:70: ResourceWarning: unclosed socket <zmq.Socket(zmq.PUSH) at 0x7f4a9bf4d520>\n",
      "  self.pid = os.fork()\n",
      "ResourceWarning: Enable tracemalloc to get the object allocation traceback\n",
      "/home/samva/miniconda3/envs/spectralis_env/lib/python3.7/multiprocessing/popen_fork.py:70: ResourceWarning: unclosed socket <zmq.Socket(zmq.PUSH) at 0x7f4a9bf4dbb0>\n",
      "  self.pid = os.fork()\n",
      "ResourceWarning: Enable tracemalloc to get the object allocation traceback\n",
      "/home/samva/miniconda3/envs/spectralis_env/lib/python3.7/multiprocessing/popen_fork.py:70: ResourceWarning: unclosed socket <zmq.Socket(zmq.PUSH) at 0x7f4a9bf4d520>\n",
      "  self.pid = os.fork()\n",
      "ResourceWarning: Enable tracemalloc to get the object allocation traceback\n",
      "/home/samva/miniconda3/envs/spectralis_env/lib/python3.7/multiprocessing/popen_fork.py:70: ResourceWarning: unclosed socket <zmq.Socket(zmq.PUSH) at 0x7f4a9bf4dbb0>\n",
      "  self.pid = os.fork()\n",
      "ResourceWarning: Enable tracemalloc to get the object allocation traceback\n",
      "/home/samva/miniconda3/envs/spectralis_env/lib/python3.7/multiprocessing/popen_fork.py:70: ResourceWarning: unclosed socket <zmq.Socket(zmq.PUSH) at 0x7f4a9bf4d520>\n",
      "  self.pid = os.fork()\n",
      "ResourceWarning: Enable tracemalloc to get the object allocation traceback\n",
      "/home/samva/miniconda3/envs/spectralis_env/lib/python3.7/multiprocessing/popen_fork.py:70: ResourceWarning: unclosed socket <zmq.Socket(zmq.PUSH) at 0x7f4a9bf4dbb0>\n",
      "  self.pid = os.fork()\n",
      "ResourceWarning: Enable tracemalloc to get the object allocation traceback\n",
      "/home/samva/miniconda3/envs/spectralis_env/lib/python3.7/multiprocessing/popen_fork.py:70: ResourceWarning: unclosed socket <zmq.Socket(zmq.PUSH) at 0x7f4a9bf4d520>\n",
      "  self.pid = os.fork()\n",
      "ResourceWarning: Enable tracemalloc to get the object allocation traceback\n",
      "/home/samva/miniconda3/envs/spectralis_env/lib/python3.7/multiprocessing/popen_fork.py:70: ResourceWarning: unclosed socket <zmq.Socket(zmq.PUSH) at 0x7f4a9bf4dbb0>\n",
      "  self.pid = os.fork()\n",
      "ResourceWarning: Enable tracemalloc to get the object allocation traceback\n",
      "/home/samva/miniconda3/envs/spectralis_env/lib/python3.7/multiprocessing/popen_fork.py:70: ResourceWarning: unclosed socket <zmq.Socket(zmq.PUSH) at 0x7f4a9bf4d520>\n",
      "  self.pid = os.fork()\n",
      "ResourceWarning: Enable tracemalloc to get the object allocation traceback\n",
      "/home/samva/miniconda3/envs/spectralis_env/lib/python3.7/multiprocessing/popen_fork.py:70: ResourceWarning: unclosed socket <zmq.Socket(zmq.PUSH) at 0x7f4a9bf4dbb0>\n",
      "  self.pid = os.fork()\n",
      "ResourceWarning: Enable tracemalloc to get the object allocation traceback\n",
      "/home/samva/miniconda3/envs/spectralis_env/lib/python3.7/multiprocessing/popen_fork.py:70: ResourceWarning: unclosed socket <zmq.Socket(zmq.PUSH) at 0x7f4a9bf4d520>\n",
      "  self.pid = os.fork()\n",
      "ResourceWarning: Enable tracemalloc to get the object allocation traceback\n",
      "/home/samva/miniconda3/envs/spectralis_env/lib/python3.7/multiprocessing/popen_fork.py:70: ResourceWarning: unclosed socket <zmq.Socket(zmq.PUSH) at 0x7f4a9bf4dbb0>\n",
      "  self.pid = os.fork()\n",
      "ResourceWarning: Enable tracemalloc to get the object allocation traceback\n",
      "/home/samva/miniconda3/envs/spectralis_env/lib/python3.7/multiprocessing/popen_fork.py:70: ResourceWarning: unclosed socket <zmq.Socket(zmq.PUSH) at 0x7f4a9bf4d520>\n",
      "  self.pid = os.fork()\n",
      "ResourceWarning: Enable tracemalloc to get the object allocation traceback\n",
      "100%|██████████| 15046/15046 [08:26<00:00, 29.68it/s]\n"
     ]
    }
   ],
   "source": [
    "import torch\n",
    "from torch.utils.data import DataLoader\n",
    "\n",
    "_dataset = bin_reclassifier.get_binreclass_dataset(prosit_mzs, prosit_ints, peptide_masses, exp_mzs, exp_ints, precursor_m)\n",
    "dataloader = DataLoader(dataset=_dataset, batch_size=bin_reclassifier.batch_size, shuffle=False, num_workers=8)\n",
    "\n",
    "all_y_probs, all_y_mz_probs, all_b_probs, all_b_mz_probs, all_y_changes, all_y_mz_inputs, all_b_mz_inputs = [],[],[],[],[],[],[]\n",
    "\n",
    "temp = 0\n",
    "with torch.no_grad():\n",
    "    bin_reclassifier.binreclass_model.eval()  \n",
    "    for local_batch in tqdm.tqdm(dataloader):\n",
    "        X = local_batch.to(bin_reclassifier.device)\n",
    "\n",
    "        #with torch.cuda.amp.autocast(dtype=torch.float16, enabled=True):\n",
    "        outputs = bin_reclassifier.binreclass_model(X)\n",
    "        outputs = outputs[:,:2,:].detach().cpu().numpy()\n",
    "        outputs = 1 / (1 + np.exp(-outputs)) #bin_reclassifier.sigmoid(outputs)\n",
    "        \n",
    "        ## input and store change probs\n",
    "        inputs = X[:,:2,:].detach().cpu().numpy()\n",
    "        changes = outputs.copy()\n",
    "        idx_one = np.where(inputs==1)\n",
    "        changes[idx_one] = 1 - changes[idx_one]\n",
    "\n",
    "        ## store only nonzero\n",
    "        y_probs, y_mz_probs, b_probs, b_mz_probs, y_changes, y_mz_inputs, b_mz_inputs = bin_reclassifier.adapt_binreclass_preds(outputs, changes, inputs)\n",
    "        all_y_probs.append(y_probs)\n",
    "        all_y_mz_probs.append(y_mz_probs)\n",
    "        all_b_probs.append(b_probs)\n",
    "        all_b_mz_probs.append(b_mz_probs)\n",
    "        all_y_changes.append(y_changes)\n",
    "        all_y_mz_inputs.append(y_mz_inputs)\n",
    "        all_b_mz_inputs.append(b_mz_inputs)"
   ]
  },
  {
   "cell_type": "code",
   "execution_count": 21,
   "metadata": {},
   "outputs": [
    {
     "data": {
      "text/plain": [
       "(5,)"
      ]
     },
     "execution_count": 21,
     "metadata": {},
     "output_type": "execute_result"
    }
   ],
   "source": [
    "all_b_probs[0].shape"
   ]
  },
  {
   "cell_type": "code",
   "execution_count": 23,
   "metadata": {},
   "outputs": [
    {
     "data": {
      "text/plain": [
       "15046"
      ]
     },
     "execution_count": 23,
     "metadata": {},
     "output_type": "execute_result"
    }
   ],
   "source": [
    "len(all_b_probs)"
   ]
  },
  {
   "cell_type": "code",
   "execution_count": 29,
   "metadata": {},
   "outputs": [
    {
     "data": {
      "text/plain": [
       "array([array([0.8906, 0.4275, 0.3564, 0.3804, 0.3901, 0.512 , 0.4775, 0.385 ,\n",
       "              0.3599, 0.4036, 0.4316, 0.4385, 0.4346, 0.384 , 0.355 , 0.3555,\n",
       "              0.4006, 0.4116, 0.4136, 0.4414, 0.4922, 0.5347], dtype=float16),\n",
       "       array([0.847 , 0.355 , 0.4724, 0.5625, 0.4922, 0.4731, 0.4148, 0.4492,\n",
       "              0.4617, 0.5596, 0.6   , 0.6865, 0.8716], dtype=float16)        ,\n",
       "       array([0.862 , 0.377 , 0.351 , 0.5176, 0.618 , 0.5635, 0.568 , 0.4531,\n",
       "              0.63  , 0.544 , 0.728 , 0.7344, 0.768 , 0.8945], dtype=float16),\n",
       "       array([0.8574, 0.3591, 0.352 , 0.554 , 0.5767, 0.468 , 0.407 , 0.356 ,\n",
       "              0.4016, 0.4038, 0.4905, 0.546 , 0.649 , 0.8833], dtype=float16),\n",
       "       array([0.875 , 0.3914, 0.4263, 0.441 , 0.4495, 0.4753, 0.3606, 0.4097,\n",
       "              0.3877, 0.4067, 0.4155, 0.4895, 0.5884, 0.422 , 0.859 ],\n",
       "             dtype=float16)                                                  ],\n",
       "      dtype=object)"
      ]
     },
     "execution_count": 29,
     "metadata": {},
     "output_type": "execute_result"
    }
   ],
   "source": [
    "all_b_probs[0]"
   ]
  },
  {
   "cell_type": "code",
   "execution_count": 43,
   "metadata": {},
   "outputs": [
    {
     "data": {
      "text/plain": [
       "array([array([0.839 , 0.352 , 0.3743, 0.4724, 0.519 , 0.428 , 0.448 , 0.3796,\n",
       "              0.5107, 0.588 , 0.707 , 0.7173, 0.7446, 0.8984], dtype=float16),\n",
       "       array([0.8447, 0.361 , 0.501 , 0.5493, 0.4287, 0.3584, 0.3743, 0.4077,\n",
       "              0.355 , 0.4436, 0.4702, 0.653 , 0.6685, 0.7256, 0.888 ],\n",
       "             dtype=float16)                                                  ,\n",
       "       array([0.8784, 0.3882, 0.3796, 0.4604, 0.382 , 0.377 , 0.4268, 0.371 ,\n",
       "              0.3782, 0.3645, 0.4062, 0.4463, 0.468 , 0.499 , 0.5073, 0.5273,\n",
       "              0.535 , 0.5493, 0.3647, 0.6177, 0.7085], dtype=float16)        ,\n",
       "       array([0.877 , 0.3645, 0.3684, 0.498 , 0.4922, 0.46  , 0.4514, 0.4194,\n",
       "              0.3586, 0.355 , 0.3945, 0.3691, 0.4302, 0.404 , 0.4087, 0.53  ,\n",
       "              0.5264, 0.5776, 0.574 , 0.586 , 0.633 , 0.7173], dtype=float16),\n",
       "       array([0.8716, 0.3672, 0.3982, 0.495 , 0.39  , 0.3926, 0.4656, 0.4514,\n",
       "              0.397 , 0.3723, 0.354 , 0.3564, 0.4058, 0.446 , 0.3948, 0.4622,\n",
       "              0.5283, 0.526 , 0.552 , 0.5576, 0.574 , 0.353 , 0.633 , 0.72  ],\n",
       "             dtype=float16)                                                   ],\n",
       "      dtype=object)"
      ]
     },
     "execution_count": 43,
     "metadata": {},
     "output_type": "execute_result"
    }
   ],
   "source": [
    "all_b_probs[1]"
   ]
  },
  {
   "cell_type": "code",
   "execution_count": 37,
   "metadata": {},
   "outputs": [],
   "source": [
    "different_formatted_el = all_b_probs[15045]"
   ]
  },
  {
   "cell_type": "code",
   "execution_count": 41,
   "metadata": {},
   "outputs": [
    {
     "data": {
      "text/plain": [
       "array([[0.9233, 0.614 , 0.6714, 0.7173, 0.675 , 0.671 , 0.663 , 0.671 ,\n",
       "        0.673 , 0.624 , 0.627 , 0.584 , 0.6074, 0.6074, 0.3823, 0.649 ,\n",
       "        0.86  ],\n",
       "       [0.9277, 0.626 , 0.6704, 0.753 , 0.7246, 0.712 , 0.691 , 0.64  ,\n",
       "        0.63  , 0.615 , 0.6504, 0.6313, 0.65  , 0.644 , 0.3525, 0.667 ,\n",
       "        0.8735],\n",
       "       [0.9126, 0.637 , 0.6455, 0.7256, 0.6343, 0.6187, 0.5703, 0.5396,\n",
       "        0.555 , 0.5645, 0.58  , 0.5454, 0.5615, 0.571 , 0.3809, 0.6343,\n",
       "        0.8584]], dtype=float16)"
      ]
     },
     "execution_count": 41,
     "metadata": {},
     "output_type": "execute_result"
    }
   ],
   "source": [
    "np.array([np.array(i, dtype=np.float16) for i in different_formatted_el])"
   ]
  },
  {
   "cell_type": "code",
   "execution_count": 26,
   "metadata": {},
   "outputs": [
    {
     "data": {
      "text/plain": [
       "(3, 17)"
      ]
     },
     "execution_count": 26,
     "metadata": {},
     "output_type": "execute_result"
    }
   ],
   "source": [
    "all_b_probs[15045].shape"
   ]
  },
  {
   "cell_type": "code",
   "execution_count": 48,
   "metadata": {},
   "outputs": [],
   "source": [
    "all_y_probs_concat = np.concatenate(all_y_probs)\n",
    "all_y_mz_probs_concat = np.concatenate(all_y_mz_probs)"
   ]
  },
  {
   "cell_type": "code",
   "execution_count": 103,
   "metadata": {},
   "outputs": [
    {
     "data": {
      "text/plain": [
       "1"
      ]
     },
     "execution_count": 103,
     "metadata": {},
     "output_type": "execute_result"
    }
   ],
   "source": [
    "new_all_b_probs[0].ndim"
   ]
  },
  {
   "cell_type": "code",
   "execution_count": 102,
   "metadata": {},
   "outputs": [
    {
     "data": {
      "text/plain": [
       "2"
      ]
     },
     "execution_count": 102,
     "metadata": {},
     "output_type": "execute_result"
    }
   ],
   "source": [
    "different_formatted_el.ndim"
   ]
  },
  {
   "cell_type": "code",
   "execution_count": 105,
   "metadata": {},
   "outputs": [
    {
     "data": {
      "text/plain": [
       "15045"
      ]
     },
     "execution_count": 105,
     "metadata": {},
     "output_type": "execute_result"
    }
   ],
   "source": [
    "len(all_b_probs[:-1])"
   ]
  },
  {
   "cell_type": "code",
   "execution_count": 112,
   "metadata": {},
   "outputs": [
    {
     "name": "stderr",
     "output_type": "stream",
     "text": [
      "/home/samva/miniconda3/envs/spectralis_env/lib/python3.7/site-packages/ipykernel_launcher.py:10: VisibleDeprecationWarning: Creating an ndarray from ragged nested sequences (which is a list-or-tuple of lists-or-tuples-or ndarrays with different lengths or shapes) is deprecated. If you meant to do this, you must specify 'dtype=object' when creating the ndarray.\n",
      "  # Remove the CWD from sys.path while we load stuff.\n"
     ]
    }
   ],
   "source": [
    "new_b_probs_concat = []\n",
    "\n",
    "for batch in all_b_probs:\n",
    "    \n",
    "    new_batch = []\n",
    "    if batch.ndim:\n",
    "        for arr in batch:\n",
    "            new_batch.append(np.array(arr, dtype=np.float16))\n",
    "        new_batch.append(np.array([0], dtype=np.float16))\n",
    "        new_batch=np.array(new_batch)\n",
    "        batch=new_batch[:-1]\n",
    "    \n",
    "    new_b_probs_concat.append(batch)"
   ]
  },
  {
   "cell_type": "code",
   "execution_count": 113,
   "metadata": {},
   "outputs": [
    {
     "data": {
      "text/plain": [
       "array([array([0.8906, 0.4275, 0.3564, 0.3804, 0.3901, 0.512 , 0.4775, 0.385 ,\n",
       "              0.3599, 0.4036, 0.4316, 0.4385, 0.4346, 0.384 , 0.355 , 0.3555,\n",
       "              0.4006, 0.4116, 0.4136, 0.4414, 0.4922, 0.5347], dtype=float16),\n",
       "       array([0.847 , 0.355 , 0.4724, 0.5625, 0.4922, 0.4731, 0.4148, 0.4492,\n",
       "              0.4617, 0.5596, 0.6   , 0.6865, 0.8716], dtype=float16)        ,\n",
       "       array([0.862 , 0.377 , 0.351 , 0.5176, 0.618 , 0.5635, 0.568 , 0.4531,\n",
       "              0.63  , 0.544 , 0.728 , 0.7344, 0.768 , 0.8945], dtype=float16),\n",
       "       ...,\n",
       "       array([0.9233, 0.614 , 0.6714, 0.7173, 0.675 , 0.671 , 0.663 , 0.671 ,\n",
       "              0.673 , 0.624 , 0.627 , 0.584 , 0.6074, 0.6074, 0.3823, 0.649 ,\n",
       "              0.86  ], dtype=float16)                                        ,\n",
       "       array([0.9277, 0.626 , 0.6704, 0.753 , 0.7246, 0.712 , 0.691 , 0.64  ,\n",
       "              0.63  , 0.615 , 0.6504, 0.6313, 0.65  , 0.644 , 0.3525, 0.667 ,\n",
       "              0.8735], dtype=float16)                                        ,\n",
       "       array([0.9126, 0.637 , 0.6455, 0.7256, 0.6343, 0.6187, 0.5703, 0.5396,\n",
       "              0.555 , 0.5645, 0.58  , 0.5454, 0.5615, 0.571 , 0.3809, 0.6343,\n",
       "              0.8584], dtype=float16)                                        ],\n",
       "      dtype=object)"
      ]
     },
     "execution_count": 113,
     "metadata": {},
     "output_type": "execute_result"
    }
   ],
   "source": [
    "np.concatenate(new_b_probs_concat)"
   ]
  },
  {
   "cell_type": "code",
   "execution_count": 52,
   "metadata": {},
   "outputs": [],
   "source": [
    "new_all_b_probs = all_b_probs[0: 15044]"
   ]
  },
  {
   "cell_type": "code",
   "execution_count": 55,
   "metadata": {},
   "outputs": [],
   "source": [
    "new_all_b_probs.append(np.array([np.array(x, dtype=np.float16) for x in different_formatted_el]))"
   ]
  },
  {
   "cell_type": "code",
   "execution_count": 51,
   "metadata": {},
   "outputs": [
    {
     "ename": "ValueError",
     "evalue": "all the input arrays must have same number of dimensions, but the array at index 0 has 1 dimension(s) and the array at index 15045 has 2 dimension(s)",
     "output_type": "error",
     "traceback": [
      "\u001b[0;31m---------------------------------------------------------------------------\u001b[0m",
      "\u001b[0;31mValueError\u001b[0m                                Traceback (most recent call last)",
      "\u001b[0;32m/tmp/ipykernel_64548/3694543372.py\u001b[0m in \u001b[0;36m<module>\u001b[0;34m\u001b[0m\n\u001b[0;32m----> 1\u001b[0;31m \u001b[0mnp\u001b[0m\u001b[0;34m.\u001b[0m\u001b[0mconcatenate\u001b[0m\u001b[0;34m(\u001b[0m\u001b[0mall_b_probs\u001b[0m\u001b[0;34m)\u001b[0m\u001b[0;34m\u001b[0m\u001b[0;34m\u001b[0m\u001b[0m\n\u001b[0m",
      "\u001b[0;32m<__array_function__ internals>\u001b[0m in \u001b[0;36mconcatenate\u001b[0;34m(*args, **kwargs)\u001b[0m\n",
      "\u001b[0;31mValueError\u001b[0m: all the input arrays must have same number of dimensions, but the array at index 0 has 1 dimension(s) and the array at index 15045 has 2 dimension(s)"
     ]
    }
   ],
   "source": [
    "np.concatenate(all_b_probs)"
   ]
  },
  {
   "cell_type": "code",
   "execution_count": 10,
   "metadata": {},
   "outputs": [],
   "source": [
    "test = [\n",
    "    np.array([np.array([0.1, 0.2], dtype=object), np.array([0.3, 0.4, 0.5], dtype=object)], dtype=object),  # A batch with arrays of different sizes\n",
    "    np.array([np.array([0.6, 0.7, .1], dtype=object), np.array([0.8, 0.9], dtype=object)], dtype=object)         # A batch where all arrays are the same size\n",
    "]\n",
    "# No issue!\n",
    "el = np.concatenate(test)"
   ]
  },
  {
   "cell_type": "code",
   "execution_count": 11,
   "metadata": {},
   "outputs": [
    {
     "ename": "ValueError",
     "evalue": "all the input arrays must have same number of dimensions, but the array at index 0 has 1 dimension(s) and the array at index 1 has 2 dimension(s)",
     "output_type": "error",
     "traceback": [
      "\u001b[0;31m---------------------------------------------------------------------------\u001b[0m",
      "\u001b[0;31mValueError\u001b[0m                                Traceback (most recent call last)",
      "\u001b[0;32m/tmp/ipykernel_125326/567160590.py\u001b[0m in \u001b[0;36m<module>\u001b[0;34m\u001b[0m\n\u001b[1;32m      4\u001b[0m ]\n\u001b[1;32m      5\u001b[0m \u001b[0;31m# Issue! Because the second array defaults to a 2-dimensional one, whereas it should be concatenateble to the first one...\u001b[0m\u001b[0;34m\u001b[0m\u001b[0;34m\u001b[0m\u001b[0;34m\u001b[0m\u001b[0m\n\u001b[0;32m----> 6\u001b[0;31m \u001b[0mnp\u001b[0m\u001b[0;34m.\u001b[0m\u001b[0mconcatenate\u001b[0m\u001b[0;34m(\u001b[0m\u001b[0mtest_2\u001b[0m\u001b[0;34m)\u001b[0m\u001b[0;34m\u001b[0m\u001b[0;34m\u001b[0m\u001b[0m\n\u001b[0m",
      "\u001b[0;32m<__array_function__ internals>\u001b[0m in \u001b[0;36mconcatenate\u001b[0;34m(*args, **kwargs)\u001b[0m\n",
      "\u001b[0;31mValueError\u001b[0m: all the input arrays must have same number of dimensions, but the array at index 0 has 1 dimension(s) and the array at index 1 has 2 dimension(s)"
     ]
    }
   ],
   "source": [
    "test_2 = [\n",
    "    np.array([np.array([0.1, 0.2], dtype=object), np.array([0.3, 0.4, 0.5], dtype=object)], dtype=object),  # A batch with arrays of different sizes\n",
    "    np.array([np.array([0.6, 0.7], dtype=object), np.array([0.8, 0.9], dtype=object)], dtype=object)         # A batch where all arrays are the same size\n",
    "]\n",
    "# Issue! Because the second array defaults to a 2-dimensional one, whereas it should be concatenateble to the first one...\n",
    "np.concatenate(test_2)"
   ]
  },
  {
   "cell_type": "code",
   "execution_count": 96,
   "metadata": {},
   "outputs": [
    {
     "ename": "ValueError",
     "evalue": "all the input arrays must have same number of dimensions, but the array at index 0 has 1 dimension(s) and the array at index 1 has 2 dimension(s)",
     "output_type": "error",
     "traceback": [
      "\u001b[0;31m---------------------------------------------------------------------------\u001b[0m",
      "\u001b[0;31mValueError\u001b[0m                                Traceback (most recent call last)",
      "\u001b[0;32m/tmp/ipykernel_64548/3749493651.py\u001b[0m in \u001b[0;36m<module>\u001b[0;34m\u001b[0m\n\u001b[1;32m     11\u001b[0m ]\n\u001b[1;32m     12\u001b[0m \u001b[0;31m# Issue! Because the second array defaults to a 2-dimensional one, whereas it should be concatenateble to the first one...\u001b[0m\u001b[0;34m\u001b[0m\u001b[0;34m\u001b[0m\u001b[0;34m\u001b[0m\u001b[0m\n\u001b[0;32m---> 13\u001b[0;31m \u001b[0mnp\u001b[0m\u001b[0;34m.\u001b[0m\u001b[0mconcatenate\u001b[0m\u001b[0;34m(\u001b[0m\u001b[0mtest_2\u001b[0m\u001b[0;34m)\u001b[0m\u001b[0;34m\u001b[0m\u001b[0;34m\u001b[0m\u001b[0m\n\u001b[0m",
      "\u001b[0;32m<__array_function__ internals>\u001b[0m in \u001b[0;36mconcatenate\u001b[0;34m(*args, **kwargs)\u001b[0m\n",
      "\u001b[0;31mValueError\u001b[0m: all the input arrays must have same number of dimensions, but the array at index 0 has 1 dimension(s) and the array at index 1 has 2 dimension(s)"
     ]
    }
   ],
   "source": [
    "test = [\n",
    "    np.array([np.array([0.1, 0.2], dtype=object), np.array([0.3, 0.4, 0.5], dtype=object)], dtype=object),  # A batch with arrays of different sizes\n",
    "    np.array([np.array([0.6, 0.7, .1], dtype=object), np.array([0.8, 0.9], dtype=object)], dtype=object)         # A batch where all arrays are the same size\n",
    "]\n",
    "# No issue!\n",
    "el = np.concatenate(test)\n",
    "\n",
    "test_2 = [\n",
    "    np.array([np.array([0.1, 0.2], dtype=object), np.array([0.3, 0.4, 0.5], dtype=object)], dtype=object),  # A batch with arrays of different sizes\n",
    "    np.array([np.array([0.6, 0.7], dtype=object), np.array([0.8, 0.9], dtype=object)], dtype=object)         # A batch where all arrays are the same size\n",
    "]\n",
    "# Issue! Because the second array defaults to a 2-dimensional one, whereas it should be concatenateble to the first one...\n",
    "np.concatenate(test_2)"
   ]
  },
  {
   "cell_type": "code",
   "execution_count": 97,
   "metadata": {},
   "outputs": [
    {
     "ename": "ValueError",
     "evalue": "all the input arrays must have same number of dimensions, but the array at index 0 has 1 dimension(s) and the array at index 1 has 2 dimension(s)",
     "output_type": "error",
     "traceback": [
      "\u001b[0;31m---------------------------------------------------------------------------\u001b[0m",
      "\u001b[0;31mValueError\u001b[0m                                Traceback (most recent call last)",
      "\u001b[0;32m/tmp/ipykernel_64548/4211981373.py\u001b[0m in \u001b[0;36m<module>\u001b[0;34m\u001b[0m\n\u001b[1;32m      3\u001b[0m     \u001b[0mnp\u001b[0m\u001b[0;34m.\u001b[0m\u001b[0marray\u001b[0m\u001b[0;34m(\u001b[0m\u001b[0;34m[\u001b[0m\u001b[0mnp\u001b[0m\u001b[0;34m.\u001b[0m\u001b[0marray\u001b[0m\u001b[0;34m(\u001b[0m\u001b[0;34m[\u001b[0m\u001b[0;36m0.6\u001b[0m\u001b[0;34m,\u001b[0m \u001b[0;36m0.7\u001b[0m\u001b[0;34m]\u001b[0m\u001b[0;34m,\u001b[0m \u001b[0mdtype\u001b[0m\u001b[0;34m=\u001b[0m\u001b[0mobject\u001b[0m\u001b[0;34m)\u001b[0m\u001b[0;34m,\u001b[0m \u001b[0mnp\u001b[0m\u001b[0;34m.\u001b[0m\u001b[0marray\u001b[0m\u001b[0;34m(\u001b[0m\u001b[0;34m[\u001b[0m\u001b[0;36m0.8\u001b[0m\u001b[0;34m,\u001b[0m \u001b[0;36m0.9\u001b[0m\u001b[0;34m]\u001b[0m\u001b[0;34m,\u001b[0m \u001b[0mdtype\u001b[0m\u001b[0;34m=\u001b[0m\u001b[0mobject\u001b[0m\u001b[0;34m)\u001b[0m\u001b[0;34m]\u001b[0m\u001b[0;34m,\u001b[0m \u001b[0mdtype\u001b[0m\u001b[0;34m=\u001b[0m\u001b[0mobject\u001b[0m\u001b[0;34m)\u001b[0m         \u001b[0;31m# A batch where all arrays are the same size\u001b[0m\u001b[0;34m\u001b[0m\u001b[0;34m\u001b[0m\u001b[0m\n\u001b[1;32m      4\u001b[0m ]\n\u001b[0;32m----> 5\u001b[0;31m \u001b[0mel\u001b[0m \u001b[0;34m=\u001b[0m \u001b[0mnp\u001b[0m\u001b[0;34m.\u001b[0m\u001b[0mconcatenate\u001b[0m\u001b[0;34m(\u001b[0m\u001b[0mtest_2\u001b[0m\u001b[0;34m)\u001b[0m\u001b[0;34m\u001b[0m\u001b[0;34m\u001b[0m\u001b[0m\n\u001b[0m",
      "\u001b[0;32m<__array_function__ internals>\u001b[0m in \u001b[0;36mconcatenate\u001b[0;34m(*args, **kwargs)\u001b[0m\n",
      "\u001b[0;31mValueError\u001b[0m: all the input arrays must have same number of dimensions, but the array at index 0 has 1 dimension(s) and the array at index 1 has 2 dimension(s)"
     ]
    }
   ],
   "source": [
    "test_2 = [\n",
    "    np.array([np.array([0.1, 0.2], dtype=object), np.array([0.3, 0.4, 0.5], dtype=object)], dtype=object),  # A batch with arrays of different sizes\n",
    "    np.array([np.array([0.6, 0.7], dtype=object), np.array([0.8, 0.9], dtype=object)], dtype=object)         # A batch where all arrays are the same size\n",
    "]\n",
    "el = np.concatenate(test_2)"
   ]
  },
  {
   "cell_type": "code",
   "execution_count": 93,
   "metadata": {},
   "outputs": [
    {
     "name": "stderr",
     "output_type": "stream",
     "text": [
      "/home/samva/miniconda3/envs/spectralis_env/lib/python3.7/site-packages/ipykernel_launcher.py:1: VisibleDeprecationWarning: Creating an ndarray from ragged nested sequences (which is a list-or-tuple of lists-or-tuples-or ndarrays with different lengths or shapes) is deprecated. If you meant to do this, you must specify 'dtype=object' when creating the ndarray.\n",
      "  \"\"\"Entry point for launching an IPython kernel.\n"
     ]
    },
    {
     "data": {
      "text/plain": [
       "(3,)"
      ]
     },
     "execution_count": 93,
     "metadata": {},
     "output_type": "execute_result"
    }
   ],
   "source": [
    "np.array([np.array([0.6, 0.7, .1], dtype=object), np.array([0.6, 0.7], dtype=object), np.array([0.8, 0.9], dtype=object)]).shape"
   ]
  },
  {
   "cell_type": "code",
   "execution_count": 85,
   "metadata": {},
   "outputs": [
    {
     "data": {
      "text/plain": [
       "(2, 2)"
      ]
     },
     "execution_count": 85,
     "metadata": {},
     "output_type": "execute_result"
    }
   ],
   "source": [
    "np.array([np.array([0.6, 0.7]), np.array([0.8, 0.9])], dtype=object).shape"
   ]
  },
  {
   "cell_type": "code",
   "execution_count": 79,
   "metadata": {},
   "outputs": [
    {
     "ename": "ValueError",
     "evalue": "all the input arrays must have same number of dimensions, but the array at index 0 has 1 dimension(s) and the array at index 1 has 2 dimension(s)",
     "output_type": "error",
     "traceback": [
      "\u001b[0;31m---------------------------------------------------------------------------\u001b[0m",
      "\u001b[0;31mValueError\u001b[0m                                Traceback (most recent call last)",
      "\u001b[0;32m/tmp/ipykernel_64548/2875155697.py\u001b[0m in \u001b[0;36m<module>\u001b[0;34m\u001b[0m\n\u001b[0;32m----> 1\u001b[0;31m \u001b[0mnp\u001b[0m\u001b[0;34m.\u001b[0m\u001b[0mconcatenate\u001b[0m\u001b[0;34m(\u001b[0m\u001b[0mtest\u001b[0m\u001b[0;34m)\u001b[0m\u001b[0;34m\u001b[0m\u001b[0;34m\u001b[0m\u001b[0m\n\u001b[0m",
      "\u001b[0;32m<__array_function__ internals>\u001b[0m in \u001b[0;36mconcatenate\u001b[0;34m(*args, **kwargs)\u001b[0m\n",
      "\u001b[0;31mValueError\u001b[0m: all the input arrays must have same number of dimensions, but the array at index 0 has 1 dimension(s) and the array at index 1 has 2 dimension(s)"
     ]
    }
   ],
   "source": [
    "np.concatenate(test)"
   ]
  },
  {
   "cell_type": "code",
   "execution_count": 74,
   "metadata": {},
   "outputs": [],
   "source": [
    "new_test = []\n",
    "for batch in test:\n",
    "    new_b = [np.ravel(b) for b in batch]\n",
    "    new_test.append(new_b)"
   ]
  },
  {
   "cell_type": "code",
   "execution_count": 75,
   "metadata": {},
   "outputs": [
    {
     "name": "stderr",
     "output_type": "stream",
     "text": [
      "/home/samva/miniconda3/envs/spectralis_env/lib/python3.7/site-packages/ipykernel_launcher.py:1: VisibleDeprecationWarning: Creating an ndarray from ragged nested sequences (which is a list-or-tuple of lists-or-tuples-or ndarrays with different lengths or shapes) is deprecated. If you meant to do this, you must specify 'dtype=object' when creating the ndarray.\n",
      "  \"\"\"Entry point for launching an IPython kernel.\n"
     ]
    }
   ],
   "source": [
    "new_test_concat = np.concatenate([np.array(batch) for batch in new_test])\n"
   ]
  },
  {
   "cell_type": "code",
   "execution_count": 70,
   "metadata": {},
   "outputs": [
    {
     "data": {
      "text/plain": [
       "array([0.1, 0.2, 0.3, 0.4, 0.5, 0.6, 0.7, 0.8, 0.9])"
      ]
     },
     "execution_count": 70,
     "metadata": {},
     "output_type": "execute_result"
    }
   ],
   "source": [
    "new_test_concat"
   ]
  },
  {
   "cell_type": "code",
   "execution_count": 66,
   "metadata": {},
   "outputs": [
    {
     "data": {
      "text/plain": [
       "[array([array([0.1, 0.2]), array([0.3, 0.4, 0.5])], dtype=object),\n",
       " array([[0.6, 0.7],\n",
       "        [0.8, 0.9]])]"
      ]
     },
     "execution_count": 66,
     "metadata": {},
     "output_type": "execute_result"
    }
   ],
   "source": [
    "test"
   ]
  },
  {
   "cell_type": "code",
   "execution_count": 68,
   "metadata": {},
   "outputs": [
    {
     "ename": "AttributeError",
     "evalue": "'list' object has no attribute 'shape'",
     "output_type": "error",
     "traceback": [
      "\u001b[0;31m---------------------------------------------------------------------------\u001b[0m",
      "\u001b[0;31mAttributeError\u001b[0m                            Traceback (most recent call last)",
      "\u001b[0;32m/tmp/ipykernel_64548/4234286736.py\u001b[0m in \u001b[0;36m<module>\u001b[0;34m\u001b[0m\n\u001b[0;32m----> 1\u001b[0;31m \u001b[0mnew_test\u001b[0m\u001b[0;34m[\u001b[0m\u001b[0;36m1\u001b[0m\u001b[0;34m]\u001b[0m\u001b[0;34m.\u001b[0m\u001b[0mshape\u001b[0m\u001b[0;34m\u001b[0m\u001b[0;34m\u001b[0m\u001b[0m\n\u001b[0m",
      "\u001b[0;31mAttributeError\u001b[0m: 'list' object has no attribute 'shape'"
     ]
    }
   ],
   "source": [
    "new_test[1].shape"
   ]
  },
  {
   "cell_type": "code",
   "execution_count": 63,
   "metadata": {},
   "outputs": [
    {
     "ename": "ValueError",
     "evalue": "all the input arrays must have same number of dimensions, but the array at index 0 has 1 dimension(s) and the array at index 1 has 2 dimension(s)",
     "output_type": "error",
     "traceback": [
      "\u001b[0;31m---------------------------------------------------------------------------\u001b[0m",
      "\u001b[0;31mValueError\u001b[0m                                Traceback (most recent call last)",
      "\u001b[0;32m/tmp/ipykernel_64548/2875155697.py\u001b[0m in \u001b[0;36m<module>\u001b[0;34m\u001b[0m\n\u001b[0;32m----> 1\u001b[0;31m \u001b[0mnp\u001b[0m\u001b[0;34m.\u001b[0m\u001b[0mconcatenate\u001b[0m\u001b[0;34m(\u001b[0m\u001b[0mtest\u001b[0m\u001b[0;34m)\u001b[0m\u001b[0;34m\u001b[0m\u001b[0;34m\u001b[0m\u001b[0m\n\u001b[0m",
      "\u001b[0;32m<__array_function__ internals>\u001b[0m in \u001b[0;36mconcatenate\u001b[0;34m(*args, **kwargs)\u001b[0m\n",
      "\u001b[0;31mValueError\u001b[0m: all the input arrays must have same number of dimensions, but the array at index 0 has 1 dimension(s) and the array at index 1 has 2 dimension(s)"
     ]
    }
   ],
   "source": [
    "np.concatenate(test)"
   ]
  },
  {
   "cell_type": "code",
   "execution_count": null,
   "metadata": {},
   "outputs": [],
   "source": [
    "all_y_probs = np.concatenate(all_y_probs)\n",
    "all_y_mz_probs = np.concatenate(all_y_mz_probs)\n",
    "all_b_probs = np.concatenate(all_b_probs) # error occurs here!\n",
    "all_b_mz_probs = np.concatenate(all_b_mz_probs)\n",
    "all_y_changes = np.concatenate(all_y_changes)"
   ]
  },
  {
   "cell_type": "code",
   "execution_count": null,
   "metadata": {},
   "outputs": [],
   "source": [
    "# rescoring_from_mgf deconstructed\n",
    "\n",
    "print('== Spectralis rescoring from MGF file ==')\n",
    "\n",
    "\n",
    "\n",
    "\n",
    "print(f'-- Getting scores for {len(alpha_seqs)} PSMs')\n",
    "\n",
    "## Get Spectralis-scores\n",
    "rescoring_out = rescoring(alpha_seqs, precursor_z,  \n",
    "                                exp_ints, exp_mzs, precursor_m, return_features=return_features)\n",
    "\n",
    "if return_features:\n",
    "    scores, features = rescoring_out\n",
    "else: \n",
    "    scores = rescoring_out\n",
    "\n",
    "## Assign lowest possible score to invalid spectra\n",
    "if scans_invalid.shape[0]>0:\n",
    "    scans_valid = np.concatenate([scans_valid, scans_invalid])\n",
    "    scores = np.concatenate([scores, np.zeros(scans_invalid.shape[0])+np.NINF])\n",
    "\n",
    "## Write output to csv file\n",
    "df = pd.DataFrame({'Spectralis_score':scores, 'scans':scans_valid})\n",
    "if out_path is not None:\n",
    "    df.to_csv(out_path, index=None)\n",
    "    print(f'-- Writing scores to file <{out_path}>\\nfor {len(df)} PSMs')\n",
    "\n",
    "return df if not return_features else (df, features)"
   ]
  },
  {
   "cell_type": "code",
   "execution_count": null,
   "metadata": {},
   "outputs": [],
   "source": []
  }
 ],
 "metadata": {
  "kernelspec": {
   "display_name": "spectralis_env",
   "language": "python",
   "name": "python3"
  },
  "language_info": {
   "codemirror_mode": {
    "name": "ipython",
    "version": 3
   },
   "file_extension": ".py",
   "mimetype": "text/x-python",
   "name": "python",
   "nbconvert_exporter": "python",
   "pygments_lexer": "ipython3",
   "version": "3.7.12"
  }
 },
 "nbformat": 4,
 "nbformat_minor": 2
}
