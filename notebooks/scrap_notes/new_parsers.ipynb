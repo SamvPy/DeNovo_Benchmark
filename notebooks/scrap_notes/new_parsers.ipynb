{
 "cells": [
  {
   "cell_type": "code",
   "execution_count": 2,
   "metadata": {},
   "outputs": [
    {
     "name": "stdout",
     "output_type": "stream",
     "text": [
      "Modification already exists in ModificationsDB. Skipping.\n"
     ]
    }
   ],
   "source": [
    "import pandas as pd\n",
    "import os\n",
    "import logging\n",
    "from io import TextIOWrapper\n",
    "import re\n",
    "\n",
    "from pyteomics.mztab import MzTab\n",
    "from pyteomics import mgf\n",
    "from psm_utils import PSM, PSMList, Peptidoform\n",
    "from tqdm import tqdm\n",
    "\n",
    "from psm_utils.peptidoform import PeptidoformException\n",
    "\n",
    "from denovo_utils.parsers.constants import MODIFICATION_MAPPING_TO_SPECTRALIS\n",
    "\n",
    "from glob import glob\n",
    "\n",
    "from denovo_utils.parsers.converters.utils import parse_peptidoform\n",
    "\n",
    "tqdm.pandas()"
   ]
  },
  {
   "cell_type": "code",
   "execution_count": 4,
   "metadata": {},
   "outputs": [],
   "source": [
    "filename = \"LFQ_TTOF6600_DDA_Human_01\"\n",
    "mgf_file = mgf.read(f\"/home/samva/Doctorate/data_directory/PXD028735/mgf/TTOF6600/original/{filename}.mgf\")"
   ]
  },
  {
   "cell_type": "code",
   "execution_count": 5,
   "metadata": {},
   "outputs": [],
   "source": [
    "import re\n",
    "\n",
    "\n",
    "def parse_title(spectrum: dict):\n",
    "    title_pattern = r\"controllerType=\\d+ controllerNumber=\\d+ scan=(\\d+)\"\n",
    "    try:\n",
    "        title = spectrum[\"params\"][\"title\"]\n",
    "    except KeyError:\n",
    "        return False, False\n",
    "    \n",
    "    match = re.search(title_pattern, title)\n",
    "    if match:\n",
    "        title_id = match.group(0)\n",
    "        scan_number = match.group(1)\n",
    "        return title_id, scan_number\n",
    "    else:\n",
    "        return False, False\n",
    "\n",
    "def parse_charge(spectrum: dict):\n",
    "\n",
    "    try:\n",
    "        charge = spectrum[\"params\"][\"charge\"]\n",
    "    except KeyError:\n",
    "        return False\n",
    "    \n",
    "    if len(charge)>1:\n",
    "        logging.warning(f\"{spectrum['params']['title']}: Has multiple charges ({charge})\")\n",
    "    return int(charge[0])\n",
    "\n",
    "def parse_pepmass(spectrum: dict, silence_warning=True):\n",
    "\n",
    "    try:\n",
    "        pepmass = spectrum[\"params\"][\"pepmass\"]\n",
    "        if len(pepmass)>1 and not silence_warning:\n",
    "            logging.warning(f\"{spectrum['params']['title']}: Pepmass field holds multiple values. ({pepmass})\")\n",
    "        return pepmass[0]\n",
    "    except KeyError:\n",
    "        raise Exception(\"No pepmass field in the precursor info of MGF spectrum.\")\n",
    "\n",
    "def check_required_fields(spectrum: dict):\n",
    "\n",
    "    start_new_index = False\n",
    "\n",
    "    # Check title field\n",
    "    title_id, _ = parse_title(spectrum)\n",
    "    if title_id == False:\n",
    "        start_new_index = True\n",
    "    \n",
    "    # Check charge field\n",
    "    _ = parse_charge(spectrum)\n",
    "\n",
    "    # Check pepmass\n",
    "    _ = parse_pepmass(spectrum, silence_warning=False)\n",
    "\n",
    "    return start_new_index"
   ]
  },
  {
   "cell_type": "code",
   "execution_count": 7,
   "metadata": {},
   "outputs": [
    {
     "ename": "TypeError",
     "evalue": "'NoneType' object is not subscriptable",
     "output_type": "error",
     "traceback": [
      "\u001b[0;31m---------------------------------------------------------------------------\u001b[0m",
      "\u001b[0;31mTypeError\u001b[0m                                 Traceback (most recent call last)",
      "Cell \u001b[0;32mIn[7], line 2\u001b[0m\n\u001b[1;32m      1\u001b[0m \u001b[38;5;28;01mfor\u001b[39;00m i, spec \u001b[38;5;129;01min\u001b[39;00m \u001b[38;5;28menumerate\u001b[39m(mgf_file):\n\u001b[0;32m----> 2\u001b[0m     mz_array \u001b[38;5;241m=\u001b[39m \u001b[43mspec\u001b[49m\u001b[43m[\u001b[49m\u001b[38;5;124;43m\"\u001b[39;49m\u001b[38;5;124;43mm/z array\u001b[39;49m\u001b[38;5;124;43m\"\u001b[39;49m\u001b[43m]\u001b[49m\n",
      "\u001b[0;31mTypeError\u001b[0m: 'NoneType' object is not subscriptable"
     ]
    }
   ],
   "source": [
    "for i, spec in enumerate(mgf_file):\n",
    "    mz_array = spec[\"m/z array\"]"
   ]
  },
  {
   "cell_type": "code",
   "execution_count": 12,
   "metadata": {},
   "outputs": [],
   "source": [
    "mgf_file[55659]"
   ]
  },
  {
   "cell_type": "code",
   "execution_count": 9,
   "metadata": {},
   "outputs": [],
   "source": [
    "spec"
   ]
  },
  {
   "cell_type": "code",
   "execution_count": 8,
   "metadata": {},
   "outputs": [
    {
     "data": {
      "text/plain": [
       "55658"
      ]
     },
     "execution_count": 8,
     "metadata": {},
     "output_type": "execute_result"
    }
   ],
   "source": [
    "i"
   ]
  },
  {
   "cell_type": "code",
   "execution_count": 55,
   "metadata": {},
   "outputs": [],
   "source": [
    "def reformat_mgf(\n",
    "        path_mgf,\n",
    "        output_dir=\"\",\n",
    "        min_peak_length=15,\n",
    "        max_charge=8\n",
    "    ):\n",
    "\n",
    "    mgf_file = mgf.read(path_mgf)\n",
    "    filename = os.path.basename(path_mgf)\n",
    "    logging.info(f\"\\n\\nParsing {filename}\")\n",
    "\n",
    "    total_spectra = len(mgf_file)\n",
    "    start_new_index = check_required_fields(spectrum=mgf_file[0])\n",
    "\n",
    "    spectrum_list = []\n",
    "\n",
    "    skipped_missing_charge = 0\n",
    "    skipped_above_max_charge = 0\n",
    "    skipped_by_peak_length = 0\n",
    "\n",
    "    for i, spectrum in enumerate(mgf_file):\n",
    "        \n",
    "        if len(spectrum[\"m/z array\"]) < min_peak_length:\n",
    "            skipped_by_peak_length += 1\n",
    "            continue\n",
    "\n",
    "        if start_new_index:\n",
    "            title, scan_id = f\"controllerType=0 controllerNumber=1 scan={i}\", i\n",
    "        else:\n",
    "            title, scan_id = parse_title(spectrum=spectrum)\n",
    "        \n",
    "        charge = parse_charge(spectrum=spectrum)\n",
    "        if charge==False:\n",
    "            skipped_missing_charge += 1\n",
    "            continue\n",
    "\n",
    "        if charge > max_charge:\n",
    "            skipped_above_max_charge += 1\n",
    "            continue\n",
    "\n",
    "        pepmass = parse_pepmass(spectrum=spectrum)\n",
    "        rtinseconds = spectrum[\"params\"][\"rtinseconds\"]\n",
    "            \n",
    "        params = {\n",
    "            \"title\": title,\n",
    "            \"pepmass\": pepmass,\n",
    "            \"rtinseconds\": rtinseconds,\n",
    "            \"charge\": str(charge)+\"+\",\n",
    "            \"scans\": scan_id,\n",
    "        }\n",
    "        spectrum[\"params\"] = params\n",
    "        spectrum_list.append(spectrum)\n",
    "\n",
    "    if spectrum_list == []:\n",
    "        logging.warning(f\"{filename}: No spectra left after precursor info validation and filtering.\")\n",
    "\n",
    "    logging.info(\n",
    "        f\"\\nTotal spectra: {total_spectra}; After filtering: {len(spectrum_list)}\\n\\t\"\n",
    "        f\"Filtered spectra: {total_spectra-len(spectrum_list)}\\n\\t\" \\\n",
    "        f\"Peaks below{min_peak_length}: {skipped_by_peak_length}\\n\\t\" \\\n",
    "        f\"No charge field: {skipped_missing_charge}\\n\\t\" \\\n",
    "        f\"Above max charge ({max_charge}): {skipped_above_max_charge}\"\n",
    "    )\n",
    "\n",
    "    if (skipped_missing_charge+skipped_by_peak_length) == total_spectra:\n",
    "        raise Exception(\"Use a charge predictor for annotation! All MGFs have missing charge field.\")\n",
    "\n",
    "    mgf.write(\n",
    "        spectra=spectrum_list,\n",
    "        output=os.path.join(output_dir, filename),\n",
    "        header=mgf_file.header\n",
    "    )"
   ]
  },
  {
   "cell_type": "code",
   "execution_count": 59,
   "metadata": {},
   "outputs": [
    {
     "name": "stdout",
     "output_type": "stream",
     "text": [
      "/home/samva/Doctorate/data_directory/tests/mgf/test2.mgf\n",
      "/home/samva/Doctorate/data_directory/tests/mgf/test3.mgf\n"
     ]
    },
    {
     "ename": "Exception",
     "evalue": "Use a charge predictor for annotation! All MGFs have missing charge field.",
     "output_type": "error",
     "traceback": [
      "\u001b[0;31m---------------------------------------------------------------------------\u001b[0m",
      "\u001b[0;31mException\u001b[0m                                 Traceback (most recent call last)",
      "Cell \u001b[0;32mIn[59], line 3\u001b[0m\n\u001b[1;32m      1\u001b[0m \u001b[38;5;28;01mfor\u001b[39;00m p \u001b[38;5;129;01min\u001b[39;00m glob(\u001b[38;5;124m\"\u001b[39m\u001b[38;5;124m/home/samva/Doctorate/data_directory/tests/mgf/*.mgf\u001b[39m\u001b[38;5;124m\"\u001b[39m):\n\u001b[1;32m      2\u001b[0m     \u001b[38;5;28mprint\u001b[39m(p)\n\u001b[0;32m----> 3\u001b[0m     \u001b[43mreformat_mgf\u001b[49m\u001b[43m(\u001b[49m\n\u001b[1;32m      4\u001b[0m \u001b[43m        \u001b[49m\u001b[43mpath_mgf\u001b[49m\u001b[38;5;241;43m=\u001b[39;49m\u001b[43mp\u001b[49m\u001b[43m,\u001b[49m\n\u001b[1;32m      5\u001b[0m \u001b[43m        \u001b[49m\u001b[43moutput_dir\u001b[49m\u001b[38;5;241;43m=\u001b[39;49m\u001b[38;5;124;43m\"\u001b[39;49m\u001b[38;5;124;43m/home/samva/Doctorate/data_directory/tests/mgf_reformatted\u001b[39;49m\u001b[38;5;124;43m\"\u001b[39;49m\u001b[43m,\u001b[49m\n\u001b[1;32m      6\u001b[0m \u001b[43m        \u001b[49m\u001b[43mmin_peak_length\u001b[49m\u001b[38;5;241;43m=\u001b[39;49m\u001b[38;5;241;43m15\u001b[39;49m\u001b[43m,\u001b[49m\n\u001b[1;32m      7\u001b[0m \u001b[43m        \u001b[49m\u001b[43mmax_charge\u001b[49m\u001b[38;5;241;43m=\u001b[39;49m\u001b[38;5;241;43m8\u001b[39;49m\n\u001b[1;32m      8\u001b[0m \u001b[43m    \u001b[49m\u001b[43m)\u001b[49m\n",
      "Cell \u001b[0;32mIn[55], line 66\u001b[0m, in \u001b[0;36mreformat_mgf\u001b[0;34m(path_mgf, output_dir, min_peak_length, max_charge)\u001b[0m\n\u001b[1;32m     57\u001b[0m logging\u001b[38;5;241m.\u001b[39minfo(\n\u001b[1;32m     58\u001b[0m     \u001b[38;5;124mf\u001b[39m\u001b[38;5;124m\"\u001b[39m\u001b[38;5;130;01m\\n\u001b[39;00m\u001b[38;5;124mTotal spectra: \u001b[39m\u001b[38;5;132;01m{\u001b[39;00mtotal_spectra\u001b[38;5;132;01m}\u001b[39;00m\u001b[38;5;124m; After filtering: \u001b[39m\u001b[38;5;132;01m{\u001b[39;00m\u001b[38;5;28mlen\u001b[39m(spectrum_list)\u001b[38;5;132;01m}\u001b[39;00m\u001b[38;5;130;01m\\n\u001b[39;00m\u001b[38;5;130;01m\\t\u001b[39;00m\u001b[38;5;124m\"\u001b[39m\n\u001b[1;32m     59\u001b[0m     \u001b[38;5;124mf\u001b[39m\u001b[38;5;124m\"\u001b[39m\u001b[38;5;124mFiltered spectra: \u001b[39m\u001b[38;5;132;01m{\u001b[39;00mtotal_spectra\u001b[38;5;241m-\u001b[39m\u001b[38;5;28mlen\u001b[39m(spectrum_list)\u001b[38;5;132;01m}\u001b[39;00m\u001b[38;5;130;01m\\n\u001b[39;00m\u001b[38;5;130;01m\\t\u001b[39;00m\u001b[38;5;124m\"\u001b[39m \\\n\u001b[0;32m   (...)\u001b[0m\n\u001b[1;32m     62\u001b[0m     \u001b[38;5;124mf\u001b[39m\u001b[38;5;124m\"\u001b[39m\u001b[38;5;124mAbove max charge (\u001b[39m\u001b[38;5;132;01m{\u001b[39;00mmax_charge\u001b[38;5;132;01m}\u001b[39;00m\u001b[38;5;124m): \u001b[39m\u001b[38;5;132;01m{\u001b[39;00mskipped_above_max_charge\u001b[38;5;132;01m}\u001b[39;00m\u001b[38;5;124m\"\u001b[39m\n\u001b[1;32m     63\u001b[0m )\n\u001b[1;32m     65\u001b[0m \u001b[38;5;28;01mif\u001b[39;00m (skipped_missing_charge\u001b[38;5;241m+\u001b[39mskipped_by_peak_length) \u001b[38;5;241m==\u001b[39m total_spectra:\n\u001b[0;32m---> 66\u001b[0m     \u001b[38;5;28;01mraise\u001b[39;00m \u001b[38;5;167;01mException\u001b[39;00m(\u001b[38;5;124m\"\u001b[39m\u001b[38;5;124mUse a charge predictor for annotation! All MGFs have missing charge field.\u001b[39m\u001b[38;5;124m\"\u001b[39m)\n\u001b[1;32m     68\u001b[0m mgf\u001b[38;5;241m.\u001b[39mwrite(\n\u001b[1;32m     69\u001b[0m     spectra\u001b[38;5;241m=\u001b[39mspectrum_list,\n\u001b[1;32m     70\u001b[0m     output\u001b[38;5;241m=\u001b[39mos\u001b[38;5;241m.\u001b[39mpath\u001b[38;5;241m.\u001b[39mjoin(output_dir, filename),\n\u001b[1;32m     71\u001b[0m     header\u001b[38;5;241m=\u001b[39mmgf_file\u001b[38;5;241m.\u001b[39mheader\n\u001b[1;32m     72\u001b[0m )\n",
      "\u001b[0;31mException\u001b[0m: Use a charge predictor for annotation! All MGFs have missing charge field."
     ]
    }
   ],
   "source": [
    "for p in glob(\"/home/samva/Doctorate/data_directory/tests/mgf/*.mgf\"):\n",
    "    print(p)\n",
    "    reformat_mgf(\n",
    "        path_mgf=p,\n",
    "        output_dir=\"/home/samva/Doctorate/data_directory/tests/mgf_reformatted\",\n",
    "        min_peak_length=15,\n",
    "        max_charge=8\n",
    "    )"
   ]
  },
  {
   "cell_type": "markdown",
   "metadata": {},
   "source": [
    "---"
   ]
  },
  {
   "cell_type": "code",
   "execution_count": 2,
   "metadata": {},
   "outputs": [],
   "source": [
    "casanovo = {  \"G\": 57.021464,\n",
    "  \"A\": 71.037114,\n",
    "  \"S\": 87.032028,\n",
    "  \"P\": 97.052764,\n",
    "  \"V\": 99.068414,\n",
    "  \"T\": 101.047670,\n",
    "  \"C+57.021\": 160.030649, # 103.009185 + 57.021464,\n",
    "  \"L\": 113.084064,\n",
    "  \"I\": 113.084064,\n",
    "  \"N\": 114.042927,\n",
    "  \"D\": 115.026943,\n",
    "  \"Q\": 128.058578,\n",
    "  \"K\": 128.094963,\n",
    "  \"E\": 129.042593,\n",
    "  \"M\": 131.040485,\n",
    "  \"H\": 137.058912,\n",
    "  \"F\": 147.068414,\n",
    "  \"R\": 156.101111,\n",
    "  \"Y\": 163.063329,\n",
    "  \"W\": 186.079313,\n",
    "  # Amino acid modifications.,\n",
    "  \"M+15.995\": 147.035400 ,  # Met oxidation:   131.040485 + 15.994915,\n",
    "  \"N+0.984\": 115.026943 ,    # Asn deamidation: 114.042927 +  0.984016,\n",
    "  \"Q+0.984\": 129.042594 ,    # Gln deamidation: 128.058578 +  0.984016\n",
    "  # N-terminal modifications.,\n",
    "  \"+42.011\": 42.010565 ,     # Acetylation,\n",
    "  \"+43.006\": 43.005814    ,  # Carbamylation,\n",
    "  \"-17.027\": -17.026549   ,  # NH3 loss,\n",
    "  \"+43.006-17.027\": 25.980265    ,  # Carbamylation and NH3 loss\n",
    "}"
   ]
  },
  {
   "cell_type": "code",
   "execution_count": 4,
   "metadata": {},
   "outputs": [],
   "source": [
    "idx2amino = {0: '<pad>',1: '<bos>', 2: '<eos>',\n",
    "             3: 'A', 4: 'C', 5: 'D', 6: 'E', 7: 'F',\n",
    "             8: 'G', 9: 'H', 10: 'I', 11: 'K', 12: 'L',\n",
    "             13: 'M', 14: 'N', 15: 'P', 16: 'Q', 17: 'R',\n",
    "             18: 'S', 19: 'T', 20: 'V', 21: 'W', 22: 'Y',\n",
    "             23: 'm', 24: 'n', 25: 'q', 26: 's', 27: 't', 28: 'y'}\n",
    "\n",
    "\n",
    "# High: D = n, E = q, L = I\n",
    "# Low: K = Q (0.4), F = m (0.3)\n",
    "idx2mass = {0: 0.00, 1: 0.00, 2: 0.00,\n",
    "             3: 71.037, 4: 160.031, 5: 115.027, 6: 129.043, 7: 147.068,\n",
    "             8: 57.021, 9: 137.059, 10: 113.084, 11: 128.095, 12: 113.084,\n",
    "             13: 131.040, 14: 114.043, 15: 97.053, 16: 128.059, 17: 156.101,\n",
    "             18: 87.032, 19: 101.048, 20: 99.068, 21: 186.079, 22: 163.063,\n",
    "             23: 147.035, 24: 115.027, 25: 129.043, 26: 166.998, 27: 181.014, 28:243.030}"
   ]
  },
  {
   "cell_type": "code",
   "execution_count": 5,
   "metadata": {},
   "outputs": [
    {
     "name": "stdout",
     "output_type": "stream",
     "text": [
      "<pad>\n",
      "(0.0)\n",
      "<bos>\n",
      "(0.0)\n",
      "<eos>\n",
      "(0.0)\n",
      "A\n",
      "(71.037)\n",
      "C\n",
      "(160.031)\n",
      "D\n",
      "(115.027)\n",
      "E\n",
      "(129.043)\n",
      "F\n",
      "(147.068)\n",
      "G\n",
      "(57.021)\n",
      "H\n",
      "(137.059)\n",
      "I\n",
      "(113.084)\n",
      "K\n",
      "(128.095)\n",
      "L\n",
      "(113.084)\n",
      "M\n",
      "(131.04)\n",
      "N\n",
      "(114.043)\n",
      "P\n",
      "(97.053)\n",
      "Q\n",
      "(128.059)\n",
      "R\n",
      "(156.101)\n",
      "S\n",
      "(87.032)\n",
      "T\n",
      "(101.048)\n",
      "V\n",
      "(99.068)\n",
      "W\n",
      "(186.079)\n",
      "Y\n",
      "(163.063)\n",
      "m\n",
      "(147.035)\n",
      "n\n",
      "(115.027)\n",
      "q\n",
      "(129.043)\n",
      "s\n",
      "(166.998)\n",
      "t\n",
      "(181.014)\n",
      "y\n",
      "(243.03)\n"
     ]
    }
   ],
   "source": [
    "for k in idx2amino.keys():\n",
    "    print(\"{}\\n({})\".format(idx2amino[k], idx2mass[k]))"
   ]
  },
  {
   "cell_type": "code",
   "execution_count": 3,
   "metadata": {},
   "outputs": [
    {
     "name": "stdout",
     "output_type": "stream",
     "text": [
      "G: 57.021464\n",
      "A: 71.037114\n",
      "S: 87.032028\n",
      "P: 97.052764\n",
      "V: 99.068414\n",
      "T: 101.04767\n",
      "C+57.021: 160.030649\n",
      "L: 113.084064\n",
      "I: 113.084064\n",
      "N: 114.042927\n",
      "D: 115.026943\n",
      "Q: 128.058578\n",
      "K: 128.094963\n",
      "E: 129.042593\n",
      "M: 131.040485\n",
      "H: 137.058912\n",
      "F: 147.068414\n",
      "R: 156.101111\n",
      "Y: 163.063329\n",
      "W: 186.079313\n",
      "M+15.995: 147.0354\n",
      "N+0.984: 115.026943\n",
      "Q+0.984: 129.042594\n",
      "+42.011: 42.010565\n",
      "+43.006: 43.005814\n",
      "-17.027: -17.026549\n",
      "+43.006-17.027: 25.980265\n"
     ]
    }
   ],
   "source": [
    "for k, v in casanovo.items():\n",
    "    print(\"{}: {}\".format(k, v))"
   ]
  },
  {
   "cell_type": "code",
   "execution_count": 4,
   "metadata": {},
   "outputs": [],
   "source": [
    "root_novor = \"/home/samva/Doctorate/data_directory/denovo_project/denovo_results/novor/*.novor.csv\"\n",
    "root_mgf = \"/home/samva/Doctorate/data_directory/denovo_project/mgf_filtered/*.mgf\"\n",
    "\n",
    "result_mgf_pair = {}\n",
    "\n",
    "for mgf_path in glob(root_mgf):\n",
    "    mgf_filename = os.path.splitext(os.path.basename(mgf_path))[0]\n",
    "    for novob_path in glob(root_novor):\n",
    "        novob_filename = os.path.basename(novob_path).split(\".\")[0]\n",
    "        if mgf_filename==novob_filename:\n",
    "            result_mgf_pair[mgf_filename] = {\n",
    "                \"mgf\": mgf_path,\n",
    "                \"result\": novob_path\n",
    "            }"
   ]
  },
  {
   "cell_type": "code",
   "execution_count": 13,
   "metadata": {},
   "outputs": [
    {
     "name": "stdout",
     "output_type": "stream",
     "text": [
      "/home/samva/Doctorate/data_directory/denovo_project/denovo_results/novob/F01_Fraction2.tsv\n"
     ]
    },
    {
     "name": "stderr",
     "output_type": "stream",
     "text": [
      "100%|██████████| 77040/77040 [00:03<00:00, 21960.01it/s]\n"
     ]
    },
    {
     "name": "stdout",
     "output_type": "stream",
     "text": [
      "/home/samva/Doctorate/data_directory/denovo_project/denovo_results/novob/F01_Fraction4.tsv\n",
      "/home/samva/Doctorate/data_directory/denovo_project/denovo_results/novob/S14_Rep2.tsv\n",
      "/home/samva/Doctorate/data_directory/denovo_project/denovo_results/novob/S14_Rep1.tsv\n",
      "/home/samva/Doctorate/data_directory/denovo_project/denovo_results/novob/S08.tsv\n",
      "/home/samva/Doctorate/data_directory/denovo_project/denovo_results/novob/S03.tsv\n"
     ]
    },
    {
     "name": "stderr",
     "output_type": "stream",
     "text": [
      "100%|██████████| 132500/132500 [00:05<00:00, 22582.22it/s]\n"
     ]
    },
    {
     "name": "stdout",
     "output_type": "stream",
     "text": [
      "/home/samva/Doctorate/data_directory/denovo_project/denovo_results/novob/S14_Rep3.tsv\n",
      "/home/samva/Doctorate/data_directory/denovo_project/denovo_results/novob/F07_Fraction4.tsv\n"
     ]
    },
    {
     "name": "stderr",
     "output_type": "stream",
     "text": [
      "100%|██████████| 39490/39490 [00:01<00:00, 23134.98it/s]\n"
     ]
    },
    {
     "name": "stdout",
     "output_type": "stream",
     "text": [
      "/home/samva/Doctorate/data_directory/denovo_project/denovo_results/novob/S11_Fraction3.tsv\n",
      "/home/samva/Doctorate/data_directory/denovo_project/denovo_results/novob/S11_Fraction1.tsv\n",
      "/home/samva/Doctorate/data_directory/denovo_project/denovo_results/novob/S07.tsv\n",
      "/home/samva/Doctorate/data_directory/denovo_project/denovo_results/novob/F07_Fraction3.tsv\n",
      "/home/samva/Doctorate/data_directory/denovo_project/denovo_results/novob/F08_Rep2.tsv\n"
     ]
    },
    {
     "name": "stderr",
     "output_type": "stream",
     "text": [
      "100%|██████████| 48802/48802 [00:02<00:00, 20942.00it/s]\n"
     ]
    },
    {
     "name": "stdout",
     "output_type": "stream",
     "text": [
      "/home/samva/Doctorate/data_directory/denovo_project/denovo_results/novob/F07_Fraction2.tsv\n",
      "/home/samva/Doctorate/data_directory/denovo_project/denovo_results/novob/F07_Fraction1.tsv\n",
      "/home/samva/Doctorate/data_directory/denovo_project/denovo_results/novob/S11_Fraction2.tsv\n",
      "/home/samva/Doctorate/data_directory/denovo_project/denovo_results/novob/S11_Fraction4.tsv\n",
      "/home/samva/Doctorate/data_directory/denovo_project/denovo_results/novob/F08_Rep1.tsv\n",
      "/home/samva/Doctorate/data_directory/denovo_project/denovo_results/novob/F01_Fraction1.tsv\n"
     ]
    },
    {
     "name": "stderr",
     "output_type": "stream",
     "text": [
      "100%|██████████| 8992/8992 [00:00<00:00, 30403.58it/s]\n"
     ]
    },
    {
     "name": "stdout",
     "output_type": "stream",
     "text": [
      "/home/samva/Doctorate/data_directory/denovo_project/denovo_results/novob/F01_Fraction3.tsv\n",
      "/home/samva/Doctorate/data_directory/denovo_project/denovo_results/novob/F08_Rep3.tsv\n"
     ]
    },
    {
     "name": "stderr",
     "output_type": "stream",
     "text": [
      "100%|██████████| 48913/48913 [00:02<00:00, 19282.28it/s]\n"
     ]
    },
    {
     "name": "stdout",
     "output_type": "stream",
     "text": [
      "/home/samva/Doctorate/data_directory/denovo_project/denovo_results/novob/F06.tsv\n"
     ]
    },
    {
     "name": "stderr",
     "output_type": "stream",
     "text": [
      "100%|██████████| 79457/79457 [00:04<00:00, 17805.02it/s]\n"
     ]
    },
    {
     "name": "stdout",
     "output_type": "stream",
     "text": [
      "/home/samva/Doctorate/data_directory/denovo_project/denovo_results/novob/S05.tsv\n"
     ]
    }
   ],
   "source": [
    "from denovo_utils.parsers.converters.novob import novob_parser\n",
    "from denovo_utils.parsers.constants import MODIFICATION_MAPPING\n",
    "\n",
    "outputs = {}\n",
    "\n",
    "for result_mgf in result_mgf_pair.values():\n",
    "    print(result_mgf[\"result\"])\n",
    "    try:\n",
    "        psmlist = novob_parser(\n",
    "            result_path=result_mgf[\"result\"],\n",
    "            mgf_path=result_mgf[\"mgf\"],\n",
    "            mapping=MODIFICATION_MAPPING[\"novob\"],\n",
    "        )\n",
    "    except KeyError as err:\n",
    "\n",
    "        outputs[result_mgf[\"result\"]] = err\n",
    "        continue\n",
    "    \n",
    "    outputs[result_mgf[\"result\"]] = len(psmlist)"
   ]
  },
  {
   "cell_type": "code",
   "execution_count": 16,
   "metadata": {},
   "outputs": [
    {
     "data": {
      "text/plain": [
       "{'/home/samva/Doctorate/data_directory/denovo_project/denovo_results/novob/F01_Fraction2.tsv': 76483,\n",
       " '/home/samva/Doctorate/data_directory/denovo_project/denovo_results/novob/F01_Fraction4.tsv': 0,\n",
       " '/home/samva/Doctorate/data_directory/denovo_project/denovo_results/novob/S14_Rep2.tsv': 0,\n",
       " '/home/samva/Doctorate/data_directory/denovo_project/denovo_results/novob/S14_Rep1.tsv': 0,\n",
       " '/home/samva/Doctorate/data_directory/denovo_project/denovo_results/novob/S08.tsv': 0,\n",
       " '/home/samva/Doctorate/data_directory/denovo_project/denovo_results/novob/S03.tsv': 131605,\n",
       " '/home/samva/Doctorate/data_directory/denovo_project/denovo_results/novob/S14_Rep3.tsv': 0,\n",
       " '/home/samva/Doctorate/data_directory/denovo_project/denovo_results/novob/F07_Fraction4.tsv': 38912,\n",
       " '/home/samva/Doctorate/data_directory/denovo_project/denovo_results/novob/S11_Fraction3.tsv': 0,\n",
       " '/home/samva/Doctorate/data_directory/denovo_project/denovo_results/novob/S11_Fraction1.tsv': KeyError('scans'),\n",
       " '/home/samva/Doctorate/data_directory/denovo_project/denovo_results/novob/S07.tsv': KeyError('scans'),\n",
       " '/home/samva/Doctorate/data_directory/denovo_project/denovo_results/novob/F07_Fraction3.tsv': 0,\n",
       " '/home/samva/Doctorate/data_directory/denovo_project/denovo_results/novob/F08_Rep2.tsv': 47411,\n",
       " '/home/samva/Doctorate/data_directory/denovo_project/denovo_results/novob/F07_Fraction2.tsv': 0,\n",
       " '/home/samva/Doctorate/data_directory/denovo_project/denovo_results/novob/F07_Fraction1.tsv': 0,\n",
       " '/home/samva/Doctorate/data_directory/denovo_project/denovo_results/novob/S11_Fraction2.tsv': 0,\n",
       " '/home/samva/Doctorate/data_directory/denovo_project/denovo_results/novob/S11_Fraction4.tsv': KeyError('scans'),\n",
       " '/home/samva/Doctorate/data_directory/denovo_project/denovo_results/novob/F08_Rep1.tsv': KeyError('scans'),\n",
       " '/home/samva/Doctorate/data_directory/denovo_project/denovo_results/novob/F01_Fraction1.tsv': 8735,\n",
       " '/home/samva/Doctorate/data_directory/denovo_project/denovo_results/novob/F01_Fraction3.tsv': 0,\n",
       " '/home/samva/Doctorate/data_directory/denovo_project/denovo_results/novob/F08_Rep3.tsv': 47407,\n",
       " '/home/samva/Doctorate/data_directory/denovo_project/denovo_results/novob/F06.tsv': 78630,\n",
       " '/home/samva/Doctorate/data_directory/denovo_project/denovo_results/novob/S05.tsv': 0}"
      ]
     },
     "execution_count": 16,
     "metadata": {},
     "output_type": "execute_result"
    }
   ],
   "source": [
    "outputs"
   ]
  },
  {
   "cell_type": "code",
   "execution_count": 5,
   "metadata": {},
   "outputs": [],
   "source": [
    "mgf_path = \"/home/samva/Doctorate/data_directory/denovo_project/mgf_filtered/F01_Fraction1.mgf\"\n",
    "result_novor = \"/home/samva/Doctorate/data_directory/denovo_project/denovo_results/novor/F01_Fraction1.novor.csv\"\n",
    "result_pepnovo = \"/home/samva/Doctorate/data_directory/denovo_project/denovo_results/pepnovo/F01_Fraction1.mgf.out\"\n",
    "result_directag = \"/home/samva/Doctorate/data_directory/denovo_project/denovo_results/directag/F01_Fraction1.tags\"\n",
    "result_pointnovo = \"\""
   ]
  },
  {
   "cell_type": "code",
   "execution_count": 21,
   "metadata": {},
   "outputs": [],
   "source": [
    "novor_mapping = {\n",
    "    \"C(1)\": \"C[UNIMOD:4]\",\n",
    "    \"M(0)\": \"M[UNIMOD:35]\"\n",
    "}\n",
    "peptide = \"C(1)C(1)M(0)M(0)M(0)M(0)GM(0)SNGAR\"\n",
    "\n",
    "peptide_parsed = peptide\n",
    "for k, v in novor_mapping.items():\n",
    "    if (\"-\" in v) and (not peptide_parsed.startswith(k)):\n",
    "        peptide_parsed = peptide_parsed.replace(k, v[:-1])\n",
    "    else:\n",
    "        peptide_parsed = peptide_parsed.replace(k, v)"
   ]
  },
  {
   "cell_type": "code",
   "execution_count": 23,
   "metadata": {},
   "outputs": [],
   "source": [
    "parse_peptidoform(\n",
    "    peptide=\"C(1)C(1)M(0)M(0)M(0)M(0)GM(0)SNGAR\",\n",
    "    mapping=novor_mapping,\n",
    "    max_length=30\n",
    ")"
   ]
  },
  {
   "cell_type": "markdown",
   "metadata": {},
   "source": [
    "# 1. Novor"
   ]
  },
  {
   "cell_type": "code",
   "execution_count": 24,
   "metadata": {},
   "outputs": [],
   "source": [
    "result_path = result_novor\n",
    "result_path = os.path.splitext(result_path)[0] + \".csv\"\n",
    "\n",
    "mgf_file = pd.DataFrame(pd.DataFrame(mgf.read(mgf_path))[\"params\"].tolist())"
   ]
  },
  {
   "cell_type": "code",
   "execution_count": 45,
   "metadata": {},
   "outputs": [],
   "source": [
    "def try_peptidoform_conversion(peptide):\n",
    "    try:\n",
    "        peptidoform = Peptidoform(peptide)\n",
    "        return peptidoform\n",
    "    except PeptidoformException as err:\n",
    "        return f'ERR: {peptide}'"
   ]
  },
  {
   "cell_type": "code",
   "execution_count": null,
   "metadata": {},
   "outputs": [],
   "source": [
    "from denovo_utils.parsers.converters import DenovoEngineConverter\n",
    "\n",
    "parser = DenovoEngineConverter.select(\"casanovo\")\n",
    "parser.parse(\n",
    "    \n",
    ")"
   ]
  },
  {
   "cell_type": "code",
   "execution_count": 4,
   "metadata": {},
   "outputs": [],
   "source": [
    "def parse_peptidoform_(peptide: str, mapping: dict, max_length=30):\n",
    "    peptide_parsed = peptide\n",
    "    for k, v in mapping.items():\n",
    "        if (\"-\" in v) and (not peptide_parsed.startswith(k)):\n",
    "            peptide_parsed = peptide_parsed.replace(k, v[:-1])\n",
    "        else:\n",
    "            peptide_parsed = peptide_parsed.replace(k, v)\n",
    "\n",
    "    try:\n",
    "        peptidoform = Peptidoform(peptide_parsed)\n",
    "        print(peptidoform)\n",
    "        if (len(peptidoform) > max_length) or (peptidoform.precursor_charge > 6) or (len(peptidoform) < 2):\n",
    "            return None\n",
    "        return peptidoform\n",
    "    except:\n",
    "        logging.warning(f\"Failed to parse: {peptide}\")\n",
    "        return None"
   ]
  },
  {
   "cell_type": "code",
   "execution_count": 96,
   "metadata": {},
   "outputs": [
    {
     "name": "stdout",
     "output_type": "stream",
     "text": [
      "LLTLAHVMAK\n",
      "LLTLAHVMAK\n"
     ]
    }
   ],
   "source": [
    "parse_peptidoform_(\"LLTLAHVMAK\", mapping=novor_mapping)"
   ]
  },
  {
   "cell_type": "code",
   "execution_count": 7,
   "metadata": {},
   "outputs": [
    {
     "name": "stdout",
     "output_type": "stream",
     "text": [
      "\n",
      "/home/samva/Doctorate/data_directory/denovo_project/denovo_results/novor/F01_Fraction2.novor.csv\n",
      "Diff: (20);\tResult shape ((78686, 12)), mgf shape ((78706, 6))\n"
     ]
    },
    {
     "name": "stderr",
     "output_type": "stream",
     "text": [
      "100%|██████████| 78314/78314 [00:03<00:00, 26057.17it/s]\n"
     ]
    },
    {
     "name": "stdout",
     "output_type": "stream",
     "text": [
      "78314\n",
      "\n",
      "/home/samva/Doctorate/data_directory/denovo_project/denovo_results/novor/F01_Fraction4.novor.csv\n",
      "Diff: (74);\tResult shape ((66964, 12)), mgf shape ((67038, 6))\n"
     ]
    },
    {
     "name": "stderr",
     "output_type": "stream",
     "text": [
      "100%|██████████| 65524/65524 [00:04<00:00, 14985.37it/s]\n"
     ]
    },
    {
     "name": "stdout",
     "output_type": "stream",
     "text": [
      "65524\n",
      "\n",
      "/home/samva/Doctorate/data_directory/denovo_project/denovo_results/novor/S14_Rep2.novor.csv\n",
      "Diff: (68292);\tResult shape ((2344, 12)), mgf shape ((70636, 8))\n"
     ]
    },
    {
     "name": "stderr",
     "output_type": "stream",
     "text": [
      "100%|██████████| 2021/2021 [00:00<00:00, 19841.97it/s]\n"
     ]
    },
    {
     "name": "stdout",
     "output_type": "stream",
     "text": [
      "2021\n",
      "\n",
      "/home/samva/Doctorate/data_directory/denovo_project/denovo_results/novor/S14_Rep1.novor.csv\n",
      "Diff: (68228);\tResult shape ((2397, 12)), mgf shape ((70625, 8))\n"
     ]
    },
    {
     "name": "stderr",
     "output_type": "stream",
     "text": [
      "100%|██████████| 2086/2086 [00:00<00:00, 23367.16it/s]"
     ]
    },
    {
     "name": "stdout",
     "output_type": "stream",
     "text": [
      "2086\n",
      "\n",
      "/home/samva/Doctorate/data_directory/denovo_project/denovo_results/novor/S08.novor.csv\n"
     ]
    },
    {
     "name": "stderr",
     "output_type": "stream",
     "text": [
      "\n"
     ]
    },
    {
     "name": "stdout",
     "output_type": "stream",
     "text": [
      "Diff: (85);\tResult shape ((81569, 12)), mgf shape ((81654, 6))\n"
     ]
    },
    {
     "name": "stderr",
     "output_type": "stream",
     "text": [
      "100%|██████████| 81143/81143 [00:03<00:00, 20396.16it/s]\n"
     ]
    },
    {
     "name": "stdout",
     "output_type": "stream",
     "text": [
      "81143\n",
      "\n",
      "/home/samva/Doctorate/data_directory/denovo_project/denovo_results/novor/S03.novor.csv\n",
      "Diff: (596);\tResult shape ((151967, 12)), mgf shape ((152563, 6))\n"
     ]
    },
    {
     "name": "stderr",
     "output_type": "stream",
     "text": [
      "100%|██████████| 138076/138076 [00:05<00:00, 23612.42it/s]\n"
     ]
    },
    {
     "name": "stdout",
     "output_type": "stream",
     "text": [
      "138076\n",
      "\n",
      "/home/samva/Doctorate/data_directory/denovo_project/denovo_results/novor/S14_Rep3.novor.csv\n",
      "Diff: (68960);\tResult shape ((2350, 12)), mgf shape ((71310, 8))\n"
     ]
    },
    {
     "name": "stderr",
     "output_type": "stream",
     "text": [
      "100%|██████████| 2020/2020 [00:00<00:00, 39448.78it/s]"
     ]
    },
    {
     "name": "stdout",
     "output_type": "stream",
     "text": [
      "2020\n",
      "\n",
      "/home/samva/Doctorate/data_directory/denovo_project/denovo_results/novor/F07_Fraction4.novor.csv\n"
     ]
    },
    {
     "name": "stderr",
     "output_type": "stream",
     "text": [
      "\n"
     ]
    },
    {
     "name": "stdout",
     "output_type": "stream",
     "text": [
      "Diff: (267);\tResult shape ((40497, 12)), mgf shape ((40764, 6))\n"
     ]
    },
    {
     "name": "stderr",
     "output_type": "stream",
     "text": [
      "100%|██████████| 39867/39867 [00:01<00:00, 25976.88it/s]\n"
     ]
    },
    {
     "name": "stdout",
     "output_type": "stream",
     "text": [
      "39867\n",
      "\n",
      "/home/samva/Doctorate/data_directory/denovo_project/denovo_results/novor/S11_Fraction3.novor.csv\n",
      "Diff: (238);\tResult shape ((46703, 12)), mgf shape ((46941, 6))\n"
     ]
    },
    {
     "name": "stderr",
     "output_type": "stream",
     "text": [
      "100%|██████████| 44967/44967 [00:02<00:00, 15858.91it/s]\n"
     ]
    },
    {
     "name": "stdout",
     "output_type": "stream",
     "text": [
      "44967\n",
      "\n",
      "/home/samva/Doctorate/data_directory/denovo_project/denovo_results/novor/S11_Fraction1.novor.csv\n",
      "Diff: (182);\tResult shape ((43265, 12)), mgf shape ((43447, 6))\n"
     ]
    },
    {
     "name": "stderr",
     "output_type": "stream",
     "text": [
      "100%|██████████| 42131/42131 [00:02<00:00, 14148.90it/s]\n"
     ]
    },
    {
     "name": "stdout",
     "output_type": "stream",
     "text": [
      "42131\n",
      "\n",
      "/home/samva/Doctorate/data_directory/denovo_project/denovo_results/novor/S07.novor.csv\n",
      "Diff: (305);\tResult shape ((46542, 12)), mgf shape ((46847, 6))\n"
     ]
    },
    {
     "name": "stderr",
     "output_type": "stream",
     "text": [
      "100%|██████████| 43686/43686 [00:02<00:00, 15102.72it/s]\n"
     ]
    },
    {
     "name": "stdout",
     "output_type": "stream",
     "text": [
      "43686\n",
      "\n",
      "/home/samva/Doctorate/data_directory/denovo_project/denovo_results/novor/F07_Fraction3.novor.csv\n",
      "Diff: (209);\tResult shape ((44270, 12)), mgf shape ((44479, 6))\n"
     ]
    },
    {
     "name": "stderr",
     "output_type": "stream",
     "text": [
      "100%|██████████| 43375/43375 [00:01<00:00, 25138.00it/s]\n"
     ]
    },
    {
     "name": "stdout",
     "output_type": "stream",
     "text": [
      "43375\n",
      "\n",
      "/home/samva/Doctorate/data_directory/denovo_project/denovo_results/novor/F08_Rep2.novor.csv\n",
      "Diff: (57763);\tResult shape ((2810, 12)), mgf shape ((60573, 8))\n"
     ]
    },
    {
     "name": "stderr",
     "output_type": "stream",
     "text": [
      "100%|██████████| 2332/2332 [00:00<00:00, 22157.65it/s]\n"
     ]
    },
    {
     "name": "stdout",
     "output_type": "stream",
     "text": [
      "2332\n",
      "\n",
      "/home/samva/Doctorate/data_directory/denovo_project/denovo_results/novor/F07_Fraction2.novor.csv\n",
      "Diff: (313);\tResult shape ((38872, 12)), mgf shape ((39185, 6))\n"
     ]
    },
    {
     "name": "stderr",
     "output_type": "stream",
     "text": [
      "100%|██████████| 38102/38102 [00:02<00:00, 19003.01it/s]\n"
     ]
    },
    {
     "name": "stdout",
     "output_type": "stream",
     "text": [
      "38102\n",
      "\n",
      "/home/samva/Doctorate/data_directory/denovo_project/denovo_results/novor/F07_Fraction1.novor.csv\n",
      "Diff: (267);\tResult shape ((36389, 12)), mgf shape ((36656, 6))\n"
     ]
    },
    {
     "name": "stderr",
     "output_type": "stream",
     "text": [
      "100%|██████████| 35875/35875 [00:01<00:00, 28075.72it/s]\n"
     ]
    },
    {
     "name": "stdout",
     "output_type": "stream",
     "text": [
      "35875\n",
      "\n",
      "/home/samva/Doctorate/data_directory/denovo_project/denovo_results/novor/S11_Fraction2.novor.csv\n",
      "Diff: (135);\tResult shape ((45478, 12)), mgf shape ((45613, 6))\n"
     ]
    },
    {
     "name": "stderr",
     "output_type": "stream",
     "text": [
      "100%|██████████| 43552/43552 [00:02<00:00, 15938.54it/s]\n"
     ]
    },
    {
     "name": "stdout",
     "output_type": "stream",
     "text": [
      "43552\n",
      "\n",
      "/home/samva/Doctorate/data_directory/denovo_project/denovo_results/novor/S11_Fraction4.novor.csv\n",
      "Diff: (235);\tResult shape ((36940, 12)), mgf shape ((37175, 6))\n"
     ]
    },
    {
     "name": "stderr",
     "output_type": "stream",
     "text": [
      "100%|██████████| 36221/36221 [00:01<00:00, 26495.82it/s]\n"
     ]
    },
    {
     "name": "stdout",
     "output_type": "stream",
     "text": [
      "36221\n",
      "\n",
      "/home/samva/Doctorate/data_directory/denovo_project/denovo_results/novor/F08_Rep1.novor.csv\n",
      "Diff: (58707);\tResult shape ((2789, 12)), mgf shape ((61496, 8))\n"
     ]
    },
    {
     "name": "stderr",
     "output_type": "stream",
     "text": [
      "100%|██████████| 2224/2224 [00:00<00:00, 19874.79it/s]\n"
     ]
    },
    {
     "name": "stdout",
     "output_type": "stream",
     "text": [
      "2224\n",
      "\n",
      "/home/samva/Doctorate/data_directory/denovo_project/denovo_results/novor/F01_Fraction1.novor.csv\n",
      "Diff: (97);\tResult shape ((9060, 12)), mgf shape ((9157, 6))\n"
     ]
    },
    {
     "name": "stderr",
     "output_type": "stream",
     "text": [
      "100%|██████████| 8995/8995 [00:00<00:00, 24748.35it/s]\n"
     ]
    },
    {
     "name": "stdout",
     "output_type": "stream",
     "text": [
      "8995\n",
      "\n",
      "/home/samva/Doctorate/data_directory/denovo_project/denovo_results/novor/F01_Fraction3.novor.csv\n",
      "Diff: (102);\tResult shape ((68704, 12)), mgf shape ((68806, 6))\n"
     ]
    },
    {
     "name": "stderr",
     "output_type": "stream",
     "text": [
      "100%|██████████| 68217/68217 [00:02<00:00, 26882.94it/s]\n"
     ]
    },
    {
     "name": "stdout",
     "output_type": "stream",
     "text": [
      "68217\n",
      "\n",
      "/home/samva/Doctorate/data_directory/denovo_project/denovo_results/novor/F08_Rep3.novor.csv\n",
      "Diff: (59941);\tResult shape ((2599, 12)), mgf shape ((62540, 8))\n"
     ]
    },
    {
     "name": "stderr",
     "output_type": "stream",
     "text": [
      "100%|██████████| 2115/2115 [00:00<00:00, 20277.34it/s]\n"
     ]
    },
    {
     "name": "stdout",
     "output_type": "stream",
     "text": [
      "2115\n",
      "\n",
      "/home/samva/Doctorate/data_directory/denovo_project/denovo_results/novor/F06.novor.csv\n"
     ]
    }
   ],
   "source": [
    "novor_mapping = {\n",
    "    \"C(1)\": \"C[UNIMOD:4]\",\n",
    "    \"M(0)\": \"M[UNIMOD:35]\"\n",
    "}\n",
    "\n",
    "for result_mgf in result_mgf_pair.values():\n",
    "    \n",
    "    result_path = result_mgf[\"result\"]\n",
    "    mgf_path = result_mgf[\"mgf\"]\n",
    "    run = os.path.basename(result_path)\n",
    "    print(f\"\\n{result_path}\")\n",
    "\n",
    "    mgf_file = pd.DataFrame(pd.DataFrame(mgf.read(mgf_path))[\"params\"].tolist()).reset_index()\n",
    "    result = pd.read_csv(result_path, sep=\", \", skiprows=20, engine=\"python\").rename(columns={\"scanNum\": \"scans\", \"aaScore,\": \"aaScore\"})\n",
    "    result[\"scans\"] = result[\"scans\"].apply(lambda x: str(x))\n",
    "    result[\"index\"] = result[\"# id\"].apply(lambda x: int(x)-1)\n",
    "\n",
    "    print(f\"Diff: ({mgf_file.shape[0]-result.shape[0]});\\tResult shape ({result.shape}), mgf shape ({mgf_file.shape})\")\n",
    "\n",
    "    # joined_file = result.merge(mgf_file, on=\"scans\")\n",
    "    joined_file = result.merge(mgf_file, on=\"index\")\n",
    "\n",
    "    assert len(result) == len(joined_file)\n",
    "    if len(mgf_file) > len(joined_file):\n",
    "        logging.info(f\"{result_path} for Novor: dropped {len(mgf_file)-len(joined_file)} spectra.\")\n",
    "\n",
    "\n",
    "    joined_file[\"peptidoform\"] = joined_file.apply(\n",
    "        lambda x: str(x[\"peptide\"] + \"/\" + str(x[\"z\"])),\n",
    "        axis=1\n",
    "    )\n",
    "    joined_file[\"peptidoform\"] = joined_file[\"peptidoform\"].apply(lambda x: parse_peptidoform(x, mapping=novor_mapping))\n",
    "    joined_file[\"precursor_mz\"] = joined_file[\"pepmass\"].apply(\n",
    "        lambda x: x[0]\n",
    "    )\n",
    "\n",
    "    joined_file = joined_file.loc[:, [\n",
    "        \"peptidoform\",\n",
    "        \"title\",\n",
    "        \"score\",\n",
    "        \"precursor_mz\",\n",
    "        \"rtinseconds\",\n",
    "        \"scans_x\",\n",
    "        \"err(data-denovo)\",\n",
    "        \"ppm(1e6*err/(mz*z))\",\n",
    "        \"aaScore\"\n",
    "    ]]\n",
    "    joined_file = joined_file.dropna(subset=[\"peptidoform\"]).reset_index(drop=True)\n",
    "    \n",
    "    psmlist = PSMList(\n",
    "        psm_list=joined_file.progress_apply(\n",
    "            lambda x: PSM(\n",
    "                peptidoform=x[\"peptidoform\"],\n",
    "                spectrum_id=x[\"title\"],\n",
    "                run=run,\n",
    "                score=x[\"score\"],\n",
    "                precursor_mz=x[\"precursor_mz\"],\n",
    "                retention_time=x[\"rtinseconds\"],\n",
    "                source=\"Novor\",\n",
    "                metadata={\n",
    "                    \"scans\": x[\"scans_x\"],\n",
    "                    \"err(data-denovo)\": x[\"err(data-denovo)\"],\n",
    "                    \"ppm_error\": x[\"ppm(1e6*err/(mz*z))\"],\n",
    "                    \"aaScore\": x[\"aaScore\"]\n",
    "                }\n",
    "            ),\n",
    "            axis=1\n",
    "        ).tolist()\n",
    "    )\n",
    "    print(len(psmlist))"
   ]
  },
  {
   "cell_type": "code",
   "execution_count": 113,
   "metadata": {},
   "outputs": [],
   "source": [
    "def get_first_scan(scan_string):\n",
    "    scan_number = []\n",
    "    for number in scan_string:\n",
    "        if number.isnumeric():\n",
    "            scan_number.append(number)\n",
    "        else:\n",
    "            break\n",
    "    return int(\"\".join(scan_number))"
   ]
  },
  {
   "cell_type": "code",
   "execution_count": 118,
   "metadata": {},
   "outputs": [
    {
     "data": {
      "text/plain": [
       "0            316-317\n",
       "1            318-319\n",
       "2            320-321\n",
       "3            322-323\n",
       "4            324-325\n",
       "            ...     \n",
       "70631    75724,75728\n",
       "70632    75729-75730\n",
       "70633    75729,75731\n",
       "70634    75732-75733\n",
       "70635    75734-75735\n",
       "Name: scans, Length: 70636, dtype: object"
      ]
     },
     "execution_count": 118,
     "metadata": {},
     "output_type": "execute_result"
    }
   ],
   "source": [
    "mgf_file[\"scans\"].drop_duplicates()"
   ]
  },
  {
   "cell_type": "code",
   "execution_count": 129,
   "metadata": {},
   "outputs": [
    {
     "data": {
      "text/plain": [
       "com                                     Shihumi01b_GA4_01_2831.d\n",
       "username                                               Demo User\n",
       "title          Cmpd 71214, +MS2(961.4742), 53.1eV, 142.46min ...\n",
       "pepmass                                      (961.47419, 8566.0)\n",
       "rtinseconds                                              8547.38\n",
       "charge                                                      [2+]\n",
       "scans                                                75714-75715\n",
       "Name: 70620, dtype: object"
      ]
     },
     "execution_count": 129,
     "metadata": {},
     "output_type": "execute_result"
    }
   ],
   "source": [
    "mgf_file.loc[70620]"
   ]
  },
  {
   "cell_type": "markdown",
   "metadata": {},
   "source": [
    "# 2. PepNovo"
   ]
  },
  {
   "cell_type": "code",
   "execution_count": null,
   "metadata": {},
   "outputs": [],
   "source": [
    ">> 0 635 Cmpd 300, +MS2(1246.7633), 65.0eV, 3.71min #636 (SQS 0.012)"
   ]
  },
  {
   "cell_type": "code",
   "execution_count": 73,
   "metadata": {},
   "outputs": [],
   "source": [
    "pattern = r'>>\\s*(\\d+)\\s+(\\d+)\\s+(.+?)(?:\\s+\\((SQS\\s+\\d+\\.\\d+)\\))?$'\n",
    "match = re.match(pattern, \">> 0 2476 Cmpd 1346, +MS2(461.7587), 24.2eV, 13.26min #2477\")\n"
   ]
  },
  {
   "cell_type": "code",
   "execution_count": 75,
   "metadata": {},
   "outputs": [],
   "source": [
    "match.group(4)"
   ]
  },
  {
   "cell_type": "code",
   "execution_count": null,
   "metadata": {},
   "outputs": [],
   "source": []
  },
  {
   "cell_type": "code",
   "execution_count": 44,
   "metadata": {},
   "outputs": [],
   "source": [
    "if pd.DataFrame([1,2,3]).empty:\n",
    "    print(\"hey\")"
   ]
  },
  {
   "cell_type": "code",
   "execution_count": 39,
   "metadata": {},
   "outputs": [],
   "source": [
    "no_solutions = \"# No solutions found.\"\n",
    "spectrum_error_1 = \"# Could not process spectrum...\"\n",
    "spectrum_error_2 = \"#Problem reading spectrum...\"\n",
    "too_few_peaks = \"# too few peaks...\"\n",
    "\n",
    "spectrum_errors = {\n",
    "    no_solutions: \"no_solution\",\n",
    "    spectrum_error_1: \"process_error\",\n",
    "    spectrum_error_2: \"reading_error\",\n",
    "    too_few_peaks: \"sparse_spectrum\"\n",
    "}\n",
    "\n",
    "PEPNOVO_COLUMN_MAPPING = {\n",
    "    \"#Index\": \"index\",\n",
    "    \"RnkScr\": \"score\",\n",
    "    \"PnvScr\": \"score_pepnovo\",\n",
    "    \"N-Gap\": \"n_shift\",\n",
    "    \"C-Gap\": \"c_shift\",\n",
    "    \"[M+H]\": \"mass\",\n",
    "    \"Charge\": \"charge\",\n",
    "    \"Sequence\": \"peptide\"\n",
    "}\n",
    "\n",
    "PEPNOVO_COLUMNS = [\n",
    "    'index',\n",
    "    'score',\n",
    "    'score_pepnovo',\n",
    "    'n_shift',\n",
    "    'c_shift',\n",
    "    'mass',\n",
    "    'charge',\n",
    "    'peptide',\n",
    "    'index',\n",
    "    'scans',\n",
    "    'title',\n",
    "    'sqs'\n",
    "]\n",
    "\n",
    "def parse_metadata_head(input_string) -> tuple:\n",
    "    # Define the regex pattern\n",
    "    pattern = r'>>\\s*(\\d+)\\s+(\\d+)\\s+(.+?)(?:\\s+\\((SQS\\s+\\d+\\.\\d+)\\))?$'\n",
    "    \n",
    "    # Use re.match to match the pattern\n",
    "    match = re.match(pattern, input_string)\n",
    "    \n",
    "    if match:\n",
    "        # Extract the matched groups\n",
    "        number1 = match.group(1)\n",
    "        number2 = match.group(2)\n",
    "        random_sequence = match.group(3)\n",
    "        sqs = match.group(4)\n",
    "        if not sqs:\n",
    "            sqs = \"\"\n",
    "        return [number1, number2, random_sequence, sqs]\n",
    "    else:\n",
    "        raise ValueError(f\"The input string does not match the expected format: {input_string}\")\n",
    "    \n",
    "def parse_header(header):\n",
    "    header_reformatted = []\n",
    "    header_list = header.split(\"\\t\")\n",
    "    for col in header_list:\n",
    "        header_reformatted.append(PEPNOVO_COLUMN_MAPPING[col])\n",
    "    return header_reformatted\n",
    "\n",
    "def parse_entry(entry_list: list):\n",
    "    # Check if a prediction was outputted\n",
    "    for error_string, error_type in spectrum_errors.items():\n",
    "        if error_string in entry_list:\n",
    "            return []\n",
    "        if not entry_list[1].startswith(\"#Index\"):\n",
    "            return []\n",
    "    \n",
    "    metadata_head = entry_list[0]\n",
    "    # header = entry_list[1]\n",
    "    inferences = entry_list[2:]\n",
    "    \n",
    "    metadata = parse_metadata_head(metadata_head)\n",
    "    # column_names = parse_header(header)\n",
    "\n",
    "    # Only get the top prediction\n",
    "    top_candidate = inferences[0].split(\"\\t\")\n",
    "    entry = top_candidate + metadata\n",
    "    return entry[1:]\n",
    "\n",
    "\n",
    "def pepnovo_to_df(file: TextIOWrapper):\n",
    "\n",
    "    entries = []\n",
    "    entry_list = []\n",
    "    entry = []\n",
    "\n",
    "    for line in file:\n",
    "        line=line.strip()\n",
    "        if line.startswith(\">>\"):\n",
    "\n",
    "            if entry_list:\n",
    "                entry = parse_entry(entry_list)\n",
    "            if entry:\n",
    "                entries.append(entry)\n",
    "            \n",
    "            entry_list = [line]\n",
    "            continue\n",
    "\n",
    "        entry_list.append(line)\n",
    "\n",
    "    entry = parse_entry(entry_list)\n",
    "    if entry:\n",
    "        entries.append(entry)\n",
    "    return pd.DataFrame(entries, columns=PEPNOVO_COLUMNS[1:])\n"
   ]
  },
  {
   "cell_type": "code",
   "execution_count": 40,
   "metadata": {},
   "outputs": [
    {
     "name": "stdout",
     "output_type": "stream",
     "text": [
      "/home/samva/Doctorate/data_directory/denovo_project/denovo_results/pepnovo/F01_Fraction2.mgf.out\n"
     ]
    },
    {
     "name": "stderr",
     "output_type": "stream",
     "text": [
      "100%|██████████| 58405/58405 [00:04<00:00, 12143.85it/s]\n"
     ]
    },
    {
     "name": "stdout",
     "output_type": "stream",
     "text": [
      "58405\n",
      "/home/samva/Doctorate/data_directory/denovo_project/denovo_results/pepnovo/F01_Fraction4.mgf.out\n"
     ]
    },
    {
     "name": "stderr",
     "output_type": "stream",
     "text": [
      "100%|██████████| 54477/54477 [00:02<00:00, 24241.07it/s]\n"
     ]
    },
    {
     "name": "stdout",
     "output_type": "stream",
     "text": [
      "54477\n",
      "/home/samva/Doctorate/data_directory/denovo_project/denovo_results/pepnovo/S14_Rep2.mgf.out\n"
     ]
    },
    {
     "name": "stderr",
     "output_type": "stream",
     "text": [
      "100%|██████████| 2430/2430 [00:00<00:00, 26813.43it/s]\n"
     ]
    },
    {
     "name": "stdout",
     "output_type": "stream",
     "text": [
      "2430\n",
      "/home/samva/Doctorate/data_directory/denovo_project/denovo_results/pepnovo/S14_Rep1.mgf.out\n"
     ]
    },
    {
     "name": "stderr",
     "output_type": "stream",
     "text": [
      "100%|██████████| 2470/2470 [00:00<00:00, 19022.10it/s]\n"
     ]
    },
    {
     "name": "stdout",
     "output_type": "stream",
     "text": [
      "2470\n",
      "/home/samva/Doctorate/data_directory/denovo_project/denovo_results/pepnovo/S08.mgf.out\n"
     ]
    },
    {
     "name": "stderr",
     "output_type": "stream",
     "text": [
      "100%|██████████| 61139/61139 [00:02<00:00, 24010.74it/s]\n"
     ]
    },
    {
     "name": "stdout",
     "output_type": "stream",
     "text": [
      "61139\n",
      "/home/samva/Doctorate/data_directory/denovo_project/denovo_results/pepnovo/S03.mgf.out\n"
     ]
    },
    {
     "name": "stderr",
     "output_type": "stream",
     "text": [
      "100%|██████████| 130111/130111 [00:05<00:00, 22212.55it/s]\n"
     ]
    },
    {
     "name": "stdout",
     "output_type": "stream",
     "text": [
      "130111\n",
      "/home/samva/Doctorate/data_directory/denovo_project/denovo_results/pepnovo/S14_Rep3.mgf.out\n"
     ]
    },
    {
     "name": "stderr",
     "output_type": "stream",
     "text": [
      "100%|██████████| 2441/2441 [00:00<00:00, 21140.66it/s]\n"
     ]
    },
    {
     "name": "stdout",
     "output_type": "stream",
     "text": [
      "2441\n",
      "/home/samva/Doctorate/data_directory/denovo_project/denovo_results/pepnovo/F07_Fraction4.mgf.out\n"
     ]
    },
    {
     "name": "stderr",
     "output_type": "stream",
     "text": [
      "100%|██████████| 32655/32655 [00:02<00:00, 13326.96it/s]\n"
     ]
    },
    {
     "name": "stdout",
     "output_type": "stream",
     "text": [
      "32655\n",
      "/home/samva/Doctorate/data_directory/denovo_project/denovo_results/pepnovo/S11_Fraction3.mgf.out\n"
     ]
    },
    {
     "name": "stderr",
     "output_type": "stream",
     "text": [
      "100%|██████████| 41529/41529 [00:01<00:00, 24071.25it/s]\n"
     ]
    },
    {
     "name": "stdout",
     "output_type": "stream",
     "text": [
      "41529\n",
      "/home/samva/Doctorate/data_directory/denovo_project/denovo_results/pepnovo/S11_Fraction1.mgf.out\n"
     ]
    },
    {
     "name": "stderr",
     "output_type": "stream",
     "text": [
      "100%|██████████| 37085/37085 [00:01<00:00, 25853.31it/s]\n"
     ]
    },
    {
     "name": "stdout",
     "output_type": "stream",
     "text": [
      "37085\n",
      "/home/samva/Doctorate/data_directory/denovo_project/denovo_results/pepnovo/S07.mgf.out\n"
     ]
    },
    {
     "name": "stderr",
     "output_type": "stream",
     "text": [
      "100%|██████████| 30698/30698 [00:01<00:00, 23831.67it/s]\n"
     ]
    },
    {
     "name": "stdout",
     "output_type": "stream",
     "text": [
      "30698\n",
      "/home/samva/Doctorate/data_directory/denovo_project/denovo_results/pepnovo/F07_Fraction3.mgf.out\n"
     ]
    },
    {
     "name": "stderr",
     "output_type": "stream",
     "text": [
      "100%|██████████| 37145/37145 [00:01<00:00, 23465.89it/s]\n"
     ]
    },
    {
     "name": "stdout",
     "output_type": "stream",
     "text": [
      "37145\n",
      "/home/samva/Doctorate/data_directory/denovo_project/denovo_results/pepnovo/F08_Rep2.mgf.out\n"
     ]
    },
    {
     "name": "stderr",
     "output_type": "stream",
     "text": [
      "100%|██████████| 2886/2886 [00:00<00:00, 23770.90it/s]\n"
     ]
    },
    {
     "name": "stdout",
     "output_type": "stream",
     "text": [
      "2886\n",
      "/home/samva/Doctorate/data_directory/denovo_project/denovo_results/pepnovo/F07_Fraction2.mgf.out\n"
     ]
    },
    {
     "name": "stderr",
     "output_type": "stream",
     "text": [
      "100%|██████████| 31328/31328 [00:01<00:00, 25888.43it/s]\n"
     ]
    },
    {
     "name": "stdout",
     "output_type": "stream",
     "text": [
      "31328\n",
      "/home/samva/Doctorate/data_directory/denovo_project/denovo_results/pepnovo/F07_Fraction1.mgf.out\n"
     ]
    },
    {
     "name": "stderr",
     "output_type": "stream",
     "text": [
      "100%|██████████| 27748/27748 [00:01<00:00, 23266.99it/s]\n"
     ]
    },
    {
     "name": "stdout",
     "output_type": "stream",
     "text": [
      "27748\n",
      "/home/samva/Doctorate/data_directory/denovo_project/denovo_results/pepnovo/S11_Fraction2.mgf.out\n"
     ]
    },
    {
     "name": "stderr",
     "output_type": "stream",
     "text": [
      "100%|██████████| 40535/40535 [00:03<00:00, 12195.67it/s]\n"
     ]
    },
    {
     "name": "stdout",
     "output_type": "stream",
     "text": [
      "40535\n",
      "/home/samva/Doctorate/data_directory/denovo_project/denovo_results/pepnovo/S11_Fraction4.mgf.out\n"
     ]
    },
    {
     "name": "stderr",
     "output_type": "stream",
     "text": [
      "100%|██████████| 29624/29624 [00:01<00:00, 22769.00it/s]\n"
     ]
    },
    {
     "name": "stdout",
     "output_type": "stream",
     "text": [
      "29624\n",
      "/home/samva/Doctorate/data_directory/denovo_project/denovo_results/pepnovo/F08_Rep1.mgf.out\n"
     ]
    },
    {
     "name": "stderr",
     "output_type": "stream",
     "text": [
      "100%|██████████| 2860/2860 [00:00<00:00, 29447.37it/s]\n"
     ]
    },
    {
     "name": "stdout",
     "output_type": "stream",
     "text": [
      "2860\n",
      "/home/samva/Doctorate/data_directory/denovo_project/denovo_results/pepnovo/F01_Fraction1.mgf.out\n"
     ]
    },
    {
     "name": "stderr",
     "output_type": "stream",
     "text": [
      "100%|██████████| 5370/5370 [00:00<00:00, 25187.47it/s]\n"
     ]
    },
    {
     "name": "stdout",
     "output_type": "stream",
     "text": [
      "5370\n",
      "/home/samva/Doctorate/data_directory/denovo_project/denovo_results/pepnovo/F01_Fraction3.mgf.out\n"
     ]
    },
    {
     "name": "stderr",
     "output_type": "stream",
     "text": [
      "100%|██████████| 52265/52265 [00:02<00:00, 24921.29it/s]\n"
     ]
    },
    {
     "name": "stdout",
     "output_type": "stream",
     "text": [
      "52265\n",
      "/home/samva/Doctorate/data_directory/denovo_project/denovo_results/pepnovo/F08_Rep3.mgf.out\n"
     ]
    },
    {
     "name": "stderr",
     "output_type": "stream",
     "text": [
      "100%|██████████| 2677/2677 [00:00<00:00, 21623.25it/s]\n"
     ]
    },
    {
     "name": "stdout",
     "output_type": "stream",
     "text": [
      "2677\n",
      "/home/samva/Doctorate/data_directory/denovo_project/denovo_results/pepnovo/F06.mgf.out\n"
     ]
    },
    {
     "name": "stderr",
     "output_type": "stream",
     "text": [
      "100%|██████████| 67487/67487 [00:04<00:00, 16717.27it/s]\n"
     ]
    },
    {
     "name": "stdout",
     "output_type": "stream",
     "text": [
      "67487\n",
      "/home/samva/Doctorate/data_directory/denovo_project/denovo_results/pepnovo/S05.mgf.out\n"
     ]
    },
    {
     "name": "stderr",
     "output_type": "stream",
     "text": [
      "100%|██████████| 201050/201050 [00:11<00:00, 17989.32it/s]"
     ]
    },
    {
     "name": "stdout",
     "output_type": "stream",
     "text": [
      "201050\n"
     ]
    },
    {
     "name": "stderr",
     "output_type": "stream",
     "text": [
      "\n"
     ]
    }
   ],
   "source": [
    "from glob import glob\n",
    "import os\n",
    "\n",
    "mapping_pepnovo = {\n",
    "    \"M+16\": \"M[UNIMOD:35]\",\n",
    "    \"C\": \"C[UNIMOD:4]\"\n",
    "}\n",
    "\n",
    "root_novor = \"/home/samva/Doctorate/data_directory/denovo_project/denovo_results/pepnovo/*.mgf.out\"\n",
    "root_mgf = \"/home/samva/Doctorate/data_directory/denovo_project/mgf_filtered/*.mgf\"\n",
    "\n",
    "result_mgf_pair = {}\n",
    "\n",
    "for mgf_path in glob(root_mgf):\n",
    "    mgf_filename = os.path.splitext(os.path.basename(mgf_path))[0]\n",
    "    for novob_path in glob(root_novor):\n",
    "        novob_filename = os.path.basename(novob_path).split(\".\")[0]\n",
    "        if mgf_filename==novob_filename:\n",
    "            result_mgf_pair[mgf_filename] = {\n",
    "                \"mgf\": mgf_path,\n",
    "                \"result\": novob_path\n",
    "            }\n",
    "\n",
    "for result_mgf in result_mgf_pair.values():\n",
    "    result_path = result_mgf[\"result\"]\n",
    "    mgf_path = result_mgf[\"mgf\"]\n",
    "    \n",
    "    print(result_path)\n",
    "    with open(result_path) as f:\n",
    "\n",
    "        run = os.path.basename(result_path)\n",
    "        mgf_file = pd.DataFrame(pd.DataFrame(mgf.read(mgf_path))[\"params\"].tolist())\n",
    "        # Do not trust MS1-inferred charge state\n",
    "        # This not matching could be used as a feature?\n",
    "        _ = mgf_file.pop(\"charge\")\n",
    "        predictions = pepnovo_to_df(f)\n",
    "\n",
    "        joined_file = predictions.merge(mgf_file, on=\"title\")\n",
    "        assert len(predictions)==len(joined_file)\n",
    "\n",
    "        joined_file[\"peptidoform\"] = joined_file.apply(\n",
    "            lambda x: x[\"peptide\"] + \"/\" + str(int(x[\"charge\"])), axis=1\n",
    "        )\n",
    "        joined_file[\"precursor_mz\"] = joined_file[\"pepmass\"].apply(\n",
    "            lambda x: x[0]\n",
    "        )\n",
    "        joined_file[\"peptidoform\"] = joined_file[\"peptidoform\"].apply(\n",
    "            lambda x: parse_peptidoform(x, mapping=mapping_pepnovo, max_length=30)\n",
    "        )\n",
    "        joined_file = joined_file.dropna(subset=[\"peptidoform\"]).reset_index(drop=True)\n",
    "\n",
    "        psm_list = joined_file.progress_apply(\n",
    "                lambda x: PSM(\n",
    "                    peptidoform=x[\"peptidoform\"],\n",
    "                    spectrum_id=x[\"title\"],\n",
    "                    run=run,\n",
    "                    score=x[\"score\"],\n",
    "                    precursor_mz=x[\"precursor_mz\"],\n",
    "                    retention_time=x[\"rtinseconds\"],\n",
    "                    source=\"PepNovo+\",\n",
    "                    metadata={\n",
    "                        \"n_shift\": x[\"n_shift\"],\n",
    "                        \"c_shift\": x[\"c_shift\"],\n",
    "                        \"score_pepnovo\": x[\"score_pepnovo\"],\n",
    "                        \"scans\": x[\"scans_y\"]\n",
    "                    }\n",
    "                ),\n",
    "                axis=1\n",
    "            ).tolist()\n",
    "        \n",
    "        psmlist = PSMList(psm_list=psm_list)\n",
    "\n",
    "    print(len(psmlist))"
   ]
  },
  {
   "cell_type": "code",
   "execution_count": 9,
   "metadata": {},
   "outputs": [],
   "source": [
    "joined_file = predictions.merge(mgf_file, on=\"title\")\n",
    "joined_file[\"charge_y\"] = joined_file[\"charge_y\"].apply(lambda x: str(int(x[0])))\n",
    "\n",
    "joined_file[\"charge_unequal\"] = joined_file.apply(lambda x: x[\"charge_x\"]!=x[\"charge_y\"], axis=1)\n",
    "\n",
    "joined_file[\"score\"] = joined_file[\"score\"].apply(lambda x: float(x))\n",
    "joined_file[\"score_pepnovo\"] = joined_file[\"score_pepnovo\"].apply(lambda x: float(x))"
   ]
  },
  {
   "cell_type": "code",
   "execution_count": 10,
   "metadata": {},
   "outputs": [
    {
     "data": {
      "text/plain": [
       "<Axes: xlabel='score_pepnovo', ylabel='Density'>"
      ]
     },
     "execution_count": 10,
     "metadata": {},
     "output_type": "execute_result"
    },
    {
     "data": {
      "image/png": "[encoded data removed]",
      "text/plain": [
       "<Figure size 640x480 with 1 Axes>"
      ]
     },
     "metadata": {},
     "output_type": "display_data"
    }
   ],
   "source": [
    "import seaborn as sns\n",
    "\n",
    "\n",
    "sns.kdeplot(\n",
    "    joined_file[[\"score_pepnovo\", \"charge_unequal\"]],\n",
    "    x=\"score_pepnovo\",\n",
    "    hue=\"charge_unequal\"\n",
    ")"
   ]
  },
  {
   "cell_type": "code",
   "execution_count": 12,
   "metadata": {},
   "outputs": [
    {
     "data": {
      "text/plain": [
       "<Axes: xlabel='score', ylabel='Density'>"
      ]
     },
     "execution_count": 12,
     "metadata": {},
     "output_type": "execute_result"
    },
    {
     "data": {
      "image/png": "[encoded data removed]",
      "text/plain": [
       "<Figure size 640x480 with 1 Axes>"
      ]
     },
     "metadata": {},
     "output_type": "display_data"
    }
   ],
   "source": [
    "sns.kdeplot(\n",
    "    joined_file[[\"score\", \"charge_unequal\"]],\n",
    "    x=\"score\",\n",
    "    hue=\"charge_unequal\"\n",
    ")"
   ]
  },
  {
   "cell_type": "markdown",
   "metadata": {},
   "source": [
    "# 3. Directag"
   ]
  },
  {
   "cell_type": "markdown",
   "metadata": {},
   "source": [
    "\"Should I skip this?\""
   ]
  },
  {
   "cell_type": "markdown",
   "metadata": {},
   "source": [
    "# 4. PointNovo"
   ]
  },
  {
   "cell_type": "markdown",
   "metadata": {},
   "source": [
    "Seems like I can just merge them based on the index of the scans (considering that indeed the mgfs are unfiltered? Maybe I should just redownload the original mgfs and apply it like this.)"
   ]
  },
  {
   "cell_type": "code",
   "execution_count": 41,
   "metadata": {},
   "outputs": [
    {
     "data": {
      "text/html": [
       "<div>\n",
       "<style scoped>\n",
       "    .dataframe tbody tr th:only-of-type {\n",
       "        vertical-align: middle;\n",
       "    }\n",
       "\n",
       "    .dataframe tbody tr th {\n",
       "        vertical-align: top;\n",
       "    }\n",
       "\n",
       "    .dataframe thead th {\n",
       "        text-align: right;\n",
       "    }\n",
       "</style>\n",
       "<table border=\"1\" class=\"dataframe\">\n",
       "  <thead>\n",
       "    <tr style=\"text-align: right;\">\n",
       "      <th></th>\n",
       "      <th>feature_id</th>\n",
       "      <th>feature_area</th>\n",
       "      <th>predicted_sequence</th>\n",
       "      <th>predicted_score</th>\n",
       "      <th>predicted_position_score</th>\n",
       "      <th>precursor_mz</th>\n",
       "      <th>precursor_charge</th>\n",
       "      <th>protein_access_id</th>\n",
       "      <th>scan_list_middle</th>\n",
       "      <th>scan_list_original</th>\n",
       "      <th>predicted_score_max</th>\n",
       "    </tr>\n",
       "  </thead>\n",
       "  <tbody>\n",
       "    <tr>\n",
       "      <th>0</th>\n",
       "      <td>1</td>\n",
       "      <td>1.0</td>\n",
       "      <td>NaN</td>\n",
       "      <td>NaN</td>\n",
       "      <td>NaN</td>\n",
       "      <td>439.843872</td>\n",
       "      <td>2.0</td>\n",
       "      <td>NaN</td>\n",
       "      <td>1</td>\n",
       "      <td>1</td>\n",
       "      <td>NaN</td>\n",
       "    </tr>\n",
       "    <tr>\n",
       "      <th>1</th>\n",
       "      <td>2</td>\n",
       "      <td>1.0</td>\n",
       "      <td>F,L,T,E,S,S,S,S,S,S,S,S,S,S,S,S,S,S,L,K,T,K</td>\n",
       "      <td>-2.50</td>\n",
       "      <td>-0.02,-2.85,-2.86,-2.71,-2.69,-2.69,-2.69,-2.6...</td>\n",
       "      <td>1099.519043</td>\n",
       "      <td>2.0</td>\n",
       "      <td>DENOVO</td>\n",
       "      <td>2</td>\n",
       "      <td>2</td>\n",
       "      <td>-2.50</td>\n",
       "    </tr>\n",
       "    <tr>\n",
       "      <th>2</th>\n",
       "      <td>4</td>\n",
       "      <td>1.0</td>\n",
       "      <td>C(Carbamidomethylation),C(Carbamidomethylation...</td>\n",
       "      <td>-2.50</td>\n",
       "      <td>-0.07,-3.48,-2.91,-2.89,-2.72,-2.69,-2.72,-2.6...</td>\n",
       "      <td>753.770935</td>\n",
       "      <td>2.0</td>\n",
       "      <td>DENOVO</td>\n",
       "      <td>4</td>\n",
       "      <td>4</td>\n",
       "      <td>-2.50</td>\n",
       "    </tr>\n",
       "    <tr>\n",
       "      <th>3</th>\n",
       "      <td>5</td>\n",
       "      <td>1.0</td>\n",
       "      <td>L,E,S,E,E,E,S,E,S,S,V,L,L,V</td>\n",
       "      <td>-2.54</td>\n",
       "      <td>-2.69,-2.70,-2.72,-2.70,-2.70,-2.70,-2.72,-2.7...</td>\n",
       "      <td>775.376953</td>\n",
       "      <td>2.0</td>\n",
       "      <td>DENOVO</td>\n",
       "      <td>5</td>\n",
       "      <td>5</td>\n",
       "      <td>-2.54</td>\n",
       "    </tr>\n",
       "    <tr>\n",
       "      <th>4</th>\n",
       "      <td>6</td>\n",
       "      <td>1.0</td>\n",
       "      <td>M(Oxidation),C(Carbamidomethylation),C(Carbami...</td>\n",
       "      <td>-2.86</td>\n",
       "      <td>-0.02,-3.44,-3.44,-3.44,-3.66,-3.44,-3.44,-2.9...</td>\n",
       "      <td>816.214600</td>\n",
       "      <td>2.0</td>\n",
       "      <td>DENOVO</td>\n",
       "      <td>6</td>\n",
       "      <td>6</td>\n",
       "      <td>-2.86</td>\n",
       "    </tr>\n",
       "    <tr>\n",
       "      <th>...</th>\n",
       "      <td>...</td>\n",
       "      <td>...</td>\n",
       "      <td>...</td>\n",
       "      <td>...</td>\n",
       "      <td>...</td>\n",
       "      <td>...</td>\n",
       "      <td>...</td>\n",
       "      <td>...</td>\n",
       "      <td>...</td>\n",
       "      <td>...</td>\n",
       "      <td>...</td>\n",
       "    </tr>\n",
       "    <tr>\n",
       "      <th>79267</th>\n",
       "      <td>83182</td>\n",
       "      <td>1.0</td>\n",
       "      <td>T,S,E,E,E,E,E,E,E,E,E,E,E,E,E,E,D,E,D,C(Carbam...</td>\n",
       "      <td>-2.68</td>\n",
       "      <td>-2.85,-2.14,-2.48,-2.70,-2.70,-2.70,-2.70,-2.7...</td>\n",
       "      <td>995.313049</td>\n",
       "      <td>3.0</td>\n",
       "      <td>DENOVO</td>\n",
       "      <td>83182</td>\n",
       "      <td>83182</td>\n",
       "      <td>-2.68</td>\n",
       "    </tr>\n",
       "    <tr>\n",
       "      <th>79268</th>\n",
       "      <td>83183</td>\n",
       "      <td>1.0</td>\n",
       "      <td>A,A,G,E,T,G,N,L,A,P,E,K</td>\n",
       "      <td>-1.95</td>\n",
       "      <td>-0.00,-0.12,-1.94,-2.73,-2.10,-2.30,-2.53,-2.4...</td>\n",
       "      <td>579.292725</td>\n",
       "      <td>2.0</td>\n",
       "      <td>DENOVO</td>\n",
       "      <td>83183</td>\n",
       "      <td>83183</td>\n",
       "      <td>-1.95</td>\n",
       "    </tr>\n",
       "    <tr>\n",
       "      <th>79269</th>\n",
       "      <td>83185</td>\n",
       "      <td>1.0</td>\n",
       "      <td>NaN</td>\n",
       "      <td>NaN</td>\n",
       "      <td>NaN</td>\n",
       "      <td>616.463379</td>\n",
       "      <td>2.0</td>\n",
       "      <td>NaN</td>\n",
       "      <td>83185</td>\n",
       "      <td>83185</td>\n",
       "      <td>NaN</td>\n",
       "    </tr>\n",
       "    <tr>\n",
       "      <th>79270</th>\n",
       "      <td>83186</td>\n",
       "      <td>1.0</td>\n",
       "      <td>A,A,L,L,L,L,E,E,E,E,S,S,S,S,P,G,L,E,E,L,M,E,G,G,K</td>\n",
       "      <td>-2.36</td>\n",
       "      <td>-0.00,-0.40,-2.83,-2.83,-2.83,-2.83,-2.69,-2.6...</td>\n",
       "      <td>873.428894</td>\n",
       "      <td>3.0</td>\n",
       "      <td>DENOVO</td>\n",
       "      <td>83186</td>\n",
       "      <td>83186</td>\n",
       "      <td>-2.36</td>\n",
       "    </tr>\n",
       "    <tr>\n",
       "      <th>79271</th>\n",
       "      <td>83187</td>\n",
       "      <td>1.0</td>\n",
       "      <td>C(Carbamidomethylation),C(Carbamidomethylation...</td>\n",
       "      <td>-2.82</td>\n",
       "      <td>-0.17,-3.42,-3.42,-3.42,-3.42,-2.92,-2.89,-2.8...</td>\n",
       "      <td>897.732544</td>\n",
       "      <td>2.0</td>\n",
       "      <td>DENOVO</td>\n",
       "      <td>83187</td>\n",
       "      <td>83187</td>\n",
       "      <td>-2.82</td>\n",
       "    </tr>\n",
       "  </tbody>\n",
       "</table>\n",
       "<p>79272 rows × 11 columns</p>\n",
       "</div>"
      ],
      "text/plain": [
       "       feature_id  feature_area  \\\n",
       "0               1           1.0   \n",
       "1               2           1.0   \n",
       "2               4           1.0   \n",
       "3               5           1.0   \n",
       "4               6           1.0   \n",
       "...           ...           ...   \n",
       "79267       83182           1.0   \n",
       "79268       83183           1.0   \n",
       "79269       83185           1.0   \n",
       "79270       83186           1.0   \n",
       "79271       83187           1.0   \n",
       "\n",
       "                                      predicted_sequence  predicted_score  \\\n",
       "0                                                    NaN              NaN   \n",
       "1            F,L,T,E,S,S,S,S,S,S,S,S,S,S,S,S,S,S,L,K,T,K            -2.50   \n",
       "2      C(Carbamidomethylation),C(Carbamidomethylation...            -2.50   \n",
       "3                            L,E,S,E,E,E,S,E,S,S,V,L,L,V            -2.54   \n",
       "4      M(Oxidation),C(Carbamidomethylation),C(Carbami...            -2.86   \n",
       "...                                                  ...              ...   \n",
       "79267  T,S,E,E,E,E,E,E,E,E,E,E,E,E,E,E,D,E,D,C(Carbam...            -2.68   \n",
       "79268                            A,A,G,E,T,G,N,L,A,P,E,K            -1.95   \n",
       "79269                                                NaN              NaN   \n",
       "79270  A,A,L,L,L,L,E,E,E,E,S,S,S,S,P,G,L,E,E,L,M,E,G,G,K            -2.36   \n",
       "79271  C(Carbamidomethylation),C(Carbamidomethylation...            -2.82   \n",
       "\n",
       "                                predicted_position_score  precursor_mz  \\\n",
       "0                                                    NaN    439.843872   \n",
       "1      -0.02,-2.85,-2.86,-2.71,-2.69,-2.69,-2.69,-2.6...   1099.519043   \n",
       "2      -0.07,-3.48,-2.91,-2.89,-2.72,-2.69,-2.72,-2.6...    753.770935   \n",
       "3      -2.69,-2.70,-2.72,-2.70,-2.70,-2.70,-2.72,-2.7...    775.376953   \n",
       "4      -0.02,-3.44,-3.44,-3.44,-3.66,-3.44,-3.44,-2.9...    816.214600   \n",
       "...                                                  ...           ...   \n",
       "79267  -2.85,-2.14,-2.48,-2.70,-2.70,-2.70,-2.70,-2.7...    995.313049   \n",
       "79268  -0.00,-0.12,-1.94,-2.73,-2.10,-2.30,-2.53,-2.4...    579.292725   \n",
       "79269                                                NaN    616.463379   \n",
       "79270  -0.00,-0.40,-2.83,-2.83,-2.83,-2.83,-2.69,-2.6...    873.428894   \n",
       "79271  -0.17,-3.42,-3.42,-3.42,-3.42,-2.92,-2.89,-2.8...    897.732544   \n",
       "\n",
       "       precursor_charge protein_access_id  scan_list_middle  \\\n",
       "0                   2.0               NaN                 1   \n",
       "1                   2.0            DENOVO                 2   \n",
       "2                   2.0            DENOVO                 4   \n",
       "3                   2.0            DENOVO                 5   \n",
       "4                   2.0            DENOVO                 6   \n",
       "...                 ...               ...               ...   \n",
       "79267               3.0            DENOVO             83182   \n",
       "79268               2.0            DENOVO             83183   \n",
       "79269               2.0               NaN             83185   \n",
       "79270               3.0            DENOVO             83186   \n",
       "79271               2.0            DENOVO             83187   \n",
       "\n",
       "       scan_list_original  predicted_score_max  \n",
       "0                       1                  NaN  \n",
       "1                       2                -2.50  \n",
       "2                       4                -2.50  \n",
       "3                       5                -2.54  \n",
       "4                       6                -2.86  \n",
       "...                   ...                  ...  \n",
       "79267               83182                -2.68  \n",
       "79268               83183                -1.95  \n",
       "79269               83185                  NaN  \n",
       "79270               83186                -2.36  \n",
       "79271               83187                -2.82  \n",
       "\n",
       "[79272 rows x 11 columns]"
      ]
     },
     "execution_count": 41,
     "metadata": {},
     "output_type": "execute_result"
    }
   ],
   "source": [
    "pd.read_csv(\n",
    "    \"/home/samva/Doctorate/data_directory/denovo_project/denovo_results/pointnovo/F06_features.csv.deepnovo_denovo\",\n",
    "    sep=\"\\t\"\n",
    ")"
   ]
  },
  {
   "cell_type": "code",
   "execution_count": 49,
   "metadata": {},
   "outputs": [],
   "source": [
    "mgf_F06_og = pd.DataFrame(pd.DataFrame(mgf.read(\"/home/samva/Doctorate/data_directory/denovo_project/mgf/F06.mgf\"))[\"params\"].tolist())"
   ]
  },
  {
   "cell_type": "code",
   "execution_count": 45,
   "metadata": {},
   "outputs": [],
   "source": [
    "f01_merged = pd.read_csv(\n",
    "    \"/home/samva/Doctorate/data_directory/denovo_project/denovo_results/pointnovo/F01_features.csv.deepnovo_denovo\",\n",
    "    sep=\"\\t\"\n",
    ")"
   ]
  },
  {
   "cell_type": "code",
   "execution_count": 46,
   "metadata": {},
   "outputs": [
    {
     "data": {
      "text/html": [
       "<div>\n",
       "<style scoped>\n",
       "    .dataframe tbody tr th:only-of-type {\n",
       "        vertical-align: middle;\n",
       "    }\n",
       "\n",
       "    .dataframe tbody tr th {\n",
       "        vertical-align: top;\n",
       "    }\n",
       "\n",
       "    .dataframe thead th {\n",
       "        text-align: right;\n",
       "    }\n",
       "</style>\n",
       "<table border=\"1\" class=\"dataframe\">\n",
       "  <thead>\n",
       "    <tr style=\"text-align: right;\">\n",
       "      <th></th>\n",
       "      <th>feature_id</th>\n",
       "      <th>feature_area</th>\n",
       "      <th>predicted_sequence</th>\n",
       "      <th>predicted_score</th>\n",
       "      <th>predicted_position_score</th>\n",
       "      <th>precursor_mz</th>\n",
       "      <th>precursor_charge</th>\n",
       "      <th>protein_access_id</th>\n",
       "      <th>scan_list_middle</th>\n",
       "      <th>scan_list_original</th>\n",
       "      <th>predicted_score_max</th>\n",
       "    </tr>\n",
       "  </thead>\n",
       "  <tbody>\n",
       "    <tr>\n",
       "      <th>0</th>\n",
       "      <td>1</td>\n",
       "      <td>1.0</td>\n",
       "      <td>V,P,K,P,R,R,L,P,G,L,G,D</td>\n",
       "      <td>-2.05</td>\n",
       "      <td>-0.00,-0.49,-3.10,-2.86,-2.66,-2.66,-2.67,-1.1...</td>\n",
       "      <td>652.896729</td>\n",
       "      <td>2.0</td>\n",
       "      <td>DENOVO</td>\n",
       "      <td>1</td>\n",
       "      <td>1</td>\n",
       "      <td>-2.05</td>\n",
       "    </tr>\n",
       "    <tr>\n",
       "      <th>1</th>\n",
       "      <td>2</td>\n",
       "      <td>1.0</td>\n",
       "      <td>NaN</td>\n",
       "      <td>NaN</td>\n",
       "      <td>NaN</td>\n",
       "      <td>509.907135</td>\n",
       "      <td>2.0</td>\n",
       "      <td>NaN</td>\n",
       "      <td>2</td>\n",
       "      <td>2</td>\n",
       "      <td>NaN</td>\n",
       "    </tr>\n",
       "    <tr>\n",
       "      <th>2</th>\n",
       "      <td>3</td>\n",
       "      <td>1.0</td>\n",
       "      <td>F,S,R,R,R,R,R,S,R</td>\n",
       "      <td>-2.22</td>\n",
       "      <td>-0.01,-2.90,-2.49,-2.67,-2.67,-2.66,-2.71,-2.3...</td>\n",
       "      <td>638.884766</td>\n",
       "      <td>2.0</td>\n",
       "      <td>DENOVO</td>\n",
       "      <td>3</td>\n",
       "      <td>3</td>\n",
       "      <td>-2.22</td>\n",
       "    </tr>\n",
       "    <tr>\n",
       "      <th>3</th>\n",
       "      <td>4</td>\n",
       "      <td>1.0</td>\n",
       "      <td>NaN</td>\n",
       "      <td>NaN</td>\n",
       "      <td>NaN</td>\n",
       "      <td>552.897461</td>\n",
       "      <td>2.0</td>\n",
       "      <td>NaN</td>\n",
       "      <td>4</td>\n",
       "      <td>4</td>\n",
       "      <td>NaN</td>\n",
       "    </tr>\n",
       "    <tr>\n",
       "      <th>4</th>\n",
       "      <td>5</td>\n",
       "      <td>1.0</td>\n",
       "      <td>K,V,L,L,L,G,L,R,S,R</td>\n",
       "      <td>-2.27</td>\n",
       "      <td>-0.00,-2.12,-2.83,-2.83,-2.83,-2.69,-2.83,-2.5...</td>\n",
       "      <td>577.895569</td>\n",
       "      <td>2.0</td>\n",
       "      <td>DENOVO</td>\n",
       "      <td>5</td>\n",
       "      <td>5</td>\n",
       "      <td>-2.27</td>\n",
       "    </tr>\n",
       "    <tr>\n",
       "      <th>...</th>\n",
       "      <td>...</td>\n",
       "      <td>...</td>\n",
       "      <td>...</td>\n",
       "      <td>...</td>\n",
       "      <td>...</td>\n",
       "      <td>...</td>\n",
       "      <td>...</td>\n",
       "      <td>...</td>\n",
       "      <td>...</td>\n",
       "      <td>...</td>\n",
       "      <td>...</td>\n",
       "    </tr>\n",
       "    <tr>\n",
       "      <th>218275</th>\n",
       "      <td>223703</td>\n",
       "      <td>1.0</td>\n",
       "      <td>E,D,E,E,E,D,K,L,F,V,G,V,D,T,L,H,V,K,H</td>\n",
       "      <td>-0.68</td>\n",
       "      <td>-0.21,-1.03,-0.32,-0.39,-1.19,-2.25,-2.67,-0.7...</td>\n",
       "      <td>747.034800</td>\n",
       "      <td>3.0</td>\n",
       "      <td>DENOVO</td>\n",
       "      <td>223703</td>\n",
       "      <td>223703</td>\n",
       "      <td>-0.68</td>\n",
       "    </tr>\n",
       "    <tr>\n",
       "      <th>218276</th>\n",
       "      <td>223704</td>\n",
       "      <td>1.0</td>\n",
       "      <td>D,E,E,E,G,S,L,D,L,F,V,G,V,D,T,L,H,V,K,H</td>\n",
       "      <td>-0.66</td>\n",
       "      <td>-0.21,-1.14,-0.18,-0.44,-0.96,-0.61,-2.12,-1.0...</td>\n",
       "      <td>560.527900</td>\n",
       "      <td>4.0</td>\n",
       "      <td>DENOVO</td>\n",
       "      <td>223704</td>\n",
       "      <td>223704</td>\n",
       "      <td>-0.66</td>\n",
       "    </tr>\n",
       "    <tr>\n",
       "      <th>218277</th>\n",
       "      <td>223705</td>\n",
       "      <td>1.0</td>\n",
       "      <td>E,D,E,D,E,E,K,L,F,V,G,V,D,T,L,H,V,H,K</td>\n",
       "      <td>-1.19</td>\n",
       "      <td>-0.19,-1.07,-0.34,-0.50,-2.50,-2.57,-2.61,-1.7...</td>\n",
       "      <td>747.034400</td>\n",
       "      <td>3.0</td>\n",
       "      <td>DENOVO</td>\n",
       "      <td>223705</td>\n",
       "      <td>223705</td>\n",
       "      <td>-1.19</td>\n",
       "    </tr>\n",
       "    <tr>\n",
       "      <th>218278</th>\n",
       "      <td>223706</td>\n",
       "      <td>1.0</td>\n",
       "      <td>Y,T,E,L,A,S,E,P,D,E,V,G,V,S,E,L,H,V,H,K</td>\n",
       "      <td>-1.59</td>\n",
       "      <td>-0.01,-2.77,-2.64,-2.92,-2.60,-2.58,-2.60,-2.1...</td>\n",
       "      <td>560.528100</td>\n",
       "      <td>4.0</td>\n",
       "      <td>DENOVO</td>\n",
       "      <td>223706</td>\n",
       "      <td>223706</td>\n",
       "      <td>-1.59</td>\n",
       "    </tr>\n",
       "    <tr>\n",
       "      <th>218279</th>\n",
       "      <td>223707</td>\n",
       "      <td>1.0</td>\n",
       "      <td>F,V,Y,G,V,D,D,H,S,D,V,G,V,D,T,L,H,V,H,K</td>\n",
       "      <td>-1.32</td>\n",
       "      <td>-0.06,-2.12,-0.51,-2.97,-1.89,-2.16,-2.70,-2.5...</td>\n",
       "      <td>560.527400</td>\n",
       "      <td>4.0</td>\n",
       "      <td>DENOVO</td>\n",
       "      <td>223707</td>\n",
       "      <td>223707</td>\n",
       "      <td>-1.32</td>\n",
       "    </tr>\n",
       "  </tbody>\n",
       "</table>\n",
       "<p>218280 rows × 11 columns</p>\n",
       "</div>"
      ],
      "text/plain": [
       "        feature_id  feature_area                       predicted_sequence  \\\n",
       "0                1           1.0                  V,P,K,P,R,R,L,P,G,L,G,D   \n",
       "1                2           1.0                                      NaN   \n",
       "2                3           1.0                        F,S,R,R,R,R,R,S,R   \n",
       "3                4           1.0                                      NaN   \n",
       "4                5           1.0                      K,V,L,L,L,G,L,R,S,R   \n",
       "...            ...           ...                                      ...   \n",
       "218275      223703           1.0    E,D,E,E,E,D,K,L,F,V,G,V,D,T,L,H,V,K,H   \n",
       "218276      223704           1.0  D,E,E,E,G,S,L,D,L,F,V,G,V,D,T,L,H,V,K,H   \n",
       "218277      223705           1.0    E,D,E,D,E,E,K,L,F,V,G,V,D,T,L,H,V,H,K   \n",
       "218278      223706           1.0  Y,T,E,L,A,S,E,P,D,E,V,G,V,S,E,L,H,V,H,K   \n",
       "218279      223707           1.0  F,V,Y,G,V,D,D,H,S,D,V,G,V,D,T,L,H,V,H,K   \n",
       "\n",
       "        predicted_score                           predicted_position_score  \\\n",
       "0                 -2.05  -0.00,-0.49,-3.10,-2.86,-2.66,-2.66,-2.67,-1.1...   \n",
       "1                   NaN                                                NaN   \n",
       "2                 -2.22  -0.01,-2.90,-2.49,-2.67,-2.67,-2.66,-2.71,-2.3...   \n",
       "3                   NaN                                                NaN   \n",
       "4                 -2.27  -0.00,-2.12,-2.83,-2.83,-2.83,-2.69,-2.83,-2.5...   \n",
       "...                 ...                                                ...   \n",
       "218275            -0.68  -0.21,-1.03,-0.32,-0.39,-1.19,-2.25,-2.67,-0.7...   \n",
       "218276            -0.66  -0.21,-1.14,-0.18,-0.44,-0.96,-0.61,-2.12,-1.0...   \n",
       "218277            -1.19  -0.19,-1.07,-0.34,-0.50,-2.50,-2.57,-2.61,-1.7...   \n",
       "218278            -1.59  -0.01,-2.77,-2.64,-2.92,-2.60,-2.58,-2.60,-2.1...   \n",
       "218279            -1.32  -0.06,-2.12,-0.51,-2.97,-1.89,-2.16,-2.70,-2.5...   \n",
       "\n",
       "        precursor_mz  precursor_charge protein_access_id  scan_list_middle  \\\n",
       "0         652.896729               2.0            DENOVO                 1   \n",
       "1         509.907135               2.0               NaN                 2   \n",
       "2         638.884766               2.0            DENOVO                 3   \n",
       "3         552.897461               2.0               NaN                 4   \n",
       "4         577.895569               2.0            DENOVO                 5   \n",
       "...              ...               ...               ...               ...   \n",
       "218275    747.034800               3.0            DENOVO            223703   \n",
       "218276    560.527900               4.0            DENOVO            223704   \n",
       "218277    747.034400               3.0            DENOVO            223705   \n",
       "218278    560.528100               4.0            DENOVO            223706   \n",
       "218279    560.527400               4.0            DENOVO            223707   \n",
       "\n",
       "        scan_list_original  predicted_score_max  \n",
       "0                        1                -2.05  \n",
       "1                        2                  NaN  \n",
       "2                        3                -2.22  \n",
       "3                        4                  NaN  \n",
       "4                        5                -2.27  \n",
       "...                    ...                  ...  \n",
       "218275              223703                -0.68  \n",
       "218276              223704                -0.66  \n",
       "218277              223705                -1.19  \n",
       "218278              223706                -1.59  \n",
       "218279              223707                -1.32  \n",
       "\n",
       "[218280 rows x 11 columns]"
      ]
     },
     "execution_count": 46,
     "metadata": {},
     "output_type": "execute_result"
    }
   ],
   "source": [
    "f01_merged"
   ]
  },
  {
   "cell_type": "code",
   "execution_count": 2,
   "metadata": {},
   "outputs": [],
   "source": [
    "root_1 = \"/home/samva/Doctorate/data_directory/denovo_project/mgf\"\n",
    "root_2 = \"/home/samva/Doctorate/data_directory/denovo_project/mgf_filtered\"\n",
    "\n",
    "filtered_mgfs = []\n",
    "\n",
    "for path_1 in glob(os.path.join(root_1, \"*.mgf\")):\n",
    "    path_2 = os.path.join(root_2, os.path.basename(path_1))\n",
    "\n",
    "    mgf_1 = mgf.read(path_1)\n",
    "    mgf_2 = mgf.read(path_2)\n",
    "\n",
    "    if len(mgf_1) != len(mgf_2):\n",
    "        filtered_mgfs.append(os.path.basename(path_1))"
   ]
  },
  {
   "cell_type": "code",
   "execution_count": 3,
   "metadata": {},
   "outputs": [
    {
     "data": {
      "text/plain": [
       "['S14_Rep2.mgf',\n",
       " 'S14_Rep1.mgf',\n",
       " 'S03.mgf',\n",
       " 'S14_Rep3.mgf',\n",
       " 'F08_Rep2.mgf',\n",
       " 'F08_Rep1.mgf',\n",
       " 'F08_Rep3.mgf',\n",
       " 'S05.mgf']"
      ]
     },
     "execution_count": 3,
     "metadata": {},
     "output_type": "execute_result"
    }
   ],
   "source": [
    "filtered_mgfs"
   ]
  },
  {
   "cell_type": "code",
   "execution_count": 52,
   "metadata": {},
   "outputs": [],
   "source": [
    "f01_list = []\n",
    "\n",
    "f01_paths = [\n",
    "    \"/home/samva/Doctorate/data_directory/denovo_project/mgf/F01_Fraction1.mgf\",\n",
    "    \"/home/samva/Doctorate/data_directory/denovo_project/mgf/F01_Fraction2.mgf\",\n",
    "    \"/home/samva/Doctorate/data_directory/denovo_project/mgf/F01_Fraction3.mgf\",\n",
    "    \"/home/samva/Doctorate/data_directory/denovo_project/mgf/F01_Fraction4.mgf\"\n",
    "]\n",
    "\n",
    "for f01_path in f01_paths:\n",
    "    f01_file = pd.DataFrame(pd.DataFrame(mgf.read(f01_path))[\"params\"].tolist())\n",
    "    f01_list.append(f01_file)\n",
    "\n",
    "f01_mgf_merged = pd.concat(f01_list, ignore_index=True)"
   ]
  }
 ],
 "metadata": {
  "kernelspec": {
   "display_name": "denovo_analysis_env",
   "language": "python",
   "name": "python3"
  },
  "language_info": {
   "codemirror_mode": {
    "name": "ipython",
    "version": 3
   },
   "file_extension": ".py",
   "mimetype": "text/x-python",
   "name": "python",
   "nbconvert_exporter": "python",
   "pygments_lexer": "ipython3",
   "version": "3.11.9"
  }
 },
 "nbformat": 4,
 "nbformat_minor": 2
}
