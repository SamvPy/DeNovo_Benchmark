{
 "cells": [
  {
   "cell_type": "code",
   "execution_count": 9,
   "metadata": {},
   "outputs": [],
   "source": [
    "from ms2pip.core import annotate_spectra\n",
    "from denovo_utils.parsers.converters import SpectralisParser\n",
    "import os\n",
    "import pandas as pd\n",
    "import numpy as np\n",
    "import seaborn as sns\n",
    "from pyteomics import mgf\n",
    "import matplotlib.pyplot as plt\n",
    "import spectrum_utils.plot as sup\n",
    "import spectrum_utils.spectrum as sus\n",
    "from psm_utils import PSM, PSMList\n",
    "import warnings\n",
    "\n",
    "warnings.filterwarnings(\"ignore\")"
   ]
  },
  {
   "cell_type": "code",
   "execution_count": 2,
   "metadata": {},
   "outputs": [],
   "source": []
  },
  {
   "cell_type": "markdown",
   "metadata": {},
   "source": [
    "Read in the filtered psms"
   ]
  },
  {
   "cell_type": "code",
   "execution_count": 106,
   "metadata": {},
   "outputs": [],
   "source": [
    "from ms2pip.result import ProcessingResult\n",
    "from pyteomics import mass\n",
    "from pyteomics.mass.mass import Composition\n",
    "import numpy as np\n",
    "import warnings\n",
    "import re\n",
    "\n",
    "warnings.filterwarnings(\"ignore\")\n",
    "\n",
    "LOG_NULL = np.float32(np.round(np.log2(.001), 6))\n",
    "\n",
    "UNIMOD_MOD_COMP = {\n",
    "    '[UNIMOD:1]': Composition({'H': 2, 'C': 2, 'O': 1}),\n",
    "    '[UNIMOD:4]': Composition({'H': 3, 'C': 2, 'N': 1, 'O': 1}),\n",
    "    '[UNIMOD:5]': Composition({'H': 1, 'C': 1, 'N': 1, 'O': 1}),\n",
    "    '[UNIMOD:7]': Composition({'H': -1, 'N': -1, 'O': 1}),\n",
    "    '[UNIMOD:21]': Composition({'H': 1, 'O': 3, 'P': 1}),\n",
    "    '[UNIMOD:23]': Composition({'H': -2, 'O': -1}),\n",
    "    '[UNIMOD:35]': Composition({'O': 1}),\n",
    "    '[UNIMOD:385]': Composition({'H': -3, 'N': -1}),\n",
    "    '[+25.980265]': Composition({'H': 4, 'C': 1, 'N': 2, 'O': 1})\n",
    "}\n",
    "UNIMOD_LIST = [\n",
    "    \"[UNIMOD:1]\",\n",
    "    \"[UNIMOD:4]\",\n",
    "    \"[UNIMOD:5]\",\n",
    "    \"[UNIMOD:7]\",\n",
    "    \"[UNIMOD:21]\",\n",
    "    \"[UNIMOD:23]\",\n",
    "    \"[UNIMOD:35]\",\n",
    "    \"[UNIMOD:385]\",\n",
    "]\n",
    "\n",
    "class Evidence:\n",
    "    def __init__(self, processing_result):\n",
    "        \"\"\"\n",
    "        Initialize peak evidence object for a peptide sequence.\n",
    "\n",
    "        Can be used to easily compare peptide sequences while allowing isobaric segments.\n",
    "\n",
    "        Parameter\n",
    "        ---------\n",
    "        spectrum: dict or ProcessingResult\n",
    "            A dictionary with keys 'observed_intensity', 'theoretical_mz' and 'peptide\n",
    "        \"\"\"\n",
    "        self.peptide = processing_result.psm.peptidoform.proforma\n",
    "        self.processing_result = processing_result\n",
    "        self.evidence = self.get_evidence(processing_result=processing_result)\n",
    "        #self.peptide_masked = self.mask_peptide()\n",
    "\n",
    "\n",
    "    def get_evidence(self, processing_result: ProcessingResult, ion_types=[\"b\", \"b2\", \"y\", \"y2\"]):\n",
    "        \"\"\"\n",
    "        The matching is done with annotate_spectra from ms2pip package. To have evidence of an amino acid, I require a fragment ion series.\n",
    "\n",
    "        (Could include an implementation where the matching is performed with other evidence peaks as well...)\n",
    "        \"\"\"\n",
    "        psm = processing_result.psm\n",
    "        mzs = processing_result.theoretical_mz\n",
    "        intensities = processing_result.observed_intensity\n",
    "\n",
    "        # Ensure the floats are of the same type\n",
    "        intensities = {\n",
    "            k: np.array([np.round(i, 6) for i in v], dtype=np.float32) for k, v in intensities.items()\n",
    "        }\n",
    "        observed_bool = {\n",
    "            k: v!=LOG_NULL for k, v in intensities.items()\n",
    "        }\n",
    "\n",
    "        evidence = []\n",
    "        residue_list = [aa for aa in psm.peptidoform]\n",
    "\n",
    "        for i, aa in enumerate(psm.peptidoform):\n",
    "            evidence_types = {}\n",
    "            evidence_present = False\n",
    "\n",
    "            if i==len(psm.peptidoform)-1:\n",
    "                break\n",
    "            \n",
    "            for ion_type in ion_types:\n",
    "                if peak_is_observed(\n",
    "                    observed_list=observed_bool[ion_type],\n",
    "                    ion_type=ion_type,\n",
    "                    ion_number=i\n",
    "                ):\n",
    "                    evidence_present = True\n",
    "                    evidence_types[ion_type] = True\n",
    "                else:\n",
    "                    evidence_types[ion_type] = False\n",
    "                        \n",
    "            evidence.append(\n",
    "                {\n",
    "                    \"evidence\": evidence_present,\n",
    "                    \"evidence_types\": evidence_types,\n",
    "                    \"cleavage_site_residues\": [residue_list[i], residue_list[i+1]],\n",
    "                    \"cleavage_site_indices\": [i, i+1]\n",
    "                }\n",
    "            )\n",
    "\n",
    "        return evidence\n",
    "    \n",
    "    def mask_peptide(self):\n",
    "        pass\n",
    "        #self.evidence\n",
    "\n",
    "    # def __repr__(self):\n",
    "    #     return self.evidence\n",
    "\n",
    "    def __eq__(self):\n",
    "        \"\"\"\n",
    "        Allows isobaric alternatives in a portion of the sequence without peak evidence.\n",
    "        \"\"\"\n",
    "        pass\n",
    "\n",
    "\n",
    "def peak_is_observed(observed_list, ion_type, ion_number):\n",
    "    # Y peak evidence for amino acid 1 is the yn peak!\n",
    "    if \"y\" in ion_type:\n",
    "        observed_list = observed_list[::-1]\n",
    "    return observed_list[ion_number]"
   ]
  },
  {
   "cell_type": "code",
   "execution_count": null,
   "metadata": {},
   "outputs": [],
   "source": [
    "psmlist_cols = [\n",
    "    \"peptidoform\",\n",
    "    \"spectrum_id\",\n",
    "    \"run\",\n",
    "    \"score\",\n",
    "    \"qvalue\",\n",
    "    \"pep\",\n",
    "    \"precursor_mz\",\n",
    "    \"retention_time\"\n",
    "]\n",
    "filename=\"F01_Fraction1\"\n",
    "root_data=\"/home/samva/Doctorate/data_directory/denovo_project\"\n",
    "mgf_path=os.path.join(root_data, \"mgf_filtered\", filename + \".mgf\")\n",
    "results_dir=os.path.join(root_data, \"denovo_results\")\n",
    "\n",
    "# Read filtered PSMs\n",
    "fraction1 = pd.read_csv(\n",
    "    f\"/home/samva/Doctorate/data_directory/denovo_project/denovo_results/psmlists/df/{filename}.csv\"\n",
    ")\n",
    "\n",
    "# Parse to PSMList\n",
    "psmlist = PSMList(\n",
    "    psm_list=[PSM(**x) for x in fraction1.loc[:, psmlist_cols].to_dict(\"records\")]\n",
    ")\n",
    "\n",
    "# Get processing_result (annotated spectra)\n",
    "processing_results = annotate_spectra(\n",
    "    psms=psmlist,\n",
    "    spectrum_file=mgf_path,\n",
    "    model=\"HCDch2\"\n",
    ")\n",
    "\n"
   ]
  },
  {
   "cell_type": "code",
   "execution_count": 92,
   "metadata": {},
   "outputs": [
    {
     "name": "stdout",
     "output_type": "stream",
     "text": [
      "('S', None)\n",
      "('S', None)\n",
      "('C', [UnimodModification('4', None, None)])\n",
      "('N', None)\n",
      "('D', None)\n",
      "('C', [UnimodModification('4', None, None)])\n",
      "('R', None)\n"
     ]
    }
   ],
   "source": [
    "for aa in r.psm.peptidoform:\n",
    "    print(aa)"
   ]
  },
  {
   "cell_type": "code",
   "execution_count": 159,
   "metadata": {},
   "outputs": [],
   "source": [
    "evidences = []\n",
    "for r in processing_results:\n",
    "    evidences.append(Evidence(r))"
   ]
  },
  {
   "cell_type": "code",
   "execution_count": 161,
   "metadata": {},
   "outputs": [],
   "source": [
    "fraction1[\"evidence\"] = evidences"
   ]
  },
  {
   "cell_type": "code",
   "execution_count": 165,
   "metadata": {},
   "outputs": [
    {
     "data": {
      "text/html": [
       "<div>\n",
       "<style scoped>\n",
       "    .dataframe tbody tr th:only-of-type {\n",
       "        vertical-align: middle;\n",
       "    }\n",
       "\n",
       "    .dataframe tbody tr th {\n",
       "        vertical-align: top;\n",
       "    }\n",
       "\n",
       "    .dataframe thead th {\n",
       "        text-align: right;\n",
       "    }\n",
       "</style>\n",
       "<table border=\"1\" class=\"dataframe\">\n",
       "  <thead>\n",
       "    <tr style=\"text-align: right;\">\n",
       "      <th></th>\n",
       "      <th>peptidoform</th>\n",
       "      <th>spectrum_id</th>\n",
       "      <th>score</th>\n",
       "      <th>precursor_mz</th>\n",
       "      <th>metadata</th>\n",
       "      <th>source</th>\n",
       "      <th>spectralis_score</th>\n",
       "      <th>evidence</th>\n",
       "    </tr>\n",
       "  </thead>\n",
       "  <tbody>\n",
       "    <tr>\n",
       "      <th>21257</th>\n",
       "      <td>ILDLEHLLDR/3</td>\n",
       "      <td>controllerType=0 controllerNumber=1 scan=15030</td>\n",
       "      <td>-0.487639</td>\n",
       "      <td>412.902025</td>\n",
       "      <td>{}</td>\n",
       "      <td>sage</td>\n",
       "      <td>-0.049631</td>\n",
       "      <td>&lt;__main__.Evidence object at 0x7f3c6bb86d90&gt;</td>\n",
       "    </tr>\n",
       "    <tr>\n",
       "      <th>15724</th>\n",
       "      <td>FANSEVEVK/2</td>\n",
       "      <td>controllerType=0 controllerNumber=1 scan=7109</td>\n",
       "      <td>94.000000</td>\n",
       "      <td>511.761536</td>\n",
       "      <td>{'scans': '7109', 'err(data-denovo)': '0.0005'...</td>\n",
       "      <td>Novor</td>\n",
       "      <td>-0.043880</td>\n",
       "      <td>&lt;__main__.Evidence object at 0x7f3c6da7e390&gt;</td>\n",
       "    </tr>\n",
       "    <tr>\n",
       "      <th>11062</th>\n",
       "      <td>FANSEVEVK/2</td>\n",
       "      <td>controllerType=0 controllerNumber=1 scan=7109</td>\n",
       "      <td>0.999843</td>\n",
       "      <td>511.761536</td>\n",
       "      <td>{'aa_scores': '0.99998,0.99996,0.99989,0.99996...</td>\n",
       "      <td>ContraNovo</td>\n",
       "      <td>-0.043880</td>\n",
       "      <td>&lt;__main__.Evidence object at 0x7f3c6f5da8d0&gt;</td>\n",
       "    </tr>\n",
       "    <tr>\n",
       "      <th>12911</th>\n",
       "      <td>FANSEVEVK/2</td>\n",
       "      <td>controllerType=0 controllerNumber=1 scan=7109</td>\n",
       "      <td>0.999915</td>\n",
       "      <td>511.761536</td>\n",
       "      <td>{'ppm_error': '0.0', 'scans': '7109'}</td>\n",
       "      <td>NovoB</td>\n",
       "      <td>-0.043880</td>\n",
       "      <td>&lt;__main__.Evidence object at 0x7f3c6eab0c10&gt;</td>\n",
       "    </tr>\n",
       "    <tr>\n",
       "      <th>3966</th>\n",
       "      <td>FANSEVEVK/2</td>\n",
       "      <td>controllerType=0 controllerNumber=1 scan=7109</td>\n",
       "      <td>-0.035272</td>\n",
       "      <td>511.761536</td>\n",
       "      <td>{'scans': '7109'}</td>\n",
       "      <td>InstaNovo</td>\n",
       "      <td>-0.043880</td>\n",
       "      <td>&lt;__main__.Evidence object at 0x7f3c71d3e450&gt;</td>\n",
       "    </tr>\n",
       "    <tr>\n",
       "      <th>7161</th>\n",
       "      <td>FANSEVEVK/2</td>\n",
       "      <td>controllerType=0 controllerNumber=1 scan=7109</td>\n",
       "      <td>1.000000</td>\n",
       "      <td>511.761536</td>\n",
       "      <td>{'positional_scores': '[0.9999995, 0.99999714,...</td>\n",
       "      <td>PepNet</td>\n",
       "      <td>-0.043880</td>\n",
       "      <td>&lt;__main__.Evidence object at 0x7f3c70a2eb50&gt;</td>\n",
       "    </tr>\n",
       "    <tr>\n",
       "      <th>494</th>\n",
       "      <td>FANSEVEVK/2</td>\n",
       "      <td>controllerType=0 controllerNumber=1 scan=7109</td>\n",
       "      <td>0.989041</td>\n",
       "      <td>511.761536</td>\n",
       "      <td>{'aa_scores': '0.98976,0.99000,0.98625,0.98982...</td>\n",
       "      <td>Casanovo4.2.0</td>\n",
       "      <td>-0.043880</td>\n",
       "      <td>&lt;__main__.Evidence object at 0x7f3c766ab710&gt;</td>\n",
       "    </tr>\n",
       "  </tbody>\n",
       "</table>\n",
       "</div>"
      ],
      "text/plain": [
       "        peptidoform                                     spectrum_id  \\\n",
       "21257  ILDLEHLLDR/3  controllerType=0 controllerNumber=1 scan=15030   \n",
       "15724   FANSEVEVK/2   controllerType=0 controllerNumber=1 scan=7109   \n",
       "11062   FANSEVEVK/2   controllerType=0 controllerNumber=1 scan=7109   \n",
       "12911   FANSEVEVK/2   controllerType=0 controllerNumber=1 scan=7109   \n",
       "3966    FANSEVEVK/2   controllerType=0 controllerNumber=1 scan=7109   \n",
       "7161    FANSEVEVK/2   controllerType=0 controllerNumber=1 scan=7109   \n",
       "494     FANSEVEVK/2   controllerType=0 controllerNumber=1 scan=7109   \n",
       "\n",
       "           score  precursor_mz  \\\n",
       "21257  -0.487639    412.902025   \n",
       "15724  94.000000    511.761536   \n",
       "11062   0.999843    511.761536   \n",
       "12911   0.999915    511.761536   \n",
       "3966   -0.035272    511.761536   \n",
       "7161    1.000000    511.761536   \n",
       "494     0.989041    511.761536   \n",
       "\n",
       "                                                metadata         source  \\\n",
       "21257                                                 {}           sage   \n",
       "15724  {'scans': '7109', 'err(data-denovo)': '0.0005'...          Novor   \n",
       "11062  {'aa_scores': '0.99998,0.99996,0.99989,0.99996...     ContraNovo   \n",
       "12911              {'ppm_error': '0.0', 'scans': '7109'}          NovoB   \n",
       "3966                                   {'scans': '7109'}      InstaNovo   \n",
       "7161   {'positional_scores': '[0.9999995, 0.99999714,...         PepNet   \n",
       "494    {'aa_scores': '0.98976,0.99000,0.98625,0.98982...  Casanovo4.2.0   \n",
       "\n",
       "       spectralis_score                                      evidence  \n",
       "21257         -0.049631  <__main__.Evidence object at 0x7f3c6bb86d90>  \n",
       "15724         -0.043880  <__main__.Evidence object at 0x7f3c6da7e390>  \n",
       "11062         -0.043880  <__main__.Evidence object at 0x7f3c6f5da8d0>  \n",
       "12911         -0.043880  <__main__.Evidence object at 0x7f3c6eab0c10>  \n",
       "3966          -0.043880  <__main__.Evidence object at 0x7f3c71d3e450>  \n",
       "7161          -0.043880  <__main__.Evidence object at 0x7f3c70a2eb50>  \n",
       "494           -0.043880  <__main__.Evidence object at 0x7f3c766ab710>  "
      ]
     },
     "execution_count": 165,
     "metadata": {},
     "output_type": "execute_result"
    }
   ],
   "source": [
    "selection = fraction1.sort_values(\"spectralis_score\").tail(7)[[\n",
    "    \"peptidoform\",\n",
    "    \"spectrum_id\",\n",
    "    \"score\",\n",
    "    \"precursor_mz\",\n",
    "    \"metadata\",\n",
    "    \"source\",\n",
    "    \"spectralis_score\",\n",
    "    \"evidence\"\n",
    "]]\n",
    "selection"
   ]
  },
  {
   "cell_type": "code",
   "execution_count": null,
   "metadata": {},
   "outputs": [],
   "source": [
    "fraction1[fraction1.spectrum_id==\"\"]"
   ]
  },
  {
   "cell_type": "code",
   "execution_count": 167,
   "metadata": {},
   "outputs": [
    {
     "data": {
      "text/plain": [
       "[{'evidence': True,\n",
       "  'evidence_types': {'b': True, 'b2': False, 'y': True, 'y2': False},\n",
       "  'cleavage_site_residues': [('F', None), ('A', None)],\n",
       "  'cleavage_site_indices': [0, 1]},\n",
       " {'evidence': True,\n",
       "  'evidence_types': {'b': True, 'b2': True, 'y': True, 'y2': False},\n",
       "  'cleavage_site_residues': [('A', None), ('N', None)],\n",
       "  'cleavage_site_indices': [1, 2]},\n",
       " {'evidence': True,\n",
       "  'evidence_types': {'b': True, 'b2': False, 'y': True, 'y2': False},\n",
       "  'cleavage_site_residues': [('N', None), ('S', None)],\n",
       "  'cleavage_site_indices': [2, 3]},\n",
       " {'evidence': True,\n",
       "  'evidence_types': {'b': True, 'b2': False, 'y': True, 'y2': False},\n",
       "  'cleavage_site_residues': [('S', None), ('E', None)],\n",
       "  'cleavage_site_indices': [3, 4]},\n",
       " {'evidence': True,\n",
       "  'evidence_types': {'b': True, 'b2': False, 'y': True, 'y2': False},\n",
       "  'cleavage_site_residues': [('E', None), ('V', None)],\n",
       "  'cleavage_site_indices': [4, 5]},\n",
       " {'evidence': True,\n",
       "  'evidence_types': {'b': False, 'b2': False, 'y': True, 'y2': False},\n",
       "  'cleavage_site_residues': [('V', None), ('E', None)],\n",
       "  'cleavage_site_indices': [5, 6]},\n",
       " {'evidence': True,\n",
       "  'evidence_types': {'b': False, 'b2': False, 'y': True, 'y2': False},\n",
       "  'cleavage_site_residues': [('E', None), ('V', None)],\n",
       "  'cleavage_site_indices': [6, 7]},\n",
       " {'evidence': True,\n",
       "  'evidence_types': {'b': False, 'b2': False, 'y': True, 'y2': True},\n",
       "  'cleavage_site_residues': [('V', None), ('K', None)],\n",
       "  'cleavage_site_indices': [7, 8]}]"
      ]
     },
     "execution_count": 167,
     "metadata": {},
     "output_type": "execute_result"
    }
   ],
   "source": [
    "selection.iloc[-1,-1].evidence"
   ]
  },
  {
   "cell_type": "code",
   "execution_count": 111,
   "metadata": {},
   "outputs": [],
   "source": [
    "from denovo_utils.analysis.visualization import plot_spectrum"
   ]
  },
  {
   "cell_type": "code",
   "execution_count": 115,
   "metadata": {},
   "outputs": [
    {
     "data": {
      "text/plain": [
       "'GLAKQM[UNIMOD:35]R/2'"
      ]
     },
     "execution_count": 115,
     "metadata": {},
     "output_type": "execute_result"
    }
   ],
   "source": [
    "ev.peptide"
   ]
  },
  {
   "cell_type": "code",
   "execution_count": 123,
   "metadata": {},
   "outputs": [],
   "source": [
    "spec = plot_spectrum(\n",
    "    mgf_path=mgf_path,\n",
    "    spectrum_id=ev.processing_result.psm.spectrum_id,\n",
    "    peptide=\"GLAKQDM[Oxidation]R/2\",\n",
    "    fragment_tol_mass=50,\n",
    "    fragment_tol_mode=\"ppm\",\n",
    "    plot=False\n",
    ")"
   ]
  },
  {
   "cell_type": "code",
   "execution_count": 143,
   "metadata": {},
   "outputs": [
    {
     "data": {
      "text/plain": [
       "[{'evidence': False,\n",
       "  'evidence_types': {'b': False, 'b2': False, 'y': False, 'y2': False},\n",
       "  'cleavage_site_residues': [('G', None), ('L', None)],\n",
       "  'cleavage_site_indices': [0, 1]},\n",
       " {'evidence': True,\n",
       "  'evidence_types': {'b': True, 'b2': False, 'y': False, 'y2': True},\n",
       "  'cleavage_site_residues': [('L', None), ('A', None)],\n",
       "  'cleavage_site_indices': [1, 2]},\n",
       " {'evidence': True,\n",
       "  'evidence_types': {'b': True, 'b2': False, 'y': False, 'y2': False},\n",
       "  'cleavage_site_residues': [('A', None), ('K', None)],\n",
       "  'cleavage_site_indices': [2, 3]},\n",
       " {'evidence': True,\n",
       "  'evidence_types': {'b': True, 'b2': False, 'y': False, 'y2': False},\n",
       "  'cleavage_site_residues': [('K', None), ('Q', None)],\n",
       "  'cleavage_site_indices': [3, 4]},\n",
       " {'evidence': True,\n",
       "  'evidence_types': {'b': True, 'b2': False, 'y': False, 'y2': False},\n",
       "  'cleavage_site_residues': [('Q', None),\n",
       "   ('M', [UnimodModification('35', None, None)])],\n",
       "  'cleavage_site_indices': [4, 5]},\n",
       " {'evidence': True,\n",
       "  'evidence_types': {'b': False, 'b2': True, 'y': True, 'y2': False},\n",
       "  'cleavage_site_residues': [('M', [UnimodModification('35', None, None)]),\n",
       "   ('R', None)],\n",
       "  'cleavage_site_indices': [5, 6]}]"
      ]
     },
     "execution_count": 143,
     "metadata": {},
     "output_type": "execute_result"
    }
   ],
   "source": [
    "ev.evidence"
   ]
  },
  {
   "cell_type": "code",
   "execution_count": 156,
   "metadata": {},
   "outputs": [
    {
     "data": {
      "text/plain": [
       "<Axes: xlabel='m/z', ylabel='Intensity'>"
      ]
     },
     "execution_count": 156,
     "metadata": {},
     "output_type": "execute_result"
    },
    {
     "data": {
      "image/png": "[encoded data removed]",
      "text/plain": [
       "<Figure size 640x480 with 1 Axes>"
      ]
     },
     "metadata": {},
     "output_type": "display_data"
    }
   ],
   "source": [
    "sup.spectrum(spec.annotate_proforma(\n",
    "    proforma_str=\"GLAKQM[Oxidation]R/2\",\n",
    "    fragment_tol_mass=.02,\n",
    "    fragment_tol_mode=\"Da\",\n",
    "    max_ion_charge=2\n",
    "))"
   ]
  },
  {
   "cell_type": "code",
   "execution_count": 154,
   "metadata": {},
   "outputs": [
    {
     "data": {
      "text/plain": [
       "array([?, ?, ?, ?, ?, ?, ?, ?, ?, ?, ?, ?, ?, ?, ?, ?, ?, ?, ?, ?, ?, ?,\n",
       "       ?, ?, ?, ?, ?, ?, ?, ?, ?, ?, ?, ?, ?, ?, ?, ?, ?, ?, ?, ?, ?, ?,\n",
       "       ?, ?, ?, ?, ?, ?, ?, ?, ?, ?, ?, ?, ?, ?, ?, ?, ?, ?, ?, ?, ?, ?,\n",
       "       ?, ?, ?, ?, ?, ?, ?, ?, ?, ?, ?, ?, ?, ?, ?, ?, ?, ?, ?, ?, ?, ?,\n",
       "       ?, ?, ?, ?, ?, ?, b2/-0.00029, ?, ?, ?, ?, y1/-0.00015, ?, ?, ?, ?,\n",
       "       ?, ?, ?, ?, ?, ?, ?, ?, ?, ?, ?, ?, ?, ?, ?, ?, ?, ?, ?, ?, ?, ?,\n",
       "       ?, ?, ?, ?, ?, ?, ?, ?, ?, ?, ?, ?, ?, ?, ?, ?, ?, ?, ?, ?, ?, ?,\n",
       "       ?, ?, ?, ?, ?, ?, ?, ?, ?, ?, ?, ?, b3/-8e-05, ?, ?, ?, ?, ?, ?, ?,\n",
       "       ?, ?, ?, ?, ?, ?, ?, ?, ?, ?, ?, ?, ?, ?, ?, ?, ?, ?, ?, ?, ?, ?,\n",
       "       ?, ?, ?, ?, ?, ?, ?, ?, ?, ?, ?, ?, ?, ?, ?, ?, ?, ?, ?, ?, ?, ?,\n",
       "       ?, ?, ?, ?, ?, ?, ?, b6^2/0.01474, y5^2/0.01218, ?, ?, ?, ?, ?, ?,\n",
       "       ?, ?, ?, ?, ?, b4/0.0017, ?, ?, ?, ?, ?, ?, ?, ?, ?, ?, ?, ?, ?, ?,\n",
       "       ?, ?, ?, ?, ?, ?, ?, ?, ?, ?, ?, ?, ?, ?, ?, ?, b5/-0.00188, ?, ?,\n",
       "       ?, ?, ?, ?, ?, ?, ?], dtype=object)"
      ]
     },
     "execution_count": 154,
     "metadata": {},
     "output_type": "execute_result"
    }
   ],
   "source": [
    "spec.annotation"
   ]
  },
  {
   "cell_type": "code",
   "execution_count": null,
   "metadata": {},
   "outputs": [
    {
     "data": {
      "text/plain": [
       "{'[UNIMOD:1]': Composition({'H': 2, 'C': 2, 'O': 1}),\n",
       " '[UNIMOD:4]': Composition({'H': 3, 'C': 2, 'N': 1, 'O': 1}),\n",
       " '[UNIMOD:5]': Composition({'H': 1, 'C': 1, 'N': 1, 'O': 1}),\n",
       " '[UNIMOD:7]': Composition({'H': -1, 'N': -1, 'O': 1}),\n",
       " '[UNIMOD:21]': Composition({'H': 1, 'O': 3, 'P': 1}),\n",
       " '[UNIMOD:23]': Composition({'H': -2, 'O': -1}),\n",
       " '[UNIMOD:35]': Composition({'O': 1}),\n",
       " '[UNIMOD:385]': Composition({'H': -3, 'N': -1}),\n",
       " '[+25.980265]': Composition({'H': 4, 'C': 1, 'N': 2, 'O': 1})}"
      ]
     },
     "metadata": {},
     "output_type": "display_data"
    }
   ],
   "source": [
    "UNIMOD_MOD_COMP"
   ]
  },
  {
   "cell_type": "code",
   "execution_count": 3,
   "metadata": {},
   "outputs": [
    {
     "data": {
      "text/plain": [
       "<Axes: xlabel='spectralis_score', ylabel='Density'>"
      ]
     },
     "execution_count": 3,
     "metadata": {},
     "output_type": "execute_result"
    },
    {
     "data": {
      "image/png": "[encoded data removed]",
      "text/plain": [
       "<Figure size 640x480 with 1 Axes>"
      ]
     },
     "metadata": {},
     "output_type": "display_data"
    }
   ],
   "source": [
    "fraction1 = pd.read_csv(\n",
    "    \"/home/samva/Doctorate/data_directory/denovo_project/denovo_results/psmlists/df/F01_Fraction1.csv\"\n",
    ")\n",
    "\n",
    "sns.kdeplot(\n",
    "    fraction1,\n",
    "    x=\"spectralis_score\",\n",
    "    hue=\"source\",\n",
    "    common_norm=False\n",
    ")"
   ]
  },
  {
   "cell_type": "code",
   "execution_count": 19,
   "metadata": {},
   "outputs": [],
   "source": [
    "from pyteomics import mass"
   ]
  },
  {
   "cell_type": "code",
   "execution_count": 20,
   "metadata": {},
   "outputs": [
    {
     "data": {
      "text/plain": [
       "448.65344999568504"
      ]
     },
     "execution_count": 20,
     "metadata": {},
     "output_type": "execute_result"
    }
   ],
   "source": [
    "db = mass.Unimod()\n",
    "\n",
    "mass.std_aa_comp[\"c\"] = db.by_id(4)[\"composition\"]\n",
    "\n",
    "mass.calculate_mass(\"SSCcNDCcR\", aa_comp=dict(mass.std_aa_comp))/2"
   ]
  },
  {
   "cell_type": "code",
   "execution_count": 32,
   "metadata": {},
   "outputs": [],
   "source": [
    "UNIMOD_LIST = [\n",
    "    \"[UNIMOD:1]\",\n",
    "    \"[UNIMOD:4]\",\n",
    "    \"[UNIMOD:5]\",\n",
    "    \"[UNIMOD:7]\",\n",
    "    \"[UNIMOD:21]\",\n",
    "    \"[UNIMOD:23]\",\n",
    "    \"[UNIMOD:35]\",\n",
    "    \"[UNIMOD:385]\",\n",
    "]"
   ]
  },
  {
   "cell_type": "code",
   "execution_count": 39,
   "metadata": {},
   "outputs": [],
   "source": [
    "import re\n",
    "\n",
    "pattern = r'\\[UNIMOD:(\\d+)\\]'\n",
    "db = mass.Unimod()\n",
    "\n",
    "unimod_comp = {}\n",
    "\n",
    "for unimod_label in UNIMOD_LIST:\n",
    "    composition = db.by_id(re.findall(pattern, unimod_label)[0])[\"composition\"]\n",
    "\n",
    "    unimod_comp[unimod_label] = composition\n",
    "\n",
    "unimod_comp[\"[+25.980265]\"] = unimod_comp[\"[UNIMOD:5]\"]-unimod_comp[\"[UNIMOD:385]\"]"
   ]
  },
  {
   "cell_type": "code",
   "execution_count": 42,
   "metadata": {},
   "outputs": [
    {
     "data": {
      "text/plain": [
       "{'[UNIMOD:1]': Composition({'H': 2, 'C': 2, 'O': 1}),\n",
       " '[UNIMOD:4]': Composition({'H': 3, 'C': 2, 'N': 1, 'O': 1}),\n",
       " '[UNIMOD:5]': Composition({'H': 1, 'C': 1, 'N': 1, 'O': 1}),\n",
       " '[UNIMOD:7]': Composition({'H': -1, 'N': -1, 'O': 1}),\n",
       " '[UNIMOD:21]': Composition({'H': 1, 'O': 3, 'P': 1}),\n",
       " '[UNIMOD:23]': Composition({'H': -2, 'O': -1}),\n",
       " '[UNIMOD:35]': Composition({'O': 1}),\n",
       " '[UNIMOD:385]': Composition({'H': -3, 'N': -1}),\n",
       " '[+25.980265]': Composition({'H': 4, 'C': 1, 'N': 2, 'O': 1})}"
      ]
     },
     "execution_count": 42,
     "metadata": {},
     "output_type": "execute_result"
    }
   ],
   "source": [
    "unimod_comp"
   ]
  },
  {
   "cell_type": "code",
   "execution_count": 22,
   "metadata": {},
   "outputs": [],
   "source": [
    "comp = dict(mass.std_aa_comp)"
   ]
  },
  {
   "cell_type": "code",
   "execution_count": 23,
   "metadata": {},
   "outputs": [],
   "source": [
    "comp[\"[UNIMOD:4]\"] = db.by_id(4)[\"composition\"]"
   ]
  },
  {
   "cell_type": "code",
   "execution_count": 26,
   "metadata": {},
   "outputs": [
    {
     "data": {
      "text/plain": [
       "{'A': Composition({'H': 5, 'C': 3, 'O': 1, 'N': 1}),\n",
       " 'C': Composition({'H': 5, 'C': 3, 'S': 1, 'O': 1, 'N': 1}),\n",
       " 'D': Composition({'H': 5, 'C': 4, 'O': 3, 'N': 1}),\n",
       " 'E': Composition({'H': 7, 'C': 5, 'O': 3, 'N': 1}),\n",
       " 'F': Composition({'H': 9, 'C': 9, 'O': 1, 'N': 1}),\n",
       " 'G': Composition({'H': 3, 'C': 2, 'O': 1, 'N': 1}),\n",
       " 'H': Composition({'H': 7, 'C': 6, 'N': 3, 'O': 1}),\n",
       " 'I': Composition({'H': 11, 'C': 6, 'O': 1, 'N': 1}),\n",
       " 'J': Composition({'H': 11, 'C': 6, 'O': 1, 'N': 1}),\n",
       " 'K': Composition({'H': 12, 'C': 6, 'N': 2, 'O': 1}),\n",
       " 'L': Composition({'H': 11, 'C': 6, 'O': 1, 'N': 1}),\n",
       " 'M': Composition({'H': 9, 'C': 5, 'S': 1, 'O': 1, 'N': 1}),\n",
       " 'N': Composition({'H': 6, 'C': 4, 'O': 2, 'N': 2}),\n",
       " 'P': Composition({'H': 7, 'C': 5, 'O': 1, 'N': 1}),\n",
       " 'Q': Composition({'H': 8, 'C': 5, 'O': 2, 'N': 2}),\n",
       " 'R': Composition({'H': 12, 'C': 6, 'N': 4, 'O': 1}),\n",
       " 'S': Composition({'H': 5, 'C': 3, 'O': 2, 'N': 1}),\n",
       " 'T': Composition({'H': 7, 'C': 4, 'O': 2, 'N': 1}),\n",
       " 'V': Composition({'H': 9, 'C': 5, 'O': 1, 'N': 1}),\n",
       " 'W': Composition({'C': 11, 'H': 10, 'N': 2, 'O': 1}),\n",
       " 'Y': Composition({'H': 9, 'C': 9, 'O': 2, 'N': 1}),\n",
       " 'U': Composition({'H': 5, 'C': 3, 'O': 1, 'N': 1, 'Se': 1}),\n",
       " 'O': Composition({'H': 19, 'C': 12, 'O': 2, 'N': 3}),\n",
       " 'H-': Composition({'H': 1}),\n",
       " '-OH': Composition({'O': 1, 'H': 1}),\n",
       " 'c': Composition({'H': 3, 'C': 2, 'N': 1, 'O': 1}),\n",
       " '[UNIMOD:4]': Composition({'H': 3, 'C': 2, 'N': 1, 'O': 1})}"
      ]
     },
     "execution_count": 26,
     "metadata": {},
     "output_type": "execute_result"
    }
   ],
   "source": [
    "comp"
   ]
  },
  {
   "cell_type": "code",
   "execution_count": 25,
   "metadata": {},
   "outputs": [
    {
     "ename": "PyteomicsError",
     "evalue": "Pyteomics error, message: 'Could not create a Composition object from string: \"SSC[UNIMOD:4]NDCcR\": not a valid sequence or formula'",
     "output_type": "error",
     "traceback": [
      "\u001b[0;31m---------------------------------------------------------------------------\u001b[0m",
      "\u001b[0;31mPyteomicsError\u001b[0m                            Traceback (most recent call last)",
      "File \u001b[0;32m~/miniconda3/envs/denovo_analysis_env/lib/python3.11/site-packages/pyteomics/mass/mass.py:300\u001b[0m, in \u001b[0;36mComposition.__init__\u001b[0;34m(self, *args, **kwargs)\u001b[0m\n\u001b[1;32m    299\u001b[0m \u001b[38;5;28;01mtry\u001b[39;00m:\n\u001b[0;32m--> 300\u001b[0m     \u001b[38;5;28;43mself\u001b[39;49m\u001b[38;5;241;43m.\u001b[39;49m\u001b[43m_from_sequence\u001b[49m\u001b[43m(\u001b[49m\u001b[43margs\u001b[49m\u001b[43m[\u001b[49m\u001b[38;5;241;43m0\u001b[39;49m\u001b[43m]\u001b[49m\u001b[43m,\u001b[49m\u001b[43m \u001b[49m\u001b[43maa_comp\u001b[49m\u001b[43m)\u001b[49m\n\u001b[1;32m    301\u001b[0m \u001b[38;5;28;01mexcept\u001b[39;00m PyteomicsError:\n",
      "File \u001b[0;32m~/miniconda3/envs/denovo_analysis_env/lib/python3.11/site-packages/pyteomics/mass/mass.py:203\u001b[0m, in \u001b[0;36mComposition._from_sequence\u001b[0;34m(self, sequence, aa_comp)\u001b[0m\n\u001b[1;32m    202\u001b[0m \u001b[38;5;28;01mdef\u001b[39;00m \u001b[38;5;21m_from_sequence\u001b[39m(\u001b[38;5;28mself\u001b[39m, sequence, aa_comp):\n\u001b[0;32m--> 203\u001b[0m     parsed_sequence \u001b[38;5;241m=\u001b[39m \u001b[43mparser\u001b[49m\u001b[38;5;241;43m.\u001b[39;49m\u001b[43mparse\u001b[49m\u001b[43m(\u001b[49m\n\u001b[1;32m    204\u001b[0m \u001b[43m        \u001b[49m\u001b[43msequence\u001b[49m\u001b[43m,\u001b[49m\n\u001b[1;32m    205\u001b[0m \u001b[43m        \u001b[49m\u001b[43mlabels\u001b[49m\u001b[38;5;241;43m=\u001b[39;49m\u001b[43maa_comp\u001b[49m\u001b[43m,\u001b[49m\n\u001b[1;32m    206\u001b[0m \u001b[43m        \u001b[49m\u001b[43mshow_unmodified_termini\u001b[49m\u001b[38;5;241;43m=\u001b[39;49m\u001b[38;5;28;43;01mTrue\u001b[39;49;00m\u001b[43m)\u001b[49m\n\u001b[1;32m    207\u001b[0m     \u001b[38;5;28mself\u001b[39m\u001b[38;5;241m.\u001b[39m_from_parsed_sequence(parsed_sequence, aa_comp)\n",
      "File \u001b[0;32m~/miniconda3/envs/denovo_analysis_env/lib/python3.11/site-packages/pyteomics/parser.py:356\u001b[0m, in \u001b[0;36mparse\u001b[0;34m(sequence, show_unmodified_termini, split, allow_unknown_modifications, **kwargs)\u001b[0m\n\u001b[1;32m    353\u001b[0m         \u001b[38;5;28;01mif\u001b[39;00m ((\u001b[38;5;129;01mnot\u001b[39;00m mod) \u001b[38;5;129;01mand\u001b[39;00m X \u001b[38;5;129;01mnot\u001b[39;00m \u001b[38;5;129;01min\u001b[39;00m labels) \u001b[38;5;129;01mor\u001b[39;00m \u001b[38;5;129;01mnot\u001b[39;00m ((mod \u001b[38;5;241m+\u001b[39m X \u001b[38;5;129;01min\u001b[39;00m labels) \u001b[38;5;129;01mor\u001b[39;00m (\n\u001b[1;32m    354\u001b[0m             X \u001b[38;5;129;01min\u001b[39;00m labels \u001b[38;5;129;01mand\u001b[39;00m (\n\u001b[1;32m    355\u001b[0m                 mod \u001b[38;5;129;01min\u001b[39;00m labels \u001b[38;5;129;01mor\u001b[39;00m allow_unknown_modifications))):\n\u001b[0;32m--> 356\u001b[0m             \u001b[38;5;28;01mraise\u001b[39;00m PyteomicsError(\u001b[38;5;124m'\u001b[39m\u001b[38;5;124mUnknown label: \u001b[39m\u001b[38;5;132;01m{}\u001b[39;00m\u001b[38;5;124m'\u001b[39m\u001b[38;5;241m.\u001b[39mformat(group))\n\u001b[1;32m    358\u001b[0m \u001b[38;5;66;03m# Append terminal labels\u001b[39;00m\n",
      "\u001b[0;31mPyteomicsError\u001b[0m: Pyteomics error, message: 'Unknown label: [U'",
      "\nDuring handling of the above exception, another exception occurred:\n",
      "\u001b[0;31mPyteomicsError\u001b[0m                            Traceback (most recent call last)",
      "File \u001b[0;32m~/miniconda3/envs/denovo_analysis_env/lib/python3.11/site-packages/pyteomics/mass/mass.py:303\u001b[0m, in \u001b[0;36mComposition.__init__\u001b[0;34m(self, *args, **kwargs)\u001b[0m\n\u001b[1;32m    302\u001b[0m \u001b[38;5;28;01mtry\u001b[39;00m:\n\u001b[0;32m--> 303\u001b[0m     \u001b[38;5;28;43mself\u001b[39;49m\u001b[38;5;241;43m.\u001b[39;49m\u001b[43m_from_formula\u001b[49m\u001b[43m(\u001b[49m\u001b[43margs\u001b[49m\u001b[43m[\u001b[49m\u001b[38;5;241;43m0\u001b[39;49m\u001b[43m]\u001b[49m\u001b[43m)\u001b[49m\n\u001b[1;32m    304\u001b[0m \u001b[38;5;28;01mexcept\u001b[39;00m PyteomicsError:\n",
      "File \u001b[0;32m~/miniconda3/envs/denovo_analysis_env/lib/python3.11/site-packages/pyteomics/mass/mass.py:211\u001b[0m, in \u001b[0;36mComposition._from_formula\u001b[0;34m(self, formula)\u001b[0m\n\u001b[1;32m    210\u001b[0m \u001b[38;5;28;01mif\u001b[39;00m \u001b[38;5;129;01mnot\u001b[39;00m re\u001b[38;5;241m.\u001b[39mmatch(_formula, formula):\n\u001b[0;32m--> 211\u001b[0m     \u001b[38;5;28;01mraise\u001b[39;00m PyteomicsError(\u001b[38;5;124m'\u001b[39m\u001b[38;5;124mInvalid formula: \u001b[39m\u001b[38;5;124m'\u001b[39m \u001b[38;5;241m+\u001b[39m formula)\n\u001b[1;32m    212\u001b[0m \u001b[38;5;28;01mfor\u001b[39;00m elem, isotope, number \u001b[38;5;129;01min\u001b[39;00m re\u001b[38;5;241m.\u001b[39mfindall(_atom, formula):\n",
      "\u001b[0;31mPyteomicsError\u001b[0m: Pyteomics error, message: 'Invalid formula: SSC[UNIMOD:4]NDCcR'",
      "\nDuring handling of the above exception, another exception occurred:\n",
      "\u001b[0;31mPyteomicsError\u001b[0m                            Traceback (most recent call last)",
      "Cell \u001b[0;32mIn[25], line 1\u001b[0m\n\u001b[0;32m----> 1\u001b[0m \u001b[43mmass\u001b[49m\u001b[38;5;241;43m.\u001b[39;49m\u001b[43mcalculate_mass\u001b[49m\u001b[43m(\u001b[49m\n\u001b[1;32m      2\u001b[0m \u001b[43m    \u001b[49m\u001b[38;5;124;43m\"\u001b[39;49m\u001b[38;5;124;43mSSC[UNIMOD:4]NDCcR\u001b[39;49m\u001b[38;5;124;43m\"\u001b[39;49m\u001b[43m,\u001b[49m\n\u001b[1;32m      3\u001b[0m \u001b[43m    \u001b[49m\u001b[43maa_comp\u001b[49m\u001b[38;5;241;43m=\u001b[39;49m\u001b[43mcomp\u001b[49m\n\u001b[1;32m      4\u001b[0m \u001b[43m)\u001b[49m\n",
      "File \u001b[0;32m~/miniconda3/envs/denovo_analysis_env/lib/python3.11/site-packages/pyteomics/mass/mass.py:633\u001b[0m, in \u001b[0;36mcalculate_mass\u001b[0;34m(*args, **kwargs)\u001b[0m\n\u001b[1;32m    631\u001b[0m         mass_kw[k] \u001b[38;5;241m=\u001b[39m kwargs\u001b[38;5;241m.\u001b[39mpop(k)\n\u001b[1;32m    632\u001b[0m \u001b[38;5;66;03m# Make a copy of `composition` keyword argument.\u001b[39;00m\n\u001b[0;32m--> 633\u001b[0m composition \u001b[38;5;241m=\u001b[39m (Composition(kwargs[\u001b[38;5;124m'\u001b[39m\u001b[38;5;124mcomposition\u001b[39m\u001b[38;5;124m'\u001b[39m]) \u001b[38;5;28;01mif\u001b[39;00m \u001b[38;5;124m'\u001b[39m\u001b[38;5;124mcomposition\u001b[39m\u001b[38;5;124m'\u001b[39m \u001b[38;5;129;01min\u001b[39;00m kwargs \u001b[38;5;28;01melse\u001b[39;00m \u001b[43mComposition\u001b[49m\u001b[43m(\u001b[49m\u001b[38;5;241;43m*\u001b[39;49m\u001b[43margs\u001b[49m\u001b[43m,\u001b[49m\u001b[43m \u001b[49m\u001b[38;5;241;43m*\u001b[39;49m\u001b[38;5;241;43m*\u001b[39;49m\u001b[43mkwargs\u001b[49m\u001b[43m)\u001b[49m)\n\u001b[1;32m    634\u001b[0m kwargs\u001b[38;5;241m.\u001b[39mupdate(mass_kw)\n\u001b[1;32m    635\u001b[0m \u001b[38;5;28;01mreturn\u001b[39;00m composition\u001b[38;5;241m.\u001b[39mmass(\u001b[38;5;241m*\u001b[39m\u001b[38;5;241m*\u001b[39mkwargs)\n",
      "File \u001b[0;32m~/miniconda3/envs/denovo_analysis_env/lib/python3.11/site-packages/pyteomics/mass/mass.py:305\u001b[0m, in \u001b[0;36mComposition.__init__\u001b[0;34m(self, *args, **kwargs)\u001b[0m\n\u001b[1;32m    303\u001b[0m             \u001b[38;5;28mself\u001b[39m\u001b[38;5;241m.\u001b[39m_from_formula(args[\u001b[38;5;241m0\u001b[39m])\n\u001b[1;32m    304\u001b[0m         \u001b[38;5;28;01mexcept\u001b[39;00m PyteomicsError:\n\u001b[0;32m--> 305\u001b[0m             \u001b[38;5;28;01mraise\u001b[39;00m PyteomicsError(\n\u001b[1;32m    306\u001b[0m                     \u001b[38;5;124m'\u001b[39m\u001b[38;5;124mCould not create a Composition object from \u001b[39m\u001b[38;5;124m'\u001b[39m\n\u001b[1;32m    307\u001b[0m                     \u001b[38;5;124m'\u001b[39m\u001b[38;5;124mstring: \u001b[39m\u001b[38;5;124m\"\u001b[39m\u001b[38;5;132;01m{}\u001b[39;00m\u001b[38;5;124m\"\u001b[39m\u001b[38;5;124m: not a valid sequence or \u001b[39m\u001b[38;5;124m'\u001b[39m\n\u001b[1;32m    308\u001b[0m                     \u001b[38;5;124m'\u001b[39m\u001b[38;5;124mformula\u001b[39m\u001b[38;5;124m'\u001b[39m\u001b[38;5;241m.\u001b[39mformat(args[\u001b[38;5;241m0\u001b[39m]))\n\u001b[1;32m    309\u001b[0m \u001b[38;5;28;01melse\u001b[39;00m:\n\u001b[1;32m    310\u001b[0m     \u001b[38;5;28;01mtry\u001b[39;00m:\n",
      "\u001b[0;31mPyteomicsError\u001b[0m: Pyteomics error, message: 'Could not create a Composition object from string: \"SSC[UNIMOD:4]NDCcR\": not a valid sequence or formula'"
     ]
    }
   ],
   "source": [
    "mass.calculate_mass(\n",
    "    \"SSC[UNIMOD:4]NDCcR\",\n",
    "    aa_comp=comp\n",
    ")"
   ]
  },
  {
   "cell_type": "markdown",
   "metadata": {},
   "source": [
    "Parse the spectralis results"
   ]
  },
  {
   "cell_type": "code",
   "execution_count": null,
   "metadata": {},
   "outputs": [],
   "source": [
    "parser_spectralis = SpectralisParser(\n",
    "    mgf_path=mgf_path,\n",
    "    results_dir=results_dir\n",
    ")\n",
    "\n",
    "# Casanovo, instanovo, pepnet, contranovo ran together\n",
    "parser_spectralis.parse(\n",
    "    path_spectralis=os.path.join(\n",
    "        results_dir,\n",
    "        \"refinement/spectralis/pt1\", filename + \"_annotated_rescoring.csv\"\n",
    "    )\n",
    ")\n",
    "\n",
    "# NovoB, Novor, PepNovo+ ran together\n",
    "parser_spectralis.parse(\n",
    "    path_spectralis=os.path.join(\n",
    "        results_dir,\n",
    "        \"refinement/spectralis/pt2\", filename + \"_annotated_rescoring.csv\"\n",
    "    )\n",
    ")\n",
    "\n",
    "# Sage results ran separately\n",
    "parser_spectralis.parse(\n",
    "    path_spectralis=os.path.join(\n",
    "        results_dir,\n",
    "        \"refinement/spectralis/pt3\", filename + \"_annotated_rescoring.csv\"\n",
    "    )\n",
    ")\n",
    "\n",
    "psmlist = parser_spectralis.psmlist\n",
    "len(psmlist[\"run\"])\n",
    "psmlist[\"run\"] = np.array([\"F1_Fraction1\"]*63612)"
   ]
  },
  {
   "cell_type": "markdown",
   "metadata": {},
   "source": [
    "Annotate spectra"
   ]
  },
  {
   "cell_type": "code",
   "execution_count": 8,
   "metadata": {},
   "outputs": [
    {
     "ename": "NameError",
     "evalue": "name 'psmlist' is not defined",
     "output_type": "error",
     "traceback": [
      "\u001b[0;31m---------------------------------------------------------------------------\u001b[0m",
      "\u001b[0;31mNameError\u001b[0m                                 Traceback (most recent call last)",
      "Cell \u001b[0;32mIn[8], line 2\u001b[0m\n\u001b[1;32m      1\u001b[0m processing_result_ch2 \u001b[38;5;241m=\u001b[39m annotate_spectra(\n\u001b[0;32m----> 2\u001b[0m     psms\u001b[38;5;241m=\u001b[39m\u001b[43mpsmlist\u001b[49m,\n\u001b[1;32m      3\u001b[0m     spectrum_file\u001b[38;5;241m=\u001b[39mmgf_path,\n\u001b[1;32m      4\u001b[0m     model\u001b[38;5;241m=\u001b[39m\u001b[38;5;124m\"\u001b[39m\u001b[38;5;124mHCDch2\u001b[39m\u001b[38;5;124m\"\u001b[39m\n\u001b[1;32m      5\u001b[0m )\n",
      "\u001b[0;31mNameError\u001b[0m: name 'psmlist' is not defined"
     ]
    }
   ],
   "source": [
    "processing_result_ch2 = annotate_spectra(\n",
    "    psms=psmlist,\n",
    "    spectrum_file=mgf_path,\n",
    "    model=\"HCDch2\"\n",
    ")"
   ]
  },
  {
   "cell_type": "code",
   "execution_count": 173,
   "metadata": {},
   "outputs": [],
   "source": [
    "pr = [r for r in processing_result_ch2 if (r.psm.spectrum_id==\"controllerType=0 controllerNumber=1 scan=7109\") and (r.psm.source==\"Casanovo4.2.0\")]"
   ]
  },
  {
   "cell_type": "code",
   "execution_count": 119,
   "metadata": {},
   "outputs": [
    {
     "data": {
      "text/plain": [
       "ms2pip.result.ProcessingResult"
      ]
     },
     "execution_count": 119,
     "metadata": {},
     "output_type": "execute_result"
    }
   ],
   "source": [
    "type(pr[0])"
   ]
  },
  {
   "cell_type": "code",
   "execution_count": 159,
   "metadata": {},
   "outputs": [],
   "source": [
    "LOG_NULL = np.float32(np.round(np.log2(.001), 6))"
   ]
  },
  {
   "cell_type": "code",
   "execution_count": 157,
   "metadata": {},
   "outputs": [],
   "source": [
    "pr[0].observed_intensity = {\n",
    "    k: np.array([np.round(i, 6) for i in v], dtype=np.float32) for k, v in pr[0].observed_intensity.items()\n",
    "}"
   ]
  },
  {
   "cell_type": "code",
   "execution_count": 162,
   "metadata": {},
   "outputs": [],
   "source": [
    "observed_bool = {\n",
    "    k: v!=LOG_NULL for k, v in pr[0].observed_intensity.items()\n",
    "}\n"
   ]
  },
  {
   "cell_type": "code",
   "execution_count": 163,
   "metadata": {},
   "outputs": [
    {
     "data": {
      "text/plain": [
       "{'b': array([False, False, False, False, False, False]),\n",
       " 'y': array([ True,  True,  True, False, False, False]),\n",
       " 'b2': array([False, False, False, False, False, False]),\n",
       " 'y2': array([False, False, False, False, False, False])}"
      ]
     },
     "execution_count": 163,
     "metadata": {},
     "output_type": "execute_result"
    }
   ],
   "source": [
    "observed_bool"
   ]
  },
  {
   "cell_type": "code",
   "execution_count": 158,
   "metadata": {},
   "outputs": [
    {
     "data": {
      "text/plain": [
       "{'b': array([-9.965784, -9.965784, -9.965784, -9.965784, -9.965784, -9.965784],\n",
       "       dtype=float32),\n",
       " 'y': array([-5.854562, -3.869024, -4.806206, -9.965784, -9.965784, -9.965784],\n",
       "       dtype=float32),\n",
       " 'b2': array([-9.965784, -9.965784, -9.965784, -9.965784, -9.965784, -9.965784],\n",
       "       dtype=float32),\n",
       " 'y2': array([-9.965784, -9.965784, -9.965784, -9.965784, -9.965784, -9.965784],\n",
       "       dtype=float32)}"
      ]
     },
     "execution_count": 158,
     "metadata": {},
     "output_type": "execute_result"
    }
   ],
   "source": [
    "pr[0].observed_intensity"
   ]
  },
  {
   "cell_type": "code",
   "execution_count": 144,
   "metadata": {},
   "outputs": [
    {
     "data": {
      "text/plain": [
       "numpy.float32"
      ]
     },
     "execution_count": 144,
     "metadata": {},
     "output_type": "execute_result"
    }
   ],
   "source": [
    "type(np.round(\n",
    "    pr[0].observed_intensity[\"b\"][0], 6\n",
    "))"
   ]
  },
  {
   "cell_type": "code",
   "execution_count": 142,
   "metadata": {},
   "outputs": [
    {
     "data": {
      "text/plain": [
       "False"
      ]
     },
     "execution_count": 142,
     "metadata": {},
     "output_type": "execute_result"
    }
   ],
   "source": [
    "np.round(\n",
    "    pr[0].observed_intensity[\"b\"][0], 6\n",
    ") == np.round(np.log2(.001), 6)"
   ]
  },
  {
   "cell_type": "code",
   "execution_count": 105,
   "metadata": {},
   "outputs": [
    {
     "name": "stdout",
     "output_type": "stream",
     "text": [
      "<class 'tuple'> ('S', None)\n",
      "<class 'tuple'> ('S', None)\n",
      "<class 'tuple'> ('C', [UnimodModification('4', None, None)])\n",
      "<class 'tuple'> ('N', None)\n",
      "<class 'tuple'> ('D', None)\n",
      "<class 'tuple'> ('C', [UnimodModification('4', None, None)])\n",
      "<class 'tuple'> ('R', None)\n"
     ]
    }
   ],
   "source": [
    "for aa in pr[0].psm.peptidoform:\n",
    "    print(type(aa), aa)"
   ]
  },
  {
   "cell_type": "code",
   "execution_count": 166,
   "metadata": {},
   "outputs": [],
   "source": [
    "mgf_file = mgf.read(mgf_path)\n",
    "spectrum = mgf_file.get_by_id(\"controllerType=0 controllerNumber=1 scan=7109\")"
   ]
  },
  {
   "cell_type": "code",
   "execution_count": 53,
   "metadata": {},
   "outputs": [
    {
     "name": "stdout",
     "output_type": "stream",
     "text": [
      "dict_keys(['params', 'm/z array', 'intensity array', 'charge array']) dict_keys(['title', 'pepmass', 'rtinseconds', 'charge', 'scans'])\n"
     ]
    }
   ],
   "source": [
    "print(spectrum.keys(), spectrum[\"params\"].keys())"
   ]
  },
  {
   "cell_type": "code",
   "execution_count": 171,
   "metadata": {},
   "outputs": [],
   "source": [
    "spectrum_su1 = sus.MsmsSpectrum(\n",
    "    identifier=spectrum[\"params\"][\"title\"],\n",
    "    precursor_mz=spectrum[\"params\"][\"pepmass\"][0],\n",
    "    precursor_charge=spectrum[\"params\"][\"charge\"][0],\n",
    "    mz=spectrum[\"m/z array\"],\n",
    "    intensity=spectrum[\"intensity array\"],\n",
    "    retention_time=spectrum[\"params\"][\"rtinseconds\"]\n",
    ")\n",
    "spectrum_su2 = sus.MsmsSpectrum(\n",
    "    identifier=spectrum[\"params\"][\"title\"],\n",
    "    precursor_mz=spectrum[\"params\"][\"pepmass\"][0],\n",
    "    precursor_charge=spectrum[\"params\"][\"charge\"][0],\n",
    "    mz=spectrum[\"m/z array\"],\n",
    "    intensity=spectrum[\"intensity array\"],\n",
    "    retention_time=spectrum[\"params\"][\"rtinseconds\"]\n",
    ")\n",
    "\n",
    "spectrum_su1 = spectrum_su1.annotate_proforma(\n",
    "    proforma_str=\"FANSEVEVK\",\n",
    "    fragment_tol_mass=50,\n",
    "    fragment_tol_mode=\"ppm\",\n",
    "    ion_types=\"by\",\n",
    "    max_ion_charge=5\n",
    ")\n",
    "\n",
    "spectrum_su2 = spectrum_su2.annotate_proforma(\n",
    "    proforma_str=\"FANYRSHK\",\n",
    "    fragment_tol_mass=50,\n",
    "    fragment_tol_mode=\"ppm\",\n",
    "    ion_types=\"by\",\n",
    "    max_ion_charge=5\n",
    ")"
   ]
  },
  {
   "cell_type": "code",
   "execution_count": 172,
   "metadata": {},
   "outputs": [
    {
     "data": {
      "text/plain": [
       "<Axes: xlabel='m/z', ylabel='Intensity'>"
      ]
     },
     "execution_count": 172,
     "metadata": {},
     "output_type": "execute_result"
    },
    {
     "data": {
      "image/png": "[encoded data removed]",
      "text/plain": [
       "<Figure size 640x480 with 1 Axes>"
      ]
     },
     "metadata": {},
     "output_type": "display_data"
    }
   ],
   "source": [
    "sup.mirror(spectrum_su1, spectrum_su2)"
   ]
  },
  {
   "cell_type": "code",
   "execution_count": 112,
   "metadata": {},
   "outputs": [],
   "source": [
    "spectrum_su = spectrum_su.annotate_proforma(\n",
    "    proforma_str=\"SSC[UNIMOD:4]NDC[UNIMOD:4]R\",\n",
    "    fragment_tol_mass=50,\n",
    "    fragment_tol_mode=\"ppm\",\n",
    "    ion_types=\"by\",\n",
    "    max_ion_charge=5\n",
    ")"
   ]
  },
  {
   "cell_type": "code",
   "execution_count": 113,
   "metadata": {},
   "outputs": [
    {
     "data": {
      "text/plain": [
       "<Axes: xlabel='m/z', ylabel='Intensity'>"
      ]
     },
     "execution_count": 113,
     "metadata": {},
     "output_type": "execute_result"
    },
    {
     "data": {
      "image/png": "[encoded data removed]",
      "text/plain": [
       "<Figure size 640x480 with 1 Axes>"
      ]
     },
     "metadata": {},
     "output_type": "display_data"
    }
   ],
   "source": [
    "sup.spectrum(\n",
    "    spectrum_su\n",
    ")"
   ]
  },
  {
   "cell_type": "code",
   "execution_count": null,
   "metadata": {},
   "outputs": [],
   "source": [
    "usi = \"mzspec:PXD014834:TCGA-AA-3518-01A-11_W_VU_20120915_A0218_3F_R_FR01:scan:8370\"\n",
    "peptide = \"WNQLQAFWGTGK\"\n",
    "spectrum = sus.MsmsSpectrum.from_usi(usi)\n",
    "spectrum.annotate_proforma(\n",
    "    peptide,\n",
    "    fragment_tol_mass=0.05,\n",
    "    fragment_tol_mode=\"Da\",\n",
    "    ion_types=\"aby\",\n",
    "    max_ion_charge=2,\n",
    "    neutral_losses={\"NH3\": -17.026549, \"H2O\": -18.010565},\n",
    ")\n",
    "\n",
    "fig, ax = plt.subplots(figsize=(12, 6))\n",
    "sup.spectrum(spectrum, annot_fmt=annotate_ion_type, grid=False, ax=ax)\n",
    "ax.set_title(peptide, fontdict={\"fontsize\": \"xx-large\"})\n",
    "ax.spines[\"right\"].set_visible(False)\n",
    "ax.spines[\"top\"].set_visible(False)\n",
    "plt.savefig(\"annot_fmt.png\", dpi=300, bbox_inches=\"tight\", transparent=True)\n",
    "plt.close()"
   ]
  }
 ],
 "metadata": {
  "kernelspec": {
   "display_name": "denovo_analysis_env",
   "language": "python",
   "name": "python3"
  },
  "language_info": {
   "codemirror_mode": {
    "name": "ipython",
    "version": 3
   },
   "file_extension": ".py",
   "mimetype": "text/x-python",
   "name": "python",
   "nbconvert_exporter": "python",
   "pygments_lexer": "ipython3",
   "version": "3.11.9"
  }
 },
 "nbformat": 4,
 "nbformat_minor": 2
}
