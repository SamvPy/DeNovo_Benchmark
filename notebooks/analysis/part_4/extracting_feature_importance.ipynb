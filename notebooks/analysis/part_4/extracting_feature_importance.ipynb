{
 "cells": [
  {
   "cell_type": "markdown",
   "metadata": {},
   "source": [
    "Here we will try to extract the feature importance of the models"
   ]
  },
  {
   "cell_type": "markdown",
   "metadata": {},
   "source": [
    "How do false predictions score compared to ground-truth\n",
    "\n",
    "Is the score higher for the ground-truth?"
   ]
  },
  {
   "cell_type": "code",
   "execution_count": 3,
   "metadata": {},
   "outputs": [
    {
     "name": "stderr",
     "output_type": "stream",
     "text": [
      "TqdmWarning: IProgress not found. Please update jupyter and ipywidgets. See https://ipywidgets.readthedocs.io/en/stable/user_install.html"
     ]
    }
   ],
   "source": [
    "import pandas as pd\n",
    "from casanovo.casanovo import setup_logging, setup_model, ModelRunner\n",
    "import torch.nn as nn\n",
    "import numpy as np\n",
    "from casanovo.denovo.model import Spec2Pep\n",
    "import collections\n",
    "import heapq\n",
    "import logging\n",
    "import warnings\n",
    "from typing import Any, Dict, Iterable, List, Optional, Tuple, Union\n",
    "\n",
    "import depthcharge.masses\n",
    "import einops\n",
    "import torch\n",
    "import numpy as np\n",
    "import lightning.pytorch as pl\n",
    "from torch.utils.tensorboard import SummaryWriter\n",
    "from depthcharge.components import ModelMixin, PeptideDecoder, SpectrumEncoder\n",
    "import seaborn as sns\n",
    "from pathlib import Path\n",
    "from matplotlib import pyplot as plt\n",
    "\n",
    "from captum.attr import IntegratedGradients"
   ]
  },
  {
   "cell_type": "markdown",
   "metadata": {},
   "source": [
    "---"
   ]
  },
  {
   "cell_type": "markdown",
   "metadata": {},
   "source": [
    "Init model"
   ]
  },
  {
   "cell_type": "code",
   "execution_count": 39,
   "metadata": {},
   "outputs": [
    {
     "name": "stderr",
     "output_type": "stream",
     "text": [
      "INFO: Seed set to 454\n",
      "INFO: Seed set to 454\n",
      "INFO: Seed set to 454\n",
      "INFO: Casanovo version 4.2.0\n",
      "INFO: Casanovo version 4.2.0\n",
      "INFO: GPU available: True (cuda), used: True\n",
      "INFO: GPU available: True (cuda), used: True\n",
      "INFO: GPU available: True (cuda), used: True\n",
      "INFO: TPU available: False, using: 0 TPU cores\n",
      "INFO: TPU available: False, using: 0 TPU cores\n",
      "INFO: TPU available: False, using: 0 TPU cores\n",
      "INFO: HPU available: False, using: 0 HPUs\n",
      "INFO: HPU available: False, using: 0 HPUs\n",
      "INFO: HPU available: False, using: 0 HPUs\n",
      "WARNING: UserWarning: Mismatching max_charge parameter in model checkpoint (10) vs config file (8); using the checkpoint.\n",
      "WARNING: UserWarning: Mismatching max_charge parameter in model checkpoint (10) vs config file (8); using the checkpoint.\n",
      "WARNING: UserWarning: Mismatching max_charge parameter in model checkpoint (10) vs config file (8); using the checkpoint.\n",
      "WARNING: UserWarning: Mismatching max_charge parameter in model checkpoint (10) vs config file (8); using the checkpoint.\n",
      "INFO: Reading 1 files...\n",
      "INFO: Reading 1 files...\n",
      "/home/samva/Doctorate/data_directory/denovo_project/mgf_filtered/F01_Fraction1.mgf: 9157spectra [00:01, 5125.85spectra/s] \n",
      "INFO: GPU available: True (cuda), used: True\n",
      "INFO: GPU available: True (cuda), used: True\n",
      "INFO: GPU available: True (cuda), used: True\n",
      "INFO: TPU available: False, using: 0 TPU cores\n",
      "INFO: TPU available: False, using: 0 TPU cores\n",
      "INFO: TPU available: False, using: 0 TPU cores\n",
      "INFO: HPU available: False, using: 0 HPUs\n",
      "INFO: HPU available: False, using: 0 HPUs\n",
      "INFO: HPU available: False, using: 0 HPUs\n"
     ]
    }
   ],
   "source": [
    "path_output = \"\"\n",
    "peak_path = (\n",
    "    Path(\n",
    "        \"/home/samva/Doctorate/data_directory/denovo_project/mgf_filtered/F01_Fraction1.mgf\"\n",
    "    ),\n",
    ")\n",
    "verbosity = \"info\" # Default value\n",
    "path_model = Path(\"/home/samva/Doctorate/data_directory/denovo_project/checkpoints/casanovo/casanovo_massivekb.ckpt\")\n",
    "path_config = Path(\"/home/samva/Doctorate/DeNovo_Benchmark/configs/casanovo/casanovo.yaml\")\n",
    "\n",
    "output = setup_logging(path_output, verbosity)\n",
    "config, model = setup_model(path_model, path_config, output, False)\n",
    "\n",
    "\n",
    "with ModelRunner(config, model) as runner:\n",
    "\n",
    "    runner.initialize_trainer(train=False)\n",
    "    runner.initialize_model(train=False)\n",
    "    model_pt = runner.model\n",
    "    test_index = runner._get_index(peak_path, False, \"\")\n",
    "    runner.initialize_trainer(train=False)\n",
    "    runner.initialize_data_module(test_index=test_index)\n",
    "    runner.loaders.setup(stage=\"test\", annotated=False)\n",
    "\n",
    "    dl = runner.loaders._make_loader(\n",
    "        runner.loaders.test_dataset,\n",
    "        1\n",
    "    )\n",
    "    dtp = []\n",
    "    for x in dl:\n",
    "        dtp.append(x)\n",
    "\n",
    "index_spectra = {p[2][0][1]: i for i, p in enumerate(dtp)}"
   ]
  },
  {
   "cell_type": "code",
   "execution_count": 25,
   "metadata": {},
   "outputs": [],
   "source": [
    "class InterpretableCasanovo(nn.Module):\n",
    "    def __init__(self, model: Spec2Pep):\n",
    "        super().__init__()\n",
    "        self.encoder = model.encoder\n",
    "        self.decoder = model.decoder\n",
    "        self.softmax = model.softmax\n",
    "        self.max_length = model.max_length\n",
    "        self.n_beams = model.n_beams\n",
    "        self.model = model\n",
    "\n",
    "    def forward(self, spectra, precursors, peptide=None, apply_softmax=False):\n",
    "        \n",
    "        memories, mem_masks = self.encoder(spectra)\n",
    "\n",
    "        if peptide is None:\n",
    "            pred, _ = self.decoder(None, precursors, memories, mem_masks)\n",
    "        else:\n",
    "            pred, _ = self.decoder([peptide], precursors, memories, mem_masks)\n",
    "        \n",
    "        if apply_softmax:\n",
    "            pred = self.softmax(pred)\n",
    "        return pred\n",
    "    \n",
    "    def decompose_inputs(self, combined_tensor):\n",
    "        # Find the indices of the padding (inf) markers\n",
    "        padding_indices = (combined_tensor == float('inf')).nonzero(as_tuple=True)[0]\n",
    "        \n",
    "        # Extract each part by splitting at the padding indices\n",
    "        input1_flat = combined_tensor[:padding_indices[0]]\n",
    "        input2_flat = combined_tensor[padding_indices[0]+1:padding_indices[1]]\n",
    "        input3_flat = combined_tensor[padding_indices[1]+1:]\n",
    "        print(combined_tensor.shape, input1_flat.shape, input2_flat.shape, input3_flat.shape)\n",
    "        # Reshape input1 and input2 back to their original dimensions\n",
    "        input1_size = input1_flat.size(0) // 2  # Determine original dynamic size for input1\n",
    "        input2_size = input2_flat.size(0)  # Original size for input2\n",
    "        \n",
    "        spectra = input1_flat.view(1, input1_size, 2)  # Reshape to (1, input1_size, 2)\n",
    "        precursors = input2_flat.view(1, input2_size)  # Reshape to (1, input2_size)\n",
    "        peptide = input3_flat.view(-1)  # Reshape to (13) or whatever size it originally was\n",
    "        \n",
    "        return spectra, precursors, peptide"
   ]
  },
  {
   "cell_type": "code",
   "execution_count": 26,
   "metadata": {},
   "outputs": [],
   "source": [
    "model_pt_interpretable = InterpretableCasanovo(model_pt)"
   ]
  },
  {
   "cell_type": "code",
   "execution_count": 103,
   "metadata": {},
   "outputs": [],
   "source": [
    "from denovo_utils.parsers.constants import MODIFICATION_MAPPING\n",
    "\n",
    "casanovo_mapping = MODIFICATION_MAPPING[\"casanovo\"]\n",
    "\n",
    "def peptidoform_to_casanovo(peptidoform):\n",
    "    proforma = peptidoform.proforma.split(\"/\")[0]\n",
    "    \n",
    "    for casa_mod, uni_mod in casanovo_mapping.items():\n",
    "        proforma = proforma.replace(\n",
    "            uni_mod, casa_mod\n",
    "        )\n",
    "    return proforma\n",
    "\n",
    "def get_prediction(row, dtps, mapping):\n",
    "    \n",
    "    spectrum, precursor, _ = dtps[mapping[row[\"spectra_ref\"]]]\n",
    "    \n",
    "    peptide = peptidoform_to_casanovo(row[\"peptidoform_y\"])\n",
    "\n",
    "    scores = model_pt_interpretable.forward(\n",
    "        spectrum, precursor, peptide=peptide, apply_softmax=True\n",
    "    ).detach().numpy()\n",
    "    scores = scores[0]\n",
    "\n",
    "    tokenized = model_pt_interpretable.decoder.tokenize(peptide).detach().numpy()\n",
    "\n",
    "    score_aa = []\n",
    "    for i, aa_i in enumerate(tokenized):\n",
    "        score_aa.append(scores[i][aa_i])\n",
    "    \n",
    "    return score_aa, np.mean(score_aa)"
   ]
  },
  {
   "cell_type": "code",
   "execution_count": 58,
   "metadata": {},
   "outputs": [],
   "source": [
    "row = casanovo_merged_df.loc[0,:]"
   ]
  },
  {
   "cell_type": "code",
   "execution_count": 82,
   "metadata": {},
   "outputs": [],
   "source": [
    "aa, pep_score = get_prediction(\n",
    "    row=row,\n",
    "    dtps=dtp,\n",
    "    mapping=index_spectra\n",
    ")"
   ]
  },
  {
   "cell_type": "markdown",
   "metadata": {},
   "source": [
    "---"
   ]
  },
  {
   "cell_type": "code",
   "execution_count": 10,
   "metadata": {},
   "outputs": [
    {
     "name": "stderr",
     "output_type": "stream",
     "text": [
      "100%|██████████| 9045/9045 [00:00<00:00, 49193.81it/s]\n"
     ]
    }
   ],
   "source": [
    "from denovo_utils.parsers import DenovoEngineConverter\n",
    "\n",
    "parser = DenovoEngineConverter.select(\"sage\")\n",
    "sage_df = parser.parse(\n",
    "    \"/home/samva/Doctorate/data_directory/denovo_project/denovo_results/sage/F01_Fraction1.sage.tsv\",\n",
    "    \"/home/samva/Doctorate/data_directory/denovo_project/mgf_filtered/F01_Fraction1.mgf\"\n",
    ").to_dataframe()\n",
    "\n",
    "parser = DenovoEngineConverter.select(\"casanovo\")\n",
    "casanovo_df = parser.parse(\n",
    "    \"/home/samva/Doctorate/data_directory/denovo_project/denovo_results/casanovo/F01_Fraction1.mztab\",\n",
    "    \"/home/samva/Doctorate/data_directory/denovo_project/mgf_filtered/F01_Fraction1.mgf\"\n",
    ").to_dataframe()"
   ]
  },
  {
   "cell_type": "code",
   "execution_count": 13,
   "metadata": {},
   "outputs": [],
   "source": [
    "sage_df = sage_df[\n",
    "    (sage_df.qvalue < .01) &\n",
    "    (~sage_df.is_decoy)\n",
    "]\n",
    "spectrum_ids = sage_df.spectrum_id.tolist()\n",
    "\n",
    "casanovo_df = casanovo_df[casanovo_df.spectrum_id.isin(spectrum_ids)]"
   ]
  },
  {
   "cell_type": "code",
   "execution_count": 100,
   "metadata": {},
   "outputs": [],
   "source": [
    "casanovo_df[\"peptide\"] = casanovo_df.peptidoform.apply(lambda x: x.proforma.split(\"/\")[0]\n",
    "                                                       .replace(\"I\", \"L\")\n",
    "                                                       .replace(\"C\", \"C+57.021\")\n",
    "                                                       \n",
    "                                                    )\n",
    "sage_df[\"peptide_ground_truth\"] = sage_df.peptidoform.apply(lambda x: x.sequence.replace(\"I\", \"L\"))\n",
    "\n",
    "casanovo_merged_df = pd.merge(casanovo_df, sage_df.loc[:, [\"spectrum_id\", \"peptide_ground_truth\", \"peptidoform\"]], on=\"spectrum_id\")"
   ]
  },
  {
   "cell_type": "code",
   "execution_count": 101,
   "metadata": {},
   "outputs": [],
   "source": [
    "casanovo_merged_df[\"match\"] = casanovo_merged_df.apply(lambda x: x[\"peptide\"]==x[\"peptide_ground_truth\"], axis=1)\n",
    "casanovo_merged_df[\"spectra_ref\"] = casanovo_merged_df[\"metadata\"].apply(lambda x: x[\"spectra_ref\"].replace(\"ms_run[1]:\", \"\"))"
   ]
  },
  {
   "cell_type": "code",
   "execution_count": 104,
   "metadata": {},
   "outputs": [
    {
     "name": "stderr",
     "output_type": "stream",
     "text": [
      "100%|██████████| 443/443 [05:53<00:00,  1.25it/s]\n"
     ]
    }
   ],
   "source": [
    "casanovo_merged_df[\"aa_pep_scores\"] = casanovo_merged_df.progress_apply(\n",
    "    lambda x: get_prediction(\n",
    "        row=x,\n",
    "        dtps=dtp,\n",
    "        mapping=index_spectra\n",
    "    ), axis=1\n",
    ")"
   ]
  },
  {
   "cell_type": "code",
   "execution_count": 105,
   "metadata": {},
   "outputs": [],
   "source": [
    "casanovo_merged_df[\"aa_scores\"] = casanovo_merged_df.aa_pep_scores.apply(lambda x: x[0])\n",
    "casanovo_merged_df[\"pep_score\"] = casanovo_merged_df.aa_pep_scores.apply(lambda x: x[1])"
   ]
  },
  {
   "cell_type": "code",
   "execution_count": 117,
   "metadata": {},
   "outputs": [
    {
     "data": {
      "text/plain": [
       "0      Casanovo4.2.0\n",
       "1      Casanovo4.2.0\n",
       "2      Casanovo4.2.0\n",
       "3      Casanovo4.2.0\n",
       "4      Casanovo4.2.0\n",
       "           ...      \n",
       "438    Casanovo4.2.0\n",
       "439    Casanovo4.2.0\n",
       "440    Casanovo4.2.0\n",
       "441    Casanovo4.2.0\n",
       "442    Casanovo4.2.0\n",
       "Name: source, Length: 443, dtype: object"
      ]
     },
     "execution_count": 117,
     "metadata": {},
     "output_type": "execute_result"
    }
   ],
   "source": [
    "casanovo_merged_df[\"source\"]"
   ]
  },
  {
   "cell_type": "code",
   "execution_count": 119,
   "metadata": {},
   "outputs": [],
   "source": [
    "from denovo_utils.utils.pandas import collapse_casanovo_score\n",
    "\n",
    "casanovo_merged_df[\"score\"] = casanovo_merged_df.apply(collapse_casanovo_score, axis=1)"
   ]
  },
  {
   "cell_type": "code",
   "execution_count": 121,
   "metadata": {},
   "outputs": [],
   "source": [
    "casanovo_merged_df[\"score_diff\"] = casanovo_merged_df.apply(\n",
    "    lambda x: x[\"pep_score\"] - x[\"score\"], axis=1\n",
    ")"
   ]
  },
  {
   "cell_type": "code",
   "execution_count": 124,
   "metadata": {},
   "outputs": [
    {
     "data": {
      "text/plain": [
       "<Axes: ylabel='score_diff'>"
      ]
     },
     "execution_count": 124,
     "metadata": {},
     "output_type": "execute_result"
    },
    {
     "data": {
      "image/png": "[encoded data removed]",
      "text/plain": [
       "<Figure size 640x480 with 1 Axes>"
      ]
     },
     "metadata": {},
     "output_type": "display_data"
    }
   ],
   "source": [
    "sns.boxplot(\n",
    "    casanovo_merged_df.loc[\n",
    "        ~casanovo_merged_df[\"match\"],\n",
    "        \"score_diff\"    \n",
    "    ]\n",
    ")"
   ]
  },
  {
   "cell_type": "code",
   "execution_count": 137,
   "metadata": {},
   "outputs": [
    {
     "data": {
      "text/html": [
       "<div>\n",
       "<style scoped>\n",
       "    .dataframe tbody tr th:only-of-type {\n",
       "        vertical-align: middle;\n",
       "    }\n",
       "\n",
       "    .dataframe tbody tr th {\n",
       "        vertical-align: top;\n",
       "    }\n",
       "\n",
       "    .dataframe thead th {\n",
       "        text-align: right;\n",
       "    }\n",
       "</style>\n",
       "<table border=\"1\" class=\"dataframe\">\n",
       "  <thead>\n",
       "    <tr style=\"text-align: right;\">\n",
       "      <th></th>\n",
       "      <th>peptide</th>\n",
       "      <th>peptide_ground_truth</th>\n",
       "      <th>score</th>\n",
       "      <th>pep_score</th>\n",
       "      <th>charge</th>\n",
       "      <th>spectrum_id</th>\n",
       "    </tr>\n",
       "  </thead>\n",
       "  <tbody>\n",
       "    <tr>\n",
       "      <th>202</th>\n",
       "      <td>DATVTVSSASPTSPK</td>\n",
       "      <td>DFEDYGGNCDAAK</td>\n",
       "      <td>0.938785</td>\n",
       "      <td>0.402432</td>\n",
       "      <td>2</td>\n",
       "      <td>controllerType=0 controllerNumber=1 scan=8148</td>\n",
       "    </tr>\n",
       "    <tr>\n",
       "      <th>185</th>\n",
       "      <td>VDDVDTATNYAN</td>\n",
       "      <td>GVDEMSVEEYR</td>\n",
       "      <td>0.975990</td>\n",
       "      <td>0.515649</td>\n",
       "      <td>2</td>\n",
       "      <td>controllerType=0 controllerNumber=1 scan=7889</td>\n",
       "    </tr>\n",
       "    <tr>\n",
       "      <th>305</th>\n",
       "      <td>PTEDLTAR</td>\n",
       "      <td>TPETDLAR</td>\n",
       "      <td>0.866870</td>\n",
       "      <td>0.500334</td>\n",
       "      <td>2</td>\n",
       "      <td>controllerType=0 controllerNumber=1 scan=10566</td>\n",
       "    </tr>\n",
       "    <tr>\n",
       "      <th>181</th>\n",
       "      <td>FLPEKGSHALVGTEK</td>\n",
       "      <td>HKPDGSLAFAENPPK</td>\n",
       "      <td>0.835200</td>\n",
       "      <td>0.478914</td>\n",
       "      <td>3</td>\n",
       "      <td>controllerType=0 controllerNumber=1 scan=7866</td>\n",
       "    </tr>\n",
       "    <tr>\n",
       "      <th>5</th>\n",
       "      <td>GSQTVSYTR</td>\n",
       "      <td>QASADSYTR</td>\n",
       "      <td>0.973162</td>\n",
       "      <td>0.622101</td>\n",
       "      <td>2</td>\n",
       "      <td>controllerType=0 controllerNumber=1 scan=5384</td>\n",
       "    </tr>\n",
       "    <tr>\n",
       "      <th>...</th>\n",
       "      <td>...</td>\n",
       "      <td>...</td>\n",
       "      <td>...</td>\n",
       "      <td>...</td>\n",
       "      <td>...</td>\n",
       "      <td>...</td>\n",
       "    </tr>\n",
       "    <tr>\n",
       "      <th>92</th>\n",
       "      <td>GQVLAAPGGVKEHLK</td>\n",
       "      <td>GQVLAAPGSLKPHTK</td>\n",
       "      <td>0.831633</td>\n",
       "      <td>0.877700</td>\n",
       "      <td>3</td>\n",
       "      <td>controllerType=0 controllerNumber=1 scan=6712</td>\n",
       "    </tr>\n",
       "    <tr>\n",
       "      <th>236</th>\n",
       "      <td>DLYGAHGNYVGVLSK</td>\n",
       "      <td>DLLGAHNMHVGVLSK</td>\n",
       "      <td>0.761667</td>\n",
       "      <td>0.814871</td>\n",
       "      <td>3</td>\n",
       "      <td>controllerType=0 controllerNumber=1 scan=8534</td>\n",
       "    </tr>\n",
       "    <tr>\n",
       "      <th>409</th>\n",
       "      <td>FSPDAEVMLLPFLDWR</td>\n",
       "      <td>TSVAWSFNATPSVDDWR</td>\n",
       "      <td>0.758169</td>\n",
       "      <td>0.829959</td>\n",
       "      <td>2</td>\n",
       "      <td>controllerType=0 controllerNumber=1 scan=15014</td>\n",
       "    </tr>\n",
       "    <tr>\n",
       "      <th>249</th>\n",
       "      <td>FLRDFDPMRPR</td>\n",
       "      <td>LHVGHYVGSLSER</td>\n",
       "      <td>0.598586</td>\n",
       "      <td>0.682633</td>\n",
       "      <td>3</td>\n",
       "      <td>controllerType=0 controllerNumber=1 scan=8868</td>\n",
       "    </tr>\n",
       "    <tr>\n",
       "      <th>243</th>\n",
       "      <td>DVAEADPTQRR</td>\n",
       "      <td>DVLADPMYNSK</td>\n",
       "      <td>0.716091</td>\n",
       "      <td>0.823367</td>\n",
       "      <td>2</td>\n",
       "      <td>controllerType=0 controllerNumber=1 scan=8624</td>\n",
       "    </tr>\n",
       "  </tbody>\n",
       "</table>\n",
       "<p>443 rows × 6 columns</p>\n",
       "</div>"
      ],
      "text/plain": [
       "              peptide peptide_ground_truth     score  pep_score  charge  \\\n",
       "202   DATVTVSSASPTSPK        DFEDYGGNCDAAK  0.938785   0.402432       2   \n",
       "185      VDDVDTATNYAN          GVDEMSVEEYR  0.975990   0.515649       2   \n",
       "305          PTEDLTAR             TPETDLAR  0.866870   0.500334       2   \n",
       "181   FLPEKGSHALVGTEK      HKPDGSLAFAENPPK  0.835200   0.478914       3   \n",
       "5           GSQTVSYTR            QASADSYTR  0.973162   0.622101       2   \n",
       "..                ...                  ...       ...        ...     ...   \n",
       "92    GQVLAAPGGVKEHLK      GQVLAAPGSLKPHTK  0.831633   0.877700       3   \n",
       "236   DLYGAHGNYVGVLSK      DLLGAHNMHVGVLSK  0.761667   0.814871       3   \n",
       "409  FSPDAEVMLLPFLDWR    TSVAWSFNATPSVDDWR  0.758169   0.829959       2   \n",
       "249       FLRDFDPMRPR        LHVGHYVGSLSER  0.598586   0.682633       3   \n",
       "243       DVAEADPTQRR          DVLADPMYNSK  0.716091   0.823367       2   \n",
       "\n",
       "                                        spectrum_id  \n",
       "202   controllerType=0 controllerNumber=1 scan=8148  \n",
       "185   controllerType=0 controllerNumber=1 scan=7889  \n",
       "305  controllerType=0 controllerNumber=1 scan=10566  \n",
       "181   controllerType=0 controllerNumber=1 scan=7866  \n",
       "5     controllerType=0 controllerNumber=1 scan=5384  \n",
       "..                                              ...  \n",
       "92    controllerType=0 controllerNumber=1 scan=6712  \n",
       "236   controllerType=0 controllerNumber=1 scan=8534  \n",
       "409  controllerType=0 controllerNumber=1 scan=15014  \n",
       "249   controllerType=0 controllerNumber=1 scan=8868  \n",
       "243   controllerType=0 controllerNumber=1 scan=8624  \n",
       "\n",
       "[443 rows x 6 columns]"
      ]
     },
     "execution_count": 137,
     "metadata": {},
     "output_type": "execute_result"
    }
   ],
   "source": [
    "casanovo_merged_df.sort_values(\"score_diff\")[[\"peptide\", \"peptide_ground_truth\", \"score\", \"pep_score\", \"charge\", \"spectrum_id\"]]"
   ]
  },
  {
   "cell_type": "code",
   "execution_count": 133,
   "metadata": {},
   "outputs": [],
   "source": [
    "from denovo_utils.analysis.visualization import plot_spectrum"
   ]
  },
  {
   "cell_type": "code",
   "execution_count": 143,
   "metadata": {},
   "outputs": [
    {
     "data": {
      "text/plain": [
       "'/home/samva/Doctorate/data_directory/denovo_project/mgf_filtered/F01_Fraction1.mgf'"
      ]
     },
     "execution_count": 143,
     "metadata": {},
     "output_type": "execute_result"
    }
   ],
   "source": [
    "str(peak_path[0])"
   ]
  },
  {
   "cell_type": "code",
   "execution_count": 146,
   "metadata": {},
   "outputs": [],
   "source": [
    "from spectrum_utils.plot import mirror"
   ]
  },
  {
   "cell_type": "code",
   "execution_count": 200,
   "metadata": {},
   "outputs": [
    {
     "data": {
      "text/plain": [
       "<Axes: title={'center': 'TOP SAGE: QASADSYTR (0.62)\\nBOT CASA: GSQTVSYTR (0.97)'}, xlabel='m/z', ylabel='Intensity'>"
      ]
     },
     "execution_count": 200,
     "metadata": {},
     "output_type": "execute_result"
    },
    {
     "data": {
      "image/png": "[encoded data removed]",
      "text/plain": [
       "<Figure size 2000x500 with 1 Axes>"
      ]
     },
     "metadata": {},
     "output_type": "display_data"
    }
   ],
   "source": [
    "# EXAMPLE OF INTENSITIES BEING IMPORTANT AND NOT MZ\n",
    "\n",
    "i=5\n",
    "row = casanovo_merged_df.loc[i, [\"peptidoform_x\", \"peptidoform_y\", \"peptide\", \"peptide_ground_truth\", \"score\", \"pep_score\", \"charge\", \"spectrum_id\"]]\n",
    "spec_id = row[\"spectrum_id\"]\n",
    "pep_sage = row[\"peptide_ground_truth\"]\n",
    "pep_casa = row[\"peptide\"]\n",
    "\n",
    "plt.figure(figsize=(20,5))\n",
    "plt.title(\"TOP SAGE: {} ({:.2f})\\nBOT CASA: {} ({:.2f})\".format(\n",
    "    pep_sage, row['pep_score'], pep_casa, row['score']\n",
    "))\n",
    "spec_sage = plot_spectrum(\n",
    "    mgf_path=str(peak_path[0]),\n",
    "    spectrum_id=spec_id,\n",
    "    peptide=row[\"peptidoform_y\"].proforma,\n",
    "    plot=False\n",
    ")\n",
    "\n",
    "spec_casa = plot_spectrum(\n",
    "    mgf_path=str(peak_path[0]),\n",
    "    spectrum_id=spec_id,\n",
    "    peptide=row[\"peptidoform_x\"].proforma,\n",
    "    plot=False\n",
    ")\n",
    "mirror(spec_sage, spec_casa)"
   ]
  },
  {
   "cell_type": "code",
   "execution_count": 201,
   "metadata": {},
   "outputs": [],
   "source": [
    "from ms2pip.core import predict_single, correlate\n",
    "from psm_utils import PSM, PSMList\n",
    "import logging\n",
    "\n",
    "logger = logging.getLogger()\n",
    "logger.disabled=True"
   ]
  },
  {
   "cell_type": "code",
   "execution_count": 202,
   "metadata": {},
   "outputs": [
    {
     "name": "stderr",
     "output_type": "stream",
     "text": [
      "INFO: Processing spectra and peptides...\n",
      "INFO: Processing spectra and peptides...\n"
     ]
    },
    {
     "name": "stdout",
     "output_type": "stream",
     "text": [
      "Warning: OPENMS_DATA_PATH environment variable already exists. pyOpenMS will use it (/home/samva/miniconda3/envs/casanovo_env_analysis/lib/python3.10/site-packages/pyopenms/share/OpenMS) to locate data in the OpenMS share folder (e.g., the unimod database), instead of the default (/home/samva/miniconda3/envs/casanovo_env_analysis/lib/python3.10/site-packages/pyopenms/share/OpenMS).\n"
     ]
    },
    {
     "name": "stderr",
     "output_type": "stream",
     "text": [
      "INFO: Computing correlations\n",
      "INFO: Computing correlations\n",
      "INFO: Median correlation: 0.40941604620938743\n",
      "INFO: Median correlation: 0.40941604620938743\n",
      "INFO: Processing spectra and peptides...\n",
      "INFO: Processing spectra and peptides...\n"
     ]
    },
    {
     "name": "stdout",
     "output_type": "stream",
     "text": [
      "Warning: OPENMS_DATA_PATH environment variable already exists. pyOpenMS will use it (/home/samva/miniconda3/envs/casanovo_env_analysis/lib/python3.10/site-packages/pyopenms/share/OpenMS) to locate data in the OpenMS share folder (e.g., the unimod database), instead of the default (/home/samva/miniconda3/envs/casanovo_env_analysis/lib/python3.10/site-packages/pyopenms/share/OpenMS).\n"
     ]
    },
    {
     "name": "stderr",
     "output_type": "stream",
     "text": [
      "INFO: Computing correlations\n",
      "INFO: Computing correlations\n",
      "INFO: Median correlation: 0.8560895348739299\n",
      "INFO: Median correlation: 0.8560895348739299\n"
     ]
    },
    {
     "name": "stdout",
     "output_type": "stream",
     "text": [
      "Corr sage: 0.40942\n",
      "Corr casa: 0.85609\n"
     ]
    }
   ],
   "source": [
    "correlation_sage = correlate(\n",
    "    PSMList(\n",
    "        psm_list=[PSM(\n",
    "            peptidoform=row[\"peptidoform_y\"],\n",
    "            spectrum_id=row[\"spectrum_id\"],\n",
    "        )]\n",
    "    ),\n",
    "    spectrum_file=str(peak_path[0]),\n",
    "    compute_correlations=True\n",
    ")[0].correlation\n",
    "correlation_casa = correlate(\n",
    "    PSMList(\n",
    "        psm_list=[PSM(\n",
    "            peptidoform=row[\"peptidoform_x\"],\n",
    "            spectrum_id=row[\"spectrum_id\"],\n",
    "        )]\n",
    "    ),\n",
    "    spectrum_file=str(peak_path[0]),\n",
    "    compute_correlations=True\n",
    ")[0].correlation\n",
    "\n",
    "print(\"Corr sage: {:.5f}\\nCorr casa: {:.5f}\".format(correlation_sage, correlation_casa))"
   ]
  },
  {
   "cell_type": "code",
   "execution_count": 191,
   "metadata": {},
   "outputs": [
    {
     "data": {
      "text/plain": [
       "Peptidoform('QASADSYTR/2')"
      ]
     },
     "execution_count": 191,
     "metadata": {},
     "output_type": "execute_result"
    }
   ],
   "source": [
    "row[\"peptidoform_y\"]"
   ]
  },
  {
   "cell_type": "code",
   "execution_count": 192,
   "metadata": {},
   "outputs": [
    {
     "data": {
      "text/plain": [
       "Peptidoform('GSQTVSYTR/2')"
      ]
     },
     "execution_count": 192,
     "metadata": {},
     "output_type": "execute_result"
    }
   ],
   "source": [
    "row[\"peptidoform_x\"]"
   ]
  },
  {
   "cell_type": "code",
   "execution_count": 173,
   "metadata": {},
   "outputs": [
    {
     "name": "stderr",
     "output_type": "stream",
     "text": [
      "WARNING: UserWarning: precursor_mz not set, using theoretical precursor m/z.\n",
      "WARNING: UserWarning: precursor_mz not set, using theoretical precursor m/z.\n",
      "WARNING: UserWarning: precursor_mz not set, using theoretical precursor m/z.\n",
      "WARNING: UserWarning: precursor_mz not set, using theoretical precursor m/z.\n"
     ]
    },
    {
     "data": {
      "text/plain": [
       "<Axes: xlabel='m/z', ylabel='Intensity'>"
      ]
     },
     "execution_count": 173,
     "metadata": {},
     "output_type": "execute_result"
    },
    {
     "data": {
      "image/png": "[encoded data removed]",
      "text/plain": [
       "<Figure size 640x480 with 1 Axes>"
      ]
     },
     "metadata": {},
     "output_type": "display_data"
    }
   ],
   "source": [
    "\n",
    "casa_pred = predict_single(peptidoform=row[\"peptidoform_y\"].proforma, model=\"HCD2021\")\n",
    "sage_pred = predict_single(peptidoform=row[\"peptidoform_x\"].proforma, model=\"HCD2021\")\n",
    "\n",
    "mirror(\n",
    "    casa_pred.as_spectra()[0].to_spectrum_utils(), sage_pred.as_spectra()[0].to_spectrum_utils()\n",
    ")"
   ]
  },
  {
   "cell_type": "code",
   "execution_count": 178,
   "metadata": {},
   "outputs": [],
   "source": []
  },
  {
   "cell_type": "code",
   "execution_count": 188,
   "metadata": {},
   "outputs": [
    {
     "name": "stderr",
     "output_type": "stream",
     "text": [
      "INFO: Processing spectra and peptides...\n",
      "INFO: Processing spectra and peptides...\n"
     ]
    },
    {
     "name": "stdout",
     "output_type": "stream",
     "text": [
      "Warning: OPENMS_DATA_PATH environment variable already exists. pyOpenMS will use it (/home/samva/miniconda3/envs/casanovo_env_analysis/lib/python3.10/site-packages/pyopenms/share/OpenMS) to locate data in the OpenMS share folder (e.g., the unimod database), instead of the default (/home/samva/miniconda3/envs/casanovo_env_analysis/lib/python3.10/site-packages/pyopenms/share/OpenMS).\n"
     ]
    },
    {
     "name": "stderr",
     "output_type": "stream",
     "text": [
      "INFO: Computing correlations\n",
      "INFO: Computing correlations\n",
      "INFO: Median correlation: 0.8560895348739299\n",
      "INFO: Median correlation: 0.8560895348739299\n"
     ]
    },
    {
     "data": {
      "text/plain": [
       "0.8560895348739299"
      ]
     },
     "execution_count": 188,
     "metadata": {},
     "output_type": "execute_result"
    }
   ],
   "source": []
  },
  {
   "cell_type": "code",
   "execution_count": 5,
   "metadata": {},
   "outputs": [],
   "source": [
    "batch_1 = dtp[0]"
   ]
  },
  {
   "cell_type": "code",
   "execution_count": 178,
   "metadata": {},
   "outputs": [
    {
     "data": {
      "text/plain": [
       "torch.Size([5, 96, 2])"
      ]
     },
     "execution_count": 178,
     "metadata": {},
     "output_type": "execute_result"
    }
   ],
   "source": [
    "batch_1[0].shape"
   ]
  },
  {
   "cell_type": "code",
   "execution_count": 183,
   "metadata": {},
   "outputs": [
    {
     "name": "stdout",
     "output_type": "stream",
     "text": [
      "tensor([1303.7789,    2.0000,  652.8967])\n",
      "tensor([1017.7997,    2.0000,  509.9071])\n",
      "tensor([1275.7550,    2.0000,  638.8848])\n",
      "tensor([1103.7804,    2.0000,  552.8975])\n",
      "tensor([1153.7766,    2.0000,  577.8956])\n"
     ]
    }
   ],
   "source": [
    "for i in range(5):\n",
    "    print(batch_1[1][i])"
   ]
  },
  {
   "cell_type": "code",
   "execution_count": 202,
   "metadata": {},
   "outputs": [
    {
     "data": {
      "text/plain": [
       "1303.778848"
      ]
     },
     "execution_count": 202,
     "metadata": {},
     "output_type": "execute_result"
    }
   ],
   "source": [
    "(652.8967-1.007276)*2"
   ]
  },
  {
   "cell_type": "code",
   "execution_count": 228,
   "metadata": {},
   "outputs": [],
   "source": [
    "spectrum = torch.zeros((1, 45, 2))\n",
    "precursors = torch.tensor((1303.7789, 2.0000, 652.8967)).reshape(1,-1)"
   ]
  },
  {
   "cell_type": "code",
   "execution_count": 262,
   "metadata": {},
   "outputs": [
    {
     "data": {
      "text/html": [
       "<div>\n",
       "<style scoped>\n",
       "    .dataframe tbody tr th:only-of-type {\n",
       "        vertical-align: middle;\n",
       "    }\n",
       "\n",
       "    .dataframe tbody tr th {\n",
       "        vertical-align: top;\n",
       "    }\n",
       "\n",
       "    .dataframe thead th {\n",
       "        text-align: right;\n",
       "    }\n",
       "</style>\n",
       "<table border=\"1\" class=\"dataframe\">\n",
       "  <thead>\n",
       "    <tr style=\"text-align: right;\">\n",
       "      <th></th>\n",
       "      <th>0</th>\n",
       "      <th>1</th>\n",
       "      <th>2</th>\n",
       "      <th>3</th>\n",
       "      <th>4</th>\n",
       "      <th>5</th>\n",
       "      <th>6</th>\n",
       "      <th>7</th>\n",
       "      <th>8</th>\n",
       "      <th>9</th>\n",
       "      <th>...</th>\n",
       "      <th>19</th>\n",
       "      <th>20</th>\n",
       "      <th>21</th>\n",
       "      <th>22</th>\n",
       "      <th>23</th>\n",
       "      <th>24</th>\n",
       "      <th>25</th>\n",
       "      <th>26</th>\n",
       "      <th>27</th>\n",
       "      <th>28</th>\n",
       "    </tr>\n",
       "  </thead>\n",
       "  <tbody>\n",
       "    <tr>\n",
       "      <th>0</th>\n",
       "      <td>-1.083999</td>\n",
       "      <td>0.314936</td>\n",
       "      <td>0.724437</td>\n",
       "      <td>0.221901</td>\n",
       "      <td>-1.408618</td>\n",
       "      <td>0.283422</td>\n",
       "      <td>0.562670</td>\n",
       "      <td>-1.194017</td>\n",
       "      <td>0.776707</td>\n",
       "      <td>-1.083999</td>\n",
       "      <td>...</td>\n",
       "      <td>1.397954</td>\n",
       "      <td>-0.621577</td>\n",
       "      <td>-0.493057</td>\n",
       "      <td>-1.492932</td>\n",
       "      <td>-1.507707</td>\n",
       "      <td>-0.029498</td>\n",
       "      <td>-1.671966</td>\n",
       "      <td>-1.856079</td>\n",
       "      <td>-1.182756</td>\n",
       "      <td>-0.909155</td>\n",
       "    </tr>\n",
       "    <tr>\n",
       "      <th>1</th>\n",
       "      <td>-3.041476</td>\n",
       "      <td>1.241956</td>\n",
       "      <td>-0.080683</td>\n",
       "      <td>0.711424</td>\n",
       "      <td>2.054940</td>\n",
       "      <td>-1.083351</td>\n",
       "      <td>1.171962</td>\n",
       "      <td>-0.984495</td>\n",
       "      <td>0.156972</td>\n",
       "      <td>-3.041476</td>\n",
       "      <td>...</td>\n",
       "      <td>0.617403</td>\n",
       "      <td>0.469011</td>\n",
       "      <td>0.386810</td>\n",
       "      <td>-1.952915</td>\n",
       "      <td>-2.552636</td>\n",
       "      <td>-2.648755</td>\n",
       "      <td>-3.341247</td>\n",
       "      <td>-3.272813</td>\n",
       "      <td>-3.031312</td>\n",
       "      <td>-2.631928</td>\n",
       "    </tr>\n",
       "    <tr>\n",
       "      <th>2</th>\n",
       "      <td>-3.224735</td>\n",
       "      <td>1.672910</td>\n",
       "      <td>0.499958</td>\n",
       "      <td>0.765178</td>\n",
       "      <td>2.572323</td>\n",
       "      <td>-0.351324</td>\n",
       "      <td>1.258055</td>\n",
       "      <td>0.184133</td>\n",
       "      <td>0.741869</td>\n",
       "      <td>-3.224735</td>\n",
       "      <td>...</td>\n",
       "      <td>1.095674</td>\n",
       "      <td>0.986523</td>\n",
       "      <td>0.658072</td>\n",
       "      <td>-2.259794</td>\n",
       "      <td>-3.095565</td>\n",
       "      <td>-2.750351</td>\n",
       "      <td>-3.244980</td>\n",
       "      <td>-3.438476</td>\n",
       "      <td>-3.171577</td>\n",
       "      <td>-2.901183</td>\n",
       "    </tr>\n",
       "  </tbody>\n",
       "</table>\n",
       "<p>3 rows × 29 columns</p>\n",
       "</div>"
      ],
      "text/plain": [
       "         0         1         2         3         4         5         6   \\\n",
       "0 -1.083999  0.314936  0.724437  0.221901 -1.408618  0.283422  0.562670   \n",
       "1 -3.041476  1.241956 -0.080683  0.711424  2.054940 -1.083351  1.171962   \n",
       "2 -3.224735  1.672910  0.499958  0.765178  2.572323 -0.351324  1.258055   \n",
       "\n",
       "         7         8         9   ...        19        20        21        22  \\\n",
       "0 -1.194017  0.776707 -1.083999  ...  1.397954 -0.621577 -0.493057 -1.492932   \n",
       "1 -0.984495  0.156972 -3.041476  ...  0.617403  0.469011  0.386810 -1.952915   \n",
       "2  0.184133  0.741869 -3.224735  ...  1.095674  0.986523  0.658072 -2.259794   \n",
       "\n",
       "         23        24        25        26        27        28  \n",
       "0 -1.507707 -0.029498 -1.671966 -1.856079 -1.182756 -0.909155  \n",
       "1 -2.552636 -2.648755 -3.341247 -3.272813 -3.031312 -2.631928  \n",
       "2 -3.095565 -2.750351 -3.244980 -3.438476 -3.171577 -2.901183  \n",
       "\n",
       "[3 rows x 29 columns]"
      ]
     },
     "execution_count": 262,
     "metadata": {},
     "output_type": "execute_result"
    }
   ],
   "source": [
    "null_output = model_pt_interpretable.forward(\n",
    "    spectra=spectrum,\n",
    "    precursors=precursors,\n",
    "    peptide=torch.tensor([0, ])\n",
    ").detach().numpy()\n",
    "\n",
    "pd.DataFrame(\n",
    "    null_output.reshape(-1, 29)\n",
    ")"
   ]
  },
  {
   "cell_type": "code",
   "execution_count": 263,
   "metadata": {},
   "outputs": [
    {
     "data": {
      "text/plain": [
       "{'G': 1,\n",
       " 'A': 2,\n",
       " 'S': 3,\n",
       " 'P': 4,\n",
       " 'V': 5,\n",
       " 'T': 6,\n",
       " 'C+57.021': 7,\n",
       " 'L': 8,\n",
       " 'I': 9,\n",
       " 'N': 10,\n",
       " 'D': 11,\n",
       " 'Q': 12,\n",
       " 'K': 13,\n",
       " 'E': 14,\n",
       " 'M': 15,\n",
       " 'H': 16,\n",
       " 'F': 17,\n",
       " 'R': 18,\n",
       " 'Y': 19,\n",
       " 'W': 20,\n",
       " 'M+15.995': 21,\n",
       " 'N+0.984': 22,\n",
       " 'Q+0.984': 23,\n",
       " '+42.011': 24,\n",
       " '+43.006': 25,\n",
       " '-17.027': 26,\n",
       " '+43.006-17.027': 27,\n",
       " '$': 28}"
      ]
     },
     "execution_count": 263,
     "metadata": {},
     "output_type": "execute_result"
    }
   ],
   "source": [
    "model_pt.decoder._aa2idx"
   ]
  },
  {
   "cell_type": "code",
   "execution_count": 260,
   "metadata": {},
   "outputs": [
    {
     "data": {
      "text/html": [
       "<div>\n",
       "<style scoped>\n",
       "    .dataframe tbody tr th:only-of-type {\n",
       "        vertical-align: middle;\n",
       "    }\n",
       "\n",
       "    .dataframe tbody tr th {\n",
       "        vertical-align: top;\n",
       "    }\n",
       "\n",
       "    .dataframe thead th {\n",
       "        text-align: right;\n",
       "    }\n",
       "</style>\n",
       "<table border=\"1\" class=\"dataframe\">\n",
       "  <thead>\n",
       "    <tr style=\"text-align: right;\">\n",
       "      <th></th>\n",
       "      <th>0</th>\n",
       "      <th>1</th>\n",
       "      <th>2</th>\n",
       "    </tr>\n",
       "  </thead>\n",
       "  <tbody>\n",
       "    <tr>\n",
       "      <th>0</th>\n",
       "      <td>-1.083999</td>\n",
       "      <td>-3.041476</td>\n",
       "      <td>-3.224735</td>\n",
       "    </tr>\n",
       "    <tr>\n",
       "      <th>1</th>\n",
       "      <td>0.314936</td>\n",
       "      <td>1.241956</td>\n",
       "      <td>1.672910</td>\n",
       "    </tr>\n",
       "    <tr>\n",
       "      <th>2</th>\n",
       "      <td>0.724437</td>\n",
       "      <td>-0.080683</td>\n",
       "      <td>0.499958</td>\n",
       "    </tr>\n",
       "    <tr>\n",
       "      <th>3</th>\n",
       "      <td>0.221901</td>\n",
       "      <td>0.711424</td>\n",
       "      <td>0.765178</td>\n",
       "    </tr>\n",
       "    <tr>\n",
       "      <th>4</th>\n",
       "      <td>-1.408618</td>\n",
       "      <td>2.054940</td>\n",
       "      <td>2.572323</td>\n",
       "    </tr>\n",
       "    <tr>\n",
       "      <th>5</th>\n",
       "      <td>0.283422</td>\n",
       "      <td>-1.083351</td>\n",
       "      <td>-0.351324</td>\n",
       "    </tr>\n",
       "    <tr>\n",
       "      <th>6</th>\n",
       "      <td>0.562670</td>\n",
       "      <td>1.171962</td>\n",
       "      <td>1.258055</td>\n",
       "    </tr>\n",
       "    <tr>\n",
       "      <th>7</th>\n",
       "      <td>-1.194017</td>\n",
       "      <td>-0.984495</td>\n",
       "      <td>0.184133</td>\n",
       "    </tr>\n",
       "    <tr>\n",
       "      <th>8</th>\n",
       "      <td>0.776707</td>\n",
       "      <td>0.156972</td>\n",
       "      <td>0.741869</td>\n",
       "    </tr>\n",
       "    <tr>\n",
       "      <th>9</th>\n",
       "      <td>-1.083999</td>\n",
       "      <td>-3.041476</td>\n",
       "      <td>-3.224735</td>\n",
       "    </tr>\n",
       "    <tr>\n",
       "      <th>10</th>\n",
       "      <td>-0.834243</td>\n",
       "      <td>1.540711</td>\n",
       "      <td>1.471786</td>\n",
       "    </tr>\n",
       "    <tr>\n",
       "      <th>11</th>\n",
       "      <td>-0.460202</td>\n",
       "      <td>0.241791</td>\n",
       "      <td>-1.532341</td>\n",
       "    </tr>\n",
       "    <tr>\n",
       "      <th>12</th>\n",
       "      <td>1.246661</td>\n",
       "      <td>2.025233</td>\n",
       "      <td>1.729943</td>\n",
       "    </tr>\n",
       "    <tr>\n",
       "      <th>13</th>\n",
       "      <td>4.652316</td>\n",
       "      <td>-1.708665</td>\n",
       "      <td>-2.079390</td>\n",
       "    </tr>\n",
       "    <tr>\n",
       "      <th>14</th>\n",
       "      <td>-0.168200</td>\n",
       "      <td>1.085976</td>\n",
       "      <td>-0.477439</td>\n",
       "    </tr>\n",
       "    <tr>\n",
       "      <th>15</th>\n",
       "      <td>-0.964616</td>\n",
       "      <td>-0.683077</td>\n",
       "      <td>-0.232567</td>\n",
       "    </tr>\n",
       "    <tr>\n",
       "      <th>16</th>\n",
       "      <td>-1.548845</td>\n",
       "      <td>-1.487219</td>\n",
       "      <td>-2.205925</td>\n",
       "    </tr>\n",
       "    <tr>\n",
       "      <th>17</th>\n",
       "      <td>-0.775688</td>\n",
       "      <td>0.351728</td>\n",
       "      <td>1.067885</td>\n",
       "    </tr>\n",
       "    <tr>\n",
       "      <th>18</th>\n",
       "      <td>5.397663</td>\n",
       "      <td>0.571282</td>\n",
       "      <td>0.670404</td>\n",
       "    </tr>\n",
       "    <tr>\n",
       "      <th>19</th>\n",
       "      <td>1.397954</td>\n",
       "      <td>0.617403</td>\n",
       "      <td>1.095674</td>\n",
       "    </tr>\n",
       "    <tr>\n",
       "      <th>20</th>\n",
       "      <td>-0.621577</td>\n",
       "      <td>0.469011</td>\n",
       "      <td>0.986523</td>\n",
       "    </tr>\n",
       "    <tr>\n",
       "      <th>21</th>\n",
       "      <td>-0.493057</td>\n",
       "      <td>0.386810</td>\n",
       "      <td>0.658072</td>\n",
       "    </tr>\n",
       "    <tr>\n",
       "      <th>22</th>\n",
       "      <td>-1.492932</td>\n",
       "      <td>-1.952915</td>\n",
       "      <td>-2.259794</td>\n",
       "    </tr>\n",
       "    <tr>\n",
       "      <th>23</th>\n",
       "      <td>-1.507707</td>\n",
       "      <td>-2.552636</td>\n",
       "      <td>-3.095565</td>\n",
       "    </tr>\n",
       "    <tr>\n",
       "      <th>24</th>\n",
       "      <td>-0.029498</td>\n",
       "      <td>-2.648755</td>\n",
       "      <td>-2.750351</td>\n",
       "    </tr>\n",
       "    <tr>\n",
       "      <th>25</th>\n",
       "      <td>-1.671966</td>\n",
       "      <td>-3.341247</td>\n",
       "      <td>-3.244980</td>\n",
       "    </tr>\n",
       "    <tr>\n",
       "      <th>26</th>\n",
       "      <td>-1.856079</td>\n",
       "      <td>-3.272813</td>\n",
       "      <td>-3.438476</td>\n",
       "    </tr>\n",
       "    <tr>\n",
       "      <th>27</th>\n",
       "      <td>-1.182756</td>\n",
       "      <td>-3.031312</td>\n",
       "      <td>-3.171577</td>\n",
       "    </tr>\n",
       "    <tr>\n",
       "      <th>28</th>\n",
       "      <td>-0.909155</td>\n",
       "      <td>-2.631928</td>\n",
       "      <td>-2.901183</td>\n",
       "    </tr>\n",
       "  </tbody>\n",
       "</table>\n",
       "</div>"
      ],
      "text/plain": [
       "           0         1         2\n",
       "0  -1.083999 -3.041476 -3.224735\n",
       "1   0.314936  1.241956  1.672910\n",
       "2   0.724437 -0.080683  0.499958\n",
       "3   0.221901  0.711424  0.765178\n",
       "4  -1.408618  2.054940  2.572323\n",
       "5   0.283422 -1.083351 -0.351324\n",
       "6   0.562670  1.171962  1.258055\n",
       "7  -1.194017 -0.984495  0.184133\n",
       "8   0.776707  0.156972  0.741869\n",
       "9  -1.083999 -3.041476 -3.224735\n",
       "10 -0.834243  1.540711  1.471786\n",
       "11 -0.460202  0.241791 -1.532341\n",
       "12  1.246661  2.025233  1.729943\n",
       "13  4.652316 -1.708665 -2.079390\n",
       "14 -0.168200  1.085976 -0.477439\n",
       "15 -0.964616 -0.683077 -0.232567\n",
       "16 -1.548845 -1.487219 -2.205925\n",
       "17 -0.775688  0.351728  1.067885\n",
       "18  5.397663  0.571282  0.670404\n",
       "19  1.397954  0.617403  1.095674\n",
       "20 -0.621577  0.469011  0.986523\n",
       "21 -0.493057  0.386810  0.658072\n",
       "22 -1.492932 -1.952915 -2.259794\n",
       "23 -1.507707 -2.552636 -3.095565\n",
       "24 -0.029498 -2.648755 -2.750351\n",
       "25 -1.671966 -3.341247 -3.244980\n",
       "26 -1.856079 -3.272813 -3.438476\n",
       "27 -1.182756 -3.031312 -3.171577\n",
       "28 -0.909155 -2.631928 -2.901183"
      ]
     },
     "execution_count": 260,
     "metadata": {},
     "output_type": "execute_result"
    }
   ],
   "source": [
    "pd.DataFrame(\n",
    "    null_output.reshape(-1, 29)\n",
    ").T"
   ]
  },
  {
   "cell_type": "code",
   "execution_count": 254,
   "metadata": {},
   "outputs": [
    {
     "data": {
      "text/plain": [
       "tensor([1017.7997,    2.0000,  509.9071])"
      ]
     },
     "execution_count": 254,
     "metadata": {},
     "output_type": "execute_result"
    }
   ],
   "source": [
    "batch_1[1][1]"
   ]
  },
  {
   "cell_type": "code",
   "execution_count": 256,
   "metadata": {},
   "outputs": [],
   "source": [
    "output_1 =  model_pt_interpretable.forward(\n",
    "    spectra=batch_1[0][0].reshape(1, -1, 2),\n",
    "    precursors=batch_1[1][0].reshape(1, -1),\n",
    "    peptide=None\n",
    ").detach().numpy()"
   ]
  },
  {
   "cell_type": "code",
   "execution_count": 257,
   "metadata": {},
   "outputs": [
    {
     "name": "stderr",
     "output_type": "stream",
     "text": [
      "INFO: Using categorical units to plot a list of strings that are all parsable as floats or dates. If these strings should be plotted as numbers, cast to the appropriate data type before plotting.\n",
      "INFO: Using categorical units to plot a list of strings that are all parsable as floats or dates. If these strings should be plotted as numbers, cast to the appropriate data type before plotting.\n",
      "INFO: Using categorical units to plot a list of strings that are all parsable as floats or dates. If these strings should be plotted as numbers, cast to the appropriate data type before plotting.\n",
      "INFO: Using categorical units to plot a list of strings that are all parsable as floats or dates. If these strings should be plotted as numbers, cast to the appropriate data type before plotting.\n"
     ]
    },
    {
     "data": {
      "text/plain": [
       "<Axes: >"
      ]
     },
     "execution_count": 257,
     "metadata": {},
     "output_type": "execute_result"
    },
    {
     "data": {
      "image/png": "[encoded data removed]",
      "text/plain": [
       "<Figure size 640x480 with 1 Axes>"
      ]
     },
     "metadata": {},
     "output_type": "display_data"
    }
   ],
   "source": [
    "sns.barplot(\n",
    "    pd.DataFrame(\n",
    "        output_1.reshape(-1, 29)\n",
    "    )\n",
    ")"
   ]
  },
  {
   "cell_type": "code",
   "execution_count": 251,
   "metadata": {},
   "outputs": [
    {
     "name": "stderr",
     "output_type": "stream",
     "text": [
      "INFO: Using categorical units to plot a list of strings that are all parsable as floats or dates. If these strings should be plotted as numbers, cast to the appropriate data type before plotting.\n"
     ]
    },
    {
     "name": "stderr",
     "output_type": "stream",
     "text": [
      "INFO: Using categorical units to plot a list of strings that are all parsable as floats or dates. If these strings should be plotted as numbers, cast to the appropriate data type before plotting.\n",
      "INFO: Using categorical units to plot a list of strings that are all parsable as floats or dates. If these strings should be plotted as numbers, cast to the appropriate data type before plotting.\n",
      "INFO: Using categorical units to plot a list of strings that are all parsable as floats or dates. If these strings should be plotted as numbers, cast to the appropriate data type before plotting.\n"
     ]
    },
    {
     "data": {
      "text/plain": [
       "<Axes: >"
      ]
     },
     "execution_count": 251,
     "metadata": {},
     "output_type": "execute_result"
    },
    {
     "data": {
      "image/png": "[encoded data removed]",
      "text/plain": [
       "<Figure size 640x480 with 1 Axes>"
      ]
     },
     "metadata": {},
     "output_type": "display_data"
    }
   ],
   "source": [
    "sns.barplot(\n",
    "    pd.DataFrame(\n",
    "        null_output.reshape(-1, 29)[:-1]\n",
    "    )\n",
    ")"
   ]
  },
  {
   "cell_type": "code",
   "execution_count": 219,
   "metadata": {},
   "outputs": [
    {
     "data": {
      "text/plain": [
       "array([9.6367876e-04, 3.9037424e-03, 5.8792606e-03, 3.5569277e-03,\n",
       "       6.9654844e-04, 3.7826230e-03, 5.0011501e-03, 8.6328178e-04,\n",
       "       6.1947424e-03, 9.6367876e-04, 1.2370778e-03, 1.7982251e-03,\n",
       "       9.9111442e-03, 2.9866236e-01, 2.4079946e-03, 1.0858697e-03,\n",
       "       6.0541247e-04, 1.3116784e-03, 6.2933552e-01, 1.1529959e-02,\n",
       "       1.5302335e-03, 1.7401036e-03, 6.4022862e-04, 6.3084072e-04,\n",
       "       2.7662730e-03, 5.3528161e-04, 4.4526835e-04, 8.7305735e-04,\n",
       "       1.1477988e-03], dtype=float32)"
      ]
     },
     "execution_count": 219,
     "metadata": {},
     "output_type": "execute_result"
    }
   ],
   "source": [
    "null_output.flatten()"
   ]
  },
  {
   "cell_type": "code",
   "execution_count": 203,
   "metadata": {},
   "outputs": [
    {
     "data": {
      "text/plain": [
       "torch.Size([96, 2])"
      ]
     },
     "execution_count": 203,
     "metadata": {},
     "output_type": "execute_result"
    }
   ],
   "source": [
    "batch_1[0][1].shape"
   ]
  },
  {
   "cell_type": "code",
   "execution_count": 248,
   "metadata": {},
   "outputs": [],
   "source": []
  },
  {
   "cell_type": "code",
   "execution_count": 31,
   "metadata": {},
   "outputs": [],
   "source": [
    "tokens = list(reversed(model_pt.decoder.detokenize(\n",
    "    np.array(list(range(29)))\n",
    ")))\n",
    "\n",
    "def get_aa_probability_table(model, spectra, precursors, peptide, tokens):\n",
    "    peptide_tokens = list(reversed(model.decoder.detokenize(model.decoder.tokenize(peptide))))\n",
    "\n",
    "    prediction_scores = model.forward(\n",
    "        spectra=spectra,\n",
    "        precursors=precursors,\n",
    "        peptide=peptide\n",
    "    ).detach().numpy()\n",
    "    return pd.DataFrame(\n",
    "        prediction_scores.reshape(-1, 29),\n",
    "        columns=tokens,\n",
    "        index=peptide_tokens\n",
    "    )"
   ]
  },
  {
   "cell_type": "code",
   "execution_count": 79,
   "metadata": {},
   "outputs": [],
   "source": [
    "def combine_inputs(\n",
    "        spectra,\n",
    "        precursors,\n",
    "        peptide\n",
    "):\n",
    "    # Flatten the tensors\n",
    "    input1_flat = spectra.view(-1)  # Flatten to (1 * 150 * 2)\n",
    "    input2_flat = precursors.view(-1)  # Flatten to (1 * 3)\n",
    "    input3_flat = peptide.view(-1)  # Flatten to (13)\n",
    "    \n",
    "    # Create a padding marker\n",
    "    padding = torch.tensor([float('inf')])  # Using inf as a delimiter\n",
    "    \n",
    "    # Concatenate with padding in between\n",
    "    combined_tensor = torch.cat([input1_flat, padding, input2_flat, padding, input3_flat], dim=0)\n",
    "    \n",
    "    return combined_tensor"
   ]
  },
  {
   "cell_type": "code",
   "execution_count": null,
   "metadata": {},
   "outputs": [],
   "source": []
  },
  {
   "cell_type": "code",
   "execution_count": 117,
   "metadata": {},
   "outputs": [],
   "source": [
    "peptide = \"SAVESGSAAGTR\"\n",
    "peptide_tokens = model_pt.decoder.tokenize(peptide)\n",
    "combined_input = combine_inputs(\n",
    "    spectra=dtp[135][0],\n",
    "    precursors=dtp[135][1],\n",
    "    peptide=peptide_tokens\n",
    ")"
   ]
  },
  {
   "cell_type": "code",
   "execution_count": 249,
   "metadata": {},
   "outputs": [],
   "source": []
  },
  {
   "cell_type": "code",
   "execution_count": 153,
   "metadata": {},
   "outputs": [
    {
     "name": "stdout",
     "output_type": "stream",
     "text": [
      "torch.Size([318]) torch.Size([300]) torch.Size([3]) torch.Size([13])\n"
     ]
    }
   ],
   "source": [
    "spectra_, precursors_, peptide_ = model_pt_interpretable.decompose_inputs(\n",
    "    combined_input\n",
    ")"
   ]
  },
  {
   "cell_type": "code",
   "execution_count": 134,
   "metadata": {},
   "outputs": [
    {
     "name": "stdout",
     "output_type": "stream",
     "text": [
      "13 tensor([18.,  6.,  1.,  2.,  2.,  3.,  1.,  3., 14.,  5.,  2.,  3., 28.])\n"
     ]
    }
   ],
   "source": [
    "output = model_pt_interpretable.forward(combined_input)"
   ]
  },
  {
   "cell_type": "code",
   "execution_count": 126,
   "metadata": {},
   "outputs": [
    {
     "data": {
      "text/plain": [
       "14"
      ]
     },
     "execution_count": 126,
     "metadata": {},
     "output_type": "execute_result"
    }
   ],
   "source": [
    "len(output.reshape(-1, 29).detach().numpy())"
   ]
  },
  {
   "cell_type": "code",
   "execution_count": 107,
   "metadata": {},
   "outputs": [
    {
     "data": {
      "text/plain": [
       "[18, 6, 1, 2, 2, 3, 1, 3, 14, 5, 2, 3, 28]"
      ]
     },
     "execution_count": 107,
     "metadata": {},
     "output_type": "execute_result"
    }
   ],
   "source": [
    "peptide_tokens.tolist()"
   ]
  },
  {
   "cell_type": "code",
   "execution_count": 114,
   "metadata": {},
   "outputs": [
    {
     "data": {
      "text/plain": [
       "13"
      ]
     },
     "execution_count": 114,
     "metadata": {},
     "output_type": "execute_result"
    }
   ],
   "source": [
    "len(model_pt.decoder.detokenize(peptide_tokens))"
   ]
  },
  {
   "cell_type": "code",
   "execution_count": 130,
   "metadata": {},
   "outputs": [
    {
     "data": {
      "text/plain": [
       "<Axes: >"
      ]
     },
     "execution_count": 130,
     "metadata": {},
     "output_type": "execute_result"
    },
    {
     "data": {
      "image/png": "[encoded data removed]",
      "text/plain": [
       "<Figure size 1500x700 with 2 Axes>"
      ]
     },
     "metadata": {},
     "output_type": "display_data"
    }
   ],
   "source": [
    "tokens = list(reversed(model_pt.decoder.detokenize(\n",
    "    np.array(list(range(29)))\n",
    ")))\n",
    "\n",
    "plt.figure(figsize=(15,7))\n",
    "sns.heatmap(\n",
    "    pd.DataFrame(\n",
    "        output.reshape(-1, 29).detach().numpy()[:-1],\n",
    "        columns=tokens,\n",
    "        index=list(reversed(model_pt.decoder.detokenize(peptide_tokens)))\n",
    "    )\n",
    ")"
   ]
  },
  {
   "cell_type": "code",
   "execution_count": 170,
   "metadata": {},
   "outputs": [],
   "source": [
    "ig = IntegratedGradients(model_pt_interpretable)"
   ]
  },
  {
   "cell_type": "code",
   "execution_count": 171,
   "metadata": {},
   "outputs": [
    {
     "ename": "IndexError",
     "evalue": "index out of range in self",
     "output_type": "error",
     "traceback": [
      "\u001b[0;31m---------------------------------------------------------------------------\u001b[0m",
      "\u001b[0;31mIndexError\u001b[0m                                Traceback (most recent call last)",
      "Cell \u001b[0;32mIn[171], line 1\u001b[0m\n\u001b[0;32m----> 1\u001b[0m attr, delta \u001b[38;5;241m=\u001b[39m \u001b[43mig\u001b[49m\u001b[38;5;241;43m.\u001b[39;49m\u001b[43mattribute\u001b[49m\u001b[43m(\u001b[49m\n\u001b[1;32m      2\u001b[0m \u001b[43m    \u001b[49m\u001b[43m(\u001b[49m\u001b[43mdtp\u001b[49m\u001b[43m[\u001b[49m\u001b[38;5;241;43m135\u001b[39;49m\u001b[43m]\u001b[49m\u001b[43m[\u001b[49m\u001b[38;5;241;43m0\u001b[39;49m\u001b[43m]\u001b[49m\u001b[43m,\u001b[49m\u001b[43m \u001b[49m\u001b[43mdtp\u001b[49m\u001b[43m[\u001b[49m\u001b[38;5;241;43m135\u001b[39;49m\u001b[43m]\u001b[49m\u001b[43m[\u001b[49m\u001b[38;5;241;43m1\u001b[39;49m\u001b[43m]\u001b[49m\u001b[43m,\u001b[49m\u001b[43m \u001b[49m\u001b[43mpeptide_tokens\u001b[49m\u001b[43m)\u001b[49m\u001b[43m,\u001b[49m\u001b[43m \u001b[49m\u001b[43mtarget\u001b[49m\u001b[38;5;241;43m=\u001b[39;49m\u001b[38;5;241;43m0\u001b[39;49m\u001b[43m,\u001b[49m\u001b[43m \u001b[49m\u001b[43mreturn_convergence_delta\u001b[49m\u001b[38;5;241;43m=\u001b[39;49m\u001b[38;5;28;43;01mTrue\u001b[39;49;00m\n\u001b[1;32m      3\u001b[0m \u001b[43m)\u001b[49m\n",
      "File \u001b[0;32m~/miniconda3/envs/casanovo_env_analysis/lib/python3.10/site-packages/captum/log/__init__.py:42\u001b[0m, in \u001b[0;36mlog_usage.<locals>._log_usage.<locals>.wrapper\u001b[0;34m(*args, **kwargs)\u001b[0m\n\u001b[1;32m     40\u001b[0m \u001b[38;5;129m@wraps\u001b[39m(func)\n\u001b[1;32m     41\u001b[0m \u001b[38;5;28;01mdef\u001b[39;00m \u001b[38;5;21mwrapper\u001b[39m(\u001b[38;5;241m*\u001b[39margs, \u001b[38;5;241m*\u001b[39m\u001b[38;5;241m*\u001b[39mkwargs):\n\u001b[0;32m---> 42\u001b[0m     \u001b[38;5;28;01mreturn\u001b[39;00m \u001b[43mfunc\u001b[49m\u001b[43m(\u001b[49m\u001b[38;5;241;43m*\u001b[39;49m\u001b[43margs\u001b[49m\u001b[43m,\u001b[49m\u001b[43m \u001b[49m\u001b[38;5;241;43m*\u001b[39;49m\u001b[38;5;241;43m*\u001b[39;49m\u001b[43mkwargs\u001b[49m\u001b[43m)\u001b[49m\n",
      "File \u001b[0;32m~/miniconda3/envs/casanovo_env_analysis/lib/python3.10/site-packages/captum/attr/_core/integrated_gradients.py:286\u001b[0m, in \u001b[0;36mIntegratedGradients.attribute\u001b[0;34m(self, inputs, baselines, target, additional_forward_args, n_steps, method, internal_batch_size, return_convergence_delta)\u001b[0m\n\u001b[1;32m    274\u001b[0m     attributions \u001b[38;5;241m=\u001b[39m _batch_attribution(\n\u001b[1;32m    275\u001b[0m         \u001b[38;5;28mself\u001b[39m,\n\u001b[1;32m    276\u001b[0m         num_examples,\n\u001b[0;32m   (...)\u001b[0m\n\u001b[1;32m    283\u001b[0m         method\u001b[38;5;241m=\u001b[39mmethod,\n\u001b[1;32m    284\u001b[0m     )\n\u001b[1;32m    285\u001b[0m \u001b[38;5;28;01melse\u001b[39;00m:\n\u001b[0;32m--> 286\u001b[0m     attributions \u001b[38;5;241m=\u001b[39m \u001b[38;5;28;43mself\u001b[39;49m\u001b[38;5;241;43m.\u001b[39;49m\u001b[43m_attribute\u001b[49m\u001b[43m(\u001b[49m\n\u001b[1;32m    287\u001b[0m \u001b[43m        \u001b[49m\u001b[43minputs\u001b[49m\u001b[38;5;241;43m=\u001b[39;49m\u001b[43minputs\u001b[49m\u001b[43m,\u001b[49m\n\u001b[1;32m    288\u001b[0m \u001b[43m        \u001b[49m\u001b[43mbaselines\u001b[49m\u001b[38;5;241;43m=\u001b[39;49m\u001b[43mbaselines\u001b[49m\u001b[43m,\u001b[49m\n\u001b[1;32m    289\u001b[0m \u001b[43m        \u001b[49m\u001b[43mtarget\u001b[49m\u001b[38;5;241;43m=\u001b[39;49m\u001b[43mtarget\u001b[49m\u001b[43m,\u001b[49m\n\u001b[1;32m    290\u001b[0m \u001b[43m        \u001b[49m\u001b[43madditional_forward_args\u001b[49m\u001b[38;5;241;43m=\u001b[39;49m\u001b[43madditional_forward_args\u001b[49m\u001b[43m,\u001b[49m\n\u001b[1;32m    291\u001b[0m \u001b[43m        \u001b[49m\u001b[43mn_steps\u001b[49m\u001b[38;5;241;43m=\u001b[39;49m\u001b[43mn_steps\u001b[49m\u001b[43m,\u001b[49m\n\u001b[1;32m    292\u001b[0m \u001b[43m        \u001b[49m\u001b[43mmethod\u001b[49m\u001b[38;5;241;43m=\u001b[39;49m\u001b[43mmethod\u001b[49m\u001b[43m,\u001b[49m\n\u001b[1;32m    293\u001b[0m \u001b[43m    \u001b[49m\u001b[43m)\u001b[49m\n\u001b[1;32m    295\u001b[0m \u001b[38;5;28;01mif\u001b[39;00m return_convergence_delta:\n\u001b[1;32m    296\u001b[0m     start_point, end_point \u001b[38;5;241m=\u001b[39m baselines, inputs\n",
      "File \u001b[0;32m~/miniconda3/envs/casanovo_env_analysis/lib/python3.10/site-packages/captum/attr/_core/integrated_gradients.py:351\u001b[0m, in \u001b[0;36mIntegratedGradients._attribute\u001b[0;34m(self, inputs, baselines, target, additional_forward_args, n_steps, method, step_sizes_and_alphas)\u001b[0m\n\u001b[1;32m    348\u001b[0m expanded_target \u001b[38;5;241m=\u001b[39m _expand_target(target, n_steps)\n\u001b[1;32m    350\u001b[0m \u001b[38;5;66;03m# grads: dim -> (bsz * #steps x inputs[0].shape[1:], ...)\u001b[39;00m\n\u001b[0;32m--> 351\u001b[0m grads \u001b[38;5;241m=\u001b[39m \u001b[38;5;28;43mself\u001b[39;49m\u001b[38;5;241;43m.\u001b[39;49m\u001b[43mgradient_func\u001b[49m\u001b[43m(\u001b[49m\n\u001b[1;32m    352\u001b[0m \u001b[43m    \u001b[49m\u001b[43mforward_fn\u001b[49m\u001b[38;5;241;43m=\u001b[39;49m\u001b[38;5;28;43mself\u001b[39;49m\u001b[38;5;241;43m.\u001b[39;49m\u001b[43mforward_func\u001b[49m\u001b[43m,\u001b[49m\n\u001b[1;32m    353\u001b[0m \u001b[43m    \u001b[49m\u001b[43minputs\u001b[49m\u001b[38;5;241;43m=\u001b[39;49m\u001b[43mscaled_features_tpl\u001b[49m\u001b[43m,\u001b[49m\n\u001b[1;32m    354\u001b[0m \u001b[43m    \u001b[49m\u001b[43mtarget_ind\u001b[49m\u001b[38;5;241;43m=\u001b[39;49m\u001b[43mexpanded_target\u001b[49m\u001b[43m,\u001b[49m\n\u001b[1;32m    355\u001b[0m \u001b[43m    \u001b[49m\u001b[43madditional_forward_args\u001b[49m\u001b[38;5;241;43m=\u001b[39;49m\u001b[43minput_additional_args\u001b[49m\u001b[43m,\u001b[49m\n\u001b[1;32m    356\u001b[0m \u001b[43m\u001b[49m\u001b[43m)\u001b[49m\n\u001b[1;32m    358\u001b[0m \u001b[38;5;66;03m# flattening grads so that we can multilpy it with step-size\u001b[39;00m\n\u001b[1;32m    359\u001b[0m \u001b[38;5;66;03m# calling contiguous to avoid `memory whole` problems\u001b[39;00m\n\u001b[1;32m    360\u001b[0m scaled_grads \u001b[38;5;241m=\u001b[39m [\n\u001b[1;32m    361\u001b[0m     grad\u001b[38;5;241m.\u001b[39mcontiguous()\u001b[38;5;241m.\u001b[39mview(n_steps, \u001b[38;5;241m-\u001b[39m\u001b[38;5;241m1\u001b[39m)\n\u001b[1;32m    362\u001b[0m     \u001b[38;5;241m*\u001b[39m torch\u001b[38;5;241m.\u001b[39mtensor(step_sizes)\u001b[38;5;241m.\u001b[39mview(n_steps, \u001b[38;5;241m1\u001b[39m)\u001b[38;5;241m.\u001b[39mto(grad\u001b[38;5;241m.\u001b[39mdevice)\n\u001b[1;32m    363\u001b[0m     \u001b[38;5;28;01mfor\u001b[39;00m grad \u001b[38;5;129;01min\u001b[39;00m grads\n\u001b[1;32m    364\u001b[0m ]\n",
      "File \u001b[0;32m~/miniconda3/envs/casanovo_env_analysis/lib/python3.10/site-packages/captum/_utils/gradient.py:112\u001b[0m, in \u001b[0;36mcompute_gradients\u001b[0;34m(forward_fn, inputs, target_ind, additional_forward_args)\u001b[0m\n\u001b[1;32m     94\u001b[0m \u001b[38;5;250m\u001b[39m\u001b[38;5;124mr\u001b[39m\u001b[38;5;124;03m\"\"\"\u001b[39;00m\n\u001b[1;32m     95\u001b[0m \u001b[38;5;124;03mComputes gradients of the output with respect to inputs for an\u001b[39;00m\n\u001b[1;32m     96\u001b[0m \u001b[38;5;124;03marbitrary forward function.\u001b[39;00m\n\u001b[0;32m   (...)\u001b[0m\n\u001b[1;32m    108\u001b[0m \u001b[38;5;124;03m                arguments) if no additional arguments are required\u001b[39;00m\n\u001b[1;32m    109\u001b[0m \u001b[38;5;124;03m\"\"\"\u001b[39;00m\n\u001b[1;32m    110\u001b[0m \u001b[38;5;28;01mwith\u001b[39;00m torch\u001b[38;5;241m.\u001b[39mautograd\u001b[38;5;241m.\u001b[39mset_grad_enabled(\u001b[38;5;28;01mTrue\u001b[39;00m):\n\u001b[1;32m    111\u001b[0m     \u001b[38;5;66;03m# runs forward pass\u001b[39;00m\n\u001b[0;32m--> 112\u001b[0m     outputs \u001b[38;5;241m=\u001b[39m \u001b[43m_run_forward\u001b[49m\u001b[43m(\u001b[49m\u001b[43mforward_fn\u001b[49m\u001b[43m,\u001b[49m\u001b[43m \u001b[49m\u001b[43minputs\u001b[49m\u001b[43m,\u001b[49m\u001b[43m \u001b[49m\u001b[43mtarget_ind\u001b[49m\u001b[43m,\u001b[49m\u001b[43m \u001b[49m\u001b[43madditional_forward_args\u001b[49m\u001b[43m)\u001b[49m\n\u001b[1;32m    113\u001b[0m     \u001b[38;5;28;01massert\u001b[39;00m outputs[\u001b[38;5;241m0\u001b[39m]\u001b[38;5;241m.\u001b[39mnumel() \u001b[38;5;241m==\u001b[39m \u001b[38;5;241m1\u001b[39m, (\n\u001b[1;32m    114\u001b[0m         \u001b[38;5;124m\"\u001b[39m\u001b[38;5;124mTarget not provided when necessary, cannot\u001b[39m\u001b[38;5;124m\"\u001b[39m\n\u001b[1;32m    115\u001b[0m         \u001b[38;5;124m\"\u001b[39m\u001b[38;5;124m take gradient with respect to multiple outputs.\u001b[39m\u001b[38;5;124m\"\u001b[39m\n\u001b[1;32m    116\u001b[0m     )\n\u001b[1;32m    117\u001b[0m     \u001b[38;5;66;03m# torch.unbind(forward_out) is a list of scalar tensor tuples and\u001b[39;00m\n\u001b[1;32m    118\u001b[0m     \u001b[38;5;66;03m# contains batch_size * #steps elements\u001b[39;00m\n",
      "File \u001b[0;32m~/miniconda3/envs/casanovo_env_analysis/lib/python3.10/site-packages/captum/_utils/common.py:531\u001b[0m, in \u001b[0;36m_run_forward\u001b[0;34m(forward_func, inputs, target, additional_forward_args)\u001b[0m\n\u001b[1;32m    528\u001b[0m inputs \u001b[38;5;241m=\u001b[39m _format_inputs(inputs)\n\u001b[1;32m    529\u001b[0m additional_forward_args \u001b[38;5;241m=\u001b[39m _format_additional_forward_args(additional_forward_args)\n\u001b[0;32m--> 531\u001b[0m output \u001b[38;5;241m=\u001b[39m \u001b[43mforward_func\u001b[49m\u001b[43m(\u001b[49m\n\u001b[1;32m    532\u001b[0m \u001b[43m    \u001b[49m\u001b[38;5;241;43m*\u001b[39;49m\u001b[43m(\u001b[49m\u001b[38;5;241;43m*\u001b[39;49m\u001b[43minputs\u001b[49m\u001b[43m,\u001b[49m\u001b[43m \u001b[49m\u001b[38;5;241;43m*\u001b[39;49m\u001b[43madditional_forward_args\u001b[49m\u001b[43m)\u001b[49m\n\u001b[1;32m    533\u001b[0m \u001b[43m    \u001b[49m\u001b[38;5;28;43;01mif\u001b[39;49;00m\u001b[43m \u001b[49m\u001b[43madditional_forward_args\u001b[49m\u001b[43m \u001b[49m\u001b[38;5;129;43;01mis\u001b[39;49;00m\u001b[43m \u001b[49m\u001b[38;5;129;43;01mnot\u001b[39;49;00m\u001b[43m \u001b[49m\u001b[38;5;28;43;01mNone\u001b[39;49;00m\n\u001b[1;32m    534\u001b[0m \u001b[43m    \u001b[49m\u001b[38;5;28;43;01melse\u001b[39;49;00m\u001b[43m \u001b[49m\u001b[43minputs\u001b[49m\n\u001b[1;32m    535\u001b[0m \u001b[43m\u001b[49m\u001b[43m)\u001b[49m\n\u001b[1;32m    536\u001b[0m \u001b[38;5;28;01mreturn\u001b[39;00m _select_targets(output, target)\n",
      "File \u001b[0;32m~/miniconda3/envs/casanovo_env_analysis/lib/python3.10/site-packages/torch/nn/modules/module.py:1532\u001b[0m, in \u001b[0;36mModule._wrapped_call_impl\u001b[0;34m(self, *args, **kwargs)\u001b[0m\n\u001b[1;32m   1530\u001b[0m     \u001b[38;5;28;01mreturn\u001b[39;00m \u001b[38;5;28mself\u001b[39m\u001b[38;5;241m.\u001b[39m_compiled_call_impl(\u001b[38;5;241m*\u001b[39margs, \u001b[38;5;241m*\u001b[39m\u001b[38;5;241m*\u001b[39mkwargs)  \u001b[38;5;66;03m# type: ignore[misc]\u001b[39;00m\n\u001b[1;32m   1531\u001b[0m \u001b[38;5;28;01melse\u001b[39;00m:\n\u001b[0;32m-> 1532\u001b[0m     \u001b[38;5;28;01mreturn\u001b[39;00m \u001b[38;5;28;43mself\u001b[39;49m\u001b[38;5;241;43m.\u001b[39;49m\u001b[43m_call_impl\u001b[49m\u001b[43m(\u001b[49m\u001b[38;5;241;43m*\u001b[39;49m\u001b[43margs\u001b[49m\u001b[43m,\u001b[49m\u001b[43m \u001b[49m\u001b[38;5;241;43m*\u001b[39;49m\u001b[38;5;241;43m*\u001b[39;49m\u001b[43mkwargs\u001b[49m\u001b[43m)\u001b[49m\n",
      "File \u001b[0;32m~/miniconda3/envs/casanovo_env_analysis/lib/python3.10/site-packages/torch/nn/modules/module.py:1541\u001b[0m, in \u001b[0;36mModule._call_impl\u001b[0;34m(self, *args, **kwargs)\u001b[0m\n\u001b[1;32m   1536\u001b[0m \u001b[38;5;66;03m# If we don't have any hooks, we want to skip the rest of the logic in\u001b[39;00m\n\u001b[1;32m   1537\u001b[0m \u001b[38;5;66;03m# this function, and just call forward.\u001b[39;00m\n\u001b[1;32m   1538\u001b[0m \u001b[38;5;28;01mif\u001b[39;00m \u001b[38;5;129;01mnot\u001b[39;00m (\u001b[38;5;28mself\u001b[39m\u001b[38;5;241m.\u001b[39m_backward_hooks \u001b[38;5;129;01mor\u001b[39;00m \u001b[38;5;28mself\u001b[39m\u001b[38;5;241m.\u001b[39m_backward_pre_hooks \u001b[38;5;129;01mor\u001b[39;00m \u001b[38;5;28mself\u001b[39m\u001b[38;5;241m.\u001b[39m_forward_hooks \u001b[38;5;129;01mor\u001b[39;00m \u001b[38;5;28mself\u001b[39m\u001b[38;5;241m.\u001b[39m_forward_pre_hooks\n\u001b[1;32m   1539\u001b[0m         \u001b[38;5;129;01mor\u001b[39;00m _global_backward_pre_hooks \u001b[38;5;129;01mor\u001b[39;00m _global_backward_hooks\n\u001b[1;32m   1540\u001b[0m         \u001b[38;5;129;01mor\u001b[39;00m _global_forward_hooks \u001b[38;5;129;01mor\u001b[39;00m _global_forward_pre_hooks):\n\u001b[0;32m-> 1541\u001b[0m     \u001b[38;5;28;01mreturn\u001b[39;00m \u001b[43mforward_call\u001b[49m\u001b[43m(\u001b[49m\u001b[38;5;241;43m*\u001b[39;49m\u001b[43margs\u001b[49m\u001b[43m,\u001b[49m\u001b[43m \u001b[49m\u001b[38;5;241;43m*\u001b[39;49m\u001b[38;5;241;43m*\u001b[39;49m\u001b[43mkwargs\u001b[49m\u001b[43m)\u001b[49m\n\u001b[1;32m   1543\u001b[0m \u001b[38;5;28;01mtry\u001b[39;00m:\n\u001b[1;32m   1544\u001b[0m     result \u001b[38;5;241m=\u001b[39m \u001b[38;5;28;01mNone\u001b[39;00m\n",
      "Cell \u001b[0;32mIn[168], line 15\u001b[0m, in \u001b[0;36mInterpretableCasanovo.forward\u001b[0;34m(self, spectra, precursors, peptide)\u001b[0m\n\u001b[1;32m     11\u001b[0m \u001b[38;5;28;01mdef\u001b[39;00m \u001b[38;5;21mforward\u001b[39m(\u001b[38;5;28mself\u001b[39m, spectra, precursors, peptide):\n\u001b[1;32m     13\u001b[0m     memories, mem_masks \u001b[38;5;241m=\u001b[39m \u001b[38;5;28mself\u001b[39m\u001b[38;5;241m.\u001b[39mencoder(spectra)\n\u001b[0;32m---> 15\u001b[0m     pred, _ \u001b[38;5;241m=\u001b[39m \u001b[38;5;28;43mself\u001b[39;49m\u001b[38;5;241;43m.\u001b[39;49m\u001b[43mdecoder\u001b[49m\u001b[43m(\u001b[49m\u001b[43m[\u001b[49m\u001b[43mpeptide\u001b[49m\u001b[43m]\u001b[49m\u001b[43m,\u001b[49m\u001b[43m \u001b[49m\u001b[43mprecursors\u001b[49m\u001b[43m,\u001b[49m\u001b[43m \u001b[49m\u001b[43mmemories\u001b[49m\u001b[43m,\u001b[49m\u001b[43m \u001b[49m\u001b[43mmem_masks\u001b[49m\u001b[43m)\u001b[49m\n\u001b[1;32m     17\u001b[0m     pred \u001b[38;5;241m=\u001b[39m \u001b[38;5;28mself\u001b[39m\u001b[38;5;241m.\u001b[39msoftmax(pred)\n\u001b[1;32m     18\u001b[0m     \u001b[38;5;28;01mreturn\u001b[39;00m pred\n",
      "File \u001b[0;32m~/miniconda3/envs/casanovo_env_analysis/lib/python3.10/site-packages/torch/nn/modules/module.py:1532\u001b[0m, in \u001b[0;36mModule._wrapped_call_impl\u001b[0;34m(self, *args, **kwargs)\u001b[0m\n\u001b[1;32m   1530\u001b[0m     \u001b[38;5;28;01mreturn\u001b[39;00m \u001b[38;5;28mself\u001b[39m\u001b[38;5;241m.\u001b[39m_compiled_call_impl(\u001b[38;5;241m*\u001b[39margs, \u001b[38;5;241m*\u001b[39m\u001b[38;5;241m*\u001b[39mkwargs)  \u001b[38;5;66;03m# type: ignore[misc]\u001b[39;00m\n\u001b[1;32m   1531\u001b[0m \u001b[38;5;28;01melse\u001b[39;00m:\n\u001b[0;32m-> 1532\u001b[0m     \u001b[38;5;28;01mreturn\u001b[39;00m \u001b[38;5;28;43mself\u001b[39;49m\u001b[38;5;241;43m.\u001b[39;49m\u001b[43m_call_impl\u001b[49m\u001b[43m(\u001b[49m\u001b[38;5;241;43m*\u001b[39;49m\u001b[43margs\u001b[49m\u001b[43m,\u001b[49m\u001b[43m \u001b[49m\u001b[38;5;241;43m*\u001b[39;49m\u001b[38;5;241;43m*\u001b[39;49m\u001b[43mkwargs\u001b[49m\u001b[43m)\u001b[49m\n",
      "File \u001b[0;32m~/miniconda3/envs/casanovo_env_analysis/lib/python3.10/site-packages/torch/nn/modules/module.py:1541\u001b[0m, in \u001b[0;36mModule._call_impl\u001b[0;34m(self, *args, **kwargs)\u001b[0m\n\u001b[1;32m   1536\u001b[0m \u001b[38;5;66;03m# If we don't have any hooks, we want to skip the rest of the logic in\u001b[39;00m\n\u001b[1;32m   1537\u001b[0m \u001b[38;5;66;03m# this function, and just call forward.\u001b[39;00m\n\u001b[1;32m   1538\u001b[0m \u001b[38;5;28;01mif\u001b[39;00m \u001b[38;5;129;01mnot\u001b[39;00m (\u001b[38;5;28mself\u001b[39m\u001b[38;5;241m.\u001b[39m_backward_hooks \u001b[38;5;129;01mor\u001b[39;00m \u001b[38;5;28mself\u001b[39m\u001b[38;5;241m.\u001b[39m_backward_pre_hooks \u001b[38;5;129;01mor\u001b[39;00m \u001b[38;5;28mself\u001b[39m\u001b[38;5;241m.\u001b[39m_forward_hooks \u001b[38;5;129;01mor\u001b[39;00m \u001b[38;5;28mself\u001b[39m\u001b[38;5;241m.\u001b[39m_forward_pre_hooks\n\u001b[1;32m   1539\u001b[0m         \u001b[38;5;129;01mor\u001b[39;00m _global_backward_pre_hooks \u001b[38;5;129;01mor\u001b[39;00m _global_backward_hooks\n\u001b[1;32m   1540\u001b[0m         \u001b[38;5;129;01mor\u001b[39;00m _global_forward_hooks \u001b[38;5;129;01mor\u001b[39;00m _global_forward_pre_hooks):\n\u001b[0;32m-> 1541\u001b[0m     \u001b[38;5;28;01mreturn\u001b[39;00m \u001b[43mforward_call\u001b[49m\u001b[43m(\u001b[49m\u001b[38;5;241;43m*\u001b[39;49m\u001b[43margs\u001b[49m\u001b[43m,\u001b[49m\u001b[43m \u001b[49m\u001b[38;5;241;43m*\u001b[39;49m\u001b[38;5;241;43m*\u001b[39;49m\u001b[43mkwargs\u001b[49m\u001b[43m)\u001b[49m\n\u001b[1;32m   1543\u001b[0m \u001b[38;5;28;01mtry\u001b[39;00m:\n\u001b[1;32m   1544\u001b[0m     result \u001b[38;5;241m=\u001b[39m \u001b[38;5;28;01mNone\u001b[39;00m\n",
      "File \u001b[0;32m~/miniconda3/envs/casanovo_env_analysis/lib/python3.10/site-packages/depthcharge/components/transformers.py:429\u001b[0m, in \u001b[0;36mPeptideDecoder.forward\u001b[0;34m(self, sequences, precursors, memory, memory_key_padding_mask)\u001b[0m\n\u001b[1;32m    427\u001b[0m \u001b[38;5;66;03m# Prepare mass and charge\u001b[39;00m\n\u001b[1;32m    428\u001b[0m masses \u001b[38;5;241m=\u001b[39m \u001b[38;5;28mself\u001b[39m\u001b[38;5;241m.\u001b[39mmass_encoder(precursors[:, \u001b[38;5;28;01mNone\u001b[39;00m, \u001b[38;5;241m0\u001b[39m])\n\u001b[0;32m--> 429\u001b[0m charges \u001b[38;5;241m=\u001b[39m \u001b[38;5;28;43mself\u001b[39;49m\u001b[38;5;241;43m.\u001b[39;49m\u001b[43mcharge_encoder\u001b[49m\u001b[43m(\u001b[49m\u001b[43mprecursors\u001b[49m\u001b[43m[\u001b[49m\u001b[43m:\u001b[49m\u001b[43m,\u001b[49m\u001b[43m \u001b[49m\u001b[38;5;241;43m1\u001b[39;49m\u001b[43m]\u001b[49m\u001b[38;5;241;43m.\u001b[39;49m\u001b[43mint\u001b[49m\u001b[43m(\u001b[49m\u001b[43m)\u001b[49m\u001b[43m \u001b[49m\u001b[38;5;241;43m-\u001b[39;49m\u001b[43m \u001b[49m\u001b[38;5;241;43m1\u001b[39;49m\u001b[43m)\u001b[49m\n\u001b[1;32m    430\u001b[0m precursors \u001b[38;5;241m=\u001b[39m masses \u001b[38;5;241m+\u001b[39m charges[:, \u001b[38;5;28;01mNone\u001b[39;00m, :]\n\u001b[1;32m    432\u001b[0m \u001b[38;5;66;03m# Feed through model:\u001b[39;00m\n",
      "File \u001b[0;32m~/miniconda3/envs/casanovo_env_analysis/lib/python3.10/site-packages/torch/nn/modules/module.py:1532\u001b[0m, in \u001b[0;36mModule._wrapped_call_impl\u001b[0;34m(self, *args, **kwargs)\u001b[0m\n\u001b[1;32m   1530\u001b[0m     \u001b[38;5;28;01mreturn\u001b[39;00m \u001b[38;5;28mself\u001b[39m\u001b[38;5;241m.\u001b[39m_compiled_call_impl(\u001b[38;5;241m*\u001b[39margs, \u001b[38;5;241m*\u001b[39m\u001b[38;5;241m*\u001b[39mkwargs)  \u001b[38;5;66;03m# type: ignore[misc]\u001b[39;00m\n\u001b[1;32m   1531\u001b[0m \u001b[38;5;28;01melse\u001b[39;00m:\n\u001b[0;32m-> 1532\u001b[0m     \u001b[38;5;28;01mreturn\u001b[39;00m \u001b[38;5;28;43mself\u001b[39;49m\u001b[38;5;241;43m.\u001b[39;49m\u001b[43m_call_impl\u001b[49m\u001b[43m(\u001b[49m\u001b[38;5;241;43m*\u001b[39;49m\u001b[43margs\u001b[49m\u001b[43m,\u001b[49m\u001b[43m \u001b[49m\u001b[38;5;241;43m*\u001b[39;49m\u001b[38;5;241;43m*\u001b[39;49m\u001b[43mkwargs\u001b[49m\u001b[43m)\u001b[49m\n",
      "File \u001b[0;32m~/miniconda3/envs/casanovo_env_analysis/lib/python3.10/site-packages/torch/nn/modules/module.py:1541\u001b[0m, in \u001b[0;36mModule._call_impl\u001b[0;34m(self, *args, **kwargs)\u001b[0m\n\u001b[1;32m   1536\u001b[0m \u001b[38;5;66;03m# If we don't have any hooks, we want to skip the rest of the logic in\u001b[39;00m\n\u001b[1;32m   1537\u001b[0m \u001b[38;5;66;03m# this function, and just call forward.\u001b[39;00m\n\u001b[1;32m   1538\u001b[0m \u001b[38;5;28;01mif\u001b[39;00m \u001b[38;5;129;01mnot\u001b[39;00m (\u001b[38;5;28mself\u001b[39m\u001b[38;5;241m.\u001b[39m_backward_hooks \u001b[38;5;129;01mor\u001b[39;00m \u001b[38;5;28mself\u001b[39m\u001b[38;5;241m.\u001b[39m_backward_pre_hooks \u001b[38;5;129;01mor\u001b[39;00m \u001b[38;5;28mself\u001b[39m\u001b[38;5;241m.\u001b[39m_forward_hooks \u001b[38;5;129;01mor\u001b[39;00m \u001b[38;5;28mself\u001b[39m\u001b[38;5;241m.\u001b[39m_forward_pre_hooks\n\u001b[1;32m   1539\u001b[0m         \u001b[38;5;129;01mor\u001b[39;00m _global_backward_pre_hooks \u001b[38;5;129;01mor\u001b[39;00m _global_backward_hooks\n\u001b[1;32m   1540\u001b[0m         \u001b[38;5;129;01mor\u001b[39;00m _global_forward_hooks \u001b[38;5;129;01mor\u001b[39;00m _global_forward_pre_hooks):\n\u001b[0;32m-> 1541\u001b[0m     \u001b[38;5;28;01mreturn\u001b[39;00m \u001b[43mforward_call\u001b[49m\u001b[43m(\u001b[49m\u001b[38;5;241;43m*\u001b[39;49m\u001b[43margs\u001b[49m\u001b[43m,\u001b[49m\u001b[43m \u001b[49m\u001b[38;5;241;43m*\u001b[39;49m\u001b[38;5;241;43m*\u001b[39;49m\u001b[43mkwargs\u001b[49m\u001b[43m)\u001b[49m\n\u001b[1;32m   1543\u001b[0m \u001b[38;5;28;01mtry\u001b[39;00m:\n\u001b[1;32m   1544\u001b[0m     result \u001b[38;5;241m=\u001b[39m \u001b[38;5;28;01mNone\u001b[39;00m\n",
      "File \u001b[0;32m~/miniconda3/envs/casanovo_env_analysis/lib/python3.10/site-packages/torch/nn/modules/sparse.py:163\u001b[0m, in \u001b[0;36mEmbedding.forward\u001b[0;34m(self, input)\u001b[0m\n\u001b[1;32m    162\u001b[0m \u001b[38;5;28;01mdef\u001b[39;00m \u001b[38;5;21mforward\u001b[39m(\u001b[38;5;28mself\u001b[39m, \u001b[38;5;28minput\u001b[39m: Tensor) \u001b[38;5;241m-\u001b[39m\u001b[38;5;241m>\u001b[39m Tensor:\n\u001b[0;32m--> 163\u001b[0m     \u001b[38;5;28;01mreturn\u001b[39;00m \u001b[43mF\u001b[49m\u001b[38;5;241;43m.\u001b[39;49m\u001b[43membedding\u001b[49m\u001b[43m(\u001b[49m\n\u001b[1;32m    164\u001b[0m \u001b[43m        \u001b[49m\u001b[38;5;28;43minput\u001b[39;49m\u001b[43m,\u001b[49m\u001b[43m \u001b[49m\u001b[38;5;28;43mself\u001b[39;49m\u001b[38;5;241;43m.\u001b[39;49m\u001b[43mweight\u001b[49m\u001b[43m,\u001b[49m\u001b[43m \u001b[49m\u001b[38;5;28;43mself\u001b[39;49m\u001b[38;5;241;43m.\u001b[39;49m\u001b[43mpadding_idx\u001b[49m\u001b[43m,\u001b[49m\u001b[43m \u001b[49m\u001b[38;5;28;43mself\u001b[39;49m\u001b[38;5;241;43m.\u001b[39;49m\u001b[43mmax_norm\u001b[49m\u001b[43m,\u001b[49m\n\u001b[1;32m    165\u001b[0m \u001b[43m        \u001b[49m\u001b[38;5;28;43mself\u001b[39;49m\u001b[38;5;241;43m.\u001b[39;49m\u001b[43mnorm_type\u001b[49m\u001b[43m,\u001b[49m\u001b[43m \u001b[49m\u001b[38;5;28;43mself\u001b[39;49m\u001b[38;5;241;43m.\u001b[39;49m\u001b[43mscale_grad_by_freq\u001b[49m\u001b[43m,\u001b[49m\u001b[43m \u001b[49m\u001b[38;5;28;43mself\u001b[39;49m\u001b[38;5;241;43m.\u001b[39;49m\u001b[43msparse\u001b[49m\u001b[43m)\u001b[49m\n",
      "File \u001b[0;32m~/miniconda3/envs/casanovo_env_analysis/lib/python3.10/site-packages/torch/nn/functional.py:2264\u001b[0m, in \u001b[0;36membedding\u001b[0;34m(input, weight, padding_idx, max_norm, norm_type, scale_grad_by_freq, sparse)\u001b[0m\n\u001b[1;32m   2258\u001b[0m     \u001b[38;5;66;03m# Note [embedding_renorm set_grad_enabled]\u001b[39;00m\n\u001b[1;32m   2259\u001b[0m     \u001b[38;5;66;03m# XXX: equivalent to\u001b[39;00m\n\u001b[1;32m   2260\u001b[0m     \u001b[38;5;66;03m# with torch.no_grad():\u001b[39;00m\n\u001b[1;32m   2261\u001b[0m     \u001b[38;5;66;03m#   torch.embedding_renorm_\u001b[39;00m\n\u001b[1;32m   2262\u001b[0m     \u001b[38;5;66;03m# remove once script supports set_grad_enabled\u001b[39;00m\n\u001b[1;32m   2263\u001b[0m     _no_grad_embedding_renorm_(weight, \u001b[38;5;28minput\u001b[39m, max_norm, norm_type)\n\u001b[0;32m-> 2264\u001b[0m \u001b[38;5;28;01mreturn\u001b[39;00m \u001b[43mtorch\u001b[49m\u001b[38;5;241;43m.\u001b[39;49m\u001b[43membedding\u001b[49m\u001b[43m(\u001b[49m\u001b[43mweight\u001b[49m\u001b[43m,\u001b[49m\u001b[43m \u001b[49m\u001b[38;5;28;43minput\u001b[39;49m\u001b[43m,\u001b[49m\u001b[43m \u001b[49m\u001b[43mpadding_idx\u001b[49m\u001b[43m,\u001b[49m\u001b[43m \u001b[49m\u001b[43mscale_grad_by_freq\u001b[49m\u001b[43m,\u001b[49m\u001b[43m \u001b[49m\u001b[43msparse\u001b[49m\u001b[43m)\u001b[49m\n",
      "\u001b[0;31mIndexError\u001b[0m: index out of range in self"
     ]
    }
   ],
   "source": [
    "attr, delta = ig.attribute(\n",
    "    (dtp[135][0], dtp[135][1], peptide_tokens), target=0, return_convergence_delta=True\n",
    ")"
   ]
  },
  {
   "cell_type": "code",
   "execution_count": 32,
   "metadata": {},
   "outputs": [],
   "source": [
    "prediction_table = get_aa_probability_table(\n",
    "    model=model_pt_interpretable,\n",
    "    spectra=dtp[135][0],\n",
    "    precursors=dtp[135][1],\n",
    "    peptide = \"SAVESGSAAGTR\",\n",
    "    tokens=tokens\n",
    ")"
   ]
  },
  {
   "cell_type": "code",
   "execution_count": 78,
   "metadata": {},
   "outputs": [
    {
     "name": "stdout",
     "output_type": "stream",
     "text": [
      "[tensor([ 2, 11, 12,  6,  3,  3,  3, 16,  3,  3,  3,  5, 11])]\n"
     ]
    }
   ],
   "source": [
    "prediction_scores = model_pt_interpretable.forward(\n",
    "    spectra=dtp_1[0],\n",
    "    precursors=dtp_1[1],\n",
    "    peptide = \"DVSSSHSSSTQDA\"\n",
    ").detach().numpy()"
   ]
  },
  {
   "cell_type": "code",
   "execution_count": 34,
   "metadata": {},
   "outputs": [
    {
     "data": {
      "text/plain": [
       "Text(0.5, 1.0, 'SAVESGSAAGTR')"
      ]
     },
     "execution_count": 34,
     "metadata": {},
     "output_type": "execute_result"
    },
    {
     "data": {
      "image/png": "[encoded data removed]",
      "text/plain": [
       "<Figure size 2000x800 with 2 Axes>"
      ]
     },
     "metadata": {},
     "output_type": "display_data"
    }
   ],
   "source": [
    "peptide = \"SAVESGSAAGTR\"\n",
    "prediction_table = get_aa_probability_table(\n",
    "    model=model_pt_interpretable,\n",
    "    spectra=dtp[135][0],\n",
    "    precursors=dtp[135][1],\n",
    "    peptide = peptide,\n",
    "    tokens=tokens\n",
    ")\n",
    "\n",
    "plt.figure(figsize=(20,8))\n",
    "sns.heatmap(\n",
    "    prediction_table\n",
    ")\n",
    "plt.title(peptide)"
   ]
  },
  {
   "cell_type": "code",
   "execution_count": 36,
   "metadata": {},
   "outputs": [
    {
     "data": {
      "text/plain": [
       "Text(0.5, 1.0, 'SAVESGSAAASR')"
      ]
     },
     "execution_count": 36,
     "metadata": {},
     "output_type": "execute_result"
    },
    {
     "data": {
      "image/png": "[encoded data removed]",
      "text/plain": [
       "<Figure size 2000x800 with 2 Axes>"
      ]
     },
     "metadata": {},
     "output_type": "display_data"
    }
   ],
   "source": [
    "peptide = \"SAVESGSAAASR\"\n",
    "prediction_table = get_aa_probability_table(\n",
    "    model=model_pt_interpretable,\n",
    "    spectra=dtp[135][0],\n",
    "    precursors=dtp[135][1],\n",
    "    peptide = peptide,\n",
    "    tokens=tokens\n",
    ")\n",
    "\n",
    "plt.figure(figsize=(20,8))\n",
    "sns.heatmap(\n",
    "    prediction_table\n",
    ")\n",
    "plt.title(peptide)"
   ]
  },
  {
   "cell_type": "code",
   "execution_count": 38,
   "metadata": {},
   "outputs": [],
   "source": [
    "from captum.attr import IntegratedGradients"
   ]
  },
  {
   "cell_type": "code",
   "execution_count": 39,
   "metadata": {},
   "outputs": [],
   "source": [
    "ig = IntegratedGradients(\n",
    "    model_pt_interpretable\n",
    ")"
   ]
  },
  {
   "cell_type": "code",
   "execution_count": null,
   "metadata": {},
   "outputs": [],
   "source": []
  },
  {
   "cell_type": "code",
   "execution_count": null,
   "metadata": {},
   "outputs": [],
   "source": [
    "attr, delta = ig.attribute(\n",
    "    test_input_tensor, target=2, return_convergence_delta=True\n",
    ")"
   ]
  }
 ],
 "metadata": {
  "kernelspec": {
   "display_name": "casanovo_env",
   "language": "python",
   "name": "python3"
  },
  "language_info": {
   "codemirror_mode": {
    "name": "ipython",
    "version": 3
   },
   "file_extension": ".py",
   "mimetype": "text/x-python",
   "name": "python",
   "nbconvert_exporter": "python",
   "pygments_lexer": "ipython3",
   "version": "3.10.14"
  }
 },
 "nbformat": 4,
 "nbformat_minor": 2
}
