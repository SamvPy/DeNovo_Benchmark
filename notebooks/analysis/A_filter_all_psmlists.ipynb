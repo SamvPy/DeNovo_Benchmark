{
 "cells": [
  {
   "cell_type": "code",
   "execution_count": 1,
   "metadata": {},
   "outputs": [],
   "source": [
    "import pandas as pd\n",
    "\n",
    "from denovo_utils.analysis.evaluation import (\n",
    "    calculate_all_accuracy_metrics,\n",
    "    subset_spectra_on_psmtype,\n",
    "    evaluate_prediction,\n",
    "    load_and_preprocess,\n",
    "    annotate_GMM_clusters,\n",
    "    filter_gmm_cluster,\n",
    "    calculate_metrics\n",
    ")\n",
    "\n",
    "\n",
    "from matplotlib import pyplot as plt\n",
    "import seaborn as sns\n",
    "\n",
    "import warnings\n",
    "warnings.filterwarnings(\"ignore\")\n",
    "from tqdm import tqdm\n",
    "\n",
    "import json\n",
    "import os"
   ]
  },
  {
   "cell_type": "code",
   "execution_count": 2,
   "metadata": {},
   "outputs": [],
   "source": [
    "from functools import partialmethod\n",
    "\n",
    "tqdm.__init__ = partialmethod(tqdm.__init__, disable=True)"
   ]
  },
  {
   "cell_type": "markdown",
   "metadata": {},
   "source": [
    "# Filtering all PSMS with gaussian mixture models"
   ]
  },
  {
   "cell_type": "markdown",
   "metadata": {},
   "source": [
    "Filter the psmslists while keeping some metrics along the way"
   ]
  },
  {
   "cell_type": "markdown",
   "metadata": {},
   "source": [
    "# 1. Load data"
   ]
  },
  {
   "cell_type": "code",
   "execution_count": 3,
   "metadata": {},
   "outputs": [],
   "source": [
    "filenames = [\n",
    "    \"F01_Fraction1\",\n",
    "    \"F01_Fraction2\",\n",
    "    \"F01_Fraction3\",\n",
    "    \"F01_Fraction4\",\n",
    "    \"F06\",\n",
    "    \"F07_Fraction1\",\n",
    "    \"F07_Fraction2\",\n",
    "    \"F07_Fraction3\",\n",
    "    \"F07_Fraction4\",\n",
    "    \"F08_Rep1\",\n",
    "    \"F08_Rep2\",\n",
    "    \"F08_Rep3\",\n",
    "    # \"S03\", Missing in PT1 (casanovo instanovo ... --> rerun)\n",
    "    # \"S05\",\n",
    "    \"S07\",\n",
    "    \"S08\",\n",
    "    \"S11_Fraction1\",\n",
    "    \"S11_Fraction2\",\n",
    "    \"S11_Fraction3\",\n",
    "    \"S11_Fraction4\",\n",
    "    \"S14_Rep1\",\n",
    "    \"S14_Rep2\",\n",
    "    \"S14_Rep3\",\n",
    "]\n",
    "\n",
    "engines = [\n",
    "    'Casanovo4.2.0', 'InstaNovo', 'PepNet', 'ContraNovo',\n",
    "    'NovoB', 'Novor', 'PepNovo+'\n",
    "]"
   ]
  },
  {
   "cell_type": "code",
   "execution_count": 4,
   "metadata": {},
   "outputs": [],
   "source": [
    "root_data=\"/home/samva/Doctorate/data_directory/denovo_project\"\n",
    "save_directory = \"/home/samva/Doctorate/data_directory/denovo_project/denovo_results/psmlists\""
   ]
  },
  {
   "cell_type": "markdown",
   "metadata": {},
   "source": [
    "# For a single file"
   ]
  },
  {
   "cell_type": "code",
   "execution_count": 5,
   "metadata": {},
   "outputs": [
    {
     "name": "stdout",
     "output_type": "stream",
     "text": [
      "['Casanovo4.2.0', 'InstaNovo', 'PepNet', 'ContraNovo']\n",
      "['NovoB', 'Novor', 'PepNovo+']\n",
      "['sage']\n"
     ]
    }
   ],
   "source": [
    "# Load all data in a dataframe and do some basic preprocessing\n",
    "df = load_and_preprocess(\n",
    "    root=root_data,\n",
    "    filename=\"F01_Fraction1\"\n",
    ")"
   ]
  },
  {
   "cell_type": "code",
   "execution_count": 6,
   "metadata": {},
   "outputs": [],
   "source": [
    "# Fit GMMs and assign cluster labels to PSMs\n",
    "df, gmm_metrics = annotate_GMM_clusters(df, db_engine=\"sage\", only_df=False)"
   ]
  },
  {
   "cell_type": "code",
   "execution_count": 7,
   "metadata": {},
   "outputs": [],
   "source": [
    "df_filtered = filter_gmm_cluster(df=df, keep_cluster_label=1)\n",
    "\n",
    "metrics = calculate_metrics(\n",
    "    df_filtered,\n",
    "    engines=engines\n",
    ")"
   ]
  },
  {
   "cell_type": "code",
   "execution_count": 8,
   "metadata": {},
   "outputs": [],
   "source": [
    "df_filtered.to_csv(\"/home/samva/Doctorate/data_directory/denovo_project/denovo_results/psmlists/df/F01_Fraction1.csv\", index=False)"
   ]
  },
  {
   "cell_type": "markdown",
   "metadata": {},
   "source": [
    "# For all files"
   ]
  },
  {
   "cell_type": "code",
   "execution_count": null,
   "metadata": {},
   "outputs": [],
   "source": [
    "metrics = {}\n",
    "metrics_gmm = {}\n",
    "df_filtered = {}"
   ]
  },
  {
   "cell_type": "code",
   "execution_count": 5,
   "metadata": {},
   "outputs": [],
   "source": [
    "import json\n",
    "def save_to_json(data, path):\n",
    "    with open(path, \"w\") as f:\n",
    "        json_obj = json.dumps(data, indent=4)\n",
    "        f.write(json_obj)"
   ]
  },
  {
   "cell_type": "code",
   "execution_count": 6,
   "metadata": {},
   "outputs": [
    {
     "name": "stdout",
     "output_type": "stream",
     "text": [
      "F01_Fraction1\n",
      "['Casanovo4.2.0', 'InstaNovo', 'PepNet', 'ContraNovo']\n",
      "['NovoB', 'Novor', 'PepNovo+']\n",
      "['sage']\n",
      "F01_Fraction2\n",
      "['Casanovo4.2.0', 'InstaNovo', 'PepNet', 'ContraNovo']\n",
      "['NovoB', 'Novor', 'PepNovo+']\n",
      "['sage']\n",
      "F01_Fraction3\n",
      "['Casanovo4.2.0', 'InstaNovo', 'PepNet', 'ContraNovo']\n",
      "['NovoB', 'Novor', 'PepNovo+']\n",
      "['sage']\n",
      "F01_Fraction4\n",
      "['Casanovo4.2.0', 'InstaNovo', 'PepNet', 'ContraNovo']\n",
      "['NovoB', 'Novor', 'PepNovo+']\n",
      "['sage']\n",
      "F06\n",
      "['Casanovo4.2.0', 'InstaNovo', 'PepNet', 'ContraNovo']\n",
      "['NovoB', 'Novor', 'PepNovo+']\n",
      "['sage']\n",
      "F07_Fraction1\n",
      "['Casanovo4.2.0', 'InstaNovo', 'PepNet', 'ContraNovo']\n",
      "['NovoB', 'Novor', 'PepNovo+']\n",
      "['sage']\n",
      "F07_Fraction2\n",
      "['Casanovo4.2.0', 'InstaNovo', 'PepNet', 'ContraNovo']\n",
      "['NovoB', 'Novor', 'PepNovo+']\n",
      "['sage']\n",
      "F07_Fraction3\n",
      "['Casanovo4.2.0', 'InstaNovo', 'PepNet', 'ContraNovo']\n",
      "['NovoB', 'Novor', 'PepNovo+']\n",
      "['sage']\n",
      "F07_Fraction4\n",
      "['Casanovo4.2.0', 'InstaNovo', 'PepNet', 'ContraNovo']\n",
      "['NovoB', 'Novor', 'PepNovo+']\n",
      "['sage']\n",
      "F08_Rep1\n",
      "['Casanovo4.2.0', 'InstaNovo', 'PepNet', 'ContraNovo']\n",
      "['NovoB', 'Novor', 'PepNovo+']\n",
      "['sage']\n",
      "F08_Rep2\n",
      "['Casanovo4.2.0', 'InstaNovo', 'PepNet', 'ContraNovo']\n",
      "['NovoB', 'Novor', 'PepNovo+']\n",
      "['sage']\n",
      "F08_Rep3\n",
      "['Casanovo4.2.0', 'InstaNovo', 'PepNet', 'ContraNovo']\n",
      "['NovoB', 'Novor', 'PepNovo+']\n",
      "['sage']\n",
      "S07\n",
      "['Casanovo4.2.0', 'InstaNovo', 'PepNet', 'ContraNovo']\n",
      "['NovoB', 'Novor', 'PepNovo+']\n",
      "['sage']\n",
      "S08\n",
      "['Casanovo4.2.0', 'InstaNovo', 'PepNet', 'ContraNovo']\n",
      "['NovoB', 'Novor', 'PepNovo+']\n",
      "['sage']\n",
      "S11_Fraction1\n",
      "['Casanovo4.2.0', 'InstaNovo', 'PepNet', 'ContraNovo']\n",
      "['NovoB', 'Novor', 'PepNovo+']\n",
      "['sage']\n",
      "S11_Fraction2\n",
      "['Casanovo4.2.0', 'InstaNovo', 'PepNet', 'ContraNovo']\n",
      "['NovoB', 'Novor', 'PepNovo+']\n",
      "['sage']\n",
      "S11_Fraction3\n",
      "['Casanovo4.2.0', 'InstaNovo', 'PepNet', 'ContraNovo']\n",
      "['NovoB', 'Novor', 'PepNovo+']\n",
      "['sage']\n",
      "S11_Fraction4\n",
      "['Casanovo4.2.0', 'InstaNovo', 'PepNet', 'ContraNovo']\n",
      "['NovoB', 'Novor', 'PepNovo+']\n",
      "['sage']\n",
      "S14_Rep1\n",
      "['Casanovo4.2.0', 'InstaNovo', 'PepNet', 'ContraNovo']\n",
      "['NovoB', 'Novor', 'PepNovo+']\n",
      "['sage']\n",
      "S14_Rep2\n",
      "['Casanovo4.2.0', 'InstaNovo', 'PepNet', 'ContraNovo']\n",
      "['NovoB', 'Novor', 'PepNovo+']\n",
      "['sage']\n",
      "S14_Rep3\n",
      "['Casanovo4.2.0', 'InstaNovo', 'PepNet', 'ContraNovo']\n",
      "['NovoB', 'Novor', 'PepNovo+']\n",
      "['sage']\n"
     ]
    }
   ],
   "source": [
    "for filename in filenames:\n",
    "    print(filename)\n",
    "\n",
    "    # Load data, parse and preprocess a bit\n",
    "    df = load_and_preprocess(\n",
    "        root=root_data,\n",
    "        filename=filename\n",
    "    )\n",
    "    \n",
    "    # Fit GMMs and assign cluster labels to PSMs\n",
    "    df, metrics_gmm_file = annotate_GMM_clusters(df, db_engine=\"sage\", only_df=False)\n",
    "    df_filtered_file = filter_gmm_cluster(df=df, keep_cluster_label=1)\n",
    "\n",
    "    # Get some accuracy metrics for evaluation of the filtering\n",
    "    metrics_file = calculate_metrics(\n",
    "        df_filtered_file,\n",
    "        engines=engines\n",
    "    )\n",
    "\n",
    "    # Store\n",
    "    df_filtered_file.to_csv(os.path.join(\n",
    "        save_directory, \"df\", filename+\".csv\"\n",
    "    ), index=False)\n",
    "\n",
    "    save_to_json(metrics_file, \n",
    "                 os.path.join(\n",
    "                     save_directory,\n",
    "                     \"metrics\",\n",
    "                     filename+\"_accuracy.json\"\n",
    "                 ))\n",
    "    save_to_json(metrics_gmm_file, \n",
    "                 os.path.join(\n",
    "                     save_directory,\n",
    "                     \"metrics\",\n",
    "                     filename+\"_gmm.json\"\n",
    "                 ))"
   ]
  }
 ],
 "metadata": {
  "kernelspec": {
   "display_name": "denovo_analysis_env",
   "language": "python",
   "name": "python3"
  },
  "language_info": {
   "codemirror_mode": {
    "name": "ipython",
    "version": 3
   },
   "file_extension": ".py",
   "mimetype": "text/x-python",
   "name": "python",
   "nbconvert_exporter": "python",
   "pygments_lexer": "ipython3",
   "version": "3.11.9"
  }
 },
 "nbformat": 4,
 "nbformat_minor": 2
}
