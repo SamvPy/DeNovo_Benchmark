{
 "cells": [
  {
   "cell_type": "markdown",
   "metadata": {},
   "source": [
    "## Use a simple logistic model to see which features prevent or improve correct predictions"
   ]
  },
  {
   "cell_type": "markdown",
   "metadata": {},
   "source": [
    "For this, PSM features will be used which are readily interpretable, e.g. number of matched peaks, noise factor etc"
   ]
  },
  {
   "cell_type": "code",
   "execution_count": 2,
   "metadata": {},
   "outputs": [],
   "source": [
    "from denovo_utils.parsers import DenovoEngineConverter\n",
    "from denovo_utils.analysis.missing_fragmentations import MissingFragmentationSiteFGen\n",
    "\n",
    "import os\n",
    "import pandas as pd"
   ]
  },
  {
   "cell_type": "code",
   "execution_count": 1,
   "metadata": {},
   "outputs": [],
   "source": [
    "root_denovo = \"/home/samva/Doctorate/DeNovo_Benchmark/notebooks/analysis/filtered_results\"\n",
    "root_mgf = \"/home/samva/Doctorate/data_directory/denovo_project/mgf_filtered\"\n",
    "root_sage = \"/home/samva/Doctorate/data_directory/denovo_project/denovo_results/sage\"\n",
    "filename = \"F01_Fraction2\""
   ]
  },
  {
   "cell_type": "code",
   "execution_count": null,
   "metadata": {},
   "outputs": [],
   "source": [
    "# 1. Read a sage psmlist\n",
    "parser = DenovoEngineConverter.select(\"sage\")\n",
    "psmlist = parser.parse(result_path=os.path.join(root_sage, filename+\".sage.tsv\"), mgf_path=\"\")\n",
    "psmlist = psmlist[~psmlist[\"is_decoy\"]]\n",
    "psmlist = psmlist[psmlist[\"qvalue\"] < .01]\n",
    "\n",
    "# 2. Add features\n",
    "# Features to be included\n",
    "features = [\n",
    "    \"peplen\",\n",
    "    \"charge\",\n",
    "    \"precursor_mz\",\n",
    "    \"mass_delta_precursor\",\n",
    "    \"TIC\",\n",
    "    \"missing_frag_bool\",\n",
    "    \"missing_frag_sites\",\n",
    "    \"missing_frag_proportion\",\n",
    "    \"missing_frag_longest\",\n",
    "    \"missing_frag_from_c\",\n",
    "    \"missing_frag_from_n\",\n",
    "    \"matched_intensity_pct\",\n",
    "    \"missed_cleavages\",\n",
    "    \"isotope_error\",\n",
    "    \"n_large_unannot_peaks\",\n",
    "    \"pct_intensity_large_unannot_peaks\",\n",
    "    \"pct_peaks_annotated\",\n",
    "    \"pct_unfragmented_precursor\",\n",
    "    \"n_peaks\",\n",
    "    \"precursor_peak_present\",\n",
    "    \"mean_ppm_y\",\n",
    "    \"mean_ppm_b\",\n",
    "    \"pct_frag_y\",\n",
    "    \"pct_frag_b\",\n",
    "    \"hyperscore\"\n",
    "]\n",
    "\n",
    "\n",
    "\n",
    "# 3. Split the spectra\n",
    "\n",
    "\n",
    "# 4. Preprocess the features\n",
    "\n",
    "\n",
    "# 5. Build model training loop\n",
    "\n",
    "\n",
    "# 6. Train model\n",
    "\n",
    "\n",
    "# 7. Evaluate performance\n",
    "\n",
    "\n",
    "# 8. Analyse model coefficients\n",
    "\n",
    "\n",
    "# 9. Comparative analysis of model coefficients between engines\n",
    "\n",
    "\n",
    "# 10. Conclusion"
   ]
  }
 ],
 "metadata": {
  "kernelspec": {
   "display_name": "denovo_analysis_env",
   "language": "python",
   "name": "python3"
  },
  "language_info": {
   "codemirror_mode": {
    "name": "ipython",
    "version": 3
   },
   "file_extension": ".py",
   "mimetype": "text/x-python",
   "name": "python",
   "nbconvert_exporter": "python",
   "pygments_lexer": "ipython3",
   "version": "3.11.9"
  }
 },
 "nbformat": 4,
 "nbformat_minor": 2
}
