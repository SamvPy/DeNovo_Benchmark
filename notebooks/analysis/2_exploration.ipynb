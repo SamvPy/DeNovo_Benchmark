{
 "cells": [
  {
   "cell_type": "code",
   "execution_count": 1,
   "metadata": {},
   "outputs": [],
   "source": [
    "from denovo_utils.parsers.converters import SpectralisParser\n",
    "import pandas as pd\n",
    "import os"
   ]
  },
  {
   "cell_type": "code",
   "execution_count": 6,
   "metadata": {},
   "outputs": [],
   "source": [
    "root_data=\"/home/samva/Doctorate/data_directory/denovo_project\"\n",
    "mgf_path=os.path.join(root_data, \"mgf_filtered/F06.mgf\")\n",
    "results_dir=os.path.join(root_data, \"denovo_results\")"
   ]
  },
  {
   "cell_type": "code",
   "execution_count": 7,
   "metadata": {},
   "outputs": [
    {
     "name": "stderr",
     "output_type": "stream",
     "text": [
      "100%|██████████| 80842/80842 [00:01<00:00, 47171.09it/s]\n",
      "100%|██████████| 80842/80842 [00:00<00:00, 158178.97it/s]\n",
      "100%|██████████| 80759/80759 [00:01<00:00, 49956.62it/s]\n",
      "100%|██████████| 80759/80759 [00:00<00:00, 154985.36it/s]\n",
      "100%|██████████| 83186/83186 [00:01<00:00, 66641.39it/s]\n",
      "100%|██████████| 83186/83186 [00:00<00:00, 158299.03it/s]\n",
      "100%|██████████| 40545/40545 [00:00<00:00, 62326.73it/s]\n",
      "100%|██████████| 40545/40545 [00:00<00:00, 156640.11it/s]\n"
     ]
    }
   ],
   "source": [
    "parser_spectralis = SpectralisParser(\n",
    "    mgf_path=mgf_path,\n",
    "    results_dir=results_dir\n",
    ")\n",
    "parser_spectralis.parse(\n",
    "    path_spectralis=os.path.join(\n",
    "        results_dir,\n",
    "        \"refinement/spectralis/F06_annotated_rescoring.csv\"\n",
    "    )\n",
    ")"
   ]
  },
  {
   "cell_type": "code",
   "execution_count": 10,
   "metadata": {},
   "outputs": [],
   "source": [
    "parser_spectralis.add_xtandem(\n",
    "    result_path=os.path.join(root_data, \"search_results/XTandem_percolator/F06.pout\")\n",
    ")"
   ]
  },
  {
   "cell_type": "code",
   "execution_count": 15,
   "metadata": {},
   "outputs": [],
   "source": [
    "df = parser_spectralis.dataframe"
   ]
  },
  {
   "cell_type": "code",
   "execution_count": 18,
   "metadata": {},
   "outputs": [
    {
     "data": {
      "text/plain": [
       "source\n",
       "PepNet           83186\n",
       "Casanovo4.2.0    80842\n",
       "InstaNovo        80759\n",
       "percolator       66592\n",
       "ContraNovo       40545\n",
       "Name: count, dtype: int64"
      ]
     },
     "execution_count": 18,
     "metadata": {},
     "output_type": "execute_result"
    }
   ],
   "source": [
    "df.source.value_counts()"
   ]
  },
  {
   "cell_type": "code",
   "execution_count": null,
   "metadata": {},
   "outputs": [],
   "source": [
    "df = df[df]"
   ]
  }
 ],
 "metadata": {
  "kernelspec": {
   "display_name": "denovo_analysis_env",
   "language": "python",
   "name": "python3"
  },
  "language_info": {
   "codemirror_mode": {
    "name": "ipython",
    "version": 3
   },
   "file_extension": ".py",
   "mimetype": "text/x-python",
   "name": "python",
   "nbconvert_exporter": "python",
   "pygments_lexer": "ipython3",
   "version": "3.11.9"
  }
 },
 "nbformat": 4,
 "nbformat_minor": 2
}
