{
 "cells": [
  {
   "cell_type": "code",
   "execution_count": 1,
   "metadata": {},
   "outputs": [],
   "source": [
    "from denovo_utils.parsers.converters import SpectralisParser\n",
    "import pandas as pd\n",
    "import os"
   ]
  },
  {
   "cell_type": "code",
   "execution_count": 2,
   "metadata": {},
   "outputs": [],
   "source": [
    "root_data=\"/home/samva/Doctorate/data_directory/denovo_project\"\n",
    "mgf_path=os.path.join(root_data, \"mgf_filtered/F06.mgf\")\n",
    "results_dir=os.path.join(root_data, \"denovo_results\")"
   ]
  },
  {
   "cell_type": "code",
   "execution_count": 3,
   "metadata": {},
   "outputs": [
    {
     "name": "stderr",
     "output_type": "stream",
     "text": [
      "100%|██████████| 80842/80842 [00:01<00:00, 43139.74it/s]\n",
      "100%|██████████| 80842/80842 [00:00<00:00, 137473.00it/s]\n",
      "100%|██████████| 80759/80759 [00:01<00:00, 51097.29it/s]\n",
      "100%|██████████| 80759/80759 [00:00<00:00, 148250.44it/s]\n",
      "100%|██████████| 83186/83186 [00:01<00:00, 65628.28it/s]\n",
      "100%|██████████| 83186/83186 [00:00<00:00, 156736.43it/s]\n",
      "100%|██████████| 40545/40545 [00:00<00:00, 63001.57it/s]\n",
      "100%|██████████| 40545/40545 [00:00<00:00, 156820.67it/s]\n",
      "100%|██████████| 79457/79457 [00:04<00:00, 19408.95it/s]\n",
      "100%|██████████| 78630/78630 [00:00<00:00, 147179.73it/s]\n",
      "100%|██████████| 80955/80955 [00:01<00:00, 61581.72it/s]\n",
      "100%|██████████| 80955/80955 [00:00<00:00, 159078.05it/s]\n"
     ]
    },
    {
     "ename": "FileNotFoundError",
     "evalue": "[Errno 2] No such file or directory: '/home/samva/Doctorate/data_directory/denovo_project/denovo_results/pepnovo/F06'",
     "output_type": "error",
     "traceback": [
      "\u001b[0;31m---------------------------------------------------------------------------\u001b[0m",
      "\u001b[0;31mFileNotFoundError\u001b[0m                         Traceback (most recent call last)",
      "Cell \u001b[0;32mIn[3], line 11\u001b[0m\n\u001b[1;32m      1\u001b[0m parser_spectralis \u001b[38;5;241m=\u001b[39m SpectralisParser(\n\u001b[1;32m      2\u001b[0m     mgf_path\u001b[38;5;241m=\u001b[39mmgf_path,\n\u001b[1;32m      3\u001b[0m     results_dir\u001b[38;5;241m=\u001b[39mresults_dir\n\u001b[1;32m      4\u001b[0m )\n\u001b[1;32m      5\u001b[0m parser_spectralis\u001b[38;5;241m.\u001b[39mparse(\n\u001b[1;32m      6\u001b[0m     path_spectralis\u001b[38;5;241m=\u001b[39mos\u001b[38;5;241m.\u001b[39mpath\u001b[38;5;241m.\u001b[39mjoin(\n\u001b[1;32m      7\u001b[0m         results_dir,\n\u001b[1;32m      8\u001b[0m         \u001b[38;5;124m\"\u001b[39m\u001b[38;5;124mrefinement/spectralis/pt1/F06_annotated_rescoring.csv\u001b[39m\u001b[38;5;124m\"\u001b[39m\n\u001b[1;32m      9\u001b[0m     )\n\u001b[1;32m     10\u001b[0m )\n\u001b[0;32m---> 11\u001b[0m \u001b[43mparser_spectralis\u001b[49m\u001b[38;5;241;43m.\u001b[39;49m\u001b[43mparse\u001b[49m\u001b[43m(\u001b[49m\n\u001b[1;32m     12\u001b[0m \u001b[43m    \u001b[49m\u001b[43mpath_spectralis\u001b[49m\u001b[38;5;241;43m=\u001b[39;49m\u001b[43mos\u001b[49m\u001b[38;5;241;43m.\u001b[39;49m\u001b[43mpath\u001b[49m\u001b[38;5;241;43m.\u001b[39;49m\u001b[43mjoin\u001b[49m\u001b[43m(\u001b[49m\n\u001b[1;32m     13\u001b[0m \u001b[43m        \u001b[49m\u001b[43mresults_dir\u001b[49m\u001b[43m,\u001b[49m\n\u001b[1;32m     14\u001b[0m \u001b[43m        \u001b[49m\u001b[38;5;124;43m\"\u001b[39;49m\u001b[38;5;124;43mrefinement/spectralis/pt2/F06_annotated_rescoring.csv\u001b[39;49m\u001b[38;5;124;43m\"\u001b[39;49m\n\u001b[1;32m     15\u001b[0m \u001b[43m    \u001b[49m\u001b[43m)\u001b[49m\n\u001b[1;32m     16\u001b[0m \u001b[43m)\u001b[49m\n\u001b[1;32m     17\u001b[0m parser_spectralis\u001b[38;5;241m.\u001b[39madd_xtandem(\n\u001b[1;32m     18\u001b[0m     result_path\u001b[38;5;241m=\u001b[39mos\u001b[38;5;241m.\u001b[39mpath\u001b[38;5;241m.\u001b[39mjoin(root_data, \u001b[38;5;124m\"\u001b[39m\u001b[38;5;124msearch_results/XTandem_percolator/percolator/F06.pout\u001b[39m\u001b[38;5;124m\"\u001b[39m)\n\u001b[1;32m     19\u001b[0m )\n",
      "File \u001b[0;32m~/miniconda3/envs/denovo_analysis_env/lib/python3.11/site-packages/denovo_utils/parsers/converters/spectralis.py:104\u001b[0m, in \u001b[0;36mSpectralisParser.parse\u001b[0;34m(self, path_spectralis, overwrite)\u001b[0m\n\u001b[1;32m     99\u001b[0m     \u001b[38;5;28;01mcontinue\u001b[39;00m\n\u001b[1;32m    101\u001b[0m parser \u001b[38;5;241m=\u001b[39m DenovoEngineConverter\u001b[38;5;241m.\u001b[39mselect(\n\u001b[1;32m    102\u001b[0m     ENGINES_MAPPING[engine]\n\u001b[1;32m    103\u001b[0m )\n\u001b[0;32m--> 104\u001b[0m psm_df \u001b[38;5;241m=\u001b[39m \u001b[43mparser\u001b[49m\u001b[38;5;241;43m.\u001b[39;49m\u001b[43mparse\u001b[49m\u001b[43m(\u001b[49m\n\u001b[1;32m    105\u001b[0m \u001b[43m    \u001b[49m\u001b[43mresult_path\u001b[49m\u001b[38;5;241;43m=\u001b[39;49m\u001b[43mos\u001b[49m\u001b[38;5;241;43m.\u001b[39;49m\u001b[43mpath\u001b[49m\u001b[38;5;241;43m.\u001b[39;49m\u001b[43mjoin\u001b[49m\u001b[43m(\u001b[49m\n\u001b[1;32m    106\u001b[0m \u001b[43m        \u001b[49m\u001b[38;5;28;43mself\u001b[39;49m\u001b[38;5;241;43m.\u001b[39;49m\u001b[43mresults_dir\u001b[49m\u001b[43m,\u001b[49m\u001b[43m \u001b[49m\u001b[43mENGINES_MAPPING\u001b[49m\u001b[43m[\u001b[49m\u001b[43mengine\u001b[49m\u001b[43m]\u001b[49m\u001b[43m,\u001b[49m\u001b[43m \u001b[49m\u001b[38;5;28;43mself\u001b[39;49m\u001b[38;5;241;43m.\u001b[39;49m\u001b[43mfilename\u001b[49m\n\u001b[1;32m    107\u001b[0m \u001b[43m    \u001b[49m\u001b[43m)\u001b[49m\u001b[43m,\u001b[49m\n\u001b[1;32m    108\u001b[0m \u001b[43m    \u001b[49m\u001b[43mmgf_path\u001b[49m\u001b[38;5;241;43m=\u001b[39;49m\u001b[38;5;28;43mself\u001b[39;49m\u001b[38;5;241;43m.\u001b[39;49m\u001b[43mmgf_path\u001b[49m\n\u001b[1;32m    109\u001b[0m \u001b[43m\u001b[49m\u001b[43m)\u001b[49m\u001b[38;5;241m.\u001b[39mto_dataframe()\n\u001b[1;32m    111\u001b[0m spectralis_engine_results \u001b[38;5;241m=\u001b[39m spectralis_out_processed\u001b[38;5;241m.\u001b[39mloc[\n\u001b[1;32m    112\u001b[0m     spectralis_out_processed[engine],\n\u001b[1;32m    113\u001b[0m     [\u001b[38;5;124m\"\u001b[39m\u001b[38;5;124mscans\u001b[39m\u001b[38;5;124m\"\u001b[39m, \u001b[38;5;124m\"\u001b[39m\u001b[38;5;124mSpectralis_score\u001b[39m\u001b[38;5;124m\"\u001b[39m]\n\u001b[1;32m    114\u001b[0m ]\u001b[38;5;241m.\u001b[39mset_index(\u001b[38;5;124m\"\u001b[39m\u001b[38;5;124mscans\u001b[39m\u001b[38;5;124m\"\u001b[39m)\n\u001b[1;32m    116\u001b[0m _ \u001b[38;5;241m=\u001b[39m psm_df\u001b[38;5;241m.\u001b[39mprogress_apply(\n\u001b[1;32m    117\u001b[0m     \u001b[38;5;28;01mlambda\u001b[39;00m x: \u001b[38;5;28mself\u001b[39m\u001b[38;5;241m.\u001b[39m_add_spectralis_score(\n\u001b[1;32m    118\u001b[0m         x,\n\u001b[0;32m   (...)\u001b[0m\n\u001b[1;32m    121\u001b[0m     axis\u001b[38;5;241m=\u001b[39m\u001b[38;5;241m1\u001b[39m\n\u001b[1;32m    122\u001b[0m )\n",
      "File \u001b[0;32m~/miniconda3/envs/denovo_analysis_env/lib/python3.11/site-packages/denovo_utils/parsers/converters/base.py:56\u001b[0m, in \u001b[0;36mDenovoEngineConverter.parse\u001b[0;34m(self, result_path, mgf_path, max_length)\u001b[0m\n\u001b[1;32m     40\u001b[0m \u001b[38;5;28;01mdef\u001b[39;00m \u001b[38;5;21mparse\u001b[39m(\u001b[38;5;28mself\u001b[39m, result_path: \u001b[38;5;28mstr\u001b[39m, mgf_path: \u001b[38;5;28mstr\u001b[39m, max_length:\u001b[38;5;28mint\u001b[39m \u001b[38;5;241m=\u001b[39m \u001b[38;5;241m30\u001b[39m) \u001b[38;5;241m-\u001b[39m\u001b[38;5;241m>\u001b[39m PSMList:\n\u001b[1;32m     41\u001b[0m \u001b[38;5;250m    \u001b[39m\u001b[38;5;124;03m\"\"\"\u001b[39;00m\n\u001b[1;32m     42\u001b[0m \u001b[38;5;124;03m    Parse the results from a specified de novo search engine.\u001b[39;00m\n\u001b[1;32m     43\u001b[0m \n\u001b[0;32m   (...)\u001b[0m\n\u001b[1;32m     54\u001b[0m \u001b[38;5;124;03m        A PSMList (https://psm-utils.readthedocs.io/en/latest/api/psm_utils/#psm_utils.PSMList)\u001b[39;00m\n\u001b[1;32m     55\u001b[0m \u001b[38;5;124;03m    \"\"\"\u001b[39;00m\n\u001b[0;32m---> 56\u001b[0m     \u001b[38;5;28;01mreturn\u001b[39;00m \u001b[38;5;28;43mself\u001b[39;49m\u001b[38;5;241;43m.\u001b[39;49m\u001b[43mparser_func\u001b[49m\u001b[43m(\u001b[49m\n\u001b[1;32m     57\u001b[0m \u001b[43m        \u001b[49m\u001b[43mresult_path\u001b[49m\u001b[43m,\u001b[49m\n\u001b[1;32m     58\u001b[0m \u001b[43m        \u001b[49m\u001b[43mmgf_path\u001b[49m\u001b[43m,\u001b[49m\n\u001b[1;32m     59\u001b[0m \u001b[43m        \u001b[49m\u001b[43mMODIFICATION_MAPPING\u001b[49m\u001b[43m[\u001b[49m\u001b[38;5;28;43mself\u001b[39;49m\u001b[38;5;241;43m.\u001b[39;49m\u001b[43mlabel\u001b[49m\u001b[43m]\u001b[49m\u001b[43m,\u001b[49m\n\u001b[1;32m     60\u001b[0m \u001b[43m        \u001b[49m\u001b[43mmax_length\u001b[49m\n\u001b[1;32m     61\u001b[0m \u001b[43m    \u001b[49m\u001b[43m)\u001b[49m\n",
      "File \u001b[0;32m~/miniconda3/envs/denovo_analysis_env/lib/python3.11/site-packages/denovo_utils/parsers/converters/pepnovo.py:95\u001b[0m, in \u001b[0;36mpepnovo_parser\u001b[0;34m(result_path, mgf_path, mapping, max_length)\u001b[0m\n\u001b[1;32m     92\u001b[0m _ \u001b[38;5;241m=\u001b[39m mgf_file\u001b[38;5;241m.\u001b[39mpop(\u001b[38;5;124m\"\u001b[39m\u001b[38;5;124mcharge\u001b[39m\u001b[38;5;124m\"\u001b[39m)\n\u001b[1;32m     94\u001b[0m \u001b[38;5;66;03m# Parse the pepnovo text file towards a dataframe\u001b[39;00m\n\u001b[0;32m---> 95\u001b[0m \u001b[38;5;28;01mwith\u001b[39;00m \u001b[38;5;28;43mopen\u001b[39;49m\u001b[43m(\u001b[49m\u001b[43mresult_path\u001b[49m\u001b[43m)\u001b[49m \u001b[38;5;28;01mas\u001b[39;00m f:\n\u001b[1;32m     96\u001b[0m     result \u001b[38;5;241m=\u001b[39m pepnovo_to_df(f)\n\u001b[1;32m     98\u001b[0m \u001b[38;5;66;03m# Handle the dataframe as all other parsers\u001b[39;00m\n",
      "\u001b[0;31mFileNotFoundError\u001b[0m: [Errno 2] No such file or directory: '/home/samva/Doctorate/data_directory/denovo_project/denovo_results/pepnovo/F06'"
     ]
    }
   ],
   "source": [
    "parser_spectralis = SpectralisParser(\n",
    "    mgf_path=mgf_path,\n",
    "    results_dir=results_dir\n",
    ")\n",
    "parser_spectralis.parse(\n",
    "    path_spectralis=os.path.join(\n",
    "        results_dir,\n",
    "        \"refinement/spectralis/pt1/F06_annotated_rescoring.csv\"\n",
    "    )\n",
    ")\n",
    "parser_spectralis.parse(\n",
    "    path_spectralis=os.path.join(\n",
    "        results_dir,\n",
    "        \"refinement/spectralis/pt2/F06_annotated_rescoring.csv\"\n",
    "    )\n",
    ")\n",
    "parser_spectralis.add_xtandem(\n",
    "    result_path=os.path.join(root_data, \"search_results/XTandem_percolator/percolator/F06.pout\")\n",
    ")"
   ]
  },
  {
   "cell_type": "code",
   "execution_count": 5,
   "metadata": {},
   "outputs": [
    {
     "data": {
      "text/plain": [
       "{'Casanovo4.2.0': True, 'InstaNovo': True, 'PepNet': True, 'ContraNovo': True}"
      ]
     },
     "execution_count": 5,
     "metadata": {},
     "output_type": "execute_result"
    }
   ],
   "source": [
    "parser_spectralis.added_results"
   ]
  },
  {
   "cell_type": "code",
   "execution_count": null,
   "metadata": {},
   "outputs": [],
   "source": [
    "parser_spectralis.parse(\n",
    "    path_spectralis=os.path.join(\n",
    "        result\n",
    "    )\n",
    ")"
   ]
  },
  {
   "cell_type": "code",
   "execution_count": 10,
   "metadata": {},
   "outputs": [],
   "source": []
  },
  {
   "cell_type": "code",
   "execution_count": 15,
   "metadata": {},
   "outputs": [],
   "source": [
    "df = parser_spectralis.dataframe"
   ]
  },
  {
   "cell_type": "code",
   "execution_count": 18,
   "metadata": {},
   "outputs": [
    {
     "data": {
      "text/plain": [
       "source\n",
       "PepNet           83186\n",
       "Casanovo4.2.0    80842\n",
       "InstaNovo        80759\n",
       "percolator       66592\n",
       "ContraNovo       40545\n",
       "Name: count, dtype: int64"
      ]
     },
     "execution_count": 18,
     "metadata": {},
     "output_type": "execute_result"
    }
   ],
   "source": [
    "df.source.value_counts()"
   ]
  }
 ],
 "metadata": {
  "kernelspec": {
   "display_name": "denovo_analysis_env",
   "language": "python",
   "name": "python3"
  },
  "language_info": {
   "codemirror_mode": {
    "name": "ipython",
    "version": 3
   },
   "file_extension": ".py",
   "mimetype": "text/x-python",
   "name": "python",
   "nbconvert_exporter": "python",
   "pygments_lexer": "ipython3",
   "version": "3.11.9"
  }
 },
 "nbformat": 4,
 "nbformat_minor": 2
}
