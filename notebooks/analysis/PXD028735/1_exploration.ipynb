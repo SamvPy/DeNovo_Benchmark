{
 "cells": [
  {
   "cell_type": "code",
   "execution_count": 1,
   "metadata": {},
   "outputs": [
    {
     "name": "stdout",
     "output_type": "stream",
     "text": [
      "Modification already exists in ModificationsDB. Skipping.\n"
     ]
    }
   ],
   "source": [
    "from denovo_utils.parsers.converters import SpectralisParser, DenovoEngineConverter\n",
    "from denovo_utils.utils.pandas import (\n",
    "    get_decoy_status,\n",
    "    collapse_casanovo_score,\n",
    "    get_spectralis_score,\n",
    "    get_psm_type,\n",
    "    amino_acid_converter,\n",
    "    drop_charge\n",
    ")\n",
    "from denovo_utils.parsers.constants import EXTENSIONS\n",
    "\n",
    "import pandas as pd\n",
    "import os\n",
    "\n",
    "from matplotlib import pyplot as plt\n",
    "import seaborn as sns\n",
    "from scipy.stats import pearsonr, spearmanr\n",
    "from psm_utils import PSMList, PSM\n",
    "\n",
    "from glob import glob"
   ]
  },
  {
   "cell_type": "code",
   "execution_count": 2,
   "metadata": {},
   "outputs": [
    {
     "name": "stderr",
     "output_type": "stream",
     "text": [
      "/tmp/ipykernel_1867/860113767.py:1: DtypeWarning: Columns (7,12) have mixed types. Specify dtype option on import or set low_memory=False.\n",
      "  df = pd.read_csv(\"/home/samva/Doctorate/data_directory/PXD028735/denovo_results/merged/LFQ_Orbitrap_DDA_Condition_A_Sample_Alpha_01.csv\")\n"
     ]
    }
   ],
   "source": [
    "df = pd.read_csv(\"/home/samva/Doctorate/data_directory/PXD028735/denovo_results/merged/LFQ_Orbitrap_DDA_Condition_A_Sample_Alpha_01.csv\")"
   ]
  },
  {
   "cell_type": "code",
   "execution_count": 5,
   "metadata": {},
   "outputs": [
    {
     "name": "stderr",
     "output_type": "stream",
     "text": [
      "100%|██████████| 36/36 [00:00<00:00, 3542.99it/s]\n"
     ]
    }
   ],
   "source": [
    "from denovo_utils.parsers.converters import DenovoEngineConverter\n",
    "\n",
    "conv = DenovoEngineConverter.select(\"contranovo\")\n",
    "df = conv.parse(\n",
    "    result_path=\"/home/samva/Doctorate/data_directory/tests/denovo_output/contranovo/test3.contranovo.mztab\",\n",
    "    mgf_path=\"/home/samva/Doctorate/data_directory/tests/mgf_reformatted/test3.mgf\"\n",
    ").to_dataframe()"
   ]
  },
  {
   "cell_type": "code",
   "execution_count": null,
   "metadata": {},
   "outputs": [],
   "source": []
  },
  {
   "cell_type": "code",
   "execution_count": 13,
   "metadata": {},
   "outputs": [
    {
     "data": {
      "text/plain": [
       "['C(+57.02)', 'C', 'M(ox)', 'M(+15.99)', 'N(+.98)', 'Q(+.98)']"
      ]
     },
     "execution_count": 13,
     "metadata": {},
     "output_type": "execute_result"
    }
   ],
   "source": [
    "from denovo_utils.parsers.constants import ALL_MODIFICATION_LABELS, MODIFICATION_MAPPING\n",
    "\n",
    "[label_e for label_e, label_map in ALL_MODIFICATION_LABELS.items() if label_e not in MODIFICATION_MAPPING[\"instanovo\"].keys()]"
   ]
  },
  {
   "cell_type": "code",
   "execution_count": 3,
   "metadata": {},
   "outputs": [
    {
     "name": "stdout",
     "output_type": "stream",
     "text": [
      "(607933, 13)\n"
     ]
    },
    {
     "data": {
      "text/html": [
       "<div>\n",
       "<style scoped>\n",
       "    .dataframe tbody tr th:only-of-type {\n",
       "        vertical-align: middle;\n",
       "    }\n",
       "\n",
       "    .dataframe tbody tr th {\n",
       "        vertical-align: top;\n",
       "    }\n",
       "\n",
       "    .dataframe thead th {\n",
       "        text-align: right;\n",
       "    }\n",
       "</style>\n",
       "<table border=\"1\" class=\"dataframe\">\n",
       "  <thead>\n",
       "    <tr style=\"text-align: right;\">\n",
       "      <th></th>\n",
       "      <th>spectrum_id</th>\n",
       "      <th>proforma</th>\n",
       "      <th>sequence</th>\n",
       "      <th>run</th>\n",
       "      <th>source</th>\n",
       "      <th>score</th>\n",
       "      <th>qvalue</th>\n",
       "      <th>is_decoy</th>\n",
       "      <th>metadata</th>\n",
       "      <th>rescoring_features</th>\n",
       "      <th>precursor_mz</th>\n",
       "      <th>retention_time</th>\n",
       "      <th>protein_list</th>\n",
       "    </tr>\n",
       "  </thead>\n",
       "  <tbody>\n",
       "    <tr>\n",
       "      <th>0</th>\n",
       "      <td>controllerType=0 controllerNumber=1 scan=85406</td>\n",
       "      <td>WAGNANELNAAYAADGYAR/2</td>\n",
       "      <td>WAGNANELNAAYAADGYAR</td>\n",
       "      <td>LFQ_Orbitrap_DDA_Condition_A_Sample_Alpha_01</td>\n",
       "      <td>sage</td>\n",
       "      <td>1.263158</td>\n",
       "      <td>0.000032</td>\n",
       "      <td>False</td>\n",
       "      <td>{}</td>\n",
       "      <td>{'expmass': 1996.9054, 'calcmass': 1996.9027, ...</td>\n",
       "      <td>999.460525</td>\n",
       "      <td>93.72429</td>\n",
       "      <td>['sp|P06169|PDC1_YEAST', 'sp|P16467|PDC5_YEAST...</td>\n",
       "    </tr>\n",
       "    <tr>\n",
       "      <th>1</th>\n",
       "      <td>controllerType=0 controllerNumber=1 scan=86089</td>\n",
       "      <td>ANC[UNLMOD:4]LDSTVDAETVFAR/2</td>\n",
       "      <td>ANCLDSTVDAETVFAR</td>\n",
       "      <td>LFQ_Orbitrap_DDA_Condition_A_Sample_Alpha_01</td>\n",
       "      <td>sage</td>\n",
       "      <td>1.251166</td>\n",
       "      <td>0.000032</td>\n",
       "      <td>False</td>\n",
       "      <td>{}</td>\n",
       "      <td>{'expmass': 1767.8107, 'calcmass': 1767.8096, ...</td>\n",
       "      <td>884.913175</td>\n",
       "      <td>94.26285</td>\n",
       "      <td>['sp|P15646|FBRL_YEAST', 'tr|A0A0L8VSN0|A0A0L8...</td>\n",
       "    </tr>\n",
       "    <tr>\n",
       "      <th>2</th>\n",
       "      <td>controllerType=0 controllerNumber=1 scan=80518</td>\n",
       "      <td>NQGDEEGTELDTLQFR/2</td>\n",
       "      <td>NQGDEEGTELDTLQFR</td>\n",
       "      <td>LFQ_Orbitrap_DDA_Condition_A_Sample_Alpha_01</td>\n",
       "      <td>sage</td>\n",
       "      <td>1.248334</td>\n",
       "      <td>0.000032</td>\n",
       "      <td>False</td>\n",
       "      <td>{}</td>\n",
       "      <td>{'expmass': 1850.8317, 'calcmass': 1850.8284, ...</td>\n",
       "      <td>926.423675</td>\n",
       "      <td>89.92643</td>\n",
       "      <td>['sp|O15160|RPAC1_HUMAN']</td>\n",
       "    </tr>\n",
       "  </tbody>\n",
       "</table>\n",
       "</div>"
      ],
      "text/plain": [
       "                                      spectrum_id  \\\n",
       "0  controllerType=0 controllerNumber=1 scan=85406   \n",
       "1  controllerType=0 controllerNumber=1 scan=86089   \n",
       "2  controllerType=0 controllerNumber=1 scan=80518   \n",
       "\n",
       "                       proforma             sequence  \\\n",
       "0         WAGNANELNAAYAADGYAR/2  WAGNANELNAAYAADGYAR   \n",
       "1  ANC[UNLMOD:4]LDSTVDAETVFAR/2     ANCLDSTVDAETVFAR   \n",
       "2            NQGDEEGTELDTLQFR/2     NQGDEEGTELDTLQFR   \n",
       "\n",
       "                                            run source     score    qvalue  \\\n",
       "0  LFQ_Orbitrap_DDA_Condition_A_Sample_Alpha_01   sage  1.263158  0.000032   \n",
       "1  LFQ_Orbitrap_DDA_Condition_A_Sample_Alpha_01   sage  1.251166  0.000032   \n",
       "2  LFQ_Orbitrap_DDA_Condition_A_Sample_Alpha_01   sage  1.248334  0.000032   \n",
       "\n",
       "  is_decoy metadata                                 rescoring_features  \\\n",
       "0    False       {}  {'expmass': 1996.9054, 'calcmass': 1996.9027, ...   \n",
       "1    False       {}  {'expmass': 1767.8107, 'calcmass': 1767.8096, ...   \n",
       "2    False       {}  {'expmass': 1850.8317, 'calcmass': 1850.8284, ...   \n",
       "\n",
       "   precursor_mz  retention_time  \\\n",
       "0    999.460525        93.72429   \n",
       "1    884.913175        94.26285   \n",
       "2    926.423675        89.92643   \n",
       "\n",
       "                                        protein_list  \n",
       "0  ['sp|P06169|PDC1_YEAST', 'sp|P16467|PDC5_YEAST...  \n",
       "1  ['sp|P15646|FBRL_YEAST', 'tr|A0A0L8VSN0|A0A0L8...  \n",
       "2                          ['sp|O15160|RPAC1_HUMAN']  "
      ]
     },
     "execution_count": 3,
     "metadata": {},
     "output_type": "execute_result"
    }
   ],
   "source": [
    "print(df.shape)\n",
    "df.head(3)"
   ]
  },
  {
   "cell_type": "code",
   "execution_count": null,
   "metadata": {},
   "outputs": [],
   "source": [
    "root_data = \"/home/samva/Doctorate/data_directory/PXD028735/denovo_results/merged\"\n",
    "root_mgf = \"/home/samva/Doctorate/data_directory/PXD028735/mgf/Orbitrap_QE/reformatted\"\n",
    "\n",
    "filenames = sorted([\n",
    "    x.split(\"/\")[-1].split(\".\")[0] for x in glob(os.path.join(root_data,\"*.csv\"))\n",
    "])\n",
    "\n",
    "for filename in filenames:\n",
    "\n",
    "    df = pd.read_csv(os.path.join(root_data, f\"{filename}.csv\"))\n",
    "    mgf_path = os.path.join(root_mgf, f\"{filename}.mgf\")\n",
    "\n",
    "    fig, ax = plt.subplots(1, 1, figsize=(15,4))\n",
    "    ax.set_title(filename)\n",
    "    sns.barplot(\n",
    "        df.groupby(\"source\").match_type.value_counts(normalize=True).reset_index(),\n",
    "        x=\"source\",\n",
    "        hue=\"match_type\",\n",
    "        y=\"proportion\",\n",
    "        hue_order=[\"Match\", \"Isobaric\", \"Better\", \"Worse\"],\n",
    "        ax=ax\n",
    "    )\n",
    "\n",
    "    # Annotate the bars\n",
    "    for p in ax.patches:\n",
    "        height = p.get_height()  # Get the height of each bar\n",
    "        ax.annotate(f'{height:.0%}',  # Format as percentage with two decimal places\n",
    "                    (p.get_x() + p.get_width() / 2., height),  # Position the text in the center of the bar\n",
    "                    ha='center', va='center', fontsize=10, color='black', xytext=(0, 5),  # Slightly offset the text above the bar\n",
    "                    textcoords='offset points')\n",
    "\n",
    "    "
   ]
  }
 ],
 "metadata": {
  "kernelspec": {
   "display_name": "denovo_analysis_env",
   "language": "python",
   "name": "python3"
  },
  "language_info": {
   "codemirror_mode": {
    "name": "ipython",
    "version": 3
   },
   "file_extension": ".py",
   "mimetype": "text/x-python",
   "name": "python",
   "nbconvert_exporter": "python",
   "pygments_lexer": "ipython3",
   "version": "3.11.9"
  }
 },
 "nbformat": 4,
 "nbformat_minor": 2
}
