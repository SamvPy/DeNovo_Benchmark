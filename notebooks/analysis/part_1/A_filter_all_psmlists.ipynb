{
 "cells": [
  {
   "cell_type": "code",
   "execution_count": 10,
   "metadata": {},
   "outputs": [],
   "source": [
    "import pandas as pd\n",
    "\n",
    "from denovo_utils.analysis.evaluation import (\n",
    "    calculate_all_accuracy_metrics,\n",
    "    subset_spectra_on_psmtype,\n",
    "    evaluate_prediction,\n",
    "    load_and_preprocess,\n",
    "    annotate_GMM_clusters,\n",
    "    filter_gmm_cluster,\n",
    "    calculate_metrics\n",
    ")\n",
    "\n",
    "from denovo_utils.parsers import DenovoEngineConverter\n",
    "\n",
    "from matplotlib import pyplot as plt\n",
    "import seaborn as sns\n",
    "\n",
    "import warnings\n",
    "warnings.filterwarnings(\"ignore\")\n",
    "from tqdm import tqdm\n",
    "\n",
    "import json\n",
    "import os"
   ]
  },
  {
   "cell_type": "code",
   "execution_count": 2,
   "metadata": {},
   "outputs": [],
   "source": [
    "from functools import partialmethod\n",
    "\n",
    "tqdm.__init__ = partialmethod(tqdm.__init__, disable=True)"
   ]
  },
  {
   "cell_type": "markdown",
   "metadata": {},
   "source": [
    "# Filtering all PSMS with gaussian mixture models"
   ]
  },
  {
   "cell_type": "markdown",
   "metadata": {},
   "source": [
    "Filter the psmslists while keeping some metrics along the way"
   ]
  },
  {
   "cell_type": "markdown",
   "metadata": {},
   "source": [
    "# 1. Load data"
   ]
  },
  {
   "cell_type": "code",
   "execution_count": 3,
   "metadata": {},
   "outputs": [],
   "source": [
    "filenames = [\n",
    "    \"F01_Fraction1\",\n",
    "    \"F01_Fraction2\",\n",
    "    \"F01_Fraction3\",\n",
    "    \"F01_Fraction4\",\n",
    "    \"F06\",\n",
    "    \"F07_Fraction1\",\n",
    "    \"F07_Fraction2\",\n",
    "    \"F07_Fraction3\",\n",
    "    \"F07_Fraction4\",\n",
    "    \"F08_Rep1\",\n",
    "    \"F08_Rep2\",\n",
    "    \"F08_Rep3\",\n",
    "    \"S03\", # Missing in PT1 (casanovo instanovo ... --> rerun)\n",
    "    \"S05\",\n",
    "    \"S07\",\n",
    "    \"S08\",\n",
    "    \"S11_Fraction1\",\n",
    "    \"S11_Fraction2\",\n",
    "    \"S11_Fraction3\",\n",
    "    \"S11_Fraction4\",\n",
    "    \"S14_Rep1\",\n",
    "    \"S14_Rep2\",\n",
    "    \"S14_Rep3\",\n",
    "]\n",
    "\n",
    "engines = [\n",
    "    'Casanovo4.2.0', 'InstaNovo', 'PepNet', 'ContraNovo',\n",
    "    'NovoB', 'Novor'\n",
    "]"
   ]
  },
  {
   "cell_type": "code",
   "execution_count": 6,
   "metadata": {},
   "outputs": [],
   "source": [
    "root_data=\"/home/samva/Doctorate/data_directory/denovo_project\"\n",
    "save_directory = \"/home/samva/Doctorate/data_directory/denovo_project/denovo_results/psmlists_accuracy_filter\""
   ]
  },
  {
   "cell_type": "code",
   "execution_count": 18,
   "metadata": {},
   "outputs": [
    {
     "name": "stdout",
     "output_type": "stream",
     "text": [
      "/home/samva/Doctorate/data_directory/denovo_project/search_results/sage/identification/S07.sage.tsv completed.\n",
      "/home/samva/Doctorate/data_directory/denovo_project/search_results/sage/identification/S11_Fraction3.sage.tsv completed.\n",
      "/home/samva/Doctorate/data_directory/denovo_project/search_results/sage/identification/F07_Fraction4.sage.tsv completed.\n",
      "/home/samva/Doctorate/data_directory/denovo_project/search_results/sage/identification/F07_Fraction1.sage.tsv completed.\n",
      "/home/samva/Doctorate/data_directory/denovo_project/search_results/sage/identification/F01_Fraction4.sage.tsv completed.\n",
      "/home/samva/Doctorate/data_directory/denovo_project/search_results/sage/identification/F07_Fraction2.sage.tsv completed.\n",
      "/home/samva/Doctorate/data_directory/denovo_project/search_results/sage/identification/S05.sage.tsv completed.\n",
      "/home/samva/Doctorate/data_directory/denovo_project/search_results/sage/identification/S03.sage.tsv completed.\n",
      "/home/samva/Doctorate/data_directory/denovo_project/search_results/sage/identification/S11_Fraction1.sage.tsv completed.\n",
      "/home/samva/Doctorate/data_directory/denovo_project/search_results/sage/identification/F06.sage.tsv completed.\n",
      "/home/samva/Doctorate/data_directory/denovo_project/search_results/sage/identification/S14_Rep2.sage.tsv completed.\n",
      "/home/samva/Doctorate/data_directory/denovo_project/search_results/sage/identification/F08_Rep2.sage.tsv completed.\n",
      "/home/samva/Doctorate/data_directory/denovo_project/search_results/sage/identification/F08_Rep1.sage.tsv completed.\n",
      "/home/samva/Doctorate/data_directory/denovo_project/search_results/sage/identification/S08.sage.tsv completed.\n",
      "/home/samva/Doctorate/data_directory/denovo_project/search_results/sage/identification/S14_Rep1.sage.tsv completed.\n",
      "/home/samva/Doctorate/data_directory/denovo_project/search_results/sage/identification/F01_Fraction2.sage.tsv completed.\n",
      "/home/samva/Doctorate/data_directory/denovo_project/search_results/sage/identification/F01_Fraction3.sage.tsv completed.\n",
      "/home/samva/Doctorate/data_directory/denovo_project/search_results/sage/identification/S14_Rep3.sage.tsv completed.\n",
      "/home/samva/Doctorate/data_directory/denovo_project/search_results/sage/identification/S11_Fraction2.sage.tsv completed.\n",
      "/home/samva/Doctorate/data_directory/denovo_project/search_results/sage/identification/F07_Fraction3.sage.tsv completed.\n",
      "/home/samva/Doctorate/data_directory/denovo_project/search_results/sage/identification/F01_Fraction1.sage.tsv completed.\n",
      "/home/samva/Doctorate/data_directory/denovo_project/search_results/sage/identification/S11_Fraction4.sage.tsv completed.\n",
      "/home/samva/Doctorate/data_directory/denovo_project/search_results/sage/identification/F08_Rep3.sage.tsv completed.\n"
     ]
    }
   ],
   "source": [
    "from psm_utils.io import read_file\n",
    "from glob import glob\n",
    "root_data = \"/home/samva/Doctorate/data_directory/denovo_project/search_results/sage/identification\"\n",
    "\n",
    "charge_states_list = []\n",
    "peplength_list = []\n",
    "for p in glob(root_data+f\"/*.sage.tsv\"):\n",
    "    psmlist = read_file(p, filetype=\"sage\")\n",
    "    charge_states = [i.precursor_charge for i in psmlist[\"peptidoform\"]]\n",
    "    peplengths = [len(i) for i in psmlist[\"peptidoform\"]]\n",
    "    charge_states_list.append(charge_states)\n",
    "    peplength_list.append(peplengths)\n",
    "    print(p, \"completed.\")"
   ]
  },
  {
   "cell_type": "code",
   "execution_count": 19,
   "metadata": {},
   "outputs": [],
   "source": [
    "charge_dict = {}\n",
    "peplen_dict = {}\n",
    "\n",
    "for charge_states_file in charge_states_list:\n",
    "    for charge in charge_states_file:\n",
    "        if charge not in charge_dict.keys():\n",
    "            charge_dict[charge] = 1\n",
    "        else:\n",
    "            charge_dict[charge] += 1\n",
    "\n",
    "for peplen_file in peplength_list:\n",
    "    for peplen in peplen_file:\n",
    "        if peplen not in peplen_dict.keys():\n",
    "            peplen_dict[peplen] = 1\n",
    "        else:\n",
    "            peplen_dict[peplen] += 1"
   ]
  },
  {
   "cell_type": "code",
   "execution_count": 20,
   "metadata": {},
   "outputs": [
    {
     "name": "stdout",
     "output_type": "stream",
     "text": [
      "5      2204\n",
      "6     16096\n",
      "7     45638\n",
      "8     61981\n",
      "9     72013\n",
      "10    86256\n",
      "11    98252\n",
      "12    96169\n",
      "13    94714\n",
      "14    86808\n",
      "15    85496\n",
      "16    80024\n",
      "17    69881\n",
      "18    63098\n",
      "19    55721\n",
      "20    53886\n",
      "21    43313\n",
      "22    39360\n",
      "23    33471\n",
      "24    28055\n",
      "25    25511\n",
      "26    21819\n",
      "27    19541\n",
      "28    15994\n",
      "29    13770\n",
      "30    11293\n",
      "31    10901\n",
      "32     9419\n",
      "33     7622\n",
      "34     7075\n",
      "35     5890\n",
      "36     5858\n",
      "37     4843\n",
      "38     4113\n",
      "39     3721\n",
      "40     3907\n",
      "41     3194\n",
      "42     2550\n",
      "43     2146\n",
      "44     1501\n",
      "45      961\n",
      "46      712\n",
      "47      333\n",
      "48      195\n",
      "49       69\n",
      "50       32\n",
      "dtype: int64\n"
     ]
    },
    {
     "data": {
      "text/plain": [
       "<Axes: >"
      ]
     },
     "execution_count": 20,
     "metadata": {},
     "output_type": "execute_result"
    },
    {
     "data": {
      "image/png": "[encoded data removed]",
      "text/plain": [
       "<Figure size 640x480 with 1 Axes>"
      ]
     },
     "metadata": {},
     "output_type": "display_data"
    }
   ],
   "source": [
    "print(pd.Series(peplen_dict).sort_index())\n",
    "pd.Series(peplen_dict).sort_index().plot(kind=\"bar\")"
   ]
  },
  {
   "cell_type": "code",
   "execution_count": 21,
   "metadata": {},
   "outputs": [
    {
     "name": "stdout",
     "output_type": "stream",
     "text": [
      "1     12289\n",
      "2    787012\n",
      "3    515747\n",
      "4     69300\n",
      "5      9149\n",
      "6      1842\n",
      "7        40\n",
      "8        27\n",
      "dtype: int64\n"
     ]
    },
    {
     "data": {
      "text/plain": [
       "<Axes: >"
      ]
     },
     "execution_count": 21,
     "metadata": {},
     "output_type": "execute_result"
    },
    {
     "data": {
      "image/png": "[encoded data removed]",
      "text/plain": [
       "<Figure size 640x480 with 1 Axes>"
      ]
     },
     "metadata": {},
     "output_type": "display_data"
    }
   ],
   "source": [
    "print(pd.Series(charge_dict).sort_index())\n",
    "pd.Series(charge_dict).sort_index().plot(kind=\"bar\")"
   ]
  },
  {
   "cell_type": "markdown",
   "metadata": {},
   "source": [
    "# For a single file"
   ]
  },
  {
   "cell_type": "code",
   "execution_count": 5,
   "metadata": {},
   "outputs": [
    {
     "name": "stdout",
     "output_type": "stream",
     "text": [
      "['Casanovo4.2.0', 'InstaNovo', 'PepNet', 'ContraNovo']\n",
      "['NovoB', 'Novor', 'PepNovo+']\n",
      "['sage']\n"
     ]
    }
   ],
   "source": [
    "# Load all data in a dataframe and do some basic preprocessing\n",
    "df = load_and_preprocess(\n",
    "    root=root_data,\n",
    "    filename=\"F01_Fraction1\"\n",
    ")"
   ]
  },
  {
   "cell_type": "code",
   "execution_count": 6,
   "metadata": {},
   "outputs": [],
   "source": [
    "# Fit GMMs and assign cluster labels to PSMs\n",
    "df, gmm_metrics = annotate_GMM_clusters(df, db_engine=\"sage\", only_df=False)"
   ]
  },
  {
   "cell_type": "code",
   "execution_count": 7,
   "metadata": {},
   "outputs": [],
   "source": [
    "df_filtered = filter_gmm_cluster(df=df, keep_cluster_label=1)\n",
    "\n",
    "metrics = calculate_metrics(\n",
    "    df_filtered,\n",
    "    engines=engines\n",
    ")"
   ]
  },
  {
   "cell_type": "code",
   "execution_count": 8,
   "metadata": {},
   "outputs": [],
   "source": [
    "df_filtered.to_csv(\"/home/samva/Doctorate/data_directory/denovo_project/denovo_results/psmlists/df/F01_Fraction1.csv\", index=False)"
   ]
  },
  {
   "cell_type": "markdown",
   "metadata": {},
   "source": [
    "# For all files"
   ]
  },
  {
   "cell_type": "code",
   "execution_count": 7,
   "metadata": {},
   "outputs": [],
   "source": [
    "metrics = {}\n",
    "metrics_gmm = {}\n",
    "df_filtered = {}"
   ]
  },
  {
   "cell_type": "code",
   "execution_count": 8,
   "metadata": {},
   "outputs": [],
   "source": [
    "import json\n",
    "def save_to_json(data, path):\n",
    "    with open(path, \"w\") as f:\n",
    "        json_obj = json.dumps(data, indent=4)\n",
    "        f.write(json_obj)"
   ]
  },
  {
   "cell_type": "code",
   "execution_count": 6,
   "metadata": {},
   "outputs": [
    {
     "name": "stdout",
     "output_type": "stream",
     "text": [
      "F01_Fraction1\n",
      "['Casanovo4.2.0', 'InstaNovo', 'PepNet', 'ContraNovo']\n",
      "['NovoB', 'Novor', 'PepNovo+']\n",
      "['sage']\n",
      "F01_Fraction2\n",
      "['Casanovo4.2.0', 'InstaNovo', 'PepNet', 'ContraNovo']\n",
      "['NovoB', 'Novor', 'PepNovo+']\n",
      "['sage']\n",
      "F01_Fraction3\n",
      "['Casanovo4.2.0', 'InstaNovo', 'PepNet', 'ContraNovo']\n",
      "['NovoB', 'Novor', 'PepNovo+']\n",
      "['sage']\n",
      "F01_Fraction4\n",
      "['Casanovo4.2.0', 'InstaNovo', 'PepNet', 'ContraNovo']\n",
      "['NovoB', 'Novor', 'PepNovo+']\n",
      "['sage']\n",
      "F06\n",
      "['Casanovo4.2.0', 'InstaNovo', 'PepNet', 'ContraNovo']\n",
      "['NovoB', 'Novor', 'PepNovo+']\n",
      "['sage']\n",
      "F07_Fraction1\n",
      "['Casanovo4.2.0', 'InstaNovo', 'PepNet', 'ContraNovo']\n",
      "['NovoB', 'Novor', 'PepNovo+']\n",
      "['sage']\n",
      "F07_Fraction2\n",
      "['Casanovo4.2.0', 'InstaNovo', 'PepNet', 'ContraNovo']\n",
      "['NovoB', 'Novor', 'PepNovo+']\n",
      "['sage']\n",
      "F07_Fraction3\n",
      "['Casanovo4.2.0', 'InstaNovo', 'PepNet', 'ContraNovo']\n",
      "['NovoB', 'Novor', 'PepNovo+']\n",
      "['sage']\n",
      "F07_Fraction4\n",
      "['Casanovo4.2.0', 'InstaNovo', 'PepNet', 'ContraNovo']\n",
      "['NovoB', 'Novor', 'PepNovo+']\n",
      "['sage']\n",
      "F08_Rep1\n",
      "['Casanovo4.2.0', 'InstaNovo', 'PepNet', 'ContraNovo']\n",
      "['NovoB', 'Novor', 'PepNovo+']\n",
      "['sage']\n",
      "F08_Rep2\n",
      "['Casanovo4.2.0', 'InstaNovo', 'PepNet', 'ContraNovo']\n",
      "['NovoB', 'Novor', 'PepNovo+']\n",
      "['sage']\n",
      "F08_Rep3\n",
      "['Casanovo4.2.0', 'InstaNovo', 'PepNet', 'ContraNovo']\n",
      "['NovoB', 'Novor', 'PepNovo+']\n",
      "['sage']\n",
      "S07\n",
      "['Casanovo4.2.0', 'InstaNovo', 'PepNet', 'ContraNovo']\n",
      "['NovoB', 'Novor', 'PepNovo+']\n",
      "['sage']\n",
      "S08\n",
      "['Casanovo4.2.0', 'InstaNovo', 'PepNet', 'ContraNovo']\n",
      "['NovoB', 'Novor', 'PepNovo+']\n",
      "['sage']\n",
      "S11_Fraction1\n",
      "['Casanovo4.2.0', 'InstaNovo', 'PepNet', 'ContraNovo']\n",
      "['NovoB', 'Novor', 'PepNovo+']\n",
      "['sage']\n",
      "S11_Fraction2\n",
      "['Casanovo4.2.0', 'InstaNovo', 'PepNet', 'ContraNovo']\n",
      "['NovoB', 'Novor', 'PepNovo+']\n",
      "['sage']\n",
      "S11_Fraction3\n",
      "['Casanovo4.2.0', 'InstaNovo', 'PepNet', 'ContraNovo']\n",
      "['NovoB', 'Novor', 'PepNovo+']\n",
      "['sage']\n",
      "S11_Fraction4\n",
      "['Casanovo4.2.0', 'InstaNovo', 'PepNet', 'ContraNovo']\n",
      "['NovoB', 'Novor', 'PepNovo+']\n",
      "['sage']\n",
      "S14_Rep1\n",
      "['Casanovo4.2.0', 'InstaNovo', 'PepNet', 'ContraNovo']\n",
      "['NovoB', 'Novor', 'PepNovo+']\n",
      "['sage']\n",
      "S14_Rep2\n",
      "['Casanovo4.2.0', 'InstaNovo', 'PepNet', 'ContraNovo']\n",
      "['NovoB', 'Novor', 'PepNovo+']\n",
      "['sage']\n",
      "S14_Rep3\n",
      "['Casanovo4.2.0', 'InstaNovo', 'PepNet', 'ContraNovo']\n",
      "['NovoB', 'Novor', 'PepNovo+']\n",
      "['sage']\n"
     ]
    }
   ],
   "source": [
    "for filename in filenames:\n",
    "    print(filename)\n",
    "\n",
    "    # Load data, parse and preprocess a bit\n",
    "    df = load_and_preprocess(\n",
    "        root=root_data,\n",
    "        filename=filename\n",
    "    )\n",
    "    \n",
    "    # Fit GMMs and assign cluster labels to PSMs\n",
    "    df, metrics_gmm_file = annotate_GMM_clusters(df, db_engine=\"sage\", only_df=False)\n",
    "    df_filtered_file = filter_gmm_cluster(df=df, keep_cluster_label=1)\n",
    "\n",
    "    # Get some accuracy metrics for evaluation of the filtering\n",
    "    metrics_file = calculate_metrics(\n",
    "        df_filtered_file,\n",
    "        engines=engines\n",
    "    )\n",
    "\n",
    "    # Store\n",
    "    df_filtered_file.to_csv(os.path.join(\n",
    "        save_directory, \"df\", filename+\".csv\"\n",
    "    ), index=False)\n",
    "\n",
    "    save_to_json(metrics_file, \n",
    "                 os.path.join(\n",
    "                     save_directory,\n",
    "                     \"metrics\",\n",
    "                     filename+\"_accuracy.json\"\n",
    "                 ))\n",
    "    save_to_json(metrics_gmm_file, \n",
    "                 os.path.join(\n",
    "                     save_directory,\n",
    "                     \"metrics\",\n",
    "                     filename+\"_gmm.json\"\n",
    "                 ))"
   ]
  },
  {
   "cell_type": "markdown",
   "metadata": {},
   "source": [
    "---"
   ]
  },
  {
   "cell_type": "markdown",
   "metadata": {},
   "source": [
    "Filtering on a de novo score threshold"
   ]
  },
  {
   "cell_type": "code",
   "execution_count": 23,
   "metadata": {},
   "outputs": [],
   "source": [
    "set_threshold = {\n",
    "    'casanovo': 0.9423831251120693,\n",
    "    'contranovo': 0.9777301218350248,\n",
    "    'instanovo': -0.972949795817074,\n",
    "    'pepnet': 0.9802,\n",
    "    'novob': 0.8842544444444446,\n",
    "    'novor': 96.67333333333332\n",
    "}\n",
    "\n",
    "engines = [\n",
    "    'casanovo',\n",
    "    'instanovo',\n",
    "    'pepnet',\n",
    "    'contranovo',\n",
    "    'novob',\n",
    "    'novor'\n",
    "]\n",
    "\n",
    "save_directory = \"/home/samva/Doctorate/data_directory/denovo_project/denovo_results/psmlists_accuracy_filter\""
   ]
  },
  {
   "cell_type": "code",
   "execution_count": 15,
   "metadata": {},
   "outputs": [],
   "source": [
    "from denovo_utils.utils.pandas import collapse_casanovo_score"
   ]
  },
  {
   "cell_type": "code",
   "execution_count": 26,
   "metadata": {},
   "outputs": [
    {
     "name": "stdout",
     "output_type": "stream",
     "text": [
      "F01_Fraction1\n",
      "source\n",
      "Casanovo4.2.0    1275\n",
      "ContraNovo        900\n",
      "InstaNovo         803\n",
      "NovoB             501\n",
      "PepNet            359\n",
      "Novor               2\n",
      "Name: count, dtype: int64\n",
      "F01_Fraction2\n",
      "source\n",
      "Casanovo4.2.0    35374\n",
      "InstaNovo        21425\n",
      "ContraNovo       18657\n",
      "NovoB            17540\n",
      "PepNet           15960\n",
      "Novor              227\n",
      "Name: count, dtype: int64\n",
      "F01_Fraction3\n",
      "source\n",
      "Casanovo4.2.0    27351\n",
      "InstaNovo        18720\n",
      "NovoB            15034\n",
      "ContraNovo       14733\n",
      "PepNet           11727\n",
      "Novor              211\n",
      "Name: count, dtype: int64\n",
      "F01_Fraction4\n",
      "source\n",
      "Casanovo4.2.0    17630\n",
      "InstaNovo        12923\n",
      "ContraNovo        9771\n",
      "NovoB             8364\n",
      "PepNet            6554\n",
      "Novor               41\n",
      "Name: count, dtype: int64\n",
      "F06\n",
      "source\n",
      "Casanovo4.2.0    36295\n",
      "InstaNovo        32060\n",
      "NovoB            24986\n",
      "ContraNovo       19124\n",
      "PepNet           17035\n",
      "Novor              428\n",
      "Name: count, dtype: int64\n",
      "F07_Fraction1\n",
      "source\n",
      "Casanovo4.2.0    15889\n",
      "InstaNovo        14389\n",
      "NovoB            11430\n",
      "ContraNovo        8332\n",
      "PepNet            7694\n",
      "Novor              167\n",
      "Name: count, dtype: int64\n",
      "F07_Fraction2\n",
      "source\n",
      "Casanovo4.2.0    17871\n",
      "InstaNovo        15978\n",
      "NovoB            12243\n",
      "ContraNovo        9273\n",
      "PepNet            8771\n",
      "Novor              192\n",
      "Name: count, dtype: int64\n",
      "F07_Fraction3\n",
      "source\n",
      "Casanovo4.2.0    20836\n",
      "InstaNovo        18415\n",
      "NovoB            13786\n",
      "ContraNovo       11073\n",
      "PepNet            9855\n",
      "Novor              221\n",
      "Name: count, dtype: int64\n",
      "F07_Fraction4\n",
      "source\n",
      "Casanovo4.2.0    17568\n",
      "InstaNovo        15760\n",
      "NovoB            11855\n",
      "ContraNovo        9431\n",
      "PepNet            8419\n",
      "Novor              190\n",
      "Name: count, dtype: int64\n",
      "F08_Rep1\n",
      "source\n",
      "Casanovo4.2.0    4071\n",
      "ContraNovo       3114\n",
      "InstaNovo        2773\n",
      "PepNet            823\n",
      "NovoB             665\n",
      "Name: count, dtype: int64\n",
      "F08_Rep2\n",
      "source\n",
      "Casanovo4.2.0    4361\n",
      "ContraNovo       3230\n",
      "InstaNovo        2949\n",
      "PepNet            921\n",
      "NovoB             672\n",
      "Name: count, dtype: int64\n",
      "F08_Rep3\n",
      "source\n",
      "Casanovo4.2.0    4246\n",
      "ContraNovo       3206\n",
      "InstaNovo        2852\n",
      "PepNet            923\n",
      "NovoB             644\n",
      "Name: count, dtype: int64\n",
      "S03\n",
      "source\n",
      "InstaNovo        31703\n",
      "Casanovo4.2.0    31178\n",
      "NovoB            19256\n",
      "ContraNovo       16680\n",
      "PepNet           14112\n",
      "Novor              367\n",
      "Name: count, dtype: int64\n",
      "S05\n",
      "source\n",
      "InstaNovo        41828\n",
      "Casanovo4.2.0    41094\n",
      "NovoB            24373\n",
      "ContraNovo       22398\n",
      "PepNet           17635\n",
      "Novor              389\n",
      "Name: count, dtype: int64\n",
      "S07\n",
      "source\n",
      "Casanovo4.2.0    17697\n",
      "InstaNovo        15027\n",
      "NovoB            10122\n",
      "ContraNovo        9463\n",
      "PepNet            8590\n",
      "Novor              115\n",
      "Name: count, dtype: int64\n",
      "S08\n",
      "source\n",
      "Casanovo4.2.0    49558\n",
      "InstaNovo        47216\n",
      "NovoB            41560\n",
      "PepNet           26925\n",
      "ContraNovo       24840\n",
      "Novor             1937\n",
      "Name: count, dtype: int64\n",
      "S11_Fraction1\n",
      "source\n",
      "Casanovo4.2.0    23317\n",
      "InstaNovo        21044\n",
      "NovoB            16650\n",
      "ContraNovo       12030\n",
      "PepNet           11984\n",
      "Novor              336\n",
      "Name: count, dtype: int64\n",
      "S11_Fraction2\n",
      "source\n",
      "Casanovo4.2.0    23094\n",
      "InstaNovo        20674\n",
      "NovoB            15091\n",
      "ContraNovo       12075\n",
      "PepNet           11415\n",
      "Novor              319\n",
      "Name: count, dtype: int64\n",
      "S11_Fraction3\n",
      "source\n",
      "Casanovo4.2.0    24812\n",
      "InstaNovo        22069\n",
      "NovoB            16760\n",
      "ContraNovo       12828\n",
      "PepNet           12602\n",
      "Novor              337\n",
      "Name: count, dtype: int64\n",
      "S11_Fraction4\n",
      "source\n",
      "Casanovo4.2.0    15408\n",
      "InstaNovo        14307\n",
      "NovoB            10779\n",
      "ContraNovo        7862\n",
      "PepNet            7664\n",
      "Novor              216\n",
      "Name: count, dtype: int64\n",
      "S14_Rep1\n",
      "source\n",
      "Casanovo4.2.0    7761\n",
      "ContraNovo       5269\n",
      "InstaNovo        4917\n",
      "PepNet           1747\n",
      "NovoB            1240\n",
      "Name: count, dtype: int64\n",
      "S14_Rep2\n",
      "source\n",
      "Casanovo4.2.0    7692\n",
      "ContraNovo       5211\n",
      "InstaNovo        4902\n",
      "PepNet           1740\n",
      "NovoB            1215\n",
      "Name: count, dtype: int64\n",
      "S14_Rep3\n",
      "source\n",
      "Casanovo4.2.0    8091\n",
      "ContraNovo       5274\n",
      "InstaNovo        5131\n",
      "PepNet           1845\n",
      "NovoB            1164\n",
      "Name: count, dtype: int64\n"
     ]
    }
   ],
   "source": [
    "for filename in filenames:\n",
    "    print(filename)\n",
    "    df_list = []\n",
    "    for engine in engines:\n",
    "        # Original result output\n",
    "        result_path = os.path.join(\n",
    "            root_data, \"denovo_results\", engine, filename\n",
    "        )\n",
    "        # Path to MGF raw data\n",
    "        mgf_path = os.path.join(\n",
    "            root_data, \"mgf_filtered\", filename+\".mgf\"\n",
    "        )\n",
    "        # Selected threshold (unified over this project based on means)\n",
    "        threshold = set_threshold[engine]\n",
    "\n",
    "        # Parse the de novo results\n",
    "        parser = DenovoEngineConverter.select(engine)\n",
    "        psmlist = parser.parse(result_path, mgf_path=mgf_path)\n",
    "        psm_df = psmlist.to_dataframe()\n",
    "        \n",
    "        # Filter on a 95% lenient accuracy\n",
    "        psm_df = psm_df[(psm_df.score >= threshold)]\n",
    "        psm_df[\"score\"] = psm_df.apply(collapse_casanovo_score, axis=1)\n",
    "        psm_df[\"sequence\"] = psm_df.peptidoform.apply(lambda x: x.sequence)\n",
    "        psm_df[\"proforma\"] = psm_df.peptidoform.apply(lambda x: x.proforma)\n",
    "        psm_df[\"filename\"] = filename\n",
    "        psm_df = psm_df.loc[\n",
    "            :,\n",
    "            [\"proforma\", \"sequence\", \"score\", \"source\", \"spectrum_id\", \"filename\"]\n",
    "        ]\n",
    "        df_list.append(psm_df)\n",
    "\n",
    "    df_files = pd.concat(df_list)\n",
    "    print(df_files.value_counts(\"source\"))\n",
    "    df_files.to_csv(\n",
    "        os.path.join(\n",
    "            save_directory,\n",
    "            filename+\".csv\"\n",
    "        ),\n",
    "        index=False\n",
    "    )"
   ]
  },
  {
   "cell_type": "code",
   "execution_count": 32,
   "metadata": {},
   "outputs": [],
   "source": [
    "from denovo_utils.utils.pandas import amino_acid_converter\n",
    "from psm_utils import Peptidoform\n",
    "from glob import glob"
   ]
  },
  {
   "cell_type": "code",
   "execution_count": 50,
   "metadata": {},
   "outputs": [
    {
     "data": {
      "text/plain": [
       "'KDQADNEPSGDGHPASAK/3'"
      ]
     },
     "execution_count": 50,
     "metadata": {},
     "output_type": "execute_result"
    }
   ],
   "source": [
    "\"KDQADNEPSGN[UNIMOD:7]GHPASAK/3\".replace(\"N[UNIMOD:7]\", \"D\")"
   ]
  },
  {
   "cell_type": "code",
   "execution_count": 67,
   "metadata": {},
   "outputs": [],
   "source": [
    "root_sage = \"/home/samva/Doctorate/data_directory/denovo_project/denovo_results/sage\"\n",
    "\n",
    "for p in glob(\"/home/samva/Doctorate/data_directory/denovo_project/denovo_results/psmlists_accuracy_filter/*\"):\n",
    "    df = pd.read_csv(p).loc[\n",
    "        :,\n",
    "        [\"proforma\", \"sequence\", \"score\", \"source\", \"spectrum_id\", \"filename\"]\n",
    "    ]\n",
    "    mapping = {\n",
    "        \"N[UNIMOD:7]\": \"D\",\n",
    "        \"Q[UNIMOD:7]\": \"E\",\n",
    "        \"I\": \"L\",\n",
    "        \"UNLMOD\": \"UNIMOD\",  # Otherwise the I in UNIMOD is replaced with L\n",
    "        \n",
    "    }\n",
    "    df[\"sequence\"] = df.proforma.apply(\n",
    "        lambda x: amino_acid_converter(\n",
    "            row={\"peptidoform\": Peptidoform(x)},\n",
    "            mapping=mapping\n",
    "        ).sequence\n",
    "    )\n",
    "    os.path.basename(p).split(\".\")[0]\n",
    "    parser = DenovoEngineConverter.select(\"sage\")\n",
    "    df_sage = parser.parse(\n",
    "        os.path.join(root_sage, os.path.basename(p).split(\".\")[0]+\".sage.tsv\"),\n",
    "        mgf_path=\"\"\n",
    "    ).to_dataframe()\n",
    "    df_sage = df_sage[\n",
    "        (~df_sage.is_decoy) &\n",
    "        (df_sage.qvalue < .01)\n",
    "    ]\n",
    "    df_sage[\"proforma\"] = df_sage.peptidoform.apply(lambda x: x.proforma)\n",
    "    df_sage[\"sequence\"] = df_sage.peptidoform.apply(lambda x: x.sequence)\n",
    "    df_sage[\"filename\"] = os.path.basename(p).split(\".\")[0]\n",
    "    df_sage = df_sage.loc[\n",
    "        :,\n",
    "        [\"proforma\", \"sequence\", \"score\", \"source\", \"spectrum_id\", \"filename\"]\n",
    "    ]\n",
    "    \n",
    "    df = pd.concat([df, df_sage], axis=0)\n",
    "    df.to_csv(p, index=False)\n",
    "    "
   ]
  }
 ],
 "metadata": {
  "kernelspec": {
   "display_name": "denovo_analysis_env",
   "language": "python",
   "name": "python3"
  },
  "language_info": {
   "codemirror_mode": {
    "name": "ipython",
    "version": 3
   },
   "file_extension": ".py",
   "mimetype": "text/x-python",
   "name": "python",
   "nbconvert_exporter": "python",
   "pygments_lexer": "ipython3",
   "version": "3.11.9"
  }
 },
 "nbformat": 4,
 "nbformat_minor": 2
}
