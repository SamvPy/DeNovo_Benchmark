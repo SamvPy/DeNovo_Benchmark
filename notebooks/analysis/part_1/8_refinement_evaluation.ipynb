{
 "cells": [
  {
   "cell_type": "markdown",
   "metadata": {},
   "source": [
    "# What happens if refining algorithm is applied?\n",
    "\n",
    "- Do accuracy metrics improve?\n",
    "- What happens to ground-truth sequences?\n",
    "- Do outputs that were previously different converge?\n",
    "- In any case, are the hyperscores improved?\n",
    "- If hyperscores stays the same, how does the algorithm change the isobaric parts? "
   ]
  },
  {
   "cell_type": "code",
   "execution_count": null,
   "metadata": {},
   "outputs": [],
   "source": []
  }
 ],
 "metadata": {
  "language_info": {
   "name": "python"
  }
 },
 "nbformat": 4,
 "nbformat_minor": 2
}
