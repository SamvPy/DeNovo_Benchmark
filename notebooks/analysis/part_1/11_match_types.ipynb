{
 "cells": [
  {
   "cell_type": "code",
   "execution_count": 1,
   "metadata": {},
   "outputs": [
    {
     "name": "stderr",
     "output_type": "stream",
     "text": [
      "2024-08-09 15:30:45.359914: E tensorflow/compiler/xla/stream_executor/cuda/cuda_dnn.cc:9342] Unable to register cuDNN factory: Attempting to register factory for plugin cuDNN when one has already been registered\n",
      "2024-08-09 15:30:45.359948: E tensorflow/compiler/xla/stream_executor/cuda/cuda_fft.cc:609] Unable to register cuFFT factory: Attempting to register factory for plugin cuFFT when one has already been registered\n",
      "2024-08-09 15:30:45.360792: E tensorflow/compiler/xla/stream_executor/cuda/cuda_blas.cc:1518] Unable to register cuBLAS factory: Attempting to register factory for plugin cuBLAS when one has already been registered\n"
     ]
    },
    {
     "name": "stdout",
     "output_type": "stream",
     "text": [
      "Modification already exists in ModificationsDB. Skipping.\n"
     ]
    }
   ],
   "source": [
    "import pyopenms as oms\n",
    "from pyteomics import mgf\n",
    "import os\n",
    "import pandas as pd\n",
    "from pyteomics.mass import calculate_mass\n",
    "from psm_utils import PSM, PSMList\n",
    "\n",
    "from spectrum_utils.proforma import Proteoform, Modification\n",
    "from spectrum_utils.fragment_annotation import get_theoretical_fragments\n",
    "from psm_utils import Peptidoform\n",
    "from spectrum_utils import proforma\n",
    "\n",
    "from denovo_utils.analysis import calculate_hyperscore\n",
    "from denovo_utils.parsers import proforma_to_theoretical_spectrum\n",
    "from denovo_utils.parsers.converters import SpectralisParser, DenovoEngineConverter\n",
    "from ms2rescore.feature_generators import BasicFeatureGenerator, MS2PIPFeatureGenerator, DeepLCFeatureGenerator\n",
    "\n",
    "import deeplc\n",
    "from deeplc.plot import scatter\n",
    "from ms2rescore.report.charts import (\n",
    "    calculate_feature_qvalues,\n",
    "    feature_ecdf_auc_bar,\n",
    "    fdr_plot,\n",
    "    ms2pip_correlation,\n",
    ")\n",
    "\n",
    "from tqdm import tqdm\n",
    "\n",
    "import spectrum_utils.plot as sup\n",
    "\n",
    "from denovo_utils.utils.pandas import get_psm_type, get_spectralis_score\n",
    "import seaborn as sns\n",
    "from matplotlib import pyplot as plt\n",
    "import numpy as np\n",
    "%matplotlib inline"
   ]
  },
  {
   "cell_type": "markdown",
   "metadata": {},
   "source": [
    "Here, we will split up the spectra in categories depending on how they were matched predicted with the de novo tools."
   ]
  },
  {
   "cell_type": "markdown",
   "metadata": {},
   "source": [
    "Either they are:\n",
    "- Perfectly matched on sequence level\n",
    "- Isobarically matched (Undiscernable on spectrum level)\n",
    "- Better match (Based on the hyperscore)\n",
    "- Worse match (Based on the hyperscore)\n",
    "- Extra predictions (No fasta match)\n",
    "\n",
    "To preserve memory, the dataframe will be filtered on following columns:\n",
    "- proforma\n",
    "- sequence\n",
    "- spectrum_id\n",
    "- run\n",
    "- engine\n",
    "- score\n",
    "- qvalue\n",
    "- spectralis_score\n",
    "- hyperscore\n",
    "- is_decoy\n",
    "- rescoring_features\n",
    "\n",
    "Additionally, only spectra with PSMs below 1% FDR are kept!"
   ]
  },
  {
   "cell_type": "code",
   "execution_count": 2,
   "metadata": {},
   "outputs": [],
   "source": [
    "def peptidoform_has_modification(peptidoform, allowed_modificiations=[\"[UNIMOD:4]\", \"[UNIMOD:35]\"]):\n",
    "    peptidoform_str = peptidoform.proforma\n",
    "    for allowed_modification in allowed_modificiations:\n",
    "        peptidoform_str = peptidoform_str.replace(allowed_modification, \"\")\n",
    "    \n",
    "    return \"[\" in peptidoform_str\n",
    "\n",
    "def hyperscore_difference(row, reference):\n",
    "    try:\n",
    "        reference_hyperscore = reference[row[\"spectrum_id\"]]\n",
    "        return float(row[\"hyperscore\"])-float(reference_hyperscore)\n",
    "    except:\n",
    "        return None\n",
    "    \n",
    "def evaluate_prediction_isobaricity(\n",
    "        row, ground_truth_peptide, ground_truth_hyperscore\n",
    "):\n",
    "    try:\n",
    "        sequence_match = ground_truth_peptide[\n",
    "            row[\"spectrum_id\"]\n",
    "        ] == row[\"peptide\"]\n",
    "        if sequence_match:\n",
    "            return \"Match\"\n",
    "        \n",
    "        ref_hyperscore = ground_truth_hyperscore[row[\"spectrum_id\"]]\n",
    "        if row[\"hyperscore\"] == ref_hyperscore:\n",
    "            return \"Isobaric\"\n",
    "        \n",
    "        elif row[\"hyperscore\"] > ref_hyperscore:\n",
    "            return \"Better\"\n",
    "\n",
    "        elif row[\"hyperscore\"] < ref_hyperscore:\n",
    "            return \"Worse\"\n",
    "\n",
    "        else:\n",
    "            return \"Error?\"\n",
    "\n",
    "    except:\n",
    "        return \"Unpredicted\""
   ]
  },
  {
   "cell_type": "code",
   "execution_count": 3,
   "metadata": {},
   "outputs": [
    {
     "name": "stdout",
     "output_type": "stream",
     "text": [
      "S14_Rep2\n"
     ]
    },
    {
     "name": "stderr",
     "output_type": "stream",
     "text": [
      "100%|██████████| 60809/60809 [00:01<00:00, 33569.26it/s]\n",
      "100%|██████████| 60809/60809 [00:00<00:00, 159585.18it/s]\n",
      "100%|██████████| 60012/60012 [00:01<00:00, 37496.70it/s]\n",
      "100%|██████████| 60012/60012 [00:00<00:00, 164001.21it/s]\n",
      "100%|██████████| 70634/70634 [00:01<00:00, 47460.05it/s]\n",
      "100%|██████████| 70634/70634 [00:00<00:00, 161933.26it/s]\n",
      "100%|██████████| 30624/30624 [00:00<00:00, 45063.59it/s]\n",
      "100%|██████████| 30624/30624 [00:00<00:00, 162842.85it/s]\n",
      "100%|██████████| 57865/57865 [00:02<00:00, 23878.24it/s]\n",
      "100%|██████████| 56089/56089 [00:00<00:00, 163303.58it/s]\n",
      "100%|██████████| 2021/2021 [00:00<00:00, 39980.42it/s]\n",
      "100%|██████████| 2021/2021 [00:00<00:00, 153707.99it/s]\n",
      "100%|██████████| 2430/2430 [00:00<00:00, 38790.77it/s]\n",
      "100%|██████████| 2430/2430 [00:00<00:00, 155413.29it/s]\n",
      "100%|██████████| 55537/55537 [00:00<00:00, 147367.67it/s]\n"
     ]
    },
    {
     "name": "stdout",
     "output_type": "stream",
     "text": [
      "Added basic features.\n"
     ]
    },
    {
     "name": "stderr",
     "output_type": "stream",
     "text": [
      "  0%|          | 483/338156 [00:00<01:09, 4825.13it/s]"
     ]
    },
    {
     "name": "stdout",
     "output_type": "stream",
     "text": [
      "Warning: unknown N-terminal modification '43.005814' - adding it to the database\n"
     ]
    },
    {
     "name": "stderr",
     "output_type": "stream",
     "text": [
      "  2%|▏         | 6300/338156 [00:01<01:19, 4197.72it/s]"
     ]
    },
    {
     "name": "stdout",
     "output_type": "stream",
     "text": [
      "Warning: unknown N-terminal modification '-17.027' - adding it to the database\n"
     ]
    },
    {
     "name": "stderr",
     "output_type": "stream",
     "text": [
      "  2%|▏         | 7522/338156 [00:01<01:24, 3911.50it/s]"
     ]
    },
    {
     "name": "stdout",
     "output_type": "stream",
     "text": [
      "Warning: unknown N-terminal modification '+25.980265' - adding it to the database\n"
     ]
    },
    {
     "name": "stderr",
     "output_type": "stream",
     "text": [
      "  4%|▎         | 12365/338156 [00:03<01:26, 3768.46it/s]"
     ]
    },
    {
     "name": "stdout",
     "output_type": "stream",
     "text": [
      "Warning: unknown N-terminal modification '-17.027' - adding it to the database\n"
     ]
    },
    {
     "name": "stderr",
     "output_type": "stream",
     "text": [
      "  5%|▌         | 17114/338156 [00:04<01:31, 3525.55it/s]"
     ]
    },
    {
     "name": "stdout",
     "output_type": "stream",
     "text": [
      "Warning: unknown N-terminal modification '+25.980265' - adding it to the database\n",
      "Warning: unknown N-terminal modification '-17.027' - adding it to the database\n"
     ]
    },
    {
     "name": "stderr",
     "output_type": "stream",
     "text": [
      " 10%|▉         | 33764/338156 [00:09<01:34, 3212.54it/s]"
     ]
    },
    {
     "name": "stdout",
     "output_type": "stream",
     "text": [
      "<Warning: unknown N-terminal modification '-17.027' - adding it to the database> occurred 5 times\n",
      "Warning: unknown N-terminal modification '+25.980265' - adding it to the database\n"
     ]
    },
    {
     "name": "stderr",
     "output_type": "stream",
     "text": [
      " 11%|█         | 36706/338156 [00:10<01:32, 3267.46it/s]"
     ]
    },
    {
     "name": "stdout",
     "output_type": "stream",
     "text": [
      "Warning: unknown N-terminal modification '-17.027' - adding it to the database\n"
     ]
    },
    {
     "name": "stderr",
     "output_type": "stream",
     "text": [
      " 12%|█▏        | 40881/338156 [00:11<01:35, 3106.36it/s]"
     ]
    },
    {
     "name": "stdout",
     "output_type": "stream",
     "text": [
      "<Warning: unknown N-terminal modification '-17.027' - adding it to the database> occurred 2 times\n",
      "Warning: unknown N-terminal modification '+25.980265' - adding it to the database\n"
     ]
    },
    {
     "name": "stderr",
     "output_type": "stream",
     "text": [
      " 14%|█▎        | 46206/338156 [00:13<01:29, 3266.66it/s]"
     ]
    },
    {
     "name": "stdout",
     "output_type": "stream",
     "text": [
      "Warning: unknown N-terminal modification '-17.027' - adding it to the database\n"
     ]
    },
    {
     "name": "stderr",
     "output_type": "stream",
     "text": [
      " 57%|█████▋    | 192929/338156 [00:52<00:32, 4487.25it/s]"
     ]
    },
    {
     "name": "stdout",
     "output_type": "stream",
     "text": [
      "<Warning: unknown N-terminal modification '-17.027' - adding it to the database> occurred 4 times\n",
      "Warning: unknown N-terminal modification '+25.980265' - adding it to the database\n",
      "Warning: unknown N-terminal modification '-17.027' - adding it to the database\n"
     ]
    },
    {
     "name": "stderr",
     "output_type": "stream",
     "text": [
      " 57%|█████▋    | 193815/338156 [00:53<00:33, 4304.39it/s]"
     ]
    },
    {
     "name": "stdout",
     "output_type": "stream",
     "text": [
      "<Warning: unknown N-terminal modification '-17.027' - adding it to the database> occurred 4 times\n",
      "Warning: unknown N-terminal modification '+25.980265' - adding it to the database\n",
      "Warning: unknown N-terminal modification '-17.027' - adding it to the database\n",
      "<Warning: unknown N-terminal modification '-17.027' - adding it to the database> occurred 4 times\n",
      "Warning: unknown N-terminal modification '+25.980265' - adding it to the database\n",
      "Warning: unknown N-terminal modification '-17.027' - adding it to the database\n",
      "Warning: unknown N-terminal modification '+25.980265' - adding it to the database\n"
     ]
    },
    {
     "name": "stderr",
     "output_type": "stream",
     "text": [
      " 58%|█████▊    | 195095/338156 [00:53<00:34, 4090.64it/s]"
     ]
    },
    {
     "name": "stdout",
     "output_type": "stream",
     "text": [
      "<Warning: unknown N-terminal modification '+25.980265' - adding it to the database> occurred 2 times\n",
      "Warning: unknown modification '43.005814' of residue 'N' - adding it to the database\n",
      "Warning: unknown N-terminal modification '-17.027' - adding it to the database\n",
      "<Warning: unknown N-terminal modification '-17.027' - adding it to the database> occurred 2 times\n",
      "Warning: unknown N-terminal modification '+25.980265' - adding it to the database\n",
      "Warning: unknown N-terminal modification '-17.027' - adding it to the database\n"
     ]
    },
    {
     "name": "stderr",
     "output_type": "stream",
     "text": [
      " 58%|█████▊    | 195907/338156 [00:53<00:35, 3997.85it/s]"
     ]
    },
    {
     "name": "stdout",
     "output_type": "stream",
     "text": [
      "Warning: unknown N-terminal modification '+25.980265' - adding it to the database\n",
      "Warning: unknown N-terminal modification '-17.027' - adding it to the database\n",
      "<Warning: unknown N-terminal modification '-17.027' - adding it to the database> occurred 4 times\n",
      "Warning: unknown N-terminal modification '+25.980265' - adding it to the database\n",
      "Warning: unknown N-terminal modification '-17.027' - adding it to the database\n"
     ]
    },
    {
     "name": "stderr",
     "output_type": "stream",
     "text": [
      " 58%|█████▊    | 197494/338156 [00:53<00:36, 3872.51it/s]"
     ]
    },
    {
     "name": "stdout",
     "output_type": "stream",
     "text": [
      "<Warning: unknown N-terminal modification '-17.027' - adding it to the database> occurred 2 times\n",
      "Warning: unknown N-terminal modification '+25.980265' - adding it to the database\n",
      "Warning: unknown N-terminal modification '-17.027' - adding it to the database\n",
      "Warning: unknown N-terminal modification '+25.980265' - adding it to the database\n"
     ]
    },
    {
     "name": "stderr",
     "output_type": "stream",
     "text": [
      " 59%|█████▊    | 198265/338156 [00:54<00:37, 3757.74it/s]"
     ]
    },
    {
     "name": "stdout",
     "output_type": "stream",
     "text": [
      "Warning: unknown N-terminal modification '-17.027' - adding it to the database\n"
     ]
    },
    {
     "name": "stderr",
     "output_type": "stream",
     "text": [
      " 59%|█████▉    | 199013/338156 [00:54<00:37, 3708.84it/s]"
     ]
    },
    {
     "name": "stdout",
     "output_type": "stream",
     "text": [
      "<Warning: unknown N-terminal modification '-17.027' - adding it to the database> occurred 6 times\n",
      "Warning: unknown N-terminal modification '+25.980265' - adding it to the database\n",
      "<Warning: unknown N-terminal modification '+25.980265' - adding it to the database> occurred 2 times\n",
      "Warning: unknown N-terminal modification '-17.027' - adding it to the database\n",
      "Warning: unknown N-terminal modification '+25.980265' - adding it to the database\n",
      "Warning: unknown N-terminal modification '-17.027' - adding it to the database\n",
      "Warning: unknown N-terminal modification '+25.980265' - adding it to the database\n"
     ]
    },
    {
     "name": "stderr",
     "output_type": "stream",
     "text": [
      " 59%|█████▉    | 199747/338156 [00:54<00:38, 3603.97it/s]"
     ]
    },
    {
     "name": "stdout",
     "output_type": "stream",
     "text": [
      "<Warning: unknown N-terminal modification '+25.980265' - adding it to the database> occurred 3 times\n",
      "Warning: unknown N-terminal modification '-17.027' - adding it to the database\n",
      "Warning: unknown N-terminal modification '+25.980265' - adding it to the database\n",
      "Warning: unknown N-terminal modification '-17.027' - adding it to the database\n",
      "<Warning: unknown N-terminal modification '-17.027' - adding it to the database> occurred 6 times\n",
      "Warning: unknown modification '43.005814' of residue 'K' - adding it to the database\n"
     ]
    },
    {
     "name": "stderr",
     "output_type": "stream",
     "text": [
      " 59%|█████▉    | 200466/338156 [00:54<00:40, 3422.11it/s]"
     ]
    },
    {
     "name": "stdout",
     "output_type": "stream",
     "text": [
      "Warning: unknown N-terminal modification '-17.027' - adding it to the database\n",
      "<Warning: unknown N-terminal modification '-17.027' - adding it to the database> occurred 3 times\n",
      "Warning: unknown modification '43.005814' of residue 'A' - adding it to the database\n",
      "Warning: unknown N-terminal modification '-17.027' - adding it to the database\n"
     ]
    },
    {
     "name": "stderr",
     "output_type": "stream",
     "text": [
      " 59%|█████▉    | 201154/338156 [00:55<00:40, 3396.86it/s]"
     ]
    },
    {
     "name": "stdout",
     "output_type": "stream",
     "text": [
      "<Warning: unknown N-terminal modification '-17.027' - adding it to the database> occurred 2 times\n",
      "Warning: unknown modification '43.005814' of residue 'P' - adding it to the database\n",
      "Warning: unknown N-terminal modification '-17.027' - adding it to the database\n",
      "Warning: unknown N-terminal modification '+25.980265' - adding it to the database\n",
      "<Warning: unknown N-terminal modification '+25.980265' - adding it to the database> occurred 2 times\n",
      "Warning: unknown N-terminal modification '-17.027' - adding it to the database\n",
      "Warning: unknown N-terminal modification '+25.980265' - adding it to the database\n"
     ]
    },
    {
     "name": "stderr",
     "output_type": "stream",
     "text": [
      " 60%|█████▉    | 202177/338156 [00:55<00:40, 3396.91it/s]"
     ]
    },
    {
     "name": "stdout",
     "output_type": "stream",
     "text": [
      "<Warning: unknown N-terminal modification '+25.980265' - adding it to the database> occurred 2 times\n",
      "Warning: unknown N-terminal modification '-17.027' - adding it to the database\n",
      "<Warning: unknown N-terminal modification '-17.027' - adding it to the database> occurred 2 times\n",
      "Warning: unknown N-terminal modification '+25.980265' - adding it to the database\n"
     ]
    },
    {
     "name": "stderr",
     "output_type": "stream",
     "text": [
      " 60%|██████    | 203193/338156 [00:55<00:40, 3358.13it/s]"
     ]
    },
    {
     "name": "stdout",
     "output_type": "stream",
     "text": [
      "<Warning: unknown N-terminal modification '+25.980265' - adding it to the database> occurred 2 times\n",
      "Warning: unknown N-terminal modification '-17.027' - adding it to the database\n",
      "<Warning: unknown N-terminal modification '-17.027' - adding it to the database> occurred 6 times\n",
      "Warning: unknown N-terminal modification '+25.980265' - adding it to the database\n"
     ]
    },
    {
     "name": "stderr",
     "output_type": "stream",
     "text": [
      " 60%|██████    | 204205/338156 [00:55<00:40, 3342.02it/s]"
     ]
    },
    {
     "name": "stdout",
     "output_type": "stream",
     "text": [
      "<Warning: unknown N-terminal modification '+25.980265' - adding it to the database> occurred 3 times\n",
      "Warning: unknown N-terminal modification '-17.027' - adding it to the database\n",
      "<Warning: unknown N-terminal modification '-17.027' - adding it to the database> occurred 5 times\n",
      "Warning: unknown N-terminal modification '+25.980265' - adding it to the database\n"
     ]
    },
    {
     "name": "stderr",
     "output_type": "stream",
     "text": [
      " 61%|██████    | 204871/338156 [00:56<00:40, 3301.73it/s]"
     ]
    },
    {
     "name": "stdout",
     "output_type": "stream",
     "text": [
      "<Warning: unknown N-terminal modification '+25.980265' - adding it to the database> occurred 2 times\n",
      "Warning: unknown N-terminal modification '-17.027' - adding it to the database\n"
     ]
    },
    {
     "name": "stderr",
     "output_type": "stream",
     "text": [
      " 61%|██████    | 205530/338156 [00:56<00:40, 3262.48it/s]"
     ]
    },
    {
     "name": "stdout",
     "output_type": "stream",
     "text": [
      "<Warning: unknown N-terminal modification '-17.027' - adding it to the database> occurred 2 times\n",
      "Warning: unknown modification '43.005814' of residue 'D' - adding it to the database\n",
      "Warning: unknown N-terminal modification '+25.980265' - adding it to the database\n",
      "Warning: unknown N-terminal modification '-17.027' - adding it to the database\n"
     ]
    },
    {
     "name": "stderr",
     "output_type": "stream",
     "text": [
      " 61%|██████▏   | 207170/338156 [00:56<00:40, 3249.32it/s]"
     ]
    },
    {
     "name": "stdout",
     "output_type": "stream",
     "text": [
      "<Warning: unknown N-terminal modification '-17.027' - adding it to the database> occurred 6 times\n",
      "Warning: unknown modification '43.005814' of residue 'L' - adding it to the database\n",
      "Warning: unknown N-terminal modification '-17.027' - adding it to the database\n",
      "<Warning: unknown N-terminal modification '-17.027' - adding it to the database> occurred 2 times\n",
      "Warning: unknown N-terminal modification '+25.980265' - adding it to the database\n"
     ]
    },
    {
     "name": "stderr",
     "output_type": "stream",
     "text": [
      " 62%|██████▏   | 208150/338156 [00:57<00:40, 3238.99it/s]"
     ]
    },
    {
     "name": "stdout",
     "output_type": "stream",
     "text": [
      "<Warning: unknown N-terminal modification '+25.980265' - adding it to the database> occurred 2 times\n",
      "Warning: unknown modification '+25.980265' of residue 'N' - adding it to the database\n",
      "<Warning: unknown N-terminal modification '43.005814' - adding it to the database> occurred 6293 times\n",
      "Warning: unknown modification '43.005814' of residue 'N' - adding it to the database\n",
      "Warning: unknown N-terminal modification '43.005814' - adding it to the database\n",
      "Warning: unknown N-terminal modification '-17.027' - adding it to the database\n",
      "Warning: unknown N-terminal modification '+25.980265' - adding it to the database\n",
      "Warning: unknown N-terminal modification '-17.027' - adding it to the database\n"
     ]
    },
    {
     "name": "stderr",
     "output_type": "stream",
     "text": [
      " 62%|██████▏   | 208794/338156 [00:57<00:41, 3133.88it/s]"
     ]
    },
    {
     "name": "stdout",
     "output_type": "stream",
     "text": [
      "<Warning: unknown N-terminal modification '-17.027' - adding it to the database> occurred 4 times\n",
      "Warning: unknown modification '43.005814' of residue 'T' - adding it to the database\n",
      "Warning: unknown N-terminal modification '+25.980265' - adding it to the database\n",
      "Warning: unknown N-terminal modification '-17.027' - adding it to the database\n",
      "Warning: unknown N-terminal modification '+25.980265' - adding it to the database\n"
     ]
    },
    {
     "name": "stderr",
     "output_type": "stream",
     "text": [
      " 62%|██████▏   | 209733/338156 [00:57<00:41, 3088.03it/s]"
     ]
    },
    {
     "name": "stdout",
     "output_type": "stream",
     "text": [
      "Warning: unknown N-terminal modification '-17.027' - adding it to the database\n",
      "Warning: unknown N-terminal modification '+25.980265' - adding it to the database\n",
      "Warning: unknown N-terminal modification '-17.027' - adding it to the database\n",
      "Warning: unknown modification '43.005814' of residue 'S' - adding it to the database\n",
      "Warning: unknown N-terminal modification '-17.027' - adding it to the database\n",
      "Warning: unknown N-terminal modification '+25.980265' - adding it to the database\n"
     ]
    },
    {
     "name": "stderr",
     "output_type": "stream",
     "text": [
      " 62%|██████▏   | 210693/338156 [00:57<00:40, 3156.81it/s]"
     ]
    },
    {
     "name": "stdout",
     "output_type": "stream",
     "text": [
      "<Warning: unknown N-terminal modification '+25.980265' - adding it to the database> occurred 2 times\n",
      "Warning: unknown N-terminal modification '-17.027' - adding it to the database\n",
      "Warning: unknown N-terminal modification '+25.980265' - adding it to the database\n",
      "Warning: unknown N-terminal modification '-17.027' - adding it to the database\n"
     ]
    },
    {
     "name": "stderr",
     "output_type": "stream",
     "text": [
      " 63%|██████▎   | 212296/338156 [00:58<00:39, 3175.13it/s]"
     ]
    },
    {
     "name": "stdout",
     "output_type": "stream",
     "text": [
      "<Warning: unknown N-terminal modification '-17.027' - adding it to the database> occurred 6 times\n",
      "Warning: unknown N-terminal modification '+25.980265' - adding it to the database\n",
      "Warning: unknown N-terminal modification '-17.027' - adding it to the database\n"
     ]
    },
    {
     "name": "stderr",
     "output_type": "stream",
     "text": [
      " 63%|██████▎   | 212945/338156 [00:58<00:39, 3208.32it/s]"
     ]
    },
    {
     "name": "stdout",
     "output_type": "stream",
     "text": [
      "<Warning: unknown N-terminal modification '-17.027' - adding it to the database> occurred 3 times\n",
      "Warning: unknown modification '43.005814' of residue 'N' - adding it to the database\n",
      "Warning: unknown N-terminal modification '-17.027' - adding it to the database\n",
      "Warning: unknown N-terminal modification '+25.980265' - adding it to the database\n",
      "Warning: unknown N-terminal modification '-17.027' - adding it to the database\n"
     ]
    },
    {
     "name": "stderr",
     "output_type": "stream",
     "text": [
      " 63%|██████▎   | 213923/338156 [00:58<00:38, 3248.98it/s]"
     ]
    },
    {
     "name": "stdout",
     "output_type": "stream",
     "text": [
      "<Warning: unknown N-terminal modification '-17.027' - adding it to the database> occurred 5 times\n",
      "Warning: unknown N-terminal modification '+25.980265' - adding it to the database\n",
      "Warning: unknown N-terminal modification '-17.027' - adding it to the database\n",
      "Warning: unknown N-terminal modification '+25.980265' - adding it to the database\n",
      "Warning: unknown N-terminal modification '-17.027' - adding it to the database\n"
     ]
    },
    {
     "name": "stderr",
     "output_type": "stream",
     "text": [
      " 63%|██████▎   | 214585/338156 [00:59<00:37, 3278.41it/s]"
     ]
    },
    {
     "name": "stdout",
     "output_type": "stream",
     "text": [
      "<Warning: unknown N-terminal modification '-17.027' - adding it to the database> occurred 2 times\n",
      "Warning: unknown N-terminal modification '+25.980265' - adding it to the database\n",
      "Warning: unknown N-terminal modification '-17.027' - adding it to the database\n",
      "<Warning: unknown N-terminal modification '-17.027' - adding it to the database> occurred 3 times\n",
      "Warning: unknown N-terminal modification '+25.980265' - adding it to the database\n"
     ]
    },
    {
     "name": "stderr",
     "output_type": "stream",
     "text": [
      " 64%|██████▎   | 215240/338156 [00:59<00:37, 3242.58it/s]"
     ]
    },
    {
     "name": "stdout",
     "output_type": "stream",
     "text": [
      "Warning: unknown modification '+25.980265' of residue 'P' - adding it to the database\n",
      "Warning: unknown N-terminal modification '+25.980265' - adding it to the database\n",
      "Warning: unknown N-terminal modification '-17.027' - adding it to the database\n",
      "<Warning: unknown N-terminal modification '43.005814' - adding it to the database> occurred 712 times\n",
      "Warning: unknown N-terminal modification '+25.980265' - adding it to the database\n",
      "Warning: unknown N-terminal modification '43.005814' - adding it to the database\n"
     ]
    },
    {
     "name": "stderr",
     "output_type": "stream",
     "text": [
      " 64%|██████▍   | 216247/338156 [00:59<00:36, 3330.08it/s]"
     ]
    },
    {
     "name": "stdout",
     "output_type": "stream",
     "text": [
      "Warning: unknown N-terminal modification '-17.027' - adding it to the database\n"
     ]
    },
    {
     "name": "stderr",
     "output_type": "stream",
     "text": [
      " 64%|██████▍   | 218089/338156 [01:00<00:32, 3695.38it/s]"
     ]
    },
    {
     "name": "stdout",
     "output_type": "stream",
     "text": [
      "Warning: unknown N-terminal modification '+25.980265' - adding it to the database\n",
      "Warning: unknown N-terminal modification '-17.027' - adding it to the database\n",
      "<Warning: unknown N-terminal modification '-17.027' - adding it to the database> occurred 2 times\n",
      "Warning: unknown modification '43.005814' of residue 'V' - adding it to the database\n",
      "Warning: unknown N-terminal modification '-17.027' - adding it to the database\n"
     ]
    },
    {
     "name": "stderr",
     "output_type": "stream",
     "text": [
      " 65%|██████▍   | 218881/338156 [01:00<00:31, 3838.41it/s]"
     ]
    },
    {
     "name": "stdout",
     "output_type": "stream",
     "text": [
      "Warning: unknown N-terminal modification '+25.980265' - adding it to the database\n",
      "Warning: unknown N-terminal modification '-17.027' - adding it to the database\n"
     ]
    },
    {
     "name": "stderr",
     "output_type": "stream",
     "text": [
      " 65%|██████▌   | 220133/338156 [01:00<00:29, 4063.70it/s]"
     ]
    },
    {
     "name": "stdout",
     "output_type": "stream",
     "text": [
      "Warning: unknown N-terminal modification '+25.980265' - adding it to the database\n",
      "Warning: unknown N-terminal modification '-17.027' - adding it to the database\n",
      "<Warning: unknown N-terminal modification '-17.027' - adding it to the database> occurred 5 times\n",
      "Warning: unknown N-terminal modification '+25.980265' - adding it to the database\n"
     ]
    },
    {
     "name": "stderr",
     "output_type": "stream",
     "text": [
      " 66%|██████▌   | 221825/338156 [01:01<00:27, 4180.82it/s]"
     ]
    },
    {
     "name": "stdout",
     "output_type": "stream",
     "text": [
      "<Warning: unknown N-terminal modification '+25.980265' - adding it to the database> occurred 3 times\n",
      "Warning: unknown N-terminal modification '-17.027' - adding it to the database\n",
      "<Warning: unknown N-terminal modification '43.005814' - adding it to the database> occurred 661 times\n",
      "Warning: unknown modification '43.005814' of residue 'N' - adding it to the database\n",
      "<Warning: unknown N-terminal modification '-17.027' - adding it to the database> occurred 5 times\n",
      "Warning: unknown N-terminal modification '43.005814' - adding it to the database\n",
      "Warning: unknown N-terminal modification '-17.027' - adding it to the database\n",
      "Warning: unknown modification '-17.027' of residue 'A' - adding it to the database\n",
      "Warning: unknown N-terminal modification '-17.027' - adding it to the database\n",
      "<Warning: unknown N-terminal modification '-17.027' - adding it to the database> occurred 6 times\n",
      "Warning: unknown modification '-17.027' of residue 'P' - adding it to the database\n",
      "Warning: unknown N-terminal modification '-17.027' - adding it to the database\n",
      "<Warning: unknown N-terminal modification '-17.027' - adding it to the database> occurred 11 times\n",
      "Warning: unknown modification '+25.980265' of residue 'A' - adding it to the database\n",
      "Warning: unknown N-terminal modification '-17.027' - adding it to the database\n"
     ]
    },
    {
     "name": "stderr",
     "output_type": "stream",
     "text": [
      "100%|██████████| 338156/338156 [01:33<00:00, 3615.58it/s]\n"
     ]
    },
    {
     "name": "stdout",
     "output_type": "stream",
     "text": [
      "Added hyperscore.\n"
     ]
    },
    {
     "name": "stderr",
     "output_type": "stream",
     "text": [
      "100%|██████████| 192097/192097 [00:00<00:00, 195022.36it/s]\n"
     ]
    },
    {
     "name": "stdout",
     "output_type": "stream",
     "text": [
      "S14_Rep1\n"
     ]
    },
    {
     "name": "stderr",
     "output_type": "stream",
     "text": [
      " 61%|██████    | 37187/61007 [00:00<00:00, 41356.94it/s]"
     ]
    },
    {
     "ename": "",
     "evalue": "",
     "output_type": "error",
     "traceback": [
      "\u001b[1;31mThe Kernel crashed while executing code in the current cell or a previous cell. \n",
      "\u001b[1;31mPlease review the code in the cell(s) to identify a possible cause of the failure. \n",
      "\u001b[1;31mClick <a href='https://aka.ms/vscodeJupyterKernelCrash'>here</a> for more info. \n",
      "\u001b[1;31mView Jupyter <a href='command:jupyter.viewOutput'>log</a> for further details."
     ]
    }
   ],
   "source": [
    "filenames = [\n",
    "    # 'F01_Fraction2',\n",
    "    # 'F01_Fraction4',\n",
    "    'S14_Rep2',\n",
    "    'S14_Rep1',\n",
    "    #'S08',\n",
    "    'S03',\n",
    "    'S14_Rep3',\n",
    "    'F07_Fraction4',\n",
    "    'S11_Fraction3',\n",
    "    'S11_Fraction1',\n",
    "    'S07',\n",
    "    'F07_Fraction3',\n",
    "    'F08_Rep2',\n",
    "    'F07_Fraction2',\n",
    "    'F07_Fraction1',\n",
    "    'S11_Fraction2',\n",
    "    'S11_Fraction4',\n",
    "    'F08_Rep1',\n",
    "    'F01_Fraction1',\n",
    "    'F01_Fraction3',\n",
    "    'F08_Rep3',\n",
    "    'F06',\n",
    "    #'S05'\n",
    "]\n",
    "\n",
    "keep_cols = [\n",
    "    \"proforma\",\n",
    "    \"sequence\",\n",
    "    \"spectrum_id\",\n",
    "    \"run\",\n",
    "    \"engine\",\n",
    "    \"score\",\n",
    "    \"qvalue\",\n",
    "    \"spectralis_score\",\n",
    "    \"hyperscore\",\n",
    "    \"is_decoy\",\n",
    "    \"has_modification\",\n",
    "    \"rescoring_features\"\n",
    "]\n",
    "\n",
    "for filename in filenames:\n",
    "    print(filename)\n",
    "    root_data=\"/home/samva/Doctorate/data_directory/denovo_project\"\n",
    "    mgf_path=os.path.join(root_data, \"mgf_filtered\", filename + \".mgf\")\n",
    "    results_dir=os.path.join(root_data, \"denovo_results\")\n",
    "\n",
    "    parser_spectralis = SpectralisParser(\n",
    "        mgf_path=mgf_path,\n",
    "        results_dir=results_dir\n",
    "    )\n",
    "\n",
    "    # Casanovo, instanovo, pepnet, contranovo ran together\n",
    "    parser_spectralis.parse(\n",
    "        path_spectralis=os.path.join(\n",
    "            results_dir,\n",
    "            \"refinement/spectralis/pt1\", filename + \"_annotated_rescoring.csv\"\n",
    "        )\n",
    "    )\n",
    "\n",
    "    # NovoB, Novor, PepNovo+ ran together\n",
    "    parser_spectralis.parse(\n",
    "        path_spectralis=os.path.join(\n",
    "            results_dir,\n",
    "            \"refinement/spectralis/pt2\", filename + \"_annotated_rescoring.csv\"\n",
    "        )\n",
    "    )\n",
    "\n",
    "    # Sage results ran separately\n",
    "    parser_spectralis.parse(\n",
    "        path_spectralis=os.path.join(\n",
    "            results_dir,\n",
    "            \"refinement/spectralis/pt3\", filename + \"_annotated_rescoring.csv\"\n",
    "        )\n",
    "    )\n",
    "\n",
    "    psmlist = parser_spectralis.psmlist\n",
    "    psmlist[\"run\"] = [filename]*len(psmlist)\n",
    "    decoy_status = psmlist[\"is_decoy\"] \n",
    "    decoy_status = np.where(decoy_status == None, False, decoy_status)\n",
    "    psmlist[\"is_decoy\"] = decoy_status \n",
    "\n",
    "    psmlist[\"qvalue\"] = [1 if x is None else x for x in psmlist[\"qvalue\"]]\n",
    "    spectrum_ids_to_keep = psmlist[\n",
    "        (psmlist[\"source\"]==\"sage\") &\n",
    "        (psmlist[\"qvalue\"]<.01)\n",
    "    ][\"spectrum_id\"]\n",
    "\n",
    "    mgf_file = mgf.read(mgf_path)\n",
    "\n",
    "    basic_fgen = BasicFeatureGenerator()\n",
    "\n",
    "    basic_fgen.add_features(psmlist)\n",
    "    print(\"Added basic features.\")\n",
    "    # ms2pip_fgen.add_features(psmlist)\n",
    "    # print(\"Added MS2PIP features.\")\n",
    "    # deeplc_fgen.add_features(psmlist)\n",
    "    # print(\"Added DeepLC features.\")\n",
    "\n",
    "    for psm in tqdm(psmlist):\n",
    "        hyperscore = calculate_hyperscore(\n",
    "            psm=psm,\n",
    "            mgf_file=mgf_file,\n",
    "            engine=\"pyopenms\"\n",
    "        )\n",
    "        psm[\"rescoring_features\"].update(\n",
    "            {\"hyperscore\": hyperscore}\n",
    "        )\n",
    "    print(\"Added hyperscore.\")\n",
    "\n",
    "    df = psmlist.to_dataframe()\n",
    "    df = df[df.spectrum_id.isin(spectrum_ids_to_keep)].reset_index(drop=True)\n",
    "    df[\"spectralis_score\"] = df.apply(get_spectralis_score, axis=1)\n",
    "    df[\"hyperscore\"] = pd.DataFrame(df[\"rescoring_features\"].tolist())[\"hyperscore\"]\n",
    "    df[\"psm_type\"] = df.apply(get_psm_type, axis=1)\n",
    "    df[\"proforma\"] = df.peptidoform.apply(lambda x: x.proforma)\n",
    "    df[\"peptide\"] = df.peptidoform.apply(lambda x: x.sequence)\n",
    "    df[\"has_modification\"] = df.peptidoform.apply(peptidoform_has_modification)\n",
    "\n",
    "    ground_truth_peptide = df.loc[df.source==\"sage\", [\"spectrum_id\", \"peptide\"]].set_index(\"spectrum_id\").to_dict()[\"peptide\"]\n",
    "    ground_truth_hyperscore = df.loc[df.source==\"sage\", [\"spectrum_id\", \"hyperscore\"]].set_index(\"spectrum_id\").to_dict()[\"hyperscore\"]\n",
    "\n",
    "    df[\"match_type\"] = df.progress_apply(\n",
    "        lambda x: evaluate_prediction_isobaricity(\n",
    "            x, \n",
    "            ground_truth_peptide=ground_truth_peptide, \n",
    "            ground_truth_hyperscore=ground_truth_hyperscore\n",
    "        ), axis=1\n",
    "    )\n",
    "\n",
    "    df.to_pickle(os.path.join(\"./filtered_results\", filename+\".pkl\"))"
   ]
  }
 ],
 "metadata": {
  "kernelspec": {
   "display_name": "denovo_analysis_env",
   "language": "python",
   "name": "python3"
  },
  "language_info": {
   "codemirror_mode": {
    "name": "ipython",
    "version": 3
   },
   "file_extension": ".py",
   "mimetype": "text/x-python",
   "name": "python",
   "nbconvert_exporter": "python",
   "pygments_lexer": "ipython3",
   "version": "3.11.9"
  }
 },
 "nbformat": 4,
 "nbformat_minor": 2
}
