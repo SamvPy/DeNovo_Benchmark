{
 "cells": [
  {
   "cell_type": "markdown",
   "id": "ce8a3028",
   "metadata": {},
   "source": [
    "# Test notebook to make Run objects."
   ]
  },
  {
   "cell_type": "markdown",
   "id": "77c10aa3",
   "metadata": {},
   "source": [
    "Use the denovo_analysis_env virtual environment as a kernel. Should already be installed when running ``create_envs.sh``"
   ]
  },
  {
   "cell_type": "code",
   "execution_count": 1,
   "id": "fcebec1a",
   "metadata": {},
   "outputs": [
    {
     "name": "stderr",
     "output_type": "stream",
     "text": [
      "2025-10-10 19:31:32.571722: E external/local_xla/xla/stream_executor/cuda/cuda_fft.cc:485] Unable to register cuFFT factory: Attempting to register factory for plugin cuFFT when one has already been registered\n",
      "2025-10-10 19:31:32.580581: E external/local_xla/xla/stream_executor/cuda/cuda_dnn.cc:8454] Unable to register cuDNN factory: Attempting to register factory for plugin cuDNN when one has already been registered\n",
      "2025-10-10 19:31:32.583144: E external/local_xla/xla/stream_executor/cuda/cuda_blas.cc:1452] Unable to register cuBLAS factory: Attempting to register factory for plugin cuBLAS when one has already been registered\n",
      "WARNING: All log messages before absl::InitializeLog() is called are written to STDERR\n",
      "I0000 00:00:1760117493.879936 1677590 cuda_executor.cc:1001] could not open file to read NUMA node: /sys/bus/pci/devices/0000:01:00.0/numa_node\n",
      "Your kernel may have been built without NUMA support.\n"
     ]
    },
    {
     "name": "stdout",
     "output_type": "stream",
     "text": [
      "Modification already exists in ModificationsDB. Skipping.\n"
     ]
    }
   ],
   "source": [
    "from denovo_utils.data.run import read_runs\n",
    "from denovo_utils.parsers import DenovoEngineConverter\n",
    "import os"
   ]
  },
  {
   "cell_type": "markdown",
   "id": "31e186c8",
   "metadata": {},
   "source": [
    "## 1. Read the files into Run objects"
   ]
  },
  {
   "cell_type": "code",
   "execution_count": null,
   "id": "906413e6",
   "metadata": {},
   "outputs": [
    {
     "name": "stderr",
     "output_type": "stream",
     "text": [
      "Loading results from ground_truth.parquet: 100%|██████████| 4968/4968 [00:00<00:00, 13629.29it/s]\n",
      "Loading PSMs in Run object (demo): 100%|██████████| 4968/4968 [00:00<00:00, 151559.45it/s]\n",
      "Loading results from adanovo.parquet: 100%|██████████| 4960/4960 [00:00<00:00, 18066.27it/s]\n",
      "Loading PSMs in Run object (demo): 100%|██████████| 4960/4960 [00:00<00:00, 139498.89it/s]\n",
      "Loading results from adanovo.spectralis.parquet: 100%|██████████| 4960/4960 [00:00<00:00, 11267.07it/s]\n",
      "Loading results from pihelixnovo.parquet: 100%|██████████| 4961/4961 [00:00<00:00, 26943.66it/s]\n",
      "Loading PSMs in Run object (demo): 100%|██████████| 4961/4961 [00:00<00:00, 142823.41it/s]\n",
      "Loading results from pihelixnovo.spectralis.parquet: 100%|██████████| 4961/4961 [00:00<00:00, 21336.47it/s]\n",
      "Loading results from piprimenovo.parquet: 100%|██████████| 4974/4974 [00:00<00:00, 26425.31it/s]\n",
      "Loading PSMs in Run object (demo): 100%|██████████| 4974/4974 [00:00<00:00, 136803.97it/s]\n",
      "Loading results from piprimenovo.spectralis.parquet: 100%|██████████| 4974/4974 [00:00<00:00, 20855.25it/s]\n",
      "Loading results from casanovo.parquet: 100%|██████████| 4962/4962 [00:00<00:00, 17746.94it/s]\n",
      "Loading PSMs in Run object (demo): 100%|██████████| 4962/4962 [00:00<00:00, 125096.99it/s]\n",
      "Loading results from casanovo.spectralis.parquet: 100%|██████████| 4962/4962 [00:00<00:00, 21279.65it/s]\n",
      "Loading results from instanovo.parquet: 100%|██████████| 4968/4968 [00:00<00:00, 18103.56it/s]\n",
      "Loading PSMs in Run object (demo): 100%|██████████| 4968/4968 [00:00<00:00, 128194.84it/s]\n",
      "Loading results from instanovo.spectralis.parquet: 100%|██████████| 4968/4968 [00:00<00:00, 21241.85it/s]\n",
      "Loading results from contranovo.parquet: 100%|██████████| 4969/4969 [00:00<00:00, 19405.09it/s]\n",
      "Loading PSMs in Run object (demo): 100%|██████████| 4969/4969 [00:00<00:00, 121167.26it/s]\n",
      "Loading results from contranovo.spectralis.parquet: 100%|██████████| 4969/4969 [00:00<00:00, 21161.46it/s]\n",
      "Loading results from novob.parquet: 100%|██████████| 4945/4945 [00:00<00:00, 23781.62it/s]\n",
      "Loading PSMs in Run object (demo): 100%|██████████| 4945/4945 [00:00<00:00, 131903.90it/s]\n",
      "Loading results from novob.spectralis.parquet: 100%|██████████| 4945/4945 [00:00<00:00, 20759.85it/s]\n",
      "Loading results from pepnet.parquet: 100%|██████████| 5000/5000 [00:00<00:00, 18881.18it/s]\n",
      "Loading PSMs in Run object (demo): 100%|██████████| 5000/5000 [00:00<00:00, 113888.38it/s]\n",
      "Loading results from pepnet.spectralis.parquet: 100%|██████████| 5000/5000 [00:00<00:00, 21325.35it/s]\n"
     ]
    }
   ],
   "source": [
    "# Takes 10 seconds\n",
    "runs = read_runs(\n",
    "    # Contains subfolders named with the de novo tools names. Contains the search results\n",
    "    root_denovo_output='/home/samva/Doctorate/denovo_paper/data/rescoring',\n",
    "    # Where the ground-truth PSMs are stored\n",
    "    root_ground_truth='/home/samva/Doctorate/denovo_paper/data/rescoring',\n",
    "    # Where the post-processing results are stored\n",
    "    root_refinement='/home/samva/Doctorate/denovo_paper/data/rescoring',\n",
    "    # Where the MGF files are stored\n",
    "    root_mgf='/home/samva/Doctorate/denovo_paper/DeNovo_Benchmark/test_data/mgf',\n",
    "    # list of filenames without extensions\n",
    "    filenames=['demo'],\n",
    "    # Names of the de novo engines\n",
    "    engine_names=[\n",
    "        'adanovo',\n",
    "        'pihelixnovo',\n",
    "        'piprimenovo',\n",
    "        'casanovo',\n",
    "        'instanovo',\n",
    "        'contranovo',\n",
    "        'novob',\n",
    "        'pepnet',\n",
    "    ],\n",
    "    # Name of the post-processing models used\n",
    "    refinement_names=[\n",
    "        'spectralis'\n",
    "    ],\n",
    "    # File format of the ground-truth, required for psm-utils file reading\n",
    "    format_ground_truth='parquet',\n",
    "    # Whether to allow isoleucine/leucine mismatches\n",
    "    ignore_IL=True,\n",
    "    # Boolean flags whether these files were rescored using MS2Rescore\n",
    "    # This can be done using the rescoring_script.py in\n",
    "    # ./package_du/scripts\n",
    "    rescored_db=True,\n",
    "    rescored_denovo=True,\n",
    "    rescored_refinement=True\n",
    ")"
   ]
  },
  {
   "cell_type": "markdown",
   "id": "5d8a5831",
   "metadata": {},
   "source": [
    "## 2. Perform the evaluation against the ground-truth"
   ]
  },
  {
   "cell_type": "code",
   "execution_count": 3,
   "id": "83e5e4a4",
   "metadata": {},
   "outputs": [
    {
     "data": {
      "text/plain": [
       "{'demo': 2629 spectra loaded from 8 engines (['AdaNovo', 'pi-HelixNovo', 'pi-PrimeNovo', 'Casanovo4.3.0', 'instanovo', 'contranovo', 'novob', 'pepnet']).}"
      ]
     },
     "execution_count": 3,
     "metadata": {},
     "output_type": "execute_result"
    }
   ],
   "source": [
    "runs"
   ]
  },
  {
   "cell_type": "code",
   "execution_count": 5,
   "id": "6f61cd9b",
   "metadata": {},
   "outputs": [],
   "source": [
    "for run in runs.values():\n",
    "    for spectrum in run.spectra.values():\n",
    "        spectrum.compare_gt(\n",
    "            'sage',\n",
    "            ignore_score=True\n",
    "        )\n",
    "\n",
    "denovo_engines = ['Casanovo4.3.0', 'novob', 'instanovo', 'pepnet', 'contranovo', 'pi-PrimeNovo', 'AdaNovo', 'pi-HelixNovo']"
   ]
  },
  {
   "cell_type": "markdown",
   "id": "5a6b08a3",
   "metadata": {},
   "source": [
    "## 3. Make result figures"
   ]
  },
  {
   "cell_type": "code",
   "execution_count": null,
   "id": "f4f916dd",
   "metadata": {},
   "outputs": [],
   "source": []
  }
 ],
 "metadata": {
  "kernelspec": {
   "display_name": "denovo_analysis_env",
   "language": "python",
   "name": "python3"
  },
  "language_info": {
   "codemirror_mode": {
    "name": "ipython",
    "version": 3
   },
   "file_extension": ".py",
   "mimetype": "text/x-python",
   "name": "python",
   "nbconvert_exporter": "python",
   "pygments_lexer": "ipython3",
   "version": "3.11.9"
  }
 },
 "nbformat": 4,
 "nbformat_minor": 5
}
